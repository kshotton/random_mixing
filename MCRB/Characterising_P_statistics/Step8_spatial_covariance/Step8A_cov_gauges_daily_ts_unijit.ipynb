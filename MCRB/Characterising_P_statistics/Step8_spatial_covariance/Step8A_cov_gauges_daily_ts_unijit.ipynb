{
 "cells": [
  {
   "cell_type": "markdown",
   "id": "persistent-draft",
   "metadata": {},
   "source": [
    "### Produce a covariance plot for 20km radius pairs of gauges: FR, UC, HM, K, BV\n",
    "### Transform P values  to uniform on range [0,1] by ranking and dividing by the number of values (experiment with different ranking 'methods'\n",
    "### Jitter P values to eliminate tied values (we want each value to be unique before ranking them)\n",
    "### Transform separation distances using scipy distance_matrix (or spatial.distance.cdist) to get them into a form that will work with the RM code"
   ]
  },
  {
   "cell_type": "code",
   "execution_count": 1,
   "id": "russian-intro",
   "metadata": {},
   "outputs": [],
   "source": [
    "import numpy as np\n",
    "import pandas as pd\n",
    "import math\n",
    "import scipy\n",
    "import scipy.stats as st\n",
    "import matplotlib.pyplot as plt\n",
    "%matplotlib inline\n",
    "from scipy.spatial import distance_matrix\n",
    "from scipy.optimize import curve_fit\n",
    "from numpy import genfromtxt"
   ]
  },
  {
   "cell_type": "markdown",
   "id": "dental-inspector",
   "metadata": {},
   "source": [
    "### Read in P data for all 8 stations from csv file created in P_inputs_2005-2016.ipynb"
   ]
  },
  {
   "cell_type": "code",
   "execution_count": 2,
   "id": "modern-thriller",
   "metadata": {},
   "outputs": [],
   "source": [
    "# Use pd.read_csv to read csv file\n",
    "P_df = pd.read_csv(r\"C:\\Users\\b1043453\\OneDrive - Newcastle University\\OnePlanet PhD\\Random_mixing\\RMWSPy_Horning_and_Haese_2021\\RMWSPy-master\\MCRB_examples\\MCRB_gauges_only\\Characterising_P_statistics\\Pinputs_2005-2016.csv\",\n",
    "                         index_col=0)\n",
    "# drop KP, BCS and WH\n",
    "P_df = P_df.drop([\"KP_p_mm\", \"BCS_p_mm\", \"WH_p_mm\"], axis=1)\n",
    "# P_df"
   ]
  },
  {
   "cell_type": "markdown",
   "id": "systematic-contest",
   "metadata": {},
   "source": [
    "### Generate a set of random numbers to jitter the P ts data then add them to each column in the dataframe"
   ]
  },
  {
   "cell_type": "code",
   "execution_count": 3,
   "id": "associate-column",
   "metadata": {},
   "outputs": [
    {
     "data": {
      "text/html": [
       "<div>\n",
       "<style scoped>\n",
       "    .dataframe tbody tr th:only-of-type {\n",
       "        vertical-align: middle;\n",
       "    }\n",
       "\n",
       "    .dataframe tbody tr th {\n",
       "        vertical-align: top;\n",
       "    }\n",
       "\n",
       "    .dataframe thead th {\n",
       "        text-align: right;\n",
       "    }\n",
       "</style>\n",
       "<table border=\"1\" class=\"dataframe\">\n",
       "  <thead>\n",
       "    <tr style=\"text-align: right;\">\n",
       "      <th></th>\n",
       "      <th>FR_p_mm</th>\n",
       "      <th>UC_p_mm</th>\n",
       "      <th>HM_p_mm</th>\n",
       "      <th>K_p_mm</th>\n",
       "      <th>BV_p_mm</th>\n",
       "      <th>jitter</th>\n",
       "      <th>FR_p_mm_jit</th>\n",
       "      <th>UC_p_mm_jit</th>\n",
       "      <th>HM_p_mm_jit</th>\n",
       "      <th>K_p_mm_jit</th>\n",
       "      <th>BV_p_mm_jit</th>\n",
       "    </tr>\n",
       "    <tr>\n",
       "      <th>date</th>\n",
       "      <th></th>\n",
       "      <th></th>\n",
       "      <th></th>\n",
       "      <th></th>\n",
       "      <th></th>\n",
       "      <th></th>\n",
       "      <th></th>\n",
       "      <th></th>\n",
       "      <th></th>\n",
       "      <th></th>\n",
       "      <th></th>\n",
       "    </tr>\n",
       "  </thead>\n",
       "  <tbody>\n",
       "    <tr>\n",
       "      <th>2005-10-01</th>\n",
       "      <td>16.0160</td>\n",
       "      <td>11.3028</td>\n",
       "      <td>7.3722</td>\n",
       "      <td>0.0</td>\n",
       "      <td>10.4</td>\n",
       "      <td>0.000057</td>\n",
       "      <td>16.016057</td>\n",
       "      <td>11.302857</td>\n",
       "      <td>7.372257</td>\n",
       "      <td>0.000057</td>\n",
       "      <td>10.400057</td>\n",
       "    </tr>\n",
       "    <tr>\n",
       "      <th>2005-10-02</th>\n",
       "      <td>0.0000</td>\n",
       "      <td>0.0000</td>\n",
       "      <td>0.0000</td>\n",
       "      <td>0.4</td>\n",
       "      <td>0.0</td>\n",
       "      <td>0.000064</td>\n",
       "      <td>0.000064</td>\n",
       "      <td>0.000064</td>\n",
       "      <td>0.000064</td>\n",
       "      <td>0.400064</td>\n",
       "      <td>0.000064</td>\n",
       "    </tr>\n",
       "    <tr>\n",
       "      <th>2005-10-03</th>\n",
       "      <td>0.7649</td>\n",
       "      <td>0.5399</td>\n",
       "      <td>0.0000</td>\n",
       "      <td>1.2</td>\n",
       "      <td>0.2</td>\n",
       "      <td>0.000073</td>\n",
       "      <td>0.764973</td>\n",
       "      <td>0.539973</td>\n",
       "      <td>0.000073</td>\n",
       "      <td>1.200073</td>\n",
       "      <td>0.200073</td>\n",
       "    </tr>\n",
       "    <tr>\n",
       "      <th>2005-10-04</th>\n",
       "      <td>0.5463</td>\n",
       "      <td>0.3855</td>\n",
       "      <td>0.0000</td>\n",
       "      <td>0.0</td>\n",
       "      <td>0.4</td>\n",
       "      <td>0.000093</td>\n",
       "      <td>0.546393</td>\n",
       "      <td>0.385593</td>\n",
       "      <td>0.000093</td>\n",
       "      <td>0.000093</td>\n",
       "      <td>0.400093</td>\n",
       "    </tr>\n",
       "    <tr>\n",
       "      <th>2005-10-05</th>\n",
       "      <td>0.0896</td>\n",
       "      <td>0.0633</td>\n",
       "      <td>0.0000</td>\n",
       "      <td>0.0</td>\n",
       "      <td>0.0</td>\n",
       "      <td>0.000003</td>\n",
       "      <td>0.089603</td>\n",
       "      <td>0.063303</td>\n",
       "      <td>0.000003</td>\n",
       "      <td>0.000003</td>\n",
       "      <td>0.000003</td>\n",
       "    </tr>\n",
       "    <tr>\n",
       "      <th>...</th>\n",
       "      <td>...</td>\n",
       "      <td>...</td>\n",
       "      <td>...</td>\n",
       "      <td>...</td>\n",
       "      <td>...</td>\n",
       "      <td>...</td>\n",
       "      <td>...</td>\n",
       "      <td>...</td>\n",
       "      <td>...</td>\n",
       "      <td>...</td>\n",
       "      <td>...</td>\n",
       "    </tr>\n",
       "    <tr>\n",
       "      <th>2016-09-27</th>\n",
       "      <td>0.9676</td>\n",
       "      <td>0.0000</td>\n",
       "      <td>0.0000</td>\n",
       "      <td>0.0</td>\n",
       "      <td>0.0</td>\n",
       "      <td>0.000095</td>\n",
       "      <td>0.967695</td>\n",
       "      <td>0.000095</td>\n",
       "      <td>0.000095</td>\n",
       "      <td>0.000095</td>\n",
       "      <td>0.000095</td>\n",
       "    </tr>\n",
       "    <tr>\n",
       "      <th>2016-09-28</th>\n",
       "      <td>0.0894</td>\n",
       "      <td>0.0000</td>\n",
       "      <td>0.0000</td>\n",
       "      <td>0.0</td>\n",
       "      <td>0.0</td>\n",
       "      <td>0.000066</td>\n",
       "      <td>0.089466</td>\n",
       "      <td>0.000066</td>\n",
       "      <td>0.000066</td>\n",
       "      <td>0.000066</td>\n",
       "      <td>0.000066</td>\n",
       "    </tr>\n",
       "    <tr>\n",
       "      <th>2016-09-29</th>\n",
       "      <td>0.0000</td>\n",
       "      <td>0.0000</td>\n",
       "      <td>0.0000</td>\n",
       "      <td>0.0</td>\n",
       "      <td>0.0</td>\n",
       "      <td>0.000028</td>\n",
       "      <td>0.000028</td>\n",
       "      <td>0.000028</td>\n",
       "      <td>0.000028</td>\n",
       "      <td>0.000028</td>\n",
       "      <td>0.000028</td>\n",
       "    </tr>\n",
       "    <tr>\n",
       "      <th>2016-09-30</th>\n",
       "      <td>1.6435</td>\n",
       "      <td>1.2649</td>\n",
       "      <td>0.5463</td>\n",
       "      <td>10.6</td>\n",
       "      <td>0.0</td>\n",
       "      <td>0.000060</td>\n",
       "      <td>1.643560</td>\n",
       "      <td>1.264960</td>\n",
       "      <td>0.546360</td>\n",
       "      <td>10.600060</td>\n",
       "      <td>0.000060</td>\n",
       "    </tr>\n",
       "    <tr>\n",
       "      <th>2016-10-01</th>\n",
       "      <td>0.0000</td>\n",
       "      <td>0.0000</td>\n",
       "      <td>0.0000</td>\n",
       "      <td>7.6</td>\n",
       "      <td>15.4</td>\n",
       "      <td>0.000084</td>\n",
       "      <td>0.000084</td>\n",
       "      <td>0.000084</td>\n",
       "      <td>0.000084</td>\n",
       "      <td>7.600084</td>\n",
       "      <td>15.400084</td>\n",
       "    </tr>\n",
       "  </tbody>\n",
       "</table>\n",
       "<p>4019 rows × 11 columns</p>\n",
       "</div>"
      ],
      "text/plain": [
       "            FR_p_mm  UC_p_mm  HM_p_mm  K_p_mm  BV_p_mm    jitter  FR_p_mm_jit  \\\n",
       "date                                                                            \n",
       "2005-10-01  16.0160  11.3028   7.3722     0.0     10.4  0.000057    16.016057   \n",
       "2005-10-02   0.0000   0.0000   0.0000     0.4      0.0  0.000064     0.000064   \n",
       "2005-10-03   0.7649   0.5399   0.0000     1.2      0.2  0.000073     0.764973   \n",
       "2005-10-04   0.5463   0.3855   0.0000     0.0      0.4  0.000093     0.546393   \n",
       "2005-10-05   0.0896   0.0633   0.0000     0.0      0.0  0.000003     0.089603   \n",
       "...             ...      ...      ...     ...      ...       ...          ...   \n",
       "2016-09-27   0.9676   0.0000   0.0000     0.0      0.0  0.000095     0.967695   \n",
       "2016-09-28   0.0894   0.0000   0.0000     0.0      0.0  0.000066     0.089466   \n",
       "2016-09-29   0.0000   0.0000   0.0000     0.0      0.0  0.000028     0.000028   \n",
       "2016-09-30   1.6435   1.2649   0.5463    10.6      0.0  0.000060     1.643560   \n",
       "2016-10-01   0.0000   0.0000   0.0000     7.6     15.4  0.000084     0.000084   \n",
       "\n",
       "            UC_p_mm_jit  HM_p_mm_jit  K_p_mm_jit  BV_p_mm_jit  \n",
       "date                                                           \n",
       "2005-10-01    11.302857     7.372257    0.000057    10.400057  \n",
       "2005-10-02     0.000064     0.000064    0.400064     0.000064  \n",
       "2005-10-03     0.539973     0.000073    1.200073     0.200073  \n",
       "2005-10-04     0.385593     0.000093    0.000093     0.400093  \n",
       "2005-10-05     0.063303     0.000003    0.000003     0.000003  \n",
       "...                 ...          ...         ...          ...  \n",
       "2016-09-27     0.000095     0.000095    0.000095     0.000095  \n",
       "2016-09-28     0.000066     0.000066    0.000066     0.000066  \n",
       "2016-09-29     0.000028     0.000028    0.000028     0.000028  \n",
       "2016-09-30     1.264960     0.546360   10.600060     0.000060  \n",
       "2016-10-01     0.000084     0.000084    7.600084    15.400084  \n",
       "\n",
       "[4019 rows x 11 columns]"
      ]
     },
     "execution_count": 3,
     "metadata": {},
     "output_type": "execute_result"
    }
   ],
   "source": [
    "# https://numpy.org/doc/stable/reference/random/generated/numpy.random.Generator.uniform.html\n",
    "\n",
    "jitter = np.random.default_rng().uniform(0, 0.0001, 4019) # random numbers are in range 0 to 0.0001\n",
    "# jitter\n",
    "P_df['jitter'] = np.array(jitter)\n",
    "# P_df\n",
    "P_df['FR_p_mm_jit'] = P_df['FR_p_mm'] + P_df['jitter']\n",
    "P_df['UC_p_mm_jit'] = P_df['UC_p_mm'] + P_df['jitter']\n",
    "P_df['HM_p_mm_jit'] = P_df['HM_p_mm'] + P_df['jitter']\n",
    "P_df['K_p_mm_jit'] = P_df['K_p_mm'] + P_df['jitter']\n",
    "P_df['BV_p_mm_jit'] = P_df['BV_p_mm'] + P_df['jitter']\n",
    "P_df"
   ]
  },
  {
   "cell_type": "markdown",
   "id": "dangerous-forestry",
   "metadata": {},
   "source": [
    "### Transform P values for each station to uniform values on range 0 to 1."
   ]
  },
  {
   "cell_type": "code",
   "execution_count": 4,
   "id": "initial-alberta",
   "metadata": {},
   "outputs": [
    {
     "data": {
      "text/html": [
       "<div>\n",
       "<style scoped>\n",
       "    .dataframe tbody tr th:only-of-type {\n",
       "        vertical-align: middle;\n",
       "    }\n",
       "\n",
       "    .dataframe tbody tr th {\n",
       "        vertical-align: top;\n",
       "    }\n",
       "\n",
       "    .dataframe thead th {\n",
       "        text-align: right;\n",
       "    }\n",
       "</style>\n",
       "<table border=\"1\" class=\"dataframe\">\n",
       "  <thead>\n",
       "    <tr style=\"text-align: right;\">\n",
       "      <th></th>\n",
       "      <th>FR_p_mm</th>\n",
       "      <th>UC_p_mm</th>\n",
       "      <th>HM_p_mm</th>\n",
       "      <th>K_p_mm</th>\n",
       "      <th>BV_p_mm</th>\n",
       "      <th>jitter</th>\n",
       "      <th>FR_p_mm_jit</th>\n",
       "      <th>UC_p_mm_jit</th>\n",
       "      <th>HM_p_mm_jit</th>\n",
       "      <th>K_p_mm_jit</th>\n",
       "      <th>BV_p_mm_jit</th>\n",
       "      <th>FR_p_unijit</th>\n",
       "      <th>UC_p_unijit</th>\n",
       "      <th>HM_p_unijit</th>\n",
       "      <th>K_p_unijit</th>\n",
       "      <th>BV_p_unijit</th>\n",
       "    </tr>\n",
       "    <tr>\n",
       "      <th>date</th>\n",
       "      <th></th>\n",
       "      <th></th>\n",
       "      <th></th>\n",
       "      <th></th>\n",
       "      <th></th>\n",
       "      <th></th>\n",
       "      <th></th>\n",
       "      <th></th>\n",
       "      <th></th>\n",
       "      <th></th>\n",
       "      <th></th>\n",
       "      <th></th>\n",
       "      <th></th>\n",
       "      <th></th>\n",
       "      <th></th>\n",
       "      <th></th>\n",
       "    </tr>\n",
       "  </thead>\n",
       "  <tbody>\n",
       "    <tr>\n",
       "      <th>2005-10-01</th>\n",
       "      <td>16.0160</td>\n",
       "      <td>11.3028</td>\n",
       "      <td>7.3722</td>\n",
       "      <td>0.0</td>\n",
       "      <td>10.4</td>\n",
       "      <td>0.000057</td>\n",
       "      <td>16.016057</td>\n",
       "      <td>11.302857</td>\n",
       "      <td>7.372257</td>\n",
       "      <td>0.000057</td>\n",
       "      <td>10.400057</td>\n",
       "      <td>0.957079</td>\n",
       "      <td>0.957328</td>\n",
       "      <td>0.945633</td>\n",
       "      <td>0.386788</td>\n",
       "      <td>0.920503</td>\n",
       "    </tr>\n",
       "    <tr>\n",
       "      <th>2005-10-02</th>\n",
       "      <td>0.0000</td>\n",
       "      <td>0.0000</td>\n",
       "      <td>0.0000</td>\n",
       "      <td>0.4</td>\n",
       "      <td>0.0</td>\n",
       "      <td>0.000064</td>\n",
       "      <td>0.000064</td>\n",
       "      <td>0.000064</td>\n",
       "      <td>0.000064</td>\n",
       "      <td>0.400064</td>\n",
       "      <td>0.000064</td>\n",
       "      <td>0.266609</td>\n",
       "      <td>0.297462</td>\n",
       "      <td>0.370863</td>\n",
       "      <td>0.707265</td>\n",
       "      <td>0.365887</td>\n",
       "    </tr>\n",
       "    <tr>\n",
       "      <th>2005-10-03</th>\n",
       "      <td>0.7649</td>\n",
       "      <td>0.5399</td>\n",
       "      <td>0.0000</td>\n",
       "      <td>1.2</td>\n",
       "      <td>0.2</td>\n",
       "      <td>0.000073</td>\n",
       "      <td>0.764973</td>\n",
       "      <td>0.539973</td>\n",
       "      <td>0.000073</td>\n",
       "      <td>1.200073</td>\n",
       "      <td>0.200073</td>\n",
       "      <td>0.608236</td>\n",
       "      <td>0.659990</td>\n",
       "      <td>0.423115</td>\n",
       "      <td>0.767479</td>\n",
       "      <td>0.607738</td>\n",
       "    </tr>\n",
       "    <tr>\n",
       "      <th>2005-10-04</th>\n",
       "      <td>0.5463</td>\n",
       "      <td>0.3855</td>\n",
       "      <td>0.0000</td>\n",
       "      <td>0.0</td>\n",
       "      <td>0.4</td>\n",
       "      <td>0.000093</td>\n",
       "      <td>0.546393</td>\n",
       "      <td>0.385593</td>\n",
       "      <td>0.000093</td>\n",
       "      <td>0.000093</td>\n",
       "      <td>0.400093</td>\n",
       "      <td>0.575392</td>\n",
       "      <td>0.632620</td>\n",
       "      <td>0.527619</td>\n",
       "      <td>0.618935</td>\n",
       "      <td>0.633367</td>\n",
       "    </tr>\n",
       "    <tr>\n",
       "      <th>2005-10-05</th>\n",
       "      <td>0.0896</td>\n",
       "      <td>0.0633</td>\n",
       "      <td>0.0000</td>\n",
       "      <td>0.0</td>\n",
       "      <td>0.0</td>\n",
       "      <td>0.000003</td>\n",
       "      <td>0.089603</td>\n",
       "      <td>0.063303</td>\n",
       "      <td>0.000003</td>\n",
       "      <td>0.000003</td>\n",
       "      <td>0.000003</td>\n",
       "      <td>0.435307</td>\n",
       "      <td>0.481587</td>\n",
       "      <td>0.021772</td>\n",
       "      <td>0.024757</td>\n",
       "      <td>0.019035</td>\n",
       "    </tr>\n",
       "    <tr>\n",
       "      <th>...</th>\n",
       "      <td>...</td>\n",
       "      <td>...</td>\n",
       "      <td>...</td>\n",
       "      <td>...</td>\n",
       "      <td>...</td>\n",
       "      <td>...</td>\n",
       "      <td>...</td>\n",
       "      <td>...</td>\n",
       "      <td>...</td>\n",
       "      <td>...</td>\n",
       "      <td>...</td>\n",
       "      <td>...</td>\n",
       "      <td>...</td>\n",
       "      <td>...</td>\n",
       "      <td>...</td>\n",
       "      <td>...</td>\n",
       "    </tr>\n",
       "    <tr>\n",
       "      <th>2016-09-27</th>\n",
       "      <td>0.9676</td>\n",
       "      <td>0.0000</td>\n",
       "      <td>0.0000</td>\n",
       "      <td>0.0</td>\n",
       "      <td>0.0</td>\n",
       "      <td>0.000095</td>\n",
       "      <td>0.967695</td>\n",
       "      <td>0.000095</td>\n",
       "      <td>0.000095</td>\n",
       "      <td>0.000095</td>\n",
       "      <td>0.000095</td>\n",
       "      <td>0.627644</td>\n",
       "      <td>0.441279</td>\n",
       "      <td>0.540060</td>\n",
       "      <td>0.634859</td>\n",
       "      <td>0.539064</td>\n",
       "    </tr>\n",
       "    <tr>\n",
       "      <th>2016-09-28</th>\n",
       "      <td>0.0894</td>\n",
       "      <td>0.0000</td>\n",
       "      <td>0.0000</td>\n",
       "      <td>0.0</td>\n",
       "      <td>0.0</td>\n",
       "      <td>0.000066</td>\n",
       "      <td>0.089466</td>\n",
       "      <td>0.000066</td>\n",
       "      <td>0.000066</td>\n",
       "      <td>0.000066</td>\n",
       "      <td>0.000066</td>\n",
       "      <td>0.434810</td>\n",
       "      <td>0.304429</td>\n",
       "      <td>0.381811</td>\n",
       "      <td>0.446255</td>\n",
       "      <td>0.376089</td>\n",
       "    </tr>\n",
       "    <tr>\n",
       "      <th>2016-09-29</th>\n",
       "      <td>0.0000</td>\n",
       "      <td>0.0000</td>\n",
       "      <td>0.0000</td>\n",
       "      <td>0.0</td>\n",
       "      <td>0.0</td>\n",
       "      <td>0.000028</td>\n",
       "      <td>0.000028</td>\n",
       "      <td>0.000028</td>\n",
       "      <td>0.000028</td>\n",
       "      <td>0.000028</td>\n",
       "      <td>0.000028</td>\n",
       "      <td>0.119557</td>\n",
       "      <td>0.134984</td>\n",
       "      <td>0.163847</td>\n",
       "      <td>0.195447</td>\n",
       "      <td>0.160363</td>\n",
       "    </tr>\n",
       "    <tr>\n",
       "      <th>2016-09-30</th>\n",
       "      <td>1.6435</td>\n",
       "      <td>1.2649</td>\n",
       "      <td>0.5463</td>\n",
       "      <td>10.6</td>\n",
       "      <td>0.0</td>\n",
       "      <td>0.000060</td>\n",
       "      <td>1.643560</td>\n",
       "      <td>1.264960</td>\n",
       "      <td>0.546360</td>\n",
       "      <td>10.600060</td>\n",
       "      <td>0.000060</td>\n",
       "      <td>0.686365</td>\n",
       "      <td>0.744339</td>\n",
       "      <td>0.719706</td>\n",
       "      <td>0.945633</td>\n",
       "      <td>0.342249</td>\n",
       "    </tr>\n",
       "    <tr>\n",
       "      <th>2016-10-01</th>\n",
       "      <td>0.0000</td>\n",
       "      <td>0.0000</td>\n",
       "      <td>0.0000</td>\n",
       "      <td>7.6</td>\n",
       "      <td>15.4</td>\n",
       "      <td>0.000084</td>\n",
       "      <td>0.000084</td>\n",
       "      <td>0.000084</td>\n",
       "      <td>0.000084</td>\n",
       "      <td>7.600084</td>\n",
       "      <td>15.400084</td>\n",
       "      <td>0.353695</td>\n",
       "      <td>0.391764</td>\n",
       "      <td>0.481339</td>\n",
       "      <td>0.918263</td>\n",
       "      <td>0.939910</td>\n",
       "    </tr>\n",
       "  </tbody>\n",
       "</table>\n",
       "<p>4019 rows × 16 columns</p>\n",
       "</div>"
      ],
      "text/plain": [
       "            FR_p_mm  UC_p_mm  HM_p_mm  K_p_mm  BV_p_mm    jitter  FR_p_mm_jit  \\\n",
       "date                                                                            \n",
       "2005-10-01  16.0160  11.3028   7.3722     0.0     10.4  0.000057    16.016057   \n",
       "2005-10-02   0.0000   0.0000   0.0000     0.4      0.0  0.000064     0.000064   \n",
       "2005-10-03   0.7649   0.5399   0.0000     1.2      0.2  0.000073     0.764973   \n",
       "2005-10-04   0.5463   0.3855   0.0000     0.0      0.4  0.000093     0.546393   \n",
       "2005-10-05   0.0896   0.0633   0.0000     0.0      0.0  0.000003     0.089603   \n",
       "...             ...      ...      ...     ...      ...       ...          ...   \n",
       "2016-09-27   0.9676   0.0000   0.0000     0.0      0.0  0.000095     0.967695   \n",
       "2016-09-28   0.0894   0.0000   0.0000     0.0      0.0  0.000066     0.089466   \n",
       "2016-09-29   0.0000   0.0000   0.0000     0.0      0.0  0.000028     0.000028   \n",
       "2016-09-30   1.6435   1.2649   0.5463    10.6      0.0  0.000060     1.643560   \n",
       "2016-10-01   0.0000   0.0000   0.0000     7.6     15.4  0.000084     0.000084   \n",
       "\n",
       "            UC_p_mm_jit  HM_p_mm_jit  K_p_mm_jit  BV_p_mm_jit  FR_p_unijit  \\\n",
       "date                                                                         \n",
       "2005-10-01    11.302857     7.372257    0.000057    10.400057     0.957079   \n",
       "2005-10-02     0.000064     0.000064    0.400064     0.000064     0.266609   \n",
       "2005-10-03     0.539973     0.000073    1.200073     0.200073     0.608236   \n",
       "2005-10-04     0.385593     0.000093    0.000093     0.400093     0.575392   \n",
       "2005-10-05     0.063303     0.000003    0.000003     0.000003     0.435307   \n",
       "...                 ...          ...         ...          ...          ...   \n",
       "2016-09-27     0.000095     0.000095    0.000095     0.000095     0.627644   \n",
       "2016-09-28     0.000066     0.000066    0.000066     0.000066     0.434810   \n",
       "2016-09-29     0.000028     0.000028    0.000028     0.000028     0.119557   \n",
       "2016-09-30     1.264960     0.546360   10.600060     0.000060     0.686365   \n",
       "2016-10-01     0.000084     0.000084    7.600084    15.400084     0.353695   \n",
       "\n",
       "            UC_p_unijit  HM_p_unijit  K_p_unijit  BV_p_unijit  \n",
       "date                                                           \n",
       "2005-10-01     0.957328     0.945633    0.386788     0.920503  \n",
       "2005-10-02     0.297462     0.370863    0.707265     0.365887  \n",
       "2005-10-03     0.659990     0.423115    0.767479     0.607738  \n",
       "2005-10-04     0.632620     0.527619    0.618935     0.633367  \n",
       "2005-10-05     0.481587     0.021772    0.024757     0.019035  \n",
       "...                 ...          ...         ...          ...  \n",
       "2016-09-27     0.441279     0.540060    0.634859     0.539064  \n",
       "2016-09-28     0.304429     0.381811    0.446255     0.376089  \n",
       "2016-09-29     0.134984     0.163847    0.195447     0.160363  \n",
       "2016-09-30     0.744339     0.719706    0.945633     0.342249  \n",
       "2016-10-01     0.391764     0.481339    0.918263     0.939910  \n",
       "\n",
       "[4019 rows x 16 columns]"
      ]
     },
     "execution_count": 4,
     "metadata": {},
     "output_type": "execute_result"
    }
   ],
   "source": [
    "# https://docs.scipy.org/doc/scipy/reference/generated/scipy.stats.rankdata.html\n",
    "P_df[\"FR_p_unijit\"] = (st.rankdata(P_df.FR_p_mm_jit) - 0.5) / (len(P_df))\n",
    "P_df[\"UC_p_unijit\"] = (st.rankdata(P_df.UC_p_mm_jit) - 0.5) / (len(P_df))\n",
    "P_df[\"HM_p_unijit\"] = (st.rankdata(P_df.HM_p_mm_jit) - 0.5) / (len(P_df))\n",
    "P_df[\"K_p_unijit\"] = (st.rankdata(P_df.K_p_mm_jit) - 0.5) / (len(P_df))\n",
    "P_df[\"BV_p_unijit\"] = (st.rankdata(P_df.BV_p_mm_jit) - 0.5) / (len(P_df))\n",
    "P_df"
   ]
  },
  {
   "cell_type": "code",
   "execution_count": 5,
   "id": "violent-defensive",
   "metadata": {},
   "outputs": [
    {
     "name": "stdout",
     "output_type": "stream",
     "text": [
      "FR_p_uniform max =  0.99988\n",
      "FR_p_uniform min =  0.00012\n",
      "UC_p_uniform max =  0.99988\n",
      "UC_p_uniform min =  0.00012\n",
      "HM_p_uniform max =  0.99988\n",
      "HM_p_uniform min =  0.00012\n",
      "K_p_uniform max =  0.99988\n",
      "K_p_uniform min =  0.00012\n",
      "BV_p_uniform max =  0.99988\n",
      "BV_p_uniform min =  0.00012\n"
     ]
    }
   ],
   "source": [
    "# have a look at max and min ranked values\n",
    "print(\"FR_p_uniform max = \", round(P_df.FR_p_unijit.max(), 5))\n",
    "print(\"FR_p_uniform min = \", round(P_df.FR_p_unijit.min(), 5))\n",
    "print(\"UC_p_uniform max = \", round(P_df.UC_p_unijit.max(), 5))\n",
    "print(\"UC_p_uniform min = \", round(P_df.UC_p_unijit.min(), 5))\n",
    "print(\"HM_p_uniform max = \", round(P_df.HM_p_unijit.max(), 5))\n",
    "print(\"HM_p_uniform min = \", round(P_df.HM_p_unijit.min(), 5))\n",
    "print(\"K_p_uniform max = \", round(P_df.K_p_unijit.max(), 5))\n",
    "print(\"K_p_uniform min = \", round(P_df.K_p_unijit.min(), 5))\n",
    "print(\"BV_p_uniform max = \", round(P_df.BV_p_unijit.max(), 5))\n",
    "print(\"BV_p_uniform min = \", round(P_df.BV_p_unijit.min(), 5))"
   ]
  },
  {
   "cell_type": "markdown",
   "id": "sustainable-sauce",
   "metadata": {},
   "source": [
    "### Plot a histogram for the jittered values to see the shape of the distribution"
   ]
  },
  {
   "cell_type": "code",
   "execution_count": 6,
   "id": "serial-craps",
   "metadata": {},
   "outputs": [],
   "source": [
    "# x = np.linspace(0, max(P_df.FR_p_unijit), 100)\n",
    "# # x = np.linspace(0, 1, 100)\n",
    "# y = P_df.FR_p_unijit\n",
    "# # histogram\n",
    "# P_df.FR_p_unijit.plot(kind='hist', bins=50, density=True, color='lightgrey', label='precipitation histogram')"
   ]
  },
  {
   "cell_type": "markdown",
   "id": "intermediate-recall",
   "metadata": {},
   "source": [
    "### I was going to try to transform P values for each station using different st.rankdata methods but, as jittering has given me a unique value for each time step, I don't really need to do that right now."
   ]
  },
  {
   "cell_type": "markdown",
   "id": "processed-parent",
   "metadata": {},
   "source": [
    "### Calculate covariance for each gauge pair"
   ]
  },
  {
   "cell_type": "markdown",
   "id": "abandoned-oliver",
   "metadata": {},
   "source": [
    "### Pair 1: Fisera Ridge (2325 m) & Upper Clearing (1845 m)"
   ]
  },
  {
   "cell_type": "code",
   "execution_count": 7,
   "id": "animated-unemployment",
   "metadata": {},
   "outputs": [
    {
     "name": "stdout",
     "output_type": "stream",
     "text": [
      "FRUCcov =  0.07352\n"
     ]
    }
   ],
   "source": [
    "FRUCcov = P_df[\"FR_p_unijit\"].cov(P_df[\"UC_p_unijit\"])\n",
    "print(\"FRUCcov = \", FRUCcov.round(5))\n",
    "# P_df.plot.scatter(x='FR_p_uniform', y='UC_p_uniform', c='tab:blue',\n",
    "#                                title=\"Fisera Ridge (2325 m) v Upper Clearing (1846 m)\")\n",
    "#                                label=\"FR v UC cov = 0.0675\")\n",
    "# plt.grid()\n",
    "# plt.xlabel(\"Fisera Ridge uniform P\")\n",
    "# plt.ylabel(\"Upper Clearing uniform P\")\n",
    "# plt.show()\n",
    "# plt.savefig(r'C:\\Users\\b1043453\\OneDrive - Newcastle University\\OnePlanet PhD\\Random_mixing\\RMWSPy_Horning_and_Haese_2021\\RMWSPy-master\\MCRB_examples\\MCRB_gauges_only\\Characterising_P_statistics\\correlation_plots_2005-2016_stns\\FRUCcorr2005-16.png')"
   ]
  },
  {
   "cell_type": "markdown",
   "id": "passive-parking",
   "metadata": {},
   "source": [
    "### Pair 2: Fisera Ridge (2325 m) & Hay Meadow (1436 m)"
   ]
  },
  {
   "cell_type": "code",
   "execution_count": 8,
   "id": "waiting-bread",
   "metadata": {},
   "outputs": [
    {
     "name": "stdout",
     "output_type": "stream",
     "text": [
      "FRHMcov =  0.06002\n"
     ]
    }
   ],
   "source": [
    "FRHMcov = P_df[\"FR_p_unijit\"].cov(P_df[\"HM_p_unijit\"])\n",
    "print(\"FRHMcov = \", FRHMcov.round(5))\n",
    "# P_df.plot.scatter(x='FR_p_mm', y='HM_p_mm', c='tab:orange',\n",
    "#                                title=\"Fisera Ridge (2325 m) v Hay Meadow (1436 m)\",\n",
    "#                                label=\"FR v HM corr coeff = 0.0528\")\n",
    "# plt.grid()\n",
    "# plt.xlabel(\"Fisera Ridge P (mm/d)\")\n",
    "# plt.ylabel(\"Hay Meadow P (mm/d)\")\n",
    "# plt.xlim(0, 160)\n",
    "# plt.ylim(0, 160)\n",
    "# plt.savefig(r'C:\\Users\\b1043453\\OneDrive - Newcastle University\\OnePlanet PhD\\Random_mixing\\RMWSPy_Horning_and_Haese_2021\\RMWSPy-master\\MCRB_examples\\MCRB_gauges_only\\Characterising_P_statistics\\correlation_plots_2005-2016_stns\\FRHMcorr2005-16.png')"
   ]
  },
  {
   "cell_type": "markdown",
   "id": "statewide-landing",
   "metadata": {},
   "source": [
    "### Pair 3: Fisera Ridge (2325 m) & Kananaskis (1391 m)"
   ]
  },
  {
   "cell_type": "code",
   "execution_count": 9,
   "id": "biblical-diabetes",
   "metadata": {},
   "outputs": [
    {
     "name": "stdout",
     "output_type": "stream",
     "text": [
      "FRKcov =  0.04345\n"
     ]
    }
   ],
   "source": [
    "FRKcov = P_df[\"FR_p_unijit\"].cov(P_df[\"K_p_unijit\"])\n",
    "print(\"FRKcov = \", FRKcov.round(5))\n",
    "# P_df.plot.scatter(x='FR_p_mm', y='K_p_mm', c='tab:brown',\n",
    "#                                title=\"Fisera Ridge (2325 m) v Kananaskis (1391 m)\",\n",
    "#                                label=\"FR v K corr coeff = 0.599\")\n",
    "# plt.grid()\n",
    "# plt.xlabel(\"Fisera Ridge P (mm/d)\")\n",
    "# plt.ylabel(\"Kananaskis P (mm/d)\")\n",
    "# plt.xlim(0, 160)\n",
    "# plt.ylim(0, 160)\n",
    "# plt.savefig(r'C:\\Users\\b1043453\\OneDrive - Newcastle University\\OnePlanet PhD\\Random_mixing\\RMWSPy_Horning_and_Haese_2021\\RMWSPy-master\\MCRB_examples\\MCRB_gauges_only\\Characterising_P_statistics\\correlation_plots_2005-2016_stns\\FRKcorr2005-16.png')\n"
   ]
  },
  {
   "cell_type": "markdown",
   "id": "varied-change",
   "metadata": {},
   "source": [
    "### Pair 4: Fisera Ridge (2325 m) & Bow Valley (1298 m)"
   ]
  },
  {
   "cell_type": "code",
   "execution_count": 10,
   "id": "stopped-fishing",
   "metadata": {},
   "outputs": [
    {
     "name": "stdout",
     "output_type": "stream",
     "text": [
      "FRBVcov =  0.04523\n"
     ]
    }
   ],
   "source": [
    "FRBVcov = P_df[\"FR_p_unijit\"].cov(P_df[\"BV_p_unijit\"])\n",
    "print(\"FRBVcov = \", FRBVcov.round(5))\n",
    "# P_df.plot.scatter(x='FR_p_mm', y='BV_p_mm', c='tab:green',\n",
    "#                                title=\"Fisera Ridge (2325 m) v Bow Valley (1298 m)\",\n",
    "#                                label=\"FR v BV corr coeff = 0.679\")\n",
    "# plt.grid()\n",
    "# plt.xlabel(\"Fisera Ridge P (mm/d)\")\n",
    "# plt.ylabel(\"Bow Valley P (mm/d)\")\n",
    "# plt.xlim(0, 160)\n",
    "# plt.ylim(0, 160)\n",
    "# plt.savefig(r'C:\\Users\\b1043453\\OneDrive - Newcastle University\\OnePlanet PhD\\Random_mixing\\RMWSPy_Horning_and_Haese_2021\\RMWSPy-master\\MCRB_examples\\MCRB_gauges_only\\Characterising_P_statistics\\correlation_plots_2005-2016_stns\\FRBVcorr2005-16.png')"
   ]
  },
  {
   "cell_type": "markdown",
   "id": "superior-nursing",
   "metadata": {},
   "source": [
    "### Pair 8: Upper Clearing (1845 m) & Hay Meadow (1436 m)"
   ]
  },
  {
   "cell_type": "code",
   "execution_count": 11,
   "id": "hindu-number",
   "metadata": {},
   "outputs": [
    {
     "name": "stdout",
     "output_type": "stream",
     "text": [
      "UCHMcov =  0.06553\n"
     ]
    }
   ],
   "source": [
    "UCHMcov = P_df[\"UC_p_unijit\"].cov(P_df[\"HM_p_unijit\"])\n",
    "print(\"UCHMcov = \", UCHMcov.round(5))\n",
    "# P_df.plot.scatter(x='UC_p_mm', y='HM_p_mm', c='tab:gray',\n",
    "#                                title=\"Upper Clearing (1845 m) v Hay Meadow (1436 m)\",\n",
    "#                                label=\"UC v HM corr coeff = 0.946\")\n",
    "# plt.grid()\n",
    "# plt.xlabel(\"Upper Clearing P (mm/d)\")\n",
    "# plt.ylabel(\"Hay Meadow P (mm/d)\")\n",
    "# plt.xlim(0, 160)\n",
    "# plt.ylim(0, 160)\n",
    "# plt.savefig(r'C:\\Users\\b1043453\\OneDrive - Newcastle University\\OnePlanet PhD\\Random_mixing\\RMWSPy_Horning_and_Haese_2021\\RMWSPy-master\\MCRB_examples\\MCRB_gauges_only\\Characterising_P_statistics\\correlation_plots_2005-2016_stns\\UCHMcorr2005-16.png')"
   ]
  },
  {
   "cell_type": "markdown",
   "id": "invisible-baseball",
   "metadata": {},
   "source": [
    "### Pair 9: Upper Clearing (1845 m) & Kananaskis (1391 m)"
   ]
  },
  {
   "cell_type": "code",
   "execution_count": 12,
   "id": "guided-psychiatry",
   "metadata": {},
   "outputs": [
    {
     "name": "stdout",
     "output_type": "stream",
     "text": [
      "UCKcov =  0.04631\n"
     ]
    }
   ],
   "source": [
    "UCKcov = P_df[\"UC_p_unijit\"].cov(P_df[\"K_p_unijit\"])\n",
    "print(\"UCKcov = \", UCKcov.round(5))\n",
    "# P_df.plot.scatter(x='UC_p_mm', y='K_p_mm', c='tab:olive',\n",
    "#                                title=\"Upper Clearing (1845 m) v Kananaskis (1391 m)\",\n",
    "#                                label=\"UC v K corr coeff = 0.637\")\n",
    "# plt.grid()\n",
    "# plt.xlabel(\"Upper Clearing P (mm/d)\")\n",
    "# plt.ylabel(\"Kananaskis P (mm/d)\")\n",
    "# plt.xlim(0, 160)\n",
    "# plt.ylim(0, 160)\n",
    "# plt.savefig(r'C:\\Users\\b1043453\\OneDrive - Newcastle University\\OnePlanet PhD\\Random_mixing\\RMWSPy_Horning_and_Haese_2021\\RMWSPy-master\\MCRB_examples\\MCRB_gauges_only\\Characterising_P_statistics\\correlation_plots_2005-2016_stns\\UCKcorr2005-16.png')"
   ]
  },
  {
   "cell_type": "markdown",
   "id": "material-barcelona",
   "metadata": {},
   "source": [
    "### Pair 10: Upper Clearing (1845 m) & Bow Valley (1298 m)"
   ]
  },
  {
   "cell_type": "code",
   "execution_count": 13,
   "id": "metallic-madrid",
   "metadata": {},
   "outputs": [
    {
     "name": "stdout",
     "output_type": "stream",
     "text": [
      "UCBVcov =  0.04957\n"
     ]
    }
   ],
   "source": [
    "UCBVcov = P_df[\"UC_p_unijit\"].cov(P_df[\"BV_p_unijit\"])\n",
    "print(\"UCBVcov = \", UCBVcov.round(5))\n",
    "# P_df.plot.scatter(x='UC_p_mm', y='BV_p_mm', c='tab:cyan',\n",
    "#                                title=\"Upper Clearing (1845 m) v Bow Valley (1298 m)\",\n",
    "#                                label=\"UC v BV corr coeff = 0.761\")\n",
    "# plt.grid()\n",
    "# plt.xlabel(\"Upper Clearing P (mm/d)\")\n",
    "# plt.ylabel(\"Bow Valley P (mm/d)\")\n",
    "# plt.xlim(0, 160)\n",
    "# plt.ylim(0, 160)\n",
    "# plt.savefig(r'C:\\Users\\b1043453\\OneDrive - Newcastle University\\OnePlanet PhD\\Random_mixing\\RMWSPy_Horning_and_Haese_2021\\RMWSPy-master\\MCRB_examples\\MCRB_gauges_only\\Characterising_P_statistics\\correlation_plots_2005-2016_stns\\UCBVcorr2005-16.png')"
   ]
  },
  {
   "cell_type": "markdown",
   "id": "continuing-saver",
   "metadata": {},
   "source": [
    "### Pair 14: Hay Meadow (1436 m) & Kananaskis (1391 m)"
   ]
  },
  {
   "cell_type": "code",
   "execution_count": 14,
   "id": "registered-settle",
   "metadata": {},
   "outputs": [
    {
     "name": "stdout",
     "output_type": "stream",
     "text": [
      "HMKcov =  0.04909\n"
     ]
    }
   ],
   "source": [
    "HMKcov = P_df[\"HM_p_unijit\"].cov(P_df[\"K_p_unijit\"])\n",
    "print(\"HMKcov = \", HMKcov.round(5))\n",
    "# P_df.plot.scatter(x='HM_p_mm', y='K_p_mm', c='goldenrod',\n",
    "#                                title=\"Hay Meadow (1426 m) v Kananaskis (1391 m)\",\n",
    "#                                label=\"HM v K corr coeff = 0.651\")\n",
    "# plt.grid()\n",
    "# plt.xlabel(\"Hay Meadow P (mm/d)\")\n",
    "# plt.ylabel(\"Kananaskis P (mm/d)\")\n",
    "# plt.xlim(0, 160)\n",
    "# plt.ylim(0, 160)\n",
    "# plt.savefig(r'C:\\Users\\b1043453\\OneDrive - Newcastle University\\OnePlanet PhD\\Random_mixing\\RMWSPy_Horning_and_Haese_2021\\RMWSPy-master\\MCRB_examples\\MCRB_gauges_only\\Characterising_P_statistics\\correlation_plots_2005-2016_stns\\HMKcorr2005-16.png')"
   ]
  },
  {
   "cell_type": "markdown",
   "id": "chief-timer",
   "metadata": {},
   "source": [
    "### Pair 15: Hay Meadow (1436 m) & Bow Valley (1298 m)"
   ]
  },
  {
   "cell_type": "code",
   "execution_count": 15,
   "id": "cloudy-buying",
   "metadata": {},
   "outputs": [
    {
     "name": "stdout",
     "output_type": "stream",
     "text": [
      "HMBVcov =  0.04958\n"
     ]
    }
   ],
   "source": [
    "HMBVcov = P_df[\"HM_p_unijit\"].cov(P_df[\"BV_p_unijit\"])\n",
    "print(\"HMBVcov = \", HMBVcov.round(5))\n",
    "# P_df.plot.scatter(x='HM_p_mm', y='BV_p_mm', c='olive',\n",
    "#                                title=\"Hay Meadow (1426 m) v Bow Valley (1298 m)\",\n",
    "#                                label=\"HM v BV corr coeff = 0.764\")\n",
    "# plt.grid()\n",
    "# plt.xlabel(\"Hay Meadow P (mm/d)\")\n",
    "# plt.ylabel(\"Bow Valley P (mm/d)\")\n",
    "# plt.xlim(0, 160)\n",
    "# plt.ylim(0, 160)\n",
    "# plt.savefig(r'C:\\Users\\b1043453\\OneDrive - Newcastle University\\OnePlanet PhD\\Random_mixing\\RMWSPy_Horning_and_Haese_2021\\RMWSPy-master\\MCRB_examples\\MCRB_gauges_only\\Characterising_P_statistics\\correlation_plots_2005-2016_stns\\HMBVcorr2005-16.png')"
   ]
  },
  {
   "cell_type": "markdown",
   "id": "scheduled-being",
   "metadata": {},
   "source": [
    "### Pair 19: Kananaskis (1391 m) & Bow Valley (1298 m)"
   ]
  },
  {
   "cell_type": "code",
   "execution_count": 16,
   "id": "roman-debut",
   "metadata": {},
   "outputs": [
    {
     "name": "stdout",
     "output_type": "stream",
     "text": [
      "KBVcov =  0.04697\n"
     ]
    }
   ],
   "source": [
    "KBVcov = P_df[\"K_p_unijit\"].cov(P_df[\"BV_p_unijit\"])\n",
    "print(\"KBVcov = \", KBVcov.round(5))\n",
    "# P_df.plot.scatter(x='K_p_mm', y='BV_p_mm', c='steelblue',\n",
    "#                                title=\"Kananaskis (1391 m) v Bow Valley (1298 m)\",\n",
    "#                                label=\"K v BV corr coeff = 0.682\")\n",
    "# plt.grid()\n",
    "# plt.xlabel(\"Kananaskis P (mm/d)\")\n",
    "# plt.ylabel(\"Bow Valley P (mm/d)\")\n",
    "# plt.xlim(0, 160)\n",
    "# plt.ylim(0, 160)\n",
    "# plt.savefig(r'C:\\Users\\b1043453\\OneDrive - Newcastle University\\OnePlanet PhD\\Random_mixing\\RMWSPy_Horning_and_Haese_2021\\RMWSPy-master\\MCRB_examples\\MCRB_gauges_only\\Characterising_P_statistics\\correlation_plots_2005-2016_stns\\KBVcorr2005-16.png')"
   ]
  },
  {
   "cell_type": "markdown",
   "id": "corrected-arcade",
   "metadata": {},
   "source": [
    "### Print all covariance values"
   ]
  },
  {
   "cell_type": "code",
   "execution_count": 17,
   "id": "governmental-photograph",
   "metadata": {},
   "outputs": [
    {
     "name": "stdout",
     "output_type": "stream",
     "text": [
      "Fisera Ridge Upper Clearing covariance = 0.07352\n",
      "Fisera Ridge Hay Meadow covariance = 0.06002\n",
      "Fisera Ridge Kananaskis covariance = 0.04345\n",
      "Fisera Ridge Bow Valley covariance = 0.04523\n",
      "Upper Clearing Hay Meadow covariance = 0.06553\n",
      "Upper Clearing Kananaskis covariance = 0.04631\n",
      "Upper Clearing Bow Valley covariance = 0.04957\n",
      "Hay Meadow Kananaskis covariance = 0.04909\n",
      "Hay Meadow Bow Valley covariance = 0.04958\n",
      "Kananaskis Bow Valley covariance = 0.04697\n"
     ]
    }
   ],
   "source": [
    "print(\"Fisera Ridge Upper Clearing covariance =\", FRUCcov.round(5))\n",
    "print(\"Fisera Ridge Hay Meadow covariance =\", FRHMcov.round(5))\n",
    "print(\"Fisera Ridge Kananaskis covariance =\", FRKcov.round(5))\n",
    "print(\"Fisera Ridge Bow Valley covariance =\", FRBVcov.round(5))\n",
    "print(\"Upper Clearing Hay Meadow covariance =\", UCHMcov.round(5))\n",
    "print(\"Upper Clearing Kananaskis covariance =\", UCKcov.round(5))\n",
    "print(\"Upper Clearing Bow Valley covariance =\", UCBVcov.round(5))\n",
    "print(\"Hay Meadow Kananaskis covariance =\", HMKcov.round(5))\n",
    "print(\"Hay Meadow Bow Valley covariance =\", HMBVcov.round(5))\n",
    "print(\"Kananaskis Bow Valley covariance =\", KBVcov.round(5))"
   ]
  },
  {
   "cell_type": "markdown",
   "id": "major-gibraltar",
   "metadata": {},
   "source": [
    "### Use scipy.stats distance_matrix to calculate separation distances between stations. "
   ]
  },
  {
   "cell_type": "markdown",
   "id": "norwegian-wireless",
   "metadata": {},
   "source": [
    "### Method 1: use standard xy grid coords from run_inv_mcrb.py"
   ]
  },
  {
   "cell_type": "code",
   "execution_count": 18,
   "id": "together-camera",
   "metadata": {},
   "outputs": [
    {
     "data": {
      "text/html": [
       "<div>\n",
       "<style scoped>\n",
       "    .dataframe tbody tr th:only-of-type {\n",
       "        vertical-align: middle;\n",
       "    }\n",
       "\n",
       "    .dataframe tbody tr th {\n",
       "        vertical-align: top;\n",
       "    }\n",
       "\n",
       "    .dataframe thead th {\n",
       "        text-align: right;\n",
       "    }\n",
       "</style>\n",
       "<table border=\"1\" class=\"dataframe\">\n",
       "  <thead>\n",
       "    <tr style=\"text-align: right;\">\n",
       "      <th></th>\n",
       "      <th>std grid x</th>\n",
       "      <th>std grid y</th>\n",
       "    </tr>\n",
       "  </thead>\n",
       "  <tbody>\n",
       "    <tr>\n",
       "      <th>Fisera Ridge</th>\n",
       "      <td>69</td>\n",
       "      <td>53</td>\n",
       "    </tr>\n",
       "    <tr>\n",
       "      <th>Upper Clearing</th>\n",
       "      <td>72</td>\n",
       "      <td>93</td>\n",
       "    </tr>\n",
       "    <tr>\n",
       "      <th>Hay Meadow</th>\n",
       "      <td>45</td>\n",
       "      <td>136</td>\n",
       "    </tr>\n",
       "    <tr>\n",
       "      <th>Kananaskis</th>\n",
       "      <td>235</td>\n",
       "      <td>287</td>\n",
       "    </tr>\n",
       "    <tr>\n",
       "      <th>Bow Valley</th>\n",
       "      <td>357</td>\n",
       "      <td>239</td>\n",
       "    </tr>\n",
       "  </tbody>\n",
       "</table>\n",
       "</div>"
      ],
      "text/plain": [
       "                std grid x  std grid y\n",
       "Fisera Ridge            69          53\n",
       "Upper Clearing          72          93\n",
       "Hay Meadow              45         136\n",
       "Kananaskis             235         287\n",
       "Bow Valley             357         239"
      ]
     },
     "execution_count": 18,
     "metadata": {},
     "output_type": "execute_result"
    }
   ],
   "source": [
    "# standard xy grid coords from run_inv_mcrb.py\n",
    "coords = [[69, 53], [72, 93], [45, 136], [235, 287], [357, 239]]\n",
    "stations = [\"Fisera Ridge\", \"Upper Clearing\", \"Hay Meadow\", \"Kananaskis\", \"Bow Valley\"]\n",
    "dist_df = pd.DataFrame(coords, columns = [\"std grid x\", \"std grid y\"], index = stations)\n",
    "dist_df"
   ]
  },
  {
   "cell_type": "markdown",
   "id": "ethical-virginia",
   "metadata": {},
   "source": [
    "### Method 2: use eastings and northings from MCRB_Pinputs_20km.csv"
   ]
  },
  {
   "cell_type": "code",
   "execution_count": 19,
   "id": "cordless-excitement",
   "metadata": {},
   "outputs": [],
   "source": [
    "# # easting and northing coords from MCRB_Pinputs_20km.csv\n",
    "# coords = [[626132, 5646467], [628147, 5646573], [630745, 5645258], [635104, 5654649], [635410, 5660866]]\n",
    "# stations = [\"Fisera Ridge\", \"Upper Clearing\", \"Hay Meadow\", \"Kananaskis\", \"Bow Valley\"]\n",
    "# dist_df = pd.DataFrame(coords, columns = [\"std grid x\", \"std grid y\"], index = stations)\n",
    "# dist_df"
   ]
  },
  {
   "cell_type": "markdown",
   "id": "premier-point",
   "metadata": {},
   "source": [
    "### Calculate the distance matrix"
   ]
  },
  {
   "cell_type": "code",
   "execution_count": 20,
   "id": "joint-photography",
   "metadata": {},
   "outputs": [
    {
     "data": {
      "text/html": [
       "<div>\n",
       "<style scoped>\n",
       "    .dataframe tbody tr th:only-of-type {\n",
       "        vertical-align: middle;\n",
       "    }\n",
       "\n",
       "    .dataframe tbody tr th {\n",
       "        vertical-align: top;\n",
       "    }\n",
       "\n",
       "    .dataframe thead th {\n",
       "        text-align: right;\n",
       "    }\n",
       "</style>\n",
       "<table border=\"1\" class=\"dataframe\">\n",
       "  <thead>\n",
       "    <tr style=\"text-align: right;\">\n",
       "      <th></th>\n",
       "      <th>Fisera Ridge</th>\n",
       "      <th>Upper Clearing</th>\n",
       "      <th>Hay Meadow</th>\n",
       "      <th>Kananaskis</th>\n",
       "      <th>Bow Valley</th>\n",
       "    </tr>\n",
       "  </thead>\n",
       "  <tbody>\n",
       "    <tr>\n",
       "      <th>Fisera Ridge</th>\n",
       "      <td>0.000000</td>\n",
       "      <td>40.112342</td>\n",
       "      <td>86.400231</td>\n",
       "      <td>286.900680</td>\n",
       "      <td>342.841071</td>\n",
       "    </tr>\n",
       "    <tr>\n",
       "      <th>Upper Clearing</th>\n",
       "      <td>40.112342</td>\n",
       "      <td>0.000000</td>\n",
       "      <td>50.774009</td>\n",
       "      <td>253.387056</td>\n",
       "      <td>320.220237</td>\n",
       "    </tr>\n",
       "    <tr>\n",
       "      <th>Hay Meadow</th>\n",
       "      <td>86.400231</td>\n",
       "      <td>50.774009</td>\n",
       "      <td>0.000000</td>\n",
       "      <td>242.695282</td>\n",
       "      <td>328.562018</td>\n",
       "    </tr>\n",
       "    <tr>\n",
       "      <th>Kananaskis</th>\n",
       "      <td>286.900680</td>\n",
       "      <td>253.387056</td>\n",
       "      <td>242.695282</td>\n",
       "      <td>0.000000</td>\n",
       "      <td>131.103013</td>\n",
       "    </tr>\n",
       "    <tr>\n",
       "      <th>Bow Valley</th>\n",
       "      <td>342.841071</td>\n",
       "      <td>320.220237</td>\n",
       "      <td>328.562018</td>\n",
       "      <td>131.103013</td>\n",
       "      <td>0.000000</td>\n",
       "    </tr>\n",
       "  </tbody>\n",
       "</table>\n",
       "</div>"
      ],
      "text/plain": [
       "                Fisera Ridge  Upper Clearing  Hay Meadow  Kananaskis  \\\n",
       "Fisera Ridge        0.000000       40.112342   86.400231  286.900680   \n",
       "Upper Clearing     40.112342        0.000000   50.774009  253.387056   \n",
       "Hay Meadow         86.400231       50.774009    0.000000  242.695282   \n",
       "Kananaskis        286.900680      253.387056  242.695282    0.000000   \n",
       "Bow Valley        342.841071      320.220237  328.562018  131.103013   \n",
       "\n",
       "                Bow Valley  \n",
       "Fisera Ridge    342.841071  \n",
       "Upper Clearing  320.220237  \n",
       "Hay Meadow      328.562018  \n",
       "Kananaskis      131.103013  \n",
       "Bow Valley        0.000000  "
      ]
     },
     "execution_count": 20,
     "metadata": {},
     "output_type": "execute_result"
    }
   ],
   "source": [
    "distmatrix_df = pd.DataFrame(distance_matrix(dist_df.values, dist_df.values), index=dist_df.index, columns=dist_df.index)\n",
    "distmatrix_df"
   ]
  },
  {
   "cell_type": "markdown",
   "id": "likely-annual",
   "metadata": {},
   "source": [
    "### Get the separation distances from the matrix"
   ]
  },
  {
   "cell_type": "code",
   "execution_count": 21,
   "id": "distinguished-consumption",
   "metadata": {},
   "outputs": [
    {
     "name": "stdout",
     "output_type": "stream",
     "text": [
      "FRUC sep dist =  40.11234224026316\n",
      "FRHM sep dist =  86.40023148117139\n",
      "FRK sep dist =  286.9006796785257\n",
      "FRBV sep dist =  342.8410710518797\n",
      "UCHM sep dist =  50.774009099144415\n",
      "UCK sep dist =  253.38705570727168\n",
      "UCBV sep dist =  320.22023671217283\n",
      "HMK sep dist =  242.69528219559604\n",
      "HMBV sep dist =  328.5620184987912\n",
      "KBV sep dist =  131.10301293257908\n"
     ]
    }
   ],
   "source": [
    "FRUCdist = distmatrix_df.iloc[0, 1]\n",
    "FRHMdist = distmatrix_df.iloc[0, 2]\n",
    "FRKdist = distmatrix_df.iloc[0, 3]\n",
    "FRBVdist = distmatrix_df.iloc[0, 4]\n",
    "UCHMdist = distmatrix_df.iloc[1, 2]\n",
    "UCKdist = distmatrix_df.iloc[1, 3]\n",
    "UCBVdist = distmatrix_df.iloc[1, 4]\n",
    "HMKdist = distmatrix_df.iloc[2, 3]\n",
    "HMBVdist = distmatrix_df.iloc[2, 4]\n",
    "KBVdist = distmatrix_df.iloc[3, 4]\n",
    "\n",
    "print(\"FRUC sep dist = \", FRUCdist)\n",
    "print(\"FRHM sep dist = \", FRHMdist)\n",
    "print(\"FRK sep dist = \", FRKdist)\n",
    "print(\"FRBV sep dist = \", FRBVdist)\n",
    "print(\"UCHM sep dist = \", UCHMdist)\n",
    "print(\"UCK sep dist = \", UCKdist)\n",
    "print(\"UCBV sep dist = \", UCBVdist)\n",
    "print(\"HMK sep dist = \", HMKdist)\n",
    "print(\"HMBV sep dist = \", HMBVdist)\n",
    "print(\"KBV sep dist = \", KBVdist)"
   ]
  },
  {
   "cell_type": "markdown",
   "id": "large-documentation",
   "metadata": {},
   "source": [
    "### Create a dataframe"
   ]
  },
  {
   "cell_type": "code",
   "execution_count": 22,
   "id": "paperback-tuning",
   "metadata": {},
   "outputs": [
    {
     "data": {
      "text/plain": [
       "[['FRUC', 40.11234224026316, 0.07352451441949322],\n",
       " ['FRHM', 86.40023148117139, 0.06002138447044437],\n",
       " ['FRK', 286.9006796785257, 0.04345087245761462],\n",
       " ['FRBV', 342.8410710518797, 0.04523322377649047],\n",
       " ['UCHM', 50.774009099144415, 0.06552660555345327],\n",
       " ['UCK', 253.38705570727168, 0.046306186517547414],\n",
       " ['UCBV', 320.22023671217283, 0.04956683648511755],\n",
       " ['HMK', 242.69528219559604, 0.049088113284515386],\n",
       " ['HMBV', 328.5620184987912, 0.04957870201342421],\n",
       " ['KBV', 131.10301293257908, 0.04697]]"
      ]
     },
     "execution_count": 22,
     "metadata": {},
     "output_type": "execute_result"
    }
   ],
   "source": [
    "# step 1: initialise my lists\n",
    "cov = [[\"FRUC\", FRUCdist, FRUCcov], [\"FRHM\", FRHMdist, FRHMcov], [\"FRK\", FRKdist, FRKcov],\n",
    "       [\"FRBV\", FRBVdist, FRBVcov], [\"UCHM\", UCHMdist, UCHMcov], [\"UCK\", UCKdist, UCKcov],\n",
    "       [\"UCBV\", UCBVdist, UCBVcov], [\"HMK\", HMKdist, HMKcov], [\"HMBV\", HMBVdist, HMBVcov],\n",
    "       [\"KBV\", KBVdist, KBVcov.round(5)]]\n",
    "cov"
   ]
  },
  {
   "cell_type": "code",
   "execution_count": 23,
   "id": "rotary-opinion",
   "metadata": {},
   "outputs": [],
   "source": [
    "# step 2: create df from lists\n",
    "covariance_df = pd.DataFrame(cov, columns = [\"station_pair\", \"separation_distance\", \"covariance\"])\n",
    "covariance_df.set_index(\"station_pair\", inplace=True)\n",
    "# covariance_df"
   ]
  },
  {
   "cell_type": "code",
   "execution_count": 24,
   "id": "taken-intranet",
   "metadata": {},
   "outputs": [],
   "source": [
    "# sort by separation distance\n",
    "covariance_df.sort_values(by=['separation_distance'], inplace=True, ascending=True)\n",
    "# write to csv\n",
    "covariance_df.to_csv(r\"C:\\Users\\b1043453\\OneDrive - Newcastle University\\OnePlanet PhD\\Random_mixing\\RMWSPy_Horning_and_Haese_2021\\RMWSPy-master\\MCRB_examples\\MCRB_gauges_only\\Characterising_P_statistics\\covariance\\covariance_jittered_20km_stns.csv\")"
   ]
  },
  {
   "cell_type": "code",
   "execution_count": 25,
   "id": "hearing-steering",
   "metadata": {},
   "outputs": [
    {
     "data": {
      "text/html": [
       "<div>\n",
       "<style scoped>\n",
       "    .dataframe tbody tr th:only-of-type {\n",
       "        vertical-align: middle;\n",
       "    }\n",
       "\n",
       "    .dataframe tbody tr th {\n",
       "        vertical-align: top;\n",
       "    }\n",
       "\n",
       "    .dataframe thead th {\n",
       "        text-align: right;\n",
       "    }\n",
       "</style>\n",
       "<table border=\"1\" class=\"dataframe\">\n",
       "  <thead>\n",
       "    <tr style=\"text-align: right;\">\n",
       "      <th></th>\n",
       "      <th>separation_distance</th>\n",
       "      <th>covariance</th>\n",
       "    </tr>\n",
       "    <tr>\n",
       "      <th>station_pair</th>\n",
       "      <th></th>\n",
       "      <th></th>\n",
       "    </tr>\n",
       "  </thead>\n",
       "  <tbody>\n",
       "    <tr>\n",
       "      <th>FRUC</th>\n",
       "      <td>40.112342</td>\n",
       "      <td>0.073525</td>\n",
       "    </tr>\n",
       "    <tr>\n",
       "      <th>UCHM</th>\n",
       "      <td>50.774009</td>\n",
       "      <td>0.065527</td>\n",
       "    </tr>\n",
       "    <tr>\n",
       "      <th>FRHM</th>\n",
       "      <td>86.400231</td>\n",
       "      <td>0.060021</td>\n",
       "    </tr>\n",
       "    <tr>\n",
       "      <th>KBV</th>\n",
       "      <td>131.103013</td>\n",
       "      <td>0.046970</td>\n",
       "    </tr>\n",
       "    <tr>\n",
       "      <th>HMK</th>\n",
       "      <td>242.695282</td>\n",
       "      <td>0.049088</td>\n",
       "    </tr>\n",
       "    <tr>\n",
       "      <th>UCK</th>\n",
       "      <td>253.387056</td>\n",
       "      <td>0.046306</td>\n",
       "    </tr>\n",
       "    <tr>\n",
       "      <th>FRK</th>\n",
       "      <td>286.900680</td>\n",
       "      <td>0.043451</td>\n",
       "    </tr>\n",
       "    <tr>\n",
       "      <th>UCBV</th>\n",
       "      <td>320.220237</td>\n",
       "      <td>0.049567</td>\n",
       "    </tr>\n",
       "    <tr>\n",
       "      <th>HMBV</th>\n",
       "      <td>328.562018</td>\n",
       "      <td>0.049579</td>\n",
       "    </tr>\n",
       "    <tr>\n",
       "      <th>FRBV</th>\n",
       "      <td>342.841071</td>\n",
       "      <td>0.045233</td>\n",
       "    </tr>\n",
       "  </tbody>\n",
       "</table>\n",
       "</div>"
      ],
      "text/plain": [
       "              separation_distance  covariance\n",
       "station_pair                                 \n",
       "FRUC                    40.112342    0.073525\n",
       "UCHM                    50.774009    0.065527\n",
       "FRHM                    86.400231    0.060021\n",
       "KBV                    131.103013    0.046970\n",
       "HMK                    242.695282    0.049088\n",
       "UCK                    253.387056    0.046306\n",
       "FRK                    286.900680    0.043451\n",
       "UCBV                   320.220237    0.049567\n",
       "HMBV                   328.562018    0.049579\n",
       "FRBV                   342.841071    0.045233"
      ]
     },
     "execution_count": 25,
     "metadata": {},
     "output_type": "execute_result"
    }
   ],
   "source": [
    "covariance_df"
   ]
  },
  {
   "cell_type": "markdown",
   "id": "suspected-consistency",
   "metadata": {},
   "source": [
    "### Scatter plot covariance against separation distance"
   ]
  },
  {
   "cell_type": "code",
   "execution_count": 26,
   "id": "sufficient-generator",
   "metadata": {},
   "outputs": [],
   "source": [
    "# reset df index to get access to station_pair column\n",
    "covariance_df = covariance_df.reset_index()\n",
    "# covariance_df"
   ]
  },
  {
   "cell_type": "code",
   "execution_count": 27,
   "id": "expired-woman",
   "metadata": {},
   "outputs": [
    {
     "data": {
      "text/plain": [
       "<function matplotlib.pyplot.show(close=None, block=None)>"
      ]
     },
     "execution_count": 27,
     "metadata": {},
     "output_type": "execute_result"
    },
    {
     "data": {
      "image/png": "[encoded data removed]",
      "text/plain": [
       "<Figure size 432x288 with 1 Axes>"
      ]
     },
     "metadata": {
      "needs_background": "light"
     },
     "output_type": "display_data"
    }
   ],
   "source": [
    "# basic plot\n",
    "covariance_df.plot.scatter(x='separation_distance', y='covariance', c='tab:blue',\n",
    "                               title=\"Covariance for 20 km stations (annual)\")\n",
    "plt.grid()\n",
    "plt.xlabel(\"Distance between station pairs\")\n",
    "plt.ylabel(\"Station pair covariance\")\n",
    "# plt.xlim(0, 800)\n",
    "# plt.ylim(0.02, 0.08)\n",
    "# plot labels on points\n",
    "for i, txt in enumerate(covariance_df.station_pair):\n",
    "    plt.annotate(txt, (covariance_df.separation_distance.iat[i], covariance_df.covariance.iat[i]))\n",
    "plt.show\n",
    "# plt.savefig(r'C:\\Users\\b1043453\\OneDrive - Newcastle University\\OnePlanet PhD\\Random_mixing\\RMWSPy_Horning_and_Haese_2021\\RMWSPy-master\\MCRB_examples\\MCRB_gauges_only\\Characterising_P_statistics\\covariance\\covariance_20km_stns.png')"
   ]
  },
  {
   "cell_type": "markdown",
   "id": "handled-snowboard",
   "metadata": {},
   "source": [
    "## Below are various attempts to fit an exponential curve to the covariance data"
   ]
  },
  {
   "cell_type": "markdown",
   "id": "czech-diana",
   "metadata": {},
   "source": [
    "### Attempt 7: generate an array of separation distances in a range [0,350] with an interval of 10 or 20 (e.g. np.arange); for each of these distances, calculate an estimated covariance using the exponential function [sill * exp(-h / range) + nugget]. Plot these estimated covariances vs separation distance (as a line) on the same graph as the observations."
   ]
  },
  {
   "cell_type": "code",
   "execution_count": 62,
   "id": "infrared-talent",
   "metadata": {},
   "outputs": [
    {
     "data": {
      "image/png": "[encoded data removed]",
      "text/plain": [
       "<Figure size 1080x504 with 1 Axes>"
      ]
     },
     "metadata": {
      "needs_background": "light"
     },
     "output_type": "display_data"
    }
   ],
   "source": [
    "# use type_exp function from covariancefunction.py\n",
    "# create a range of separation distances from 0 to 350\n",
    "distarr = np.arange(0, 360, 10)\n",
    "# set parameter values for exponential curve fitting\n",
    "Range = 50\n",
    "Sill = 0.6\n",
    "nugget = 0.4\n",
    "\n",
    "# actual values from dataframe\n",
    "x = covariance_df.separation_distance.values\n",
    "y = covariance_df.covariance.values\n",
    "\n",
    "# create a function that loops through sepdist values and calculates an estimated covariance for each\n",
    "def type_exp(): \n",
    "    covlist = [] # empty list for estimated covariance values from exponential function\n",
    "    for h in distarr:    \n",
    "        expfit = Sill * (np.exp(-h/Range) + nugget) # fit exponential curve\n",
    "        covlist.append(expfit) # append covariance values to the list\n",
    "    return covlist\n",
    "\n",
    "# create array of exponential curve estimated covariance values\n",
    "yexp = np.array(type_exp())\n",
    "    \n",
    "# plot actual covariance values\n",
    "plt.figure(figsize=(15, 7))\n",
    "plt.plot(x, y, 'bo', label=\"actual covariance\")\n",
    "# plot exponential curve values\n",
    "plt.plot(distarr, yexp, 'r', label=\"Exp (range=150, sill=0.15, nugget=0.05)\")\n",
    "# plotting\n",
    "plt.title(\"Covariance 20 km stations (annual)\")\n",
    "plt.xlabel('standard grid separation distance')\n",
    "plt.ylabel('covariance')\n",
    "plt.legend()\n",
    "plt.xlim(0, 400)\n",
    "# plt.ylim(0, 0.16)\n",
    "plt.grid()\n",
    "\n",
    "# reset df index to get access to station_pair column\n",
    "# covariance_df = covariance_df.reset_index()\n",
    "\n",
    "# plot labels on points\n",
    "for i, txt in enumerate(covariance_df.station_pair):\n",
    "    plt.annotate(txt, (covariance_df.separation_distance.iat[i], covariance_df.covariance.iat[i]))\n",
    "plt.show()\n",
    "# plt.savefig(r'C:\\Users\\b1043453\\OneDrive - Newcastle University\\OnePlanet PhD\\Random_mixing\\RMWSPy_Horning_and_Haese_2021\\RMWSPy-master\\MCRB_examples\\MCRB_gauges_only\\Characterising_P_statistics\\covariance\\covariance_jittered.png')\n",
    "\n",
    "# print(\"sepdist = \", sepdist)\n",
    "# print(\"h = \", h)\n",
    "# print(\"yexp = \", yexp)"
   ]
  },
  {
   "cell_type": "markdown",
   "id": "attractive-chick",
   "metadata": {},
   "source": [
    "### From observation of the fig above, it looks like we have: nugget=0.05, sill=0.15, range=150. However, this gives a really poor fit. So, experiment with nugget, sill and range vals to get a better fit."
   ]
  },
  {
   "cell_type": "code",
   "execution_count": 35,
   "id": "timely-japan",
   "metadata": {},
   "outputs": [
    {
     "data": {
      "image/png": "[encoded data removed]",
      "text/plain": [
       "<Figure size 1080x504 with 1 Axes>"
      ]
     },
     "metadata": {
      "needs_background": "light"
     },
     "output_type": "display_data"
    }
   ],
   "source": [
    "# use type_exp function from covariancefunction.py\n",
    "# create a range of separation distances from 0 to 350\n",
    "distarr = np.arange(0, 360, 10)\n",
    "# set parameter values for exponential curve fitting\n",
    "Range = 35\n",
    "Sill = 0.105 # y-intercept estimated from the plotted cov values - nugget\n",
    "nugget = 0.45\n",
    "\n",
    "# actual values from dataframe\n",
    "x = covariance_df.separation_distance.values\n",
    "y = covariance_df.covariance.values\n",
    "\n",
    "# create a function that loops through sepdist values and calculates an estimated covariance for each\n",
    "def type_exp(): \n",
    "    covlist = [] # empty list for estimated covariance values from exponential function\n",
    "    for h in distarr:    \n",
    "        expfit = Sill * (np.exp(-h/Range) + nugget) # fit exponential curve\n",
    "        covlist.append(expfit) # append covariance values to the list\n",
    "    return covlist\n",
    "\n",
    "# create array of exponential curve estimated covariance values\n",
    "yexp = np.array(type_exp())\n",
    "    \n",
    "# plot actual covariance values\n",
    "plt.figure(figsize=(15, 7))\n",
    "plt.plot(x, y, 'bo', label=\"actual covariance\")\n",
    "# plot exponential curve values\n",
    "plt.plot(distarr, yexp, 'r', label=\"Exp (range=35, sill=0.105, nugget=0.45)\")\n",
    "# plotting\n",
    "plt.title(\"Covariance 20 km stations (annual)\")\n",
    "plt.xlabel('standard grid separation distance')\n",
    "plt.ylabel('covariance')\n",
    "plt.legend()\n",
    "plt.xlim(0, 400)\n",
    "plt.ylim(0, 0.16)\n",
    "plt.grid()\n",
    "\n",
    "# reset df index to get access to station_pair column\n",
    "# covariance_df = covariance_df.reset_index()\n",
    "\n",
    "# plot labels on points\n",
    "for i, txt in enumerate(covariance_df.station_pair):\n",
    "    plt.annotate(txt, (covariance_df.separation_distance.iat[i], covariance_df.covariance.iat[i]))\n",
    "# plt.show()\n",
    "plt.savefig(r'C:\\Users\\b1043453\\OneDrive - Newcastle University\\OnePlanet PhD\\Random_mixing\\RMWSPy_Horning_and_Haese_2021\\RMWSPy-master\\MCRB_examples\\MCRB_gauges_only\\Characterising_P_statistics\\covariance\\covariance_jittered.png')"
   ]
  },
  {
   "cell_type": "markdown",
   "id": "north-moisture",
   "metadata": {},
   "source": [
    "### See nugget=0.01 and sill=0.99 and experiment with different range values - see what happens! Not a great fit!!"
   ]
  },
  {
   "cell_type": "code",
   "execution_count": 49,
   "id": "fantastic-modification",
   "metadata": {},
   "outputs": [
    {
     "data": {
      "image/png": "[encoded data removed]",
      "text/plain": [
       "<Figure size 1080x504 with 1 Axes>"
      ]
     },
     "metadata": {
      "needs_background": "light"
     },
     "output_type": "display_data"
    }
   ],
   "source": [
    "# use type_exp function from covariancefunction.py\n",
    "# create a range of separation distances from 0 to 350\n",
    "distarr = np.arange(0, 360, 10)\n",
    "# set parameter values for exponential curve fitting\n",
    "Range = 10\n",
    "Sill = 0.95\n",
    "nugget = 0.05\n",
    "\n",
    "# actual values from dataframe\n",
    "x = covariance_df.separation_distance.values\n",
    "y = covariance_df.covariance.values\n",
    "\n",
    "# create a function that loops through sepdist values and calculates an estimated covariance for each\n",
    "def type_exp(): \n",
    "    covlist = [] # empty list for estimated covariance values from exponential function\n",
    "    for h in distarr:    \n",
    "        expfit = Sill * (np.exp(-h/Range) + nugget) # fit exponential curve\n",
    "        covlist.append(expfit) # append covariance values to the list\n",
    "    return covlist\n",
    "\n",
    "# create array of exponential curve estimated covariance values\n",
    "yexp = np.array(type_exp())\n",
    "    \n",
    "# plot actual covariance values\n",
    "plt.figure(figsize=(15, 7))\n",
    "plt.plot(x, y, 'bo', label=\"actual covariance\")\n",
    "# plot exponential curve values\n",
    "plt.plot(distarr, yexp, 'r', label=\"Exp (range=10, sill=0.05, nugget=0.95)\")\n",
    "# plotting\n",
    "plt.title(\"Covariance 20 km stations (annual)\")\n",
    "plt.xlabel('standard grid separation distance')\n",
    "plt.ylabel('covariance')\n",
    "plt.legend()\n",
    "plt.xlim(0, 400)\n",
    "plt.ylim(0, 0.2)\n",
    "plt.grid()\n",
    "\n",
    "# reset df index to get access to station_pair column\n",
    "# covariance_df = covariance_df.reset_index()\n",
    "\n",
    "# plot labels on points\n",
    "for i, txt in enumerate(covariance_df.station_pair):\n",
    "    plt.annotate(txt, (covariance_df.separation_distance.iat[i], covariance_df.covariance.iat[i]))\n",
    "plt.show()\n",
    "# plt.savefig(r'C:\\Users\\b1043453\\OneDrive - Newcastle University\\OnePlanet PhD\\Random_mixing\\RMWSPy_Horning_and_Haese_2021\\RMWSPy-master\\MCRB_examples\\MCRB_gauges_only\\Characterising_P_statistics\\covariance\\covariance_jittered.png')"
   ]
  },
  {
   "cell_type": "code",
   "execution_count": null,
   "id": "editorial-greene",
   "metadata": {},
   "outputs": [],
   "source": []
  },
  {
   "cell_type": "code",
   "execution_count": null,
   "id": "requested-redhead",
   "metadata": {},
   "outputs": [],
   "source": []
  },
  {
   "cell_type": "code",
   "execution_count": null,
   "id": "waiting-teach",
   "metadata": {},
   "outputs": [],
   "source": []
  },
  {
   "cell_type": "code",
   "execution_count": null,
   "id": "closing-sending",
   "metadata": {},
   "outputs": [],
   "source": []
  },
  {
   "cell_type": "code",
   "execution_count": null,
   "id": "foster-toilet",
   "metadata": {},
   "outputs": [],
   "source": []
  },
  {
   "cell_type": "code",
   "execution_count": null,
   "id": "copyrighted-distribution",
   "metadata": {},
   "outputs": [],
   "source": []
  },
  {
   "cell_type": "code",
   "execution_count": null,
   "id": "stupid-romania",
   "metadata": {},
   "outputs": [],
   "source": []
  },
  {
   "cell_type": "code",
   "execution_count": null,
   "id": "copyrighted-milwaukee",
   "metadata": {},
   "outputs": [],
   "source": []
  },
  {
   "cell_type": "markdown",
   "id": "cognitive-identifier",
   "metadata": {},
   "source": [
    "### Attempt 6: (a) divide the approximate range (try different values between 150-300) by 3 (50-100) and (b) add an intercept (nugget) term (where the intercept is equal to the covariance after the curve has flattened out (i.e. at large distances (approx 0.045). The sill is still roughly the difference between where the curve would intersect the vertical axis and the intercept value (approx 0.080-0.045 = 0.035).\n",
    "### Use scipy.optimize curve_fit"
   ]
  },
  {
   "cell_type": "code",
   "execution_count": 102,
   "id": "universal-network",
   "metadata": {},
   "outputs": [
    {
     "name": "stdout",
     "output_type": "stream",
     "text": [
      "popt =  [ 1.         -0.45948921 -0.11668329]\n"
     ]
    },
    {
     "name": "stderr",
     "output_type": "stream",
     "text": [
      "C:\\Anaconda3\\lib\\site-packages\\scipy\\optimize\\minpack.py:829: OptimizeWarning: Covariance of the parameters could not be estimated\n",
      "  category=OptimizeWarning)\n"
     ]
    },
    {
     "data": {
      "image/png": "[encoded data removed]",
      "text/plain": [
       "<Figure size 432x288 with 1 Axes>"
      ]
     },
     "metadata": {
      "needs_background": "light"
     },
     "output_type": "display_data"
    }
   ],
   "source": [
    "# function from covariancefunction.py\n",
    "def type_exp(h, Range=100.0, Sill=0.035, nugget=0.045): # h = separation distance\n",
    "    h = np.array(h)\n",
    "    return Sill * (np.exp(-h/Range) + nugget)\n",
    "\n",
    "h = covariance_df.separation_distance.values\n",
    "y = covariance_df.covariance.values\n",
    "\n",
    "# line plot sep dist v cov\n",
    "plt.plot(h, y, 'bo', label='covariance')\n",
    "\n",
    "# optimise curve fitting parameters\n",
    "popt, pcov = curve_fit(type_exp, h, y)\n",
    "print(\"popt = \", popt)\n",
    "\n",
    "# Plot the fitted function\n",
    "plt.plot(h, type_exp(h, *popt), 'r', label = 'fitted curve)')\n",
    "plt.title(\"Covariance 20 km stations (annual)\")\n",
    "plt.xlabel('separation distance')\n",
    "plt.ylabel('covariance')\n",
    "plt.legend()\n",
    "plt.grid()"
   ]
  },
  {
   "cell_type": "code",
   "execution_count": 70,
   "id": "immune-cigarette",
   "metadata": {},
   "outputs": [
    {
     "name": "stdout",
     "output_type": "stream",
     "text": [
      "popt =  [1.         0.03181917 1.67931394]\n"
     ]
    },
    {
     "name": "stderr",
     "output_type": "stream",
     "text": [
      "C:\\Anaconda3\\lib\\site-packages\\scipy\\optimize\\minpack.py:829: OptimizeWarning: Covariance of the parameters could not be estimated\n",
      "  category=OptimizeWarning)\n"
     ]
    },
    {
     "data": {
      "image/png": "[encoded data removed]",
      "text/plain": [
       "<Figure size 432x288 with 1 Axes>"
      ]
     },
     "metadata": {
      "needs_background": "light"
     },
     "output_type": "display_data"
    }
   ],
   "source": [
    "def func(x, a, b, c):\n",
    "#     return a * np.exp(-b * x) + c\n",
    "    return a * np.exp(-x / b)\n",
    "\n",
    "x = covariance_df.separation_distance.values\n",
    "y = covariance_df.covariance.values\n",
    "\n",
    "# line plot sep dist v cov\n",
    "plt.plot(h, y, 'bo', label='covariance')\n",
    "\n",
    "# optimise curve fitting parameters\n",
    "popt, pcov = curve_fit(type_exp, h, y)\n",
    "print(\"popt = \", popt)\n",
    "\n",
    "# Plot the fitted function\n",
    "plt.plot(h, type_exp(h, *popt), 'r', label = 'fit params)')\n",
    "plt.title(\"Covariance 20 km stations (annual)\")\n",
    "plt.xlabel('separation distance')\n",
    "plt.ylabel('covariance')\n",
    "plt.legend()\n",
    "plt.grid()"
   ]
  },
  {
   "cell_type": "markdown",
   "id": "smooth-encyclopedia",
   "metadata": {},
   "source": [
    "### Attempt 5 - use np.polyfit and exp function taken from covariancefunction.py"
   ]
  },
  {
   "cell_type": "code",
   "execution_count": 28,
   "id": "forced-pitch",
   "metadata": {},
   "outputs": [
    {
     "name": "stdout",
     "output_type": "stream",
     "text": [
      "[-7.12066376e-05  1.07010210e+00]\n"
     ]
    },
    {
     "data": {
      "image/png": "[encoded data removed]",
      "text/plain": [
       "<Figure size 432x288 with 1 Axes>"
      ]
     },
     "metadata": {
      "needs_background": "light"
     },
     "output_type": "display_data"
    }
   ],
   "source": [
    "# function from covariancefunction.py\n",
    "def type_exp(h, Range=200.0, Sill=0.04): # h = separation distance\n",
    "    h = np.array(h)\n",
    "    return Sill * (np.exp(-h/Range))\n",
    "\n",
    "h = covariance_df.separation_distance.values\n",
    "y = covariance_df.covariance.values\n",
    "\n",
    "# line plot sep dist v cov\n",
    "plt.plot(h, y, 'bo', label='covariance')\n",
    "\n",
    "\n",
    "# fit = np.polyfit(h, np.log(y), 1)\n",
    "fit = np.polyfit(h, np.exp(y), 1)\n",
    "\n",
    "#view the output of the model\n",
    "print(fit)\n",
    "\n",
    "# function from covariancefunction.py\n",
    "def type_exp(h, Range=200.0, Sill=0.04): # h = separation distance\n",
    "    h = np.array(h)\n",
    "    return Sill * (np.exp(-h/Range))\n",
    "\n",
    "h = covariance_df.separation_distance.values\n",
    "y = covariance_df.covariance.values\n",
    "# print(\"h = \", h)\n",
    "# print(\"y = \", y)\n",
    "\n",
    "# line plot sep dist v cov\n",
    "plt.plot(h, y, 'bo', label='covariance')\n",
    "\n",
    "# optimise curve fitting parameters\n",
    "popt, pcov = curve_fit(type_exp, h, y)\n",
    "print(\"popt = \", popt)\n",
    "\n",
    "# Plot the fitted function\n",
    "plt.plot(h, type_exp(h, *popt), 'r', label = 'fit params)')\n",
    "plt.title(\"Covariance 20 km stations (annual)\")\n",
    "plt.xlabel('separation distance')\n",
    "plt.ylabel('covariance')\n",
    "plt.legend()\n",
    "plt.grid()"
   ]
  },
  {
   "cell_type": "markdown",
   "id": "behavioral-shadow",
   "metadata": {},
   "source": [
    "### Attempt 4: use np.polyfit (https://www.geeksforgeeks.org/how-to-do-exponential-and-logarithmic-curve-fitting-in-python/)"
   ]
  },
  {
   "cell_type": "code",
   "execution_count": 29,
   "id": "moving-allocation",
   "metadata": {},
   "outputs": [
    {
     "name": "stdout",
     "output_type": "stream",
     "text": [
      "ylog_data =  [-2.6058536  -2.7269967  -2.80121696 -3.03364185 -2.99488802 -3.02893043\n",
      " -3.09160674 -2.99614483 -3.00051225 -3.08260306]\n",
      "curve_fit =  [-1.16820035e-03 -2.69290378e+00]\n"
     ]
    }
   ],
   "source": [
    "# from https://www.geeksforgeeks.org/how-to-do-exponential-and-logarithmic-curve-fitting-in-python/\n",
    "\n",
    "x = covariance_df.separation_distance.values\n",
    "y = covariance_df.covariance.values\n",
    "\n",
    "ylog_data = np.log(y)\n",
    "print(\"ylog_data = \", ylog_data)\n",
    "  \n",
    "curve_fit = np.polyfit(x, ylog_data, 1)\n",
    "print(\"curve_fit = \", curve_fit)"
   ]
  },
  {
   "cell_type": "code",
   "execution_count": 30,
   "id": "nervous-fitness",
   "metadata": {},
   "outputs": [
    {
     "name": "stdout",
     "output_type": "stream",
     "text": [
      "yfit =  [2.81632157e-022 1.07702958e-027 8.50490831e-046 1.64092678e-068\n",
      " 3.25325637e-125 1.20106290e-130 1.12323560e-147 1.31821467e-164\n",
      " 7.60890348e-169 4.22459432e-176]\n"
     ]
    }
   ],
   "source": [
    "yfit = np.exp(-2.69) * np.exp(-1.17*x)\n",
    "print(\"yfit = \", yfit)"
   ]
  },
  {
   "cell_type": "code",
   "execution_count": 31,
   "id": "educated-completion",
   "metadata": {},
   "outputs": [
    {
     "data": {
      "text/plain": [
       "[<matplotlib.lines.Line2D at 0x2614ed69320>]"
      ]
     },
     "execution_count": 31,
     "metadata": {},
     "output_type": "execute_result"
    },
    {
     "data": {
      "image/png": "[encoded data removed]",
      "text/plain": [
       "<Figure size 432x288 with 1 Axes>"
      ]
     },
     "metadata": {
      "needs_background": "light"
     },
     "output_type": "display_data"
    }
   ],
   "source": [
    "# Blue \n",
    "plt.plot(x, y)\n",
    "  \n",
    "# best fit in orange\n",
    "plt.plot(x, yfit)"
   ]
  },
  {
   "cell_type": "markdown",
   "id": "registered-destiny",
   "metadata": {},
   "source": [
    "### Attempt 3: use scipy.optimize curve_fit with exp function from covariancefunction.py"
   ]
  },
  {
   "cell_type": "code",
   "execution_count": 65,
   "id": "unusual-baltimore",
   "metadata": {},
   "outputs": [
    {
     "name": "stdout",
     "output_type": "stream",
     "text": [
      "popt =  [1. 1.]\n"
     ]
    },
    {
     "name": "stderr",
     "output_type": "stream",
     "text": [
      "C:\\Anaconda3\\lib\\site-packages\\scipy\\optimize\\minpack.py:829: OptimizeWarning: Covariance of the parameters could not be estimated\n",
      "  category=OptimizeWarning)\n"
     ]
    },
    {
     "data": {
      "image/png": "[encoded data removed]",
      "text/plain": [
       "<Figure size 432x288 with 1 Axes>"
      ]
     },
     "metadata": {
      "needs_background": "light"
     },
     "output_type": "display_data"
    }
   ],
   "source": [
    "# function from covariancefunction.py\n",
    "def type_exp(h, Range=200.0, Sill=0.04): # h = separation distance\n",
    "    h = np.array(h)\n",
    "    return Sill * (np.exp(-h/Range))\n",
    "\n",
    "h = covariance_df.separation_distance.values\n",
    "y = covariance_df.covariance.values\n",
    "# print(\"h = \", h)\n",
    "# print(\"y = \", y)\n",
    "\n",
    "# line plot sep dist v cov\n",
    "plt.plot(h, y, 'bo', label='covariance')\n",
    "\n",
    "# optimise curve fitting parameters\n",
    "popt, pcov = curve_fit(type_exp, h, y)\n",
    "print(\"popt = \", popt)\n",
    "\n",
    "# Plot the fitted function\n",
    "plt.plot(h, type_exp(h, *popt), 'r', label = 'fit params)')\n",
    "plt.title(\"Covariance 20 km stations (annual)\")\n",
    "plt.xlabel('separation distance')\n",
    "plt.ylabel('covariance')\n",
    "plt.legend()\n",
    "plt.grid()"
   ]
  },
  {
   "cell_type": "markdown",
   "id": "matched-cache",
   "metadata": {},
   "source": [
    "### Attempt 2: from https://docs.scipy.org/doc/scipy/reference/generated/scipy.optimize.curve_fit.html"
   ]
  },
  {
   "cell_type": "code",
   "execution_count": 66,
   "id": "acoustic-position",
   "metadata": {},
   "outputs": [
    {
     "name": "stdout",
     "output_type": "stream",
     "text": [
      "x =  [ 40.11234224  50.7740091   86.40023148 131.10301293 242.6952822\n",
      " 253.38705571 286.90067968 320.22023671 328.5620185  342.84107105]\n",
      "y =  [0.07370321 0.06489255 0.06005902 0.04775    0.04920067 0.04779761\n",
      " 0.04465565 0.05051196 0.04952362 0.04624939]\n",
      "popt =  [1. 1.]\n"
     ]
    },
    {
     "name": "stderr",
     "output_type": "stream",
     "text": [
      "C:\\Anaconda3\\lib\\site-packages\\scipy\\optimize\\minpack.py:829: OptimizeWarning: Covariance of the parameters could not be estimated\n",
      "  category=OptimizeWarning)\n"
     ]
    },
    {
     "data": {
      "image/png": "[encoded data removed]",
      "text/plain": [
       "<Figure size 432x288 with 1 Axes>"
      ]
     },
     "metadata": {
      "needs_background": "light"
     },
     "output_type": "display_data"
    }
   ],
   "source": [
    "# from https://docs.scipy.org/doc/scipy/reference/generated/scipy.optimize.curve_fit.html\n",
    "# define exponential function\n",
    "def func(x, a, b):\n",
    "#     return a * np.exp(-b * x) + c\n",
    "    return a * np.exp(-x / b)\n",
    "\n",
    "# df column values (OptimizeWarning: Covariance of the parameters could not be estimated)\n",
    "x = covariance_df.separation_distance.values\n",
    "y = covariance_df.covariance.values\n",
    "print(\"x = \", x)\n",
    "print(\"y = \", y)\n",
    "\n",
    "# # actual values copied from covariance dataframe (OptimizeWarning: Covariance of the parameters could not be estimated)\n",
    "# x = np.array([40.112342, 50.774009, 86.400231, 131.103013, 242.695282,\n",
    "#               253.387056, 286.900680, 320.220237, 328.562018, 342.841071])\n",
    "# y = np.array([0.067498, 0.055741, 0.052797, 0.031940, 0.034051, 0.037048, 0.035967, 0.041194, 0.037360, 0.038492])\n",
    "# print(\"x = \", x)\n",
    "# print(\"y = \", y)\n",
    "\n",
    "# tweak initial y values so they continually decrease (OptimizeWarning: Covariance of the parameters could not be estimated)\n",
    "# x = np.array([40.112342, 50.774009, 86.400231, 131.103013, 242.695282,\n",
    "#               253.387056, 286.900680, 320.220237, 328.562018, 342.841071])\n",
    "# y = np.array([0.067498, 0.055741, 0.050797, 0.047940, 0.044051, 0.043048, 0.041967, 0.041194, 0.0405, 0.040])\n",
    "\n",
    "\n",
    "# dummy values (on the exponential line) from my hand drawn plot (popt =  [9.45457462 0.91159492 0.52544126])\n",
    "# x = np.array([0,  1.0, 2.0, 3.0, 4.00, 5.0, 6.00, 7.00])\n",
    "# y = np.array([10, 4.2, 2.3, 1.0, 0.75, 0.6, 0.60, 0.55])\n",
    "# print(\"x = \", x)\n",
    "# print (\"y = \", y)\n",
    "\n",
    "# dummy values (either side of the exp line) from my hand drawn plot (popt =  [13.06592757  0.73905275  0.75296969])\n",
    "# x = np.array([0.6, 1.8, 2.6, 5.2, 12.0])\n",
    "# y = np.array([9.0, 5.2, 1.4, 1.6, 0.60])\n",
    "# print(\"x = \", x)\n",
    "# print (\"y = \", y)\n",
    "\n",
    "# line plot sep dist v cov\n",
    "plt.plot(x, y, 'bo', label='covariance')\n",
    "\n",
    "# optimise curve fitting parameters\n",
    "popt, pcov = curve_fit(func, x, y)\n",
    "print(\"popt = \", popt)\n",
    "\n",
    "# set bounds on a, b and c\n",
    "# popt, pcov = curve_fit(func, xdata, ydata, bounds=(0, [3., 1., 0.5]))\n",
    "# print(\"popt = \", popt)\n",
    "\n",
    "# Plot the fitted function\n",
    "plt.plot(x, func(x, *popt), 'r', label = 'fit params)')\n",
    "plt.title(\"Covariance 20 km stations (annual)\")\n",
    "plt.xlabel('separation distance')\n",
    "plt.ylabel('covariance')\n",
    "plt.legend()\n",
    "plt.grid()\n",
    "# plot labels on points\n",
    "# for i, txt in enumerate(covariance_df.station_pair):\n",
    "#     plt.annotate(txt, (covariance_df.separation_distance.iat[i], covariance_df.covariance.iat[i]))\n",
    "plt.show()\n",
    "\n",
    "# plt.plot(x, func(x, *popt), 'r-', label='fit: a=%5.3f, b=%5.3f, c=%5.3f' % tuple(popt))\n",
    "# plt.plot(x, func(x, *popt), 'g--', label='fit: a=%5.3f, b=%5.3f, c=%5.3f' % tuple(popt))\n",
    "\n",
    "# plt.title(\"Covariance 20 km stations (annual)\")\n",
    "# plt.xlabel(\"Distance between station pairs\")\n",
    "# plt.ylabel(\"Station pair covariance\")\n",
    "# plt.xlim(0, 500)\n",
    "# # plt.ylim(0.4, 1.0)\n",
    "# # plot labels on points\n",
    "# for i, txt in enumerate(covariance_df.station_pair):\n",
    "#     plt.annotate(txt, (covariance_df.separation_distance.iat[i], covariance_df.covariance.iat[i]))\n",
    "# plt.show()\n",
    "# # plt.savefig(r'C:\\Users\\b1043453\\OneDrive - Newcastle University\\OnePlanet PhD\\Random_mixing\\RMWSPy_Horning_and_Haese_2021\\RMWSPy-master\\MCRB_examples\\MCRB_gauges_only\\Characterising_P_statistics\\correlation_plots_2005-2016_stns\\distcorrfit20km_annual.png')\n",
    "# # show the equation of the fitted line\n",
    "# print(model)"
   ]
  },
  {
   "cell_type": "markdown",
   "id": "above-madrid",
   "metadata": {},
   "source": [
    "### Attempt 1: from https://www.youtube.com/watch?v=1H-SdMuJXTk"
   ]
  },
  {
   "cell_type": "code",
   "execution_count": 201,
   "id": "vital-medicine",
   "metadata": {},
   "outputs": [
    {
     "data": {
      "text/html": [
       "<div>\n",
       "<style scoped>\n",
       "    .dataframe tbody tr th:only-of-type {\n",
       "        vertical-align: middle;\n",
       "    }\n",
       "\n",
       "    .dataframe tbody tr th {\n",
       "        vertical-align: top;\n",
       "    }\n",
       "\n",
       "    .dataframe thead th {\n",
       "        text-align: right;\n",
       "    }\n",
       "</style>\n",
       "<table border=\"1\" class=\"dataframe\">\n",
       "  <thead>\n",
       "    <tr style=\"text-align: right;\">\n",
       "      <th></th>\n",
       "      <th>station_pair</th>\n",
       "      <th>separation_distance</th>\n",
       "      <th>covariance</th>\n",
       "    </tr>\n",
       "  </thead>\n",
       "  <tbody>\n",
       "    <tr>\n",
       "      <th>0</th>\n",
       "      <td>FRUC</td>\n",
       "      <td>40.112342</td>\n",
       "      <td>0.067498</td>\n",
       "    </tr>\n",
       "    <tr>\n",
       "      <th>1</th>\n",
       "      <td>UCHM</td>\n",
       "      <td>50.774009</td>\n",
       "      <td>0.055741</td>\n",
       "    </tr>\n",
       "    <tr>\n",
       "      <th>2</th>\n",
       "      <td>FRHM</td>\n",
       "      <td>86.400231</td>\n",
       "      <td>0.052797</td>\n",
       "    </tr>\n",
       "    <tr>\n",
       "      <th>3</th>\n",
       "      <td>KBV</td>\n",
       "      <td>131.103013</td>\n",
       "      <td>0.031940</td>\n",
       "    </tr>\n",
       "    <tr>\n",
       "      <th>4</th>\n",
       "      <td>HMK</td>\n",
       "      <td>242.695282</td>\n",
       "      <td>0.034051</td>\n",
       "    </tr>\n",
       "    <tr>\n",
       "      <th>5</th>\n",
       "      <td>UCK</td>\n",
       "      <td>253.387056</td>\n",
       "      <td>0.037048</td>\n",
       "    </tr>\n",
       "    <tr>\n",
       "      <th>6</th>\n",
       "      <td>FRK</td>\n",
       "      <td>286.900680</td>\n",
       "      <td>0.035967</td>\n",
       "    </tr>\n",
       "    <tr>\n",
       "      <th>7</th>\n",
       "      <td>UCBV</td>\n",
       "      <td>320.220237</td>\n",
       "      <td>0.041194</td>\n",
       "    </tr>\n",
       "    <tr>\n",
       "      <th>8</th>\n",
       "      <td>HMBV</td>\n",
       "      <td>328.562018</td>\n",
       "      <td>0.037360</td>\n",
       "    </tr>\n",
       "    <tr>\n",
       "      <th>9</th>\n",
       "      <td>FRBV</td>\n",
       "      <td>342.841071</td>\n",
       "      <td>0.038492</td>\n",
       "    </tr>\n",
       "  </tbody>\n",
       "</table>\n",
       "</div>"
      ],
      "text/plain": [
       "  station_pair  separation_distance  covariance\n",
       "0         FRUC            40.112342    0.067498\n",
       "1         UCHM            50.774009    0.055741\n",
       "2         FRHM            86.400231    0.052797\n",
       "3          KBV           131.103013    0.031940\n",
       "4          HMK           242.695282    0.034051\n",
       "5          UCK           253.387056    0.037048\n",
       "6          FRK           286.900680    0.035967\n",
       "7         UCBV           320.220237    0.041194\n",
       "8         HMBV           328.562018    0.037360\n",
       "9         FRBV           342.841071    0.038492"
      ]
     },
     "execution_count": 201,
     "metadata": {},
     "output_type": "execute_result"
    }
   ],
   "source": [
    "covariance_df"
   ]
  },
  {
   "cell_type": "code",
   "execution_count": 67,
   "id": "martial-calendar",
   "metadata": {},
   "outputs": [
    {
     "name": "stdout",
     "output_type": "stream",
     "text": [
      "x =  [ 40.11234224  50.7740091   86.40023148 131.10301293 242.6952822\n",
      " 253.38705571 286.90067968 320.22023671 328.5620185  342.84107105]\n",
      "y =  [0.07370321 0.06489255 0.06005902 0.04775    0.04920067 0.04779761\n",
      " 0.04465565 0.05051196 0.04952362 0.04624939]\n",
      "popt =  [1. 1.]\n"
     ]
    },
    {
     "name": "stderr",
     "output_type": "stream",
     "text": [
      "C:\\Anaconda3\\lib\\site-packages\\scipy\\optimize\\minpack.py:829: OptimizeWarning: Covariance of the parameters could not be estimated\n",
      "  category=OptimizeWarning)\n"
     ]
    },
    {
     "data": {
      "image/png": "[encoded data removed]",
      "text/plain": [
       "<Figure size 432x288 with 1 Axes>"
      ]
     },
     "metadata": {
      "needs_background": "light"
     },
     "output_type": "display_data"
    }
   ],
   "source": [
    "# define exponential function\n",
    "def func(x, a, b):\n",
    "    return a * np.exp(-b * x)\n",
    "# actual x and y vals from covariance dataframe\n",
    "x = covariance_df.separation_distance.values\n",
    "y = covariance_df.covariance.values\n",
    "print(\"x = \", x)\n",
    "print (\"y = \", y)\n",
    "\n",
    "# actual values copied from covariance dataframe\n",
    "# x = np.array([40.112342, 50.774009, 86.400231, 131.103013, 242.695282,\n",
    "#               253.387056, 286.900680, 320.220237, 328.562018, 342.841071])\n",
    "# y = np.array([0.067498, 0.055741, 0.052797, 0.031940, 0.034051, 0.037048, 0.035967, 0.041194, 0.037360, 0.038492])\n",
    "\n",
    "\n",
    "# dummy values (on the exponential line) from my hand drawn plot\n",
    "# x = np.array([0,  1.0, 2.0, 3.0, 4.00, 5.0, 6.00, 7.00])\n",
    "# y = np.array([10, 4.2, 2.3, 1.0, 0.75, 0.6, 0.60, 0.55])\n",
    "# print(\"x = \", x)\n",
    "# print (\"y = \", y)\n",
    "\n",
    "# dummy values (either side of the exp line) from my hand drawn plot\n",
    "# x = np.array([0.6, 1.8, 2.6, 5.2, 12.0])\n",
    "# y = np.array([9.0, 5.2, 1.4, 1.6, 0.60])\n",
    "# print(\"x = \", x)\n",
    "# print (\"y = \", y)\n",
    "\n",
    "\n",
    "# line plot sep dist v cov\n",
    "plt.plot(x, y, 'bo', label='covariance')\n",
    "\n",
    "# Initial guess for parameters\n",
    "# initguess = [1.0, 1.0]\n",
    "\n",
    "# Fit the curve\n",
    "# popt, pcov = curve_fit(func, x, y)\n",
    "popt, pcov = curve_fit(func, x, y)\n",
    "# popt, pcov = curve_fit(func, x, y, initguess)\n",
    "print(\"popt = \", popt)\n",
    "\n",
    "# x values for the fitted function\n",
    "# xFit = np.arange(0.0, 350.0, 0.1)\n",
    "\n",
    "# Plot the fitted function\n",
    "plt.plot(x, func(x, *popt), 'r', label = 'fit params)')\n",
    "plt.xlabel('separation distance')\n",
    "plt.ylabel('covariance')\n",
    "plt.grid()\n",
    "# plt.xlim(0, 350)\n",
    "# plt.ylim(0.0, 0.10)\n",
    "plt.legend()\n",
    "plt.show()"
   ]
  },
  {
   "cell_type": "markdown",
   "id": "chicken-rebound",
   "metadata": {},
   "source": [
    "### Practise curve fitting using dummy data"
   ]
  },
  {
   "cell_type": "code",
   "execution_count": 200,
   "id": "resident-japanese",
   "metadata": {},
   "outputs": [
    {
     "name": "stdout",
     "output_type": "stream",
     "text": [
      "popt =  [2.30144782 1.14004412 0.5401658 ]\n"
     ]
    },
    {
     "data": {
      "text/plain": [
       "[<matplotlib.lines.Line2D at 0x23e45eb9780>]"
      ]
     },
     "execution_count": 200,
     "metadata": {},
     "output_type": "execute_result"
    },
    {
     "data": {
      "image/png": "[encoded data removed]",
      "text/plain": [
       "<Figure size 432x288 with 1 Axes>"
      ]
     },
     "metadata": {
      "needs_background": "light"
     },
     "output_type": "display_data"
    }
   ],
   "source": [
    "# dummy example from https://docs.scipy.org/doc/scipy/reference/generated/scipy.optimize.curve_fit.html\n",
    "\n",
    "def func(x, a, b, c):\n",
    "    return a * np.exp(-b * x) + c\n",
    "\n",
    "xdata = np.linspace(0, 4, 50)\n",
    "y = func(xdata, 2.5, 1.3, 0.5)\n",
    "rng = np.random.default_rng()\n",
    "y_noise = 0.2 * rng.normal(size=xdata.size)\n",
    "ydata = y + y_noise\n",
    "plt.plot(xdata, ydata, 'b-', label='data')\n",
    "\n",
    "popt, pcov = curve_fit(func, xdata, ydata)\n",
    "print(\"popt = \", popt)\n",
    "\n",
    "plt.plot(xdata, func(xdata, *popt), 'r-',\n",
    "         label='fit: a=%5.3f, b=%5.3f, c=%5.3f' % tuple(popt))"
   ]
  },
  {
   "cell_type": "code",
   "execution_count": 95,
   "id": "informed-likelihood",
   "metadata": {},
   "outputs": [
    {
     "data": {
      "image/png": "[encoded data removed]",
      "text/plain": [
       "<Figure size 432x288 with 1 Axes>"
      ]
     },
     "metadata": {
      "needs_background": "light"
     },
     "output_type": "display_data"
    }
   ],
   "source": [
    "# dummy example\n",
    "# from https://docs.scipy.org/doc/scipy/reference/generated/scipy.optimize.curve_fit.html\n",
    "\n",
    "# define type of function to search\n",
    "def model_func(x, a, k, b):\n",
    "    return a * np.exp(-k*x) + b\n",
    "\n",
    "# sample data\n",
    "x = np.array([399.75, 989.25, 1578.75, 2168.25, 2757.75, 3347.25, 3936.75, 4526.25, 5115.75, 5705.25])\n",
    "y = np.array([109,62,39,13,10,4,2,0,1,2])\n",
    "\n",
    "# curve fit\n",
    "p0 = (1.,1.e-5,1.) # starting search koefs\n",
    "opt, pcov = curve_fit(model_func, x, y, p0)\n",
    "a, k, b = opt\n",
    "# test result\n",
    "x2 = np.linspace(250, 6000, 250)\n",
    "y2 = model_func(x2, a, k, b)\n",
    "fig, ax = plt.subplots()\n",
    "ax.plot(x2, y2, color='r', label='Fit. func: $f(x) = %.3f e^{%.3f x} %+.3f$' % (a,k,b))\n",
    "ax.plot(x, y, 'bo', label='data with noise')\n",
    "ax.legend(loc='best')\n",
    "plt.show()"
   ]
  },
  {
   "cell_type": "markdown",
   "id": "quality-barrier",
   "metadata": {},
   "source": [
    "### Plot code in case it's needed"
   ]
  },
  {
   "cell_type": "code",
   "execution_count": 32,
   "id": "soviet-digest",
   "metadata": {},
   "outputs": [],
   "source": [
    "# # line fitting using polyfit (from Steps5n6_corr_gauges_daily_ts_2005-16.ipynb)\n",
    "# x = covariance_df.separation_distance\n",
    "# y = covariance_df.covariance\n",
    "# # # polynomial fit with degree = 1.5\n",
    "# # model = np.poly1d(np.polyfit(x, y, 1.5))\n",
    "# # # add fitted polynomial line to scatterplot\n",
    "# # polyline = np.linspace(1, 500, 10)\n",
    "# plt.scatter(x, y)\n",
    "# # plt.plot(polyline, model(polyline))\n",
    "# plt.grid()\n",
    "# plt.title(\"Covariance 20 km stations (annual)\")\n",
    "# plt.xlabel(\"Distance between station pairs\")\n",
    "# plt.ylabel(\"Station pair covariance\")\n",
    "# plt.xlim(0, 500)\n",
    "# # plt.ylim(0.4, 1.0)\n",
    "# # plot labels on points\n",
    "# for i, txt in enumerate(covariance_df.station_pair):\n",
    "#     plt.annotate(txt, (covariance_df.separation_distance.iat[i], covariance_df.covariance.iat[i]))\n",
    "# plt.show()\n",
    "# # plt.savefig(r'C:\\Users\\b1043453\\OneDrive - Newcastle University\\OnePlanet PhD\\Random_mixing\\RMWSPy_Horning_and_Haese_2021\\RMWSPy-master\\MCRB_examples\\MCRB_gauges_only\\Characterising_P_statistics\\correlation_plots_2005-2016_stns\\distcorrfit20km_annual.png')\n",
    "# # show the equation of the fitted line\n",
    "# print(model)"
   ]
  },
  {
   "cell_type": "code",
   "execution_count": null,
   "id": "formed-channel",
   "metadata": {},
   "outputs": [],
   "source": []
  }
 ],
 "metadata": {
  "kernelspec": {
   "display_name": "Python 3",
   "language": "python",
   "name": "python3"
  },
  "language_info": {
   "codemirror_mode": {
    "name": "ipython",
    "version": 3
   },
   "file_extension": ".py",
   "mimetype": "text/x-python",
   "name": "python",
   "nbconvert_exporter": "python",
   "pygments_lexer": "ipython3",
   "version": "3.6.5"
  }
 },
 "nbformat": 4,
 "nbformat_minor": 5
}
