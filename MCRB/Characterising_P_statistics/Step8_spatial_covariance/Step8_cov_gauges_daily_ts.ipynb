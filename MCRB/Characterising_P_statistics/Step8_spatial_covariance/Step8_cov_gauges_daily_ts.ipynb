{
 "cells": [
  {
   "cell_type": "markdown",
   "id": "persistent-draft",
   "metadata": {},
   "source": [
    "### Produce a covariance plot for 20km radius pairs of gauges: FR, UC, HM, K, BV\n",
    "### Transform P values  to uniform on range [0,1] by ranking and dividing by the number of values\n",
    "### Transform separation distances using scipy distance_matrix (or spatial.distance.cdist) to get them into a form that will work with the RM code"
   ]
  },
  {
   "cell_type": "code",
   "execution_count": 2,
   "id": "russian-intro",
   "metadata": {},
   "outputs": [],
   "source": [
    "import numpy as np\n",
    "import pandas as pd\n",
    "import math\n",
    "import scipy\n",
    "import scipy.stats as st\n",
    "import matplotlib.pyplot as plt\n",
    "%matplotlib inline\n",
    "from scipy.spatial import distance_matrix\n",
    "from scipy.optimize import curve_fit\n",
    "from numpy import genfromtxt"
   ]
  },
  {
   "cell_type": "markdown",
   "id": "dental-inspector",
   "metadata": {},
   "source": [
    "### Read in P data for all 8 stations from csv file created in P_inputs_2005-2016.ipynb"
   ]
  },
  {
   "cell_type": "code",
   "execution_count": 3,
   "id": "modern-thriller",
   "metadata": {},
   "outputs": [],
   "source": [
    "# Use pd.read_csv to read csv file\n",
    "P_df = pd.read_csv(r\"C:\\Users\\b1043453\\OneDrive - Newcastle University\\OnePlanet PhD\\Random_mixing\\RMWSPy_Horning_and_Haese_2021\\RMWSPy-master\\MCRB_examples\\MCRB_gauges_only\\Characterising_P_statistics\\Pinputs_2005-2016.csv\",\n",
    "                         index_col=0)\n",
    "# drop KP, BCS and WH\n",
    "P_df = P_df.drop([\"KP_p_mm\", \"BCS_p_mm\", \"WH_p_mm\"], axis=1)\n",
    "# P_df"
   ]
  },
  {
   "cell_type": "markdown",
   "id": "dangerous-forestry",
   "metadata": {},
   "source": [
    "### Transform P values for each station to uniform values on range 0 to 1. Version 1: don't specify method"
   ]
  },
  {
   "cell_type": "code",
   "execution_count": 4,
   "id": "initial-alberta",
   "metadata": {},
   "outputs": [],
   "source": [
    "# https://docs.scipy.org/doc/scipy/reference/generated/scipy.stats.rankdata.html\n",
    "\n",
    "P_df[\"FR_p_uniform\"] = (st.rankdata(P_df.FR_p_mm) - 0.5) / (len(P_df))\n",
    "P_df[\"UC_p_uniform\"] = (st.rankdata(P_df.UC_p_mm) - 0.5) / (len(P_df))\n",
    "P_df[\"HM_p_uniform\"] = (st.rankdata(P_df.HM_p_mm) - 0.5) / (len(P_df))\n",
    "P_df[\"K_p_uniform\"] = (st.rankdata(P_df.K_p_mm) - 0.5) / (len(P_df))\n",
    "P_df[\"BV_p_uniform\"] = (st.rankdata(P_df.BV_p_mm) - 0.5) / (len(P_df))\n",
    "# P_df"
   ]
  },
  {
   "cell_type": "code",
   "execution_count": 5,
   "id": "violent-defensive",
   "metadata": {},
   "outputs": [
    {
     "name": "stdout",
     "output_type": "stream",
     "text": [
      "FR_p_uniform max =  0.99988\n",
      "FR_p_uniform min =  0.21013\n",
      "UC_p_uniform max =  0.99988\n",
      "UC_p_uniform min =  0.23401\n",
      "HM_p_uniform max =  0.99988\n",
      "HM_p_uniform min =  0.28763\n",
      "K_p_uniform max =  0.99988\n",
      "K_p_uniform min =  0.33678\n",
      "BV_p_uniform max =  0.99988\n",
      "BV_p_uniform min =  0.28664\n"
     ]
    }
   ],
   "source": [
    "# have a look at some max and min ranked values\n",
    "print(\"FR_p_uniform max = \", round(P_df.FR_p_uniform.max(), 5))\n",
    "print(\"FR_p_uniform min = \", round(P_df.FR_p_uniform.min(), 5))\n",
    "print(\"UC_p_uniform max = \", round(P_df.UC_p_uniform.max(), 5))\n",
    "print(\"UC_p_uniform min = \", round(P_df.UC_p_uniform.min(), 5))\n",
    "print(\"HM_p_uniform max = \", round(P_df.HM_p_uniform.max(), 5))\n",
    "print(\"HM_p_uniform min = \", round(P_df.HM_p_uniform.min(), 5))\n",
    "print(\"K_p_uniform max = \", round(P_df.K_p_uniform.max(), 5))\n",
    "print(\"K_p_uniform min = \", round(P_df.K_p_uniform.min(), 5))\n",
    "print(\"BV_p_uniform max = \", round(P_df.BV_p_uniform.max(), 5))\n",
    "print(\"BV_p_uniform min = \", round(P_df.BV_p_uniform.min(), 5))"
   ]
  },
  {
   "cell_type": "markdown",
   "id": "processed-parent",
   "metadata": {},
   "source": [
    "### Calculate covariance for each gauge pair"
   ]
  },
  {
   "cell_type": "markdown",
   "id": "abandoned-oliver",
   "metadata": {},
   "source": [
    "### Pair 1: Fisera Ridge (2325 m) & Upper Clearing (1845 m)"
   ]
  },
  {
   "cell_type": "code",
   "execution_count": 6,
   "id": "animated-unemployment",
   "metadata": {},
   "outputs": [
    {
     "name": "stdout",
     "output_type": "stream",
     "text": [
      "FRUCcov =  0.0675\n"
     ]
    }
   ],
   "source": [
    "FRUCcov = P_df[\"FR_p_uniform\"].cov(P_df[\"UC_p_uniform\"])\n",
    "print(\"FRUCcov = \", FRUCcov.round(5))\n",
    "# P_df.plot.scatter(x='FR_p_uniform', y='UC_p_uniform', c='tab:blue',\n",
    "#                                title=\"Fisera Ridge (2325 m) v Upper Clearing (1846 m)\")\n",
    "#                                label=\"FR v UC cov = 0.0675\")\n",
    "# plt.grid()\n",
    "# plt.xlabel(\"Fisera Ridge uniform P\")\n",
    "# plt.ylabel(\"Upper Clearing uniform P\")\n",
    "# plt.show()\n",
    "# plt.savefig(r'C:\\Users\\b1043453\\OneDrive - Newcastle University\\OnePlanet PhD\\Random_mixing\\RMWSPy_Horning_and_Haese_2021\\RMWSPy-master\\MCRB_examples\\MCRB_gauges_only\\Characterising_P_statistics\\correlation_plots_2005-2016_stns\\FRUCcorr2005-16.png')"
   ]
  },
  {
   "cell_type": "markdown",
   "id": "passive-parking",
   "metadata": {},
   "source": [
    "### Pair 2: Fisera Ridge (2325 m) & Hay Meadow (1436 m)"
   ]
  },
  {
   "cell_type": "code",
   "execution_count": 7,
   "id": "waiting-bread",
   "metadata": {},
   "outputs": [
    {
     "name": "stdout",
     "output_type": "stream",
     "text": [
      "FRHMcov =  0.0528\n"
     ]
    }
   ],
   "source": [
    "FRHMcov = P_df[\"FR_p_uniform\"].cov(P_df[\"HM_p_uniform\"])\n",
    "print(\"FRHMcov = \", FRHMcov.round(5))\n",
    "# P_df.plot.scatter(x='FR_p_mm', y='HM_p_mm', c='tab:orange',\n",
    "#                                title=\"Fisera Ridge (2325 m) v Hay Meadow (1436 m)\",\n",
    "#                                label=\"FR v HM corr coeff = 0.0528\")\n",
    "# plt.grid()\n",
    "# plt.xlabel(\"Fisera Ridge P (mm/d)\")\n",
    "# plt.ylabel(\"Hay Meadow P (mm/d)\")\n",
    "# plt.xlim(0, 160)\n",
    "# plt.ylim(0, 160)\n",
    "# plt.savefig(r'C:\\Users\\b1043453\\OneDrive - Newcastle University\\OnePlanet PhD\\Random_mixing\\RMWSPy_Horning_and_Haese_2021\\RMWSPy-master\\MCRB_examples\\MCRB_gauges_only\\Characterising_P_statistics\\correlation_plots_2005-2016_stns\\FRHMcorr2005-16.png')"
   ]
  },
  {
   "cell_type": "markdown",
   "id": "statewide-landing",
   "metadata": {},
   "source": [
    "### Pair 3: Fisera Ridge (2325 m) & Kananaskis (1391 m)"
   ]
  },
  {
   "cell_type": "code",
   "execution_count": 8,
   "id": "biblical-diabetes",
   "metadata": {},
   "outputs": [
    {
     "name": "stdout",
     "output_type": "stream",
     "text": [
      "FRKcov =  0.03597\n"
     ]
    }
   ],
   "source": [
    "FRKcov = P_df[\"FR_p_uniform\"].cov(P_df[\"K_p_uniform\"])\n",
    "print(\"FRKcov = \", FRKcov.round(5))\n",
    "# P_df.plot.scatter(x='FR_p_mm', y='K_p_mm', c='tab:brown',\n",
    "#                                title=\"Fisera Ridge (2325 m) v Kananaskis (1391 m)\",\n",
    "#                                label=\"FR v K corr coeff = 0.599\")\n",
    "# plt.grid()\n",
    "# plt.xlabel(\"Fisera Ridge P (mm/d)\")\n",
    "# plt.ylabel(\"Kananaskis P (mm/d)\")\n",
    "# plt.xlim(0, 160)\n",
    "# plt.ylim(0, 160)\n",
    "# plt.savefig(r'C:\\Users\\b1043453\\OneDrive - Newcastle University\\OnePlanet PhD\\Random_mixing\\RMWSPy_Horning_and_Haese_2021\\RMWSPy-master\\MCRB_examples\\MCRB_gauges_only\\Characterising_P_statistics\\correlation_plots_2005-2016_stns\\FRKcorr2005-16.png')\n"
   ]
  },
  {
   "cell_type": "markdown",
   "id": "varied-change",
   "metadata": {},
   "source": [
    "### Pair 4: Fisera Ridge (2325 m) & Bow Valley (1298 m)"
   ]
  },
  {
   "cell_type": "code",
   "execution_count": 9,
   "id": "stopped-fishing",
   "metadata": {},
   "outputs": [
    {
     "name": "stdout",
     "output_type": "stream",
     "text": [
      "FRBVcov =  0.03849\n"
     ]
    }
   ],
   "source": [
    "FRBVcov = P_df[\"FR_p_uniform\"].cov(P_df[\"BV_p_uniform\"])\n",
    "print(\"FRBVcov = \", FRBVcov.round(5))\n",
    "# P_df.plot.scatter(x='FR_p_mm', y='BV_p_mm', c='tab:green',\n",
    "#                                title=\"Fisera Ridge (2325 m) v Bow Valley (1298 m)\",\n",
    "#                                label=\"FR v BV corr coeff = 0.679\")\n",
    "# plt.grid()\n",
    "# plt.xlabel(\"Fisera Ridge P (mm/d)\")\n",
    "# plt.ylabel(\"Bow Valley P (mm/d)\")\n",
    "# plt.xlim(0, 160)\n",
    "# plt.ylim(0, 160)\n",
    "# plt.savefig(r'C:\\Users\\b1043453\\OneDrive - Newcastle University\\OnePlanet PhD\\Random_mixing\\RMWSPy_Horning_and_Haese_2021\\RMWSPy-master\\MCRB_examples\\MCRB_gauges_only\\Characterising_P_statistics\\correlation_plots_2005-2016_stns\\FRBVcorr2005-16.png')"
   ]
  },
  {
   "cell_type": "markdown",
   "id": "superior-nursing",
   "metadata": {},
   "source": [
    "### Pair 8: Upper Clearing (1845 m) & Hay Meadow (1436 m)"
   ]
  },
  {
   "cell_type": "code",
   "execution_count": 10,
   "id": "hindu-number",
   "metadata": {},
   "outputs": [
    {
     "name": "stdout",
     "output_type": "stream",
     "text": [
      "UCHMcov =  0.05574\n"
     ]
    }
   ],
   "source": [
    "UCHMcov = P_df[\"UC_p_uniform\"].cov(P_df[\"HM_p_uniform\"])\n",
    "print(\"UCHMcov = \", UCHMcov.round(5))\n",
    "# P_df.plot.scatter(x='UC_p_mm', y='HM_p_mm', c='tab:gray',\n",
    "#                                title=\"Upper Clearing (1845 m) v Hay Meadow (1436 m)\",\n",
    "#                                label=\"UC v HM corr coeff = 0.946\")\n",
    "# plt.grid()\n",
    "# plt.xlabel(\"Upper Clearing P (mm/d)\")\n",
    "# plt.ylabel(\"Hay Meadow P (mm/d)\")\n",
    "# plt.xlim(0, 160)\n",
    "# plt.ylim(0, 160)\n",
    "# plt.savefig(r'C:\\Users\\b1043453\\OneDrive - Newcastle University\\OnePlanet PhD\\Random_mixing\\RMWSPy_Horning_and_Haese_2021\\RMWSPy-master\\MCRB_examples\\MCRB_gauges_only\\Characterising_P_statistics\\correlation_plots_2005-2016_stns\\UCHMcorr2005-16.png')"
   ]
  },
  {
   "cell_type": "markdown",
   "id": "invisible-baseball",
   "metadata": {},
   "source": [
    "### Pair 9: Upper Clearing (1845 m) & Kananaskis (1391 m)"
   ]
  },
  {
   "cell_type": "code",
   "execution_count": 11,
   "id": "guided-psychiatry",
   "metadata": {},
   "outputs": [
    {
     "name": "stdout",
     "output_type": "stream",
     "text": [
      "UCKcov =  0.03705\n"
     ]
    }
   ],
   "source": [
    "UCKcov = P_df[\"UC_p_uniform\"].cov(P_df[\"K_p_uniform\"])\n",
    "print(\"UCKcov = \", UCKcov.round(5))\n",
    "# P_df.plot.scatter(x='UC_p_mm', y='K_p_mm', c='tab:olive',\n",
    "#                                title=\"Upper Clearing (1845 m) v Kananaskis (1391 m)\",\n",
    "#                                label=\"UC v K corr coeff = 0.637\")\n",
    "# plt.grid()\n",
    "# plt.xlabel(\"Upper Clearing P (mm/d)\")\n",
    "# plt.ylabel(\"Kananaskis P (mm/d)\")\n",
    "# plt.xlim(0, 160)\n",
    "# plt.ylim(0, 160)\n",
    "# plt.savefig(r'C:\\Users\\b1043453\\OneDrive - Newcastle University\\OnePlanet PhD\\Random_mixing\\RMWSPy_Horning_and_Haese_2021\\RMWSPy-master\\MCRB_examples\\MCRB_gauges_only\\Characterising_P_statistics\\correlation_plots_2005-2016_stns\\UCKcorr2005-16.png')"
   ]
  },
  {
   "cell_type": "markdown",
   "id": "material-barcelona",
   "metadata": {},
   "source": [
    "### Pair 10: Upper Clearing (1845 m) & Bow Valley (1298 m)"
   ]
  },
  {
   "cell_type": "code",
   "execution_count": 12,
   "id": "metallic-madrid",
   "metadata": {},
   "outputs": [
    {
     "name": "stdout",
     "output_type": "stream",
     "text": [
      "UCBVcov =  0.04119\n"
     ]
    }
   ],
   "source": [
    "UCBVcov = P_df[\"UC_p_uniform\"].cov(P_df[\"BV_p_uniform\"])\n",
    "print(\"UCBVcov = \", UCBVcov.round(5))\n",
    "# P_df.plot.scatter(x='UC_p_mm', y='BV_p_mm', c='tab:cyan',\n",
    "#                                title=\"Upper Clearing (1845 m) v Bow Valley (1298 m)\",\n",
    "#                                label=\"UC v BV corr coeff = 0.761\")\n",
    "# plt.grid()\n",
    "# plt.xlabel(\"Upper Clearing P (mm/d)\")\n",
    "# plt.ylabel(\"Bow Valley P (mm/d)\")\n",
    "# plt.xlim(0, 160)\n",
    "# plt.ylim(0, 160)\n",
    "# plt.savefig(r'C:\\Users\\b1043453\\OneDrive - Newcastle University\\OnePlanet PhD\\Random_mixing\\RMWSPy_Horning_and_Haese_2021\\RMWSPy-master\\MCRB_examples\\MCRB_gauges_only\\Characterising_P_statistics\\correlation_plots_2005-2016_stns\\UCBVcorr2005-16.png')"
   ]
  },
  {
   "cell_type": "markdown",
   "id": "continuing-saver",
   "metadata": {},
   "source": [
    "### Pair 14: Hay Meadow (1436 m) & Kananaskis (1391 m)"
   ]
  },
  {
   "cell_type": "code",
   "execution_count": 13,
   "id": "registered-settle",
   "metadata": {},
   "outputs": [
    {
     "name": "stdout",
     "output_type": "stream",
     "text": [
      "HMKcov =  0.03405\n"
     ]
    }
   ],
   "source": [
    "HMKcov = P_df[\"HM_p_uniform\"].cov(P_df[\"K_p_uniform\"])\n",
    "print(\"HMKcov = \", HMKcov.round(5))\n",
    "# P_df.plot.scatter(x='HM_p_mm', y='K_p_mm', c='goldenrod',\n",
    "#                                title=\"Hay Meadow (1426 m) v Kananaskis (1391 m)\",\n",
    "#                                label=\"HM v K corr coeff = 0.651\")\n",
    "# plt.grid()\n",
    "# plt.xlabel(\"Hay Meadow P (mm/d)\")\n",
    "# plt.ylabel(\"Kananaskis P (mm/d)\")\n",
    "# plt.xlim(0, 160)\n",
    "# plt.ylim(0, 160)\n",
    "# plt.savefig(r'C:\\Users\\b1043453\\OneDrive - Newcastle University\\OnePlanet PhD\\Random_mixing\\RMWSPy_Horning_and_Haese_2021\\RMWSPy-master\\MCRB_examples\\MCRB_gauges_only\\Characterising_P_statistics\\correlation_plots_2005-2016_stns\\HMKcorr2005-16.png')"
   ]
  },
  {
   "cell_type": "markdown",
   "id": "chief-timer",
   "metadata": {},
   "source": [
    "### Pair 15: Hay Meadow (1436 m) & Bow Valley (1298 m)"
   ]
  },
  {
   "cell_type": "code",
   "execution_count": 14,
   "id": "cloudy-buying",
   "metadata": {},
   "outputs": [
    {
     "name": "stdout",
     "output_type": "stream",
     "text": [
      "HMBVcov =  0.03736\n"
     ]
    }
   ],
   "source": [
    "HMBVcov = P_df[\"HM_p_uniform\"].cov(P_df[\"BV_p_uniform\"])\n",
    "print(\"HMBVcov = \", HMBVcov.round(5))\n",
    "# P_df.plot.scatter(x='HM_p_mm', y='BV_p_mm', c='olive',\n",
    "#                                title=\"Hay Meadow (1426 m) v Bow Valley (1298 m)\",\n",
    "#                                label=\"HM v BV corr coeff = 0.764\")\n",
    "# plt.grid()\n",
    "# plt.xlabel(\"Hay Meadow P (mm/d)\")\n",
    "# plt.ylabel(\"Bow Valley P (mm/d)\")\n",
    "# plt.xlim(0, 160)\n",
    "# plt.ylim(0, 160)\n",
    "# plt.savefig(r'C:\\Users\\b1043453\\OneDrive - Newcastle University\\OnePlanet PhD\\Random_mixing\\RMWSPy_Horning_and_Haese_2021\\RMWSPy-master\\MCRB_examples\\MCRB_gauges_only\\Characterising_P_statistics\\correlation_plots_2005-2016_stns\\HMBVcorr2005-16.png')"
   ]
  },
  {
   "cell_type": "markdown",
   "id": "scheduled-being",
   "metadata": {},
   "source": [
    "### Pair 19: Kananaskis (1391 m) & Bow Valley (1298 m)"
   ]
  },
  {
   "cell_type": "code",
   "execution_count": 15,
   "id": "roman-debut",
   "metadata": {},
   "outputs": [
    {
     "name": "stdout",
     "output_type": "stream",
     "text": [
      "KBVcov =  0.03194\n"
     ]
    }
   ],
   "source": [
    "KBVcov = P_df[\"K_p_uniform\"].cov(P_df[\"BV_p_uniform\"])\n",
    "print(\"KBVcov = \", KBVcov.round(5))\n",
    "# P_df.plot.scatter(x='K_p_mm', y='BV_p_mm', c='steelblue',\n",
    "#                                title=\"Kananaskis (1391 m) v Bow Valley (1298 m)\",\n",
    "#                                label=\"K v BV corr coeff = 0.682\")\n",
    "# plt.grid()\n",
    "# plt.xlabel(\"Kananaskis P (mm/d)\")\n",
    "# plt.ylabel(\"Bow Valley P (mm/d)\")\n",
    "# plt.xlim(0, 160)\n",
    "# plt.ylim(0, 160)\n",
    "# plt.savefig(r'C:\\Users\\b1043453\\OneDrive - Newcastle University\\OnePlanet PhD\\Random_mixing\\RMWSPy_Horning_and_Haese_2021\\RMWSPy-master\\MCRB_examples\\MCRB_gauges_only\\Characterising_P_statistics\\correlation_plots_2005-2016_stns\\KBVcorr2005-16.png')"
   ]
  },
  {
   "cell_type": "markdown",
   "id": "corrected-arcade",
   "metadata": {},
   "source": [
    "### Print all covariance values"
   ]
  },
  {
   "cell_type": "code",
   "execution_count": 16,
   "id": "governmental-photograph",
   "metadata": {},
   "outputs": [
    {
     "name": "stdout",
     "output_type": "stream",
     "text": [
      "Fisera Ridge Upper Clearing covariance = 0.0675\n",
      "Fisera Ridge Hay Meadow covariance = 0.0528\n",
      "Fisera Ridge Kananaskis covariance = 0.03597\n",
      "Fisera Ridge Bow Valley covariance = 0.03849\n",
      "Upper Clearing Hay Meadow covariance = 0.05574\n",
      "Upper Clearing Kananaskis covariance = 0.03705\n",
      "Upper Clearing Bow Valley covariance = 0.04119\n",
      "Hay Meadow Kananaskis covariance = 0.03405\n",
      "Hay Meadow Bow Valley covariance = 0.03736\n",
      "Kananaskis Bow Valley covariance = 0.03194\n"
     ]
    }
   ],
   "source": [
    "print(\"Fisera Ridge Upper Clearing covariance =\", FRUCcov.round(5))\n",
    "print(\"Fisera Ridge Hay Meadow covariance =\", FRHMcov.round(5))\n",
    "print(\"Fisera Ridge Kananaskis covariance =\", FRKcov.round(5))\n",
    "print(\"Fisera Ridge Bow Valley covariance =\", FRBVcov.round(5))\n",
    "print(\"Upper Clearing Hay Meadow covariance =\", UCHMcov.round(5))\n",
    "print(\"Upper Clearing Kananaskis covariance =\", UCKcov.round(5))\n",
    "print(\"Upper Clearing Bow Valley covariance =\", UCBVcov.round(5))\n",
    "print(\"Hay Meadow Kananaskis covariance =\", HMKcov.round(5))\n",
    "print(\"Hay Meadow Bow Valley covariance =\", HMBVcov.round(5))\n",
    "print(\"Kananaskis Bow Valley covariance =\", KBVcov.round(5))"
   ]
  },
  {
   "cell_type": "markdown",
   "id": "major-gibraltar",
   "metadata": {},
   "source": [
    "### Use scipy.stats distance_matrix to calculate separation distances between stations. "
   ]
  },
  {
   "cell_type": "markdown",
   "id": "norwegian-wireless",
   "metadata": {},
   "source": [
    "### Method 1: use standard xy grid coords from run_inv_mcrb.py"
   ]
  },
  {
   "cell_type": "code",
   "execution_count": 17,
   "id": "together-camera",
   "metadata": {},
   "outputs": [
    {
     "data": {
      "text/html": [
       "<div>\n",
       "<style scoped>\n",
       "    .dataframe tbody tr th:only-of-type {\n",
       "        vertical-align: middle;\n",
       "    }\n",
       "\n",
       "    .dataframe tbody tr th {\n",
       "        vertical-align: top;\n",
       "    }\n",
       "\n",
       "    .dataframe thead th {\n",
       "        text-align: right;\n",
       "    }\n",
       "</style>\n",
       "<table border=\"1\" class=\"dataframe\">\n",
       "  <thead>\n",
       "    <tr style=\"text-align: right;\">\n",
       "      <th></th>\n",
       "      <th>std grid x</th>\n",
       "      <th>std grid y</th>\n",
       "    </tr>\n",
       "  </thead>\n",
       "  <tbody>\n",
       "    <tr>\n",
       "      <th>Fisera Ridge</th>\n",
       "      <td>69</td>\n",
       "      <td>53</td>\n",
       "    </tr>\n",
       "    <tr>\n",
       "      <th>Upper Clearing</th>\n",
       "      <td>72</td>\n",
       "      <td>93</td>\n",
       "    </tr>\n",
       "    <tr>\n",
       "      <th>Hay Meadow</th>\n",
       "      <td>45</td>\n",
       "      <td>136</td>\n",
       "    </tr>\n",
       "    <tr>\n",
       "      <th>Kananaskis</th>\n",
       "      <td>235</td>\n",
       "      <td>287</td>\n",
       "    </tr>\n",
       "    <tr>\n",
       "      <th>Bow Valley</th>\n",
       "      <td>357</td>\n",
       "      <td>239</td>\n",
       "    </tr>\n",
       "  </tbody>\n",
       "</table>\n",
       "</div>"
      ],
      "text/plain": [
       "                std grid x  std grid y\n",
       "Fisera Ridge            69          53\n",
       "Upper Clearing          72          93\n",
       "Hay Meadow              45         136\n",
       "Kananaskis             235         287\n",
       "Bow Valley             357         239"
      ]
     },
     "execution_count": 17,
     "metadata": {},
     "output_type": "execute_result"
    }
   ],
   "source": [
    "# standard xy grid coords from run_inv_mcrb.py\n",
    "coords = [[69, 53], [72, 93], [45, 136], [235, 287], [357, 239]]\n",
    "stations = [\"Fisera Ridge\", \"Upper Clearing\", \"Hay Meadow\", \"Kananaskis\", \"Bow Valley\"]\n",
    "dist_df = pd.DataFrame(coords, columns = [\"std grid x\", \"std grid y\"], index = stations)\n",
    "dist_df"
   ]
  },
  {
   "cell_type": "markdown",
   "id": "ethical-virginia",
   "metadata": {},
   "source": [
    "### Method 2: use eastings and northings from MCRB_Pinputs_20km.csv"
   ]
  },
  {
   "cell_type": "code",
   "execution_count": 18,
   "id": "cordless-excitement",
   "metadata": {},
   "outputs": [],
   "source": [
    "# # easting and northing coords from MCRB_Pinputs_20km.csv\n",
    "# coords = [[626132, 5646467], [628147, 5646573], [630745, 5645258], [635104, 5654649], [635410, 5660866]]\n",
    "# stations = [\"Fisera Ridge\", \"Upper Clearing\", \"Hay Meadow\", \"Kananaskis\", \"Bow Valley\"]\n",
    "# dist_df = pd.DataFrame(coords, columns = [\"std grid x\", \"std grid y\"], index = stations)\n",
    "# dist_df"
   ]
  },
  {
   "cell_type": "markdown",
   "id": "premier-point",
   "metadata": {},
   "source": [
    "### Calculate the distance matrix"
   ]
  },
  {
   "cell_type": "code",
   "execution_count": 19,
   "id": "joint-photography",
   "metadata": {},
   "outputs": [
    {
     "data": {
      "text/html": [
       "<div>\n",
       "<style scoped>\n",
       "    .dataframe tbody tr th:only-of-type {\n",
       "        vertical-align: middle;\n",
       "    }\n",
       "\n",
       "    .dataframe tbody tr th {\n",
       "        vertical-align: top;\n",
       "    }\n",
       "\n",
       "    .dataframe thead th {\n",
       "        text-align: right;\n",
       "    }\n",
       "</style>\n",
       "<table border=\"1\" class=\"dataframe\">\n",
       "  <thead>\n",
       "    <tr style=\"text-align: right;\">\n",
       "      <th></th>\n",
       "      <th>Fisera Ridge</th>\n",
       "      <th>Upper Clearing</th>\n",
       "      <th>Hay Meadow</th>\n",
       "      <th>Kananaskis</th>\n",
       "      <th>Bow Valley</th>\n",
       "    </tr>\n",
       "  </thead>\n",
       "  <tbody>\n",
       "    <tr>\n",
       "      <th>Fisera Ridge</th>\n",
       "      <td>0.000000</td>\n",
       "      <td>40.112342</td>\n",
       "      <td>86.400231</td>\n",
       "      <td>286.900680</td>\n",
       "      <td>342.841071</td>\n",
       "    </tr>\n",
       "    <tr>\n",
       "      <th>Upper Clearing</th>\n",
       "      <td>40.112342</td>\n",
       "      <td>0.000000</td>\n",
       "      <td>50.774009</td>\n",
       "      <td>253.387056</td>\n",
       "      <td>320.220237</td>\n",
       "    </tr>\n",
       "    <tr>\n",
       "      <th>Hay Meadow</th>\n",
       "      <td>86.400231</td>\n",
       "      <td>50.774009</td>\n",
       "      <td>0.000000</td>\n",
       "      <td>242.695282</td>\n",
       "      <td>328.562018</td>\n",
       "    </tr>\n",
       "    <tr>\n",
       "      <th>Kananaskis</th>\n",
       "      <td>286.900680</td>\n",
       "      <td>253.387056</td>\n",
       "      <td>242.695282</td>\n",
       "      <td>0.000000</td>\n",
       "      <td>131.103013</td>\n",
       "    </tr>\n",
       "    <tr>\n",
       "      <th>Bow Valley</th>\n",
       "      <td>342.841071</td>\n",
       "      <td>320.220237</td>\n",
       "      <td>328.562018</td>\n",
       "      <td>131.103013</td>\n",
       "      <td>0.000000</td>\n",
       "    </tr>\n",
       "  </tbody>\n",
       "</table>\n",
       "</div>"
      ],
      "text/plain": [
       "                Fisera Ridge  Upper Clearing  Hay Meadow  Kananaskis  \\\n",
       "Fisera Ridge        0.000000       40.112342   86.400231  286.900680   \n",
       "Upper Clearing     40.112342        0.000000   50.774009  253.387056   \n",
       "Hay Meadow         86.400231       50.774009    0.000000  242.695282   \n",
       "Kananaskis        286.900680      253.387056  242.695282    0.000000   \n",
       "Bow Valley        342.841071      320.220237  328.562018  131.103013   \n",
       "\n",
       "                Bow Valley  \n",
       "Fisera Ridge    342.841071  \n",
       "Upper Clearing  320.220237  \n",
       "Hay Meadow      328.562018  \n",
       "Kananaskis      131.103013  \n",
       "Bow Valley        0.000000  "
      ]
     },
     "execution_count": 19,
     "metadata": {},
     "output_type": "execute_result"
    }
   ],
   "source": [
    "distmatrix_df = pd.DataFrame(distance_matrix(dist_df.values, dist_df.values), index=dist_df.index, columns=dist_df.index)\n",
    "distmatrix_df"
   ]
  },
  {
   "cell_type": "markdown",
   "id": "likely-annual",
   "metadata": {},
   "source": [
    "### Get the separation distances from the matrix"
   ]
  },
  {
   "cell_type": "code",
   "execution_count": 20,
   "id": "distinguished-consumption",
   "metadata": {},
   "outputs": [
    {
     "name": "stdout",
     "output_type": "stream",
     "text": [
      "FRUC sep dist =  40.11234224026316\n",
      "FRHM sep dist =  86.40023148117139\n",
      "FRK sep dist =  286.9006796785257\n",
      "FRBV sep dist =  342.8410710518797\n",
      "UCHM sep dist =  50.774009099144415\n",
      "UCK sep dist =  253.38705570727168\n",
      "UCBV sep dist =  320.22023671217283\n",
      "HMK sep dist =  242.69528219559604\n",
      "HMBV sep dist =  328.5620184987912\n",
      "KBV sep dist =  131.10301293257908\n"
     ]
    }
   ],
   "source": [
    "FRUCdist = distmatrix_df.iloc[0, 1]\n",
    "FRHMdist = distmatrix_df.iloc[0, 2]\n",
    "FRKdist = distmatrix_df.iloc[0, 3]\n",
    "FRBVdist = distmatrix_df.iloc[0, 4]\n",
    "UCHMdist = distmatrix_df.iloc[1, 2]\n",
    "UCKdist = distmatrix_df.iloc[1, 3]\n",
    "UCBVdist = distmatrix_df.iloc[1, 4]\n",
    "HMKdist = distmatrix_df.iloc[2, 3]\n",
    "HMBVdist = distmatrix_df.iloc[2, 4]\n",
    "KBVdist = distmatrix_df.iloc[3, 4]\n",
    "\n",
    "print(\"FRUC sep dist = \", FRUCdist)\n",
    "print(\"FRHM sep dist = \", FRHMdist)\n",
    "print(\"FRK sep dist = \", FRKdist)\n",
    "print(\"FRBV sep dist = \", FRBVdist)\n",
    "print(\"UCHM sep dist = \", UCHMdist)\n",
    "print(\"UCK sep dist = \", UCKdist)\n",
    "print(\"UCBV sep dist = \", UCBVdist)\n",
    "print(\"HMK sep dist = \", HMKdist)\n",
    "print(\"HMBV sep dist = \", HMBVdist)\n",
    "print(\"KBV sep dist = \", KBVdist)"
   ]
  },
  {
   "cell_type": "markdown",
   "id": "large-documentation",
   "metadata": {},
   "source": [
    "### Create a dataframe"
   ]
  },
  {
   "cell_type": "code",
   "execution_count": 21,
   "id": "paperback-tuning",
   "metadata": {},
   "outputs": [
    {
     "data": {
      "text/plain": [
       "[['FRUC', 40.11234224026316, 0.06749818689095752],\n",
       " ['FRHM', 86.40023148117139, 0.05279702788073803],\n",
       " ['FRK', 286.9006796785257, 0.03596675074765671],\n",
       " ['FRBV', 342.8410710518797, 0.03849189083342592],\n",
       " ['UCHM', 50.774009099144415, 0.05574077666728244],\n",
       " ['UCK', 253.38705570727168, 0.037048397878241754],\n",
       " ['UCBV', 320.22023671217283, 0.04119382682871622],\n",
       " ['HMK', 242.69528219559604, 0.03405057156219578],\n",
       " ['HMBV', 328.5620184987912, 0.037360022310178084],\n",
       " ['KBV', 131.10301293257908, 0.03194]]"
      ]
     },
     "execution_count": 21,
     "metadata": {},
     "output_type": "execute_result"
    }
   ],
   "source": [
    "# step 1: initialise my lists\n",
    "cov = [[\"FRUC\", FRUCdist, FRUCcov], [\"FRHM\", FRHMdist, FRHMcov], [\"FRK\", FRKdist, FRKcov],\n",
    "       [\"FRBV\", FRBVdist, FRBVcov], [\"UCHM\", UCHMdist, UCHMcov], [\"UCK\", UCKdist, UCKcov],\n",
    "       [\"UCBV\", UCBVdist, UCBVcov], [\"HMK\", HMKdist, HMKcov], [\"HMBV\", HMBVdist, HMBVcov],\n",
    "       [\"KBV\", KBVdist, KBVcov.round(5)]]\n",
    "cov"
   ]
  },
  {
   "cell_type": "code",
   "execution_count": 22,
   "id": "rotary-opinion",
   "metadata": {},
   "outputs": [],
   "source": [
    "# step 2: create df from lists\n",
    "covariance_df = pd.DataFrame(cov, columns = [\"station_pair\", \"separation_distance\", \"covariance\"])\n",
    "covariance_df.set_index(\"station_pair\", inplace=True)\n",
    "# covariance_df"
   ]
  },
  {
   "cell_type": "code",
   "execution_count": 23,
   "id": "taken-intranet",
   "metadata": {},
   "outputs": [],
   "source": [
    "# sort by separation distance\n",
    "covariance_df.sort_values(by=['separation_distance'], inplace=True, ascending=True)\n",
    "# write to csv\n",
    "covariance_df.to_csv(r\"C:\\Users\\b1043453\\OneDrive - Newcastle University\\OnePlanet PhD\\Random_mixing\\RMWSPy_Horning_and_Haese_2021\\RMWSPy-master\\MCRB_examples\\MCRB_gauges_only\\Characterising_P_statistics\\covariance\\covariance_20km_stns.csv\")"
   ]
  },
  {
   "cell_type": "code",
   "execution_count": 24,
   "id": "hearing-steering",
   "metadata": {},
   "outputs": [
    {
     "data": {
      "text/html": [
       "<div>\n",
       "<style scoped>\n",
       "    .dataframe tbody tr th:only-of-type {\n",
       "        vertical-align: middle;\n",
       "    }\n",
       "\n",
       "    .dataframe tbody tr th {\n",
       "        vertical-align: top;\n",
       "    }\n",
       "\n",
       "    .dataframe thead th {\n",
       "        text-align: right;\n",
       "    }\n",
       "</style>\n",
       "<table border=\"1\" class=\"dataframe\">\n",
       "  <thead>\n",
       "    <tr style=\"text-align: right;\">\n",
       "      <th></th>\n",
       "      <th>separation_distance</th>\n",
       "      <th>covariance</th>\n",
       "    </tr>\n",
       "    <tr>\n",
       "      <th>station_pair</th>\n",
       "      <th></th>\n",
       "      <th></th>\n",
       "    </tr>\n",
       "  </thead>\n",
       "  <tbody>\n",
       "    <tr>\n",
       "      <th>FRUC</th>\n",
       "      <td>40.112342</td>\n",
       "      <td>0.067498</td>\n",
       "    </tr>\n",
       "    <tr>\n",
       "      <th>UCHM</th>\n",
       "      <td>50.774009</td>\n",
       "      <td>0.055741</td>\n",
       "    </tr>\n",
       "    <tr>\n",
       "      <th>FRHM</th>\n",
       "      <td>86.400231</td>\n",
       "      <td>0.052797</td>\n",
       "    </tr>\n",
       "    <tr>\n",
       "      <th>KBV</th>\n",
       "      <td>131.103013</td>\n",
       "      <td>0.031940</td>\n",
       "    </tr>\n",
       "    <tr>\n",
       "      <th>HMK</th>\n",
       "      <td>242.695282</td>\n",
       "      <td>0.034051</td>\n",
       "    </tr>\n",
       "    <tr>\n",
       "      <th>UCK</th>\n",
       "      <td>253.387056</td>\n",
       "      <td>0.037048</td>\n",
       "    </tr>\n",
       "    <tr>\n",
       "      <th>FRK</th>\n",
       "      <td>286.900680</td>\n",
       "      <td>0.035967</td>\n",
       "    </tr>\n",
       "    <tr>\n",
       "      <th>UCBV</th>\n",
       "      <td>320.220237</td>\n",
       "      <td>0.041194</td>\n",
       "    </tr>\n",
       "    <tr>\n",
       "      <th>HMBV</th>\n",
       "      <td>328.562018</td>\n",
       "      <td>0.037360</td>\n",
       "    </tr>\n",
       "    <tr>\n",
       "      <th>FRBV</th>\n",
       "      <td>342.841071</td>\n",
       "      <td>0.038492</td>\n",
       "    </tr>\n",
       "  </tbody>\n",
       "</table>\n",
       "</div>"
      ],
      "text/plain": [
       "              separation_distance  covariance\n",
       "station_pair                                 \n",
       "FRUC                    40.112342    0.067498\n",
       "UCHM                    50.774009    0.055741\n",
       "FRHM                    86.400231    0.052797\n",
       "KBV                    131.103013    0.031940\n",
       "HMK                    242.695282    0.034051\n",
       "UCK                    253.387056    0.037048\n",
       "FRK                    286.900680    0.035967\n",
       "UCBV                   320.220237    0.041194\n",
       "HMBV                   328.562018    0.037360\n",
       "FRBV                   342.841071    0.038492"
      ]
     },
     "execution_count": 24,
     "metadata": {},
     "output_type": "execute_result"
    }
   ],
   "source": [
    "covariance_df"
   ]
  },
  {
   "cell_type": "markdown",
   "id": "suspected-consistency",
   "metadata": {},
   "source": [
    "### Scatter plot covariance against separation distance"
   ]
  },
  {
   "cell_type": "code",
   "execution_count": 25,
   "id": "aging-seafood",
   "metadata": {},
   "outputs": [
    {
     "data": {
      "text/plain": [
       "<function matplotlib.pyplot.show(close=None, block=None)>"
      ]
     },
     "execution_count": 25,
     "metadata": {},
     "output_type": "execute_result"
    },
    {
     "data": {
      "image/png": "[encoded data removed]",
      "text/plain": [
       "<Figure size 432x288 with 1 Axes>"
      ]
     },
     "metadata": {
      "needs_background": "light"
     },
     "output_type": "display_data"
    }
   ],
   "source": [
    "# basic plot\n",
    "covariance_df.plot.scatter(x='separation_distance', y='covariance', c='tab:blue',\n",
    "                               title=\"Covariance for 20 km stations (annual)\")\n",
    "plt.grid()\n",
    "plt.xlabel(\"Distance between station pairs\")\n",
    "plt.ylabel(\"Station pair covariance\")\n",
    "# plt.xlim(0, 80000)\n",
    "# plt.ylim(0.4, 1.0)\n",
    "plt.show\n",
    "# plt.savefig(r'C:\\Users\\b1043453\\OneDrive - Newcastle University\\OnePlanet PhD\\Random_mixing\\RMWSPy_Horning_and_Haese_2021\\RMWSPy-master\\MCRB_examples\\MCRB_gauges_only\\Characterising_P_statistics\\covariance\\covariance_20km_stns.png')"
   ]
  },
  {
   "cell_type": "code",
   "execution_count": 26,
   "id": "sufficient-generator",
   "metadata": {},
   "outputs": [],
   "source": [
    "# reset df index to get access to station_pair column\n",
    "covariance_df = covariance_df.reset_index()\n",
    "# covariance_df"
   ]
  },
  {
   "cell_type": "code",
   "execution_count": 27,
   "id": "expired-woman",
   "metadata": {},
   "outputs": [
    {
     "data": {
      "text/plain": [
       "<function matplotlib.pyplot.show(close=None, block=None)>"
      ]
     },
     "execution_count": 27,
     "metadata": {},
     "output_type": "execute_result"
    },
    {
     "data": {
      "image/png": "[encoded data removed]",
      "text/plain": [
       "<Figure size 432x288 with 1 Axes>"
      ]
     },
     "metadata": {
      "needs_background": "light"
     },
     "output_type": "display_data"
    }
   ],
   "source": [
    "# basic plot\n",
    "covariance_df.plot.scatter(x='separation_distance', y='covariance', c='tab:blue',\n",
    "                               title=\"Covariance for 20 km stations (annual)\")\n",
    "plt.grid()\n",
    "plt.xlabel(\"Distance between station pairs\")\n",
    "plt.ylabel(\"Station pair covariance\")\n",
    "# plt.xlim(0, 800)\n",
    "# plt.ylim(0.02, 0.08)\n",
    "# plot labels on points\n",
    "for i, txt in enumerate(covariance_df.station_pair):\n",
    "    plt.annotate(txt, (covariance_df.separation_distance.iat[i], covariance_df.covariance.iat[i]))\n",
    "plt.show\n",
    "# plt.savefig(r'C:\\Users\\b1043453\\OneDrive - Newcastle University\\OnePlanet PhD\\Random_mixing\\RMWSPy_Horning_and_Haese_2021\\RMWSPy-master\\MCRB_examples\\MCRB_gauges_only\\Characterising_P_statistics\\covariance\\covariance_20km_stns.png')"
   ]
  },
  {
   "cell_type": "markdown",
   "id": "boring-essex",
   "metadata": {},
   "source": [
    "### Fit an exponential curve to the covariance data"
   ]
  },
  {
   "cell_type": "code",
   "execution_count": 28,
   "id": "normal-contribution",
   "metadata": {},
   "outputs": [
    {
     "data": {
      "image/png": "[encoded data removed]",
      "text/plain": [
       "<Figure size 432x288 with 1 Axes>"
      ]
     },
     "metadata": {
      "needs_background": "light"
     },
     "output_type": "display_data"
    }
   ],
   "source": [
    "# use type_exp function from covariancefunction.py\n",
    "# create a range of separation distances from 0 to 350\n",
    "distarr = np.arange(0, 360, 10)\n",
    "# set parameter values for exponential curve fitting\n",
    "Range = 350\n",
    "Sill = 0.07 # y-intercept estimated by eye from the plotted cov values - nugget\n",
    "nugget = 0.03\n",
    "\n",
    "# actual values from dataframe\n",
    "x = covariance_df.separation_distance.values\n",
    "y = covariance_df.covariance.values\n",
    "\n",
    "# create a function that loops through sepdist values and calculates an estimated covariance for each\n",
    "def type_exp(): \n",
    "    covlist = [] # empty list for estimated covariance values from exponential function\n",
    "    for h in distarr:    \n",
    "        expfit = Sill * (np.exp(-h/Range) + nugget) # fit exponential curve\n",
    "        covlist.append(expfit) # append covariance values to the list\n",
    "    return covlist\n",
    "\n",
    "# create array of exponential curve estimated covariance values\n",
    "yexp = np.array(type_exp())\n",
    "    \n",
    "# plot actual covariance values\n",
    "plt.plot(x, y, 'bo', label=\"actual covariance\")\n",
    "# plot exponential curve values\n",
    "plt.plot(distarr, yexp, 'r', label=\"fitted exponential curve\")\n",
    "# plotting\n",
    "plt.title(\"Covariance 20 km stations (annual)\")\n",
    "plt.xlabel('standard grid separation distance')\n",
    "plt.ylabel('covariance')\n",
    "plt.legend()\n",
    "plt.xlim(0, 350)\n",
    "# plt.ylim(0, 0.15)\n",
    "plt.grid()\n",
    "\n",
    "# reset df index to get access to station_pair column\n",
    "# covariance_df = covariance_df.reset_index()\n",
    "\n",
    "# plot labels on points\n",
    "for i, txt in enumerate(covariance_df.station_pair):\n",
    "    plt.annotate(txt, (covariance_df.separation_distance.iat[i], covariance_df.covariance.iat[i]))\n",
    "# plt.show()\n",
    "plt.savefig(r'C:\\Users\\b1043453\\OneDrive - Newcastle University\\OnePlanet PhD\\Random_mixing\\RMWSPy_Horning_and_Haese_2021\\RMWSPy-master\\MCRB_examples\\MCRB_gauges_only\\Characterising_P_statistics\\covariance\\covariance_tiedranks.png')\n",
    "\n",
    "# print(\"sepdist = \", sepdist)\n",
    "# print(\"h = \", h)\n",
    "# print(\"yexp = \", yexp)"
   ]
  },
  {
   "cell_type": "code",
   "execution_count": null,
   "id": "involved-venture",
   "metadata": {},
   "outputs": [],
   "source": []
  },
  {
   "cell_type": "code",
   "execution_count": null,
   "id": "entitled-bolivia",
   "metadata": {},
   "outputs": [],
   "source": []
  }
 ],
 "metadata": {
  "kernelspec": {
   "display_name": "Python 3",
   "language": "python",
   "name": "python3"
  },
  "language_info": {
   "codemirror_mode": {
    "name": "ipython",
    "version": 3
   },
   "file_extension": ".py",
   "mimetype": "text/x-python",
   "name": "python",
   "nbconvert_exporter": "python",
   "pygments_lexer": "ipython3",
   "version": "3.6.5"
  }
 },
 "nbformat": 4,
 "nbformat_minor": 5
}
