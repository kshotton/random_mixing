{
 "cells": [
  {
   "cell_type": "markdown",
   "id": "persistent-draft",
   "metadata": {},
   "source": [
    "### Using all 8 stations with a P record from 2005-2016: \n",
    "### Fisera Ridge, Upper Clearing, Hay Meadow\n",
    "### Kananaskis, Bow Valley, Kananaskis Pocaterra, Banff CS, Wildcat Hills\n",
    "### Remove days with P<1mm\n",
    "### Plot histograms and best fit probability distributions for wet days"
   ]
  },
  {
   "cell_type": "code",
   "execution_count": 179,
   "id": "russian-intro",
   "metadata": {},
   "outputs": [],
   "source": [
    "import numpy as np\n",
    "import pandas as pd\n",
    "pd.options.mode.chained_assignment = None  # default='warn' this removes the warning when renaming columns\n",
    "import math\n",
    "from scipy import stats\n",
    "from sklearn.linear_model import LinearRegression\n",
    "import scipy\n",
    "# import scipy.stats as stats\n",
    "import matplotlib.pyplot as plt\n",
    "%matplotlib inline"
   ]
  },
  {
   "cell_type": "markdown",
   "id": "logical-binding",
   "metadata": {},
   "source": [
    "### Read in daily precip data for all stations, remove P<1mm and group by month"
   ]
  },
  {
   "cell_type": "markdown",
   "id": "aquatic-siemens",
   "metadata": {},
   "source": [
    "### Fisera Ridge 2325 m"
   ]
  },
  {
   "cell_type": "code",
   "execution_count": 222,
   "id": "sunrise-roman",
   "metadata": {},
   "outputs": [],
   "source": [
    "FRPdaily_df = pd.read_csv(r\"C:\\Users\\b1043453\\OneDrive - Newcastle University\\OnePlanet PhD\\Hydrological_Modelling\\Marmot_Creek_Research_Basin\\Version 02\\Meteorology\\Recent_modelling_data\\time_series_inputs\\FRdailyprecip.csv\", \n",
    "                            header=None, names= [\"date\", \"FR_daily_p_mm\"])\n",
    "# change date column to datetime format\n",
    "FRPdaily_df['date'] =  pd.to_datetime(FRPdaily_df['date'], format='%Y-%m-%d')\n",
    "# set date index\n",
    "FRPdaily_df.set_index(\"date\", inplace=True)\n",
    "# drop P values less than 1.0mm\n",
    "FRPdaily_df = FRPdaily_df.drop(FRPdaily_df[FRPdaily_df.FR_daily_p_mm < 1.0].index)\n",
    "# FRPdaily_df"
   ]
  },
  {
   "cell_type": "markdown",
   "id": "nutritional-excitement",
   "metadata": {},
   "source": [
    "### Group by month (Oct to Sep)"
   ]
  },
  {
   "cell_type": "code",
   "execution_count": 230,
   "id": "separate-heath",
   "metadata": {},
   "outputs": [],
   "source": [
    "FRPoct_df = FRPdaily_df[FRPdaily_df.index.month == 10]\n",
    "FRPoct_df.rename(columns={'FR_daily_p_mm': 'FR_dailyoct_p_mm'}, inplace=True)\n",
    "FRPnov_df = FRPdaily_df[FRPdaily_df.index.month == 11]\n",
    "FRPnov_df.rename(columns={'FR_daily_p_mm': 'FR_dailynov_p_mm'}, inplace=True)\n",
    "FRPdec_df = FRPdaily_df[FRPdaily_df.index.month == 12]\n",
    "FRPdec_df.rename(columns={'FR_daily_p_mm': 'FR_dailydec_p_mm'}, inplace=True)\n",
    "FRPjan_df = FRPdaily_df[FRPdaily_df.index.month == 1]\n",
    "FRPjan_df.rename(columns={'FR_daily_p_mm': 'FR_dailyjan_p_mm'}, inplace=True)\n",
    "FRPfeb_df = FRPdaily_df[FRPdaily_df.index.month == 2]\n",
    "FRPfeb_df.rename(columns={'FR_daily_p_mm': 'FR_dailyfeb_p_mm'}, inplace=True)\n",
    "FRPmar_df = FRPdaily_df[FRPdaily_df.index.month == 3]\n",
    "FRPmar_df.rename(columns={'FR_daily_p_mm': 'FR_dailymar_p_mm'}, inplace=True)\n",
    "FRPapr_df = FRPdaily_df[FRPdaily_df.index.month == 4]\n",
    "FRPapr_df.rename(columns={'FR_daily_p_mm': 'FR_dailyapr_p_mm'}, inplace=True)\n",
    "FRPmay_df = FRPdaily_df[FRPdaily_df.index.month == 5]\n",
    "FRPmay_df.rename(columns={'FR_daily_p_mm': 'FR_dailymay_p_mm'}, inplace=True)\n",
    "FRPjun_df = FRPdaily_df[FRPdaily_df.index.month == 6]\n",
    "FRPjun_df.rename(columns={'FR_daily_p_mm': 'FR_dailyjun_p_mm'}, inplace=True)\n",
    "FRPjul_df = FRPdaily_df[FRPdaily_df.index.month == 7]\n",
    "FRPjul_df.rename(columns={'FR_daily_p_mm': 'FR_dailyjul_p_mm'}, inplace=True)\n",
    "FRPaug_df = FRPdaily_df[FRPdaily_df.index.month == 8]\n",
    "FRPaug_df.rename(columns={'FR_daily_p_mm': 'FR_dailyaug_p_mm'}, inplace=True)\n",
    "FRPsep_df = FRPdaily_df[FRPdaily_df.index.month == 9]\n",
    "FRPsep_df.rename(columns={'FR_daily_p_mm': 'FR_dailysep_p_mm'}, inplace=True)\n",
    "# FRPoct_df"
   ]
  },
  {
   "cell_type": "markdown",
   "id": "atmospheric-switch",
   "metadata": {},
   "source": [
    "### Concatenate to get seasonal data (DJF, MAM, JJA, SON)"
   ]
  },
  {
   "cell_type": "code",
   "execution_count": 231,
   "id": "duplicate-potter",
   "metadata": {},
   "outputs": [
    {
     "data": {
      "text/html": [
       "<div>\n",
       "<style scoped>\n",
       "    .dataframe tbody tr th:only-of-type {\n",
       "        vertical-align: middle;\n",
       "    }\n",
       "\n",
       "    .dataframe tbody tr th {\n",
       "        vertical-align: top;\n",
       "    }\n",
       "\n",
       "    .dataframe thead th {\n",
       "        text-align: right;\n",
       "    }\n",
       "</style>\n",
       "<table border=\"1\" class=\"dataframe\">\n",
       "  <thead>\n",
       "    <tr style=\"text-align: right;\">\n",
       "      <th></th>\n",
       "      <th>FR_dailydec_p_mm</th>\n",
       "      <th>FR_dailyjan_p_mm</th>\n",
       "      <th>FR_dailyfeb_p_mm</th>\n",
       "      <th>FR_winter_p_mm</th>\n",
       "    </tr>\n",
       "    <tr>\n",
       "      <th>date</th>\n",
       "      <th></th>\n",
       "      <th></th>\n",
       "      <th></th>\n",
       "      <th></th>\n",
       "    </tr>\n",
       "  </thead>\n",
       "  <tbody>\n",
       "    <tr>\n",
       "      <th>2005-12-01</th>\n",
       "      <td>1.4347</td>\n",
       "      <td>NaN</td>\n",
       "      <td>NaN</td>\n",
       "      <td>1.4347</td>\n",
       "    </tr>\n",
       "    <tr>\n",
       "      <th>2005-12-02</th>\n",
       "      <td>1.7503</td>\n",
       "      <td>NaN</td>\n",
       "      <td>NaN</td>\n",
       "      <td>1.7503</td>\n",
       "    </tr>\n",
       "    <tr>\n",
       "      <th>2005-12-05</th>\n",
       "      <td>6.4685</td>\n",
       "      <td>NaN</td>\n",
       "      <td>NaN</td>\n",
       "      <td>6.4685</td>\n",
       "    </tr>\n",
       "    <tr>\n",
       "      <th>2005-12-13</th>\n",
       "      <td>10.7015</td>\n",
       "      <td>NaN</td>\n",
       "      <td>NaN</td>\n",
       "      <td>10.7015</td>\n",
       "    </tr>\n",
       "    <tr>\n",
       "      <th>2005-12-20</th>\n",
       "      <td>1.6655</td>\n",
       "      <td>NaN</td>\n",
       "      <td>NaN</td>\n",
       "      <td>1.6655</td>\n",
       "    </tr>\n",
       "    <tr>\n",
       "      <th>...</th>\n",
       "      <td>...</td>\n",
       "      <td>...</td>\n",
       "      <td>...</td>\n",
       "      <td>...</td>\n",
       "    </tr>\n",
       "    <tr>\n",
       "      <th>2016-02-15</th>\n",
       "      <td>NaN</td>\n",
       "      <td>NaN</td>\n",
       "      <td>6.0967</td>\n",
       "      <td>6.0967</td>\n",
       "    </tr>\n",
       "    <tr>\n",
       "      <th>2016-02-16</th>\n",
       "      <td>NaN</td>\n",
       "      <td>NaN</td>\n",
       "      <td>1.8736</td>\n",
       "      <td>1.8736</td>\n",
       "    </tr>\n",
       "    <tr>\n",
       "      <th>2016-02-18</th>\n",
       "      <td>NaN</td>\n",
       "      <td>NaN</td>\n",
       "      <td>6.4137</td>\n",
       "      <td>6.4137</td>\n",
       "    </tr>\n",
       "    <tr>\n",
       "      <th>2016-02-19</th>\n",
       "      <td>NaN</td>\n",
       "      <td>NaN</td>\n",
       "      <td>1.0769</td>\n",
       "      <td>1.0769</td>\n",
       "    </tr>\n",
       "    <tr>\n",
       "      <th>2016-02-28</th>\n",
       "      <td>NaN</td>\n",
       "      <td>NaN</td>\n",
       "      <td>1.5463</td>\n",
       "      <td>1.5463</td>\n",
       "    </tr>\n",
       "  </tbody>\n",
       "</table>\n",
       "<p>331 rows × 4 columns</p>\n",
       "</div>"
      ],
      "text/plain": [
       "            FR_dailydec_p_mm  FR_dailyjan_p_mm  FR_dailyfeb_p_mm  \\\n",
       "date                                                               \n",
       "2005-12-01            1.4347               NaN               NaN   \n",
       "2005-12-02            1.7503               NaN               NaN   \n",
       "2005-12-05            6.4685               NaN               NaN   \n",
       "2005-12-13           10.7015               NaN               NaN   \n",
       "2005-12-20            1.6655               NaN               NaN   \n",
       "...                      ...               ...               ...   \n",
       "2016-02-15               NaN               NaN            6.0967   \n",
       "2016-02-16               NaN               NaN            1.8736   \n",
       "2016-02-18               NaN               NaN            6.4137   \n",
       "2016-02-19               NaN               NaN            1.0769   \n",
       "2016-02-28               NaN               NaN            1.5463   \n",
       "\n",
       "            FR_winter_p_mm  \n",
       "date                        \n",
       "2005-12-01          1.4347  \n",
       "2005-12-02          1.7503  \n",
       "2005-12-05          6.4685  \n",
       "2005-12-13         10.7015  \n",
       "2005-12-20          1.6655  \n",
       "...                    ...  \n",
       "2016-02-15          6.0967  \n",
       "2016-02-16          1.8736  \n",
       "2016-02-18          6.4137  \n",
       "2016-02-19          1.0769  \n",
       "2016-02-28          1.5463  \n",
       "\n",
       "[331 rows x 4 columns]"
      ]
     },
     "execution_count": 231,
     "metadata": {},
     "output_type": "execute_result"
    }
   ],
   "source": [
    "FRPdjf_df = pd.concat([FRPdec_df, FRPjan_df, FRPfeb_df], axis=1, join=\"outer\")\n",
    "FRPdjf_df['FR_winter_p_mm'] = FRPdjf_df.sum(axis=1)\n",
    "FRPmam_df = pd.concat([FRPmar_df, FRPapr_df, FRPmay_df], axis=1, join=\"outer\")\n",
    "FRPmam_df['FR_spring_p_mm'] = FRPmam_df.sum(axis=1)\n",
    "FRPjja_df = pd.concat([FRPjun_df, FRPjul_df, FRPaug_df], axis=1, join=\"outer\")\n",
    "FRPjja_df['FR_summer_p_mm'] = FRPjja_df.sum(axis=1)\n",
    "FRPson_df = pd.concat([FRPsep_df, FRPoct_df, FRPnov_df], axis=1, join=\"outer\")\n",
    "FRPson_df['FR_autumn_p_mm'] = FRPson_df.sum(axis=1)\n",
    "FRPdjf_df"
   ]
  },
  {
   "cell_type": "markdown",
   "id": "celtic-alexandria",
   "metadata": {},
   "source": [
    "### Upper Clearing 1845 m"
   ]
  },
  {
   "cell_type": "code",
   "execution_count": 130,
   "id": "stupid-force",
   "metadata": {},
   "outputs": [],
   "source": [
    "UCPdaily_df = pd.read_csv(r\"C:\\Users\\b1043453\\OneDrive - Newcastle University\\OnePlanet PhD\\Hydrological_Modelling\\Marmot_Creek_Research_Basin\\Version 02\\Meteorology\\Recent_modelling_data\\time_series_inputs\\UCdailyprecip.csv\", \n",
    "                            header=None, names= [\"date\", \"UC_daily_p_mm\"])\n",
    "# change date column to datetime format\n",
    "UCPdaily_df['date'] =  pd.to_datetime(UCPdaily_df['date'], format='%Y-%m-%d')\n",
    "# set date index\n",
    "UCPdaily_df.set_index(\"date\", inplace=True)\n",
    "# drop P values less than 1.0mm\n",
    "UCPdaily_df = UCPdaily_df.drop(UCPdaily_df[UCPdaily_df.UC_daily_p_mm < 1.0].index)\n",
    "# UCPdaily_df"
   ]
  },
  {
   "cell_type": "markdown",
   "id": "endless-authorization",
   "metadata": {},
   "source": [
    "### Group by month (Oct to Sep)"
   ]
  },
  {
   "cell_type": "code",
   "execution_count": 207,
   "id": "recreational-venice",
   "metadata": {},
   "outputs": [],
   "source": [
    "UCPoct_df = UCPdaily_df[UCPdaily_df.index.month == 10]\n",
    "UCPoct_df.rename(columns={'UC_daily_p_mm': 'UC_dailyoct_p_mm'}, inplace=True)\n",
    "UCPnov_df = UCPdaily_df[UCPdaily_df.index.month == 11]\n",
    "UCPnov_df.rename(columns={'UC_daily_p_mm': 'UC_dailynov_p_mm'}, inplace=True)\n",
    "UCPdec_df = UCPdaily_df[UCPdaily_df.index.month == 12]\n",
    "UCPdec_df.rename(columns={'UC_daily_p_mm': 'UC_dailydec_p_mm'}, inplace=True)\n",
    "UCPjan_df = UCPdaily_df[UCPdaily_df.index.month == 1]\n",
    "UCPjan_df.rename(columns={'UC_daily_p_mm': 'UC_dailyjan_p_mm'}, inplace=True)\n",
    "UCPfeb_df = UCPdaily_df[UCPdaily_df.index.month == 2]\n",
    "UCPfeb_df.rename(columns={'UC_daily_p_mm': 'UC_dailyfeb_p_mm'}, inplace=True)\n",
    "UCPmar_df = UCPdaily_df[UCPdaily_df.index.month == 3]\n",
    "UCPmar_df.rename(columns={'UC_daily_p_mm': 'UC_dailymar_p_mm'}, inplace=True)\n",
    "UCPapr_df = UCPdaily_df[UCPdaily_df.index.month == 4]\n",
    "UCPapr_df.rename(columns={'UC_daily_p_mm': 'UC_dailyapr_p_mm'}, inplace=True)\n",
    "UCPmay_df = UCPdaily_df[UCPdaily_df.index.month == 5]\n",
    "UCPmay_df.rename(columns={'UC_daily_p_mm': 'UC_dailymay_p_mm'}, inplace=True)\n",
    "UCPjun_df = UCPdaily_df[UCPdaily_df.index.month == 6]\n",
    "UCPjun_df.rename(columns={'UC_daily_p_mm': 'UC_dailyjun_p_mm'}, inplace=True)\n",
    "UCPjul_df = UCPdaily_df[UCPdaily_df.index.month == 7]\n",
    "UCPjul_df.rename(columns={'UC_daily_p_mm': 'UC_dailyjul_p_mm'}, inplace=True)\n",
    "UCPaug_df = UCPdaily_df[UCPdaily_df.index.month == 8]\n",
    "UCPaug_df.rename(columns={'UC_daily_p_mm': 'UC_dailyaug_p_mm'}, inplace=True)\n",
    "UCPsep_df = UCPdaily_df[UCPdaily_df.index.month == 9]\n",
    "UCPsep_df.rename(columns={'UC_daily_p_mm': 'UC_dailysep_p_mm'}, inplace=True)\n",
    "# UCPoct_df"
   ]
  },
  {
   "cell_type": "markdown",
   "id": "collected-bread",
   "metadata": {},
   "source": [
    "### Concatenate to get seasonal data (DJF, MAM, JJA, SON)"
   ]
  },
  {
   "cell_type": "code",
   "execution_count": 208,
   "id": "further-blocking",
   "metadata": {},
   "outputs": [],
   "source": [
    "UCPdjf_df = pd.concat([UCPdec_df, UCPjan_df, UCPfeb_df], axis=1, join=\"outer\")\n",
    "UCPdjf_df['UC_winter_p_mm'] = UCPdjf_df.sum(axis=1)\n",
    "UCPmam_df = pd.concat([UCPmar_df, UCPapr_df, UCPmay_df], axis=1, join=\"outer\")\n",
    "UCPmam_df['UC_spring_p_mm'] = UCPmam_df.sum(axis=1)\n",
    "UCPjja_df = pd.concat([UCPjun_df, UCPjul_df, UCPaug_df], axis=1, join=\"outer\")\n",
    "UCPjja_df['UC_summer_p_mm'] = UCPjja_df.sum(axis=1)\n",
    "UCPson_df = pd.concat([UCPsep_df, UCPoct_df, UCPnov_df], axis=1, join=\"outer\")\n",
    "UCPson_df['UC_autumn_p_mm'] = UCPson_df.sum(axis=1)\n",
    "# UCPdjf_df"
   ]
  },
  {
   "cell_type": "markdown",
   "id": "geographic-serbia",
   "metadata": {},
   "source": [
    "### Hay Meadow 1436 m"
   ]
  },
  {
   "cell_type": "code",
   "execution_count": 209,
   "id": "annual-dependence",
   "metadata": {},
   "outputs": [],
   "source": [
    "HMPdaily_df = pd.read_csv(r\"C:\\Users\\b1043453\\OneDrive - Newcastle University\\OnePlanet PhD\\Hydrological_Modelling\\Marmot_Creek_Research_Basin\\Version 02\\Meteorology\\Recent_modelling_data\\time_series_inputs\\HMdailyprecip.csv\", \n",
    "                            header=None, names= [\"date\", \"HM_daily_p_mm\"])\n",
    "# change date column from object to datetime format\n",
    "HMPdaily_df['date'] =  pd.to_datetime(HMPdaily_df['date'], format='%Y-%m-%d')\n",
    "# set date index\n",
    "HMPdaily_df.set_index(\"date\", inplace=True)\n",
    "# drop P values less than 1.0mm\n",
    "HMPdaily_df = HMPdaily_df.drop(HMPdaily_df[HMPdaily_df.HM_daily_p_mm < 1.0].index)\n",
    "# HMPdaily_df"
   ]
  },
  {
   "cell_type": "markdown",
   "id": "wired-belle",
   "metadata": {},
   "source": [
    "### Group by month (Oct to Sep)"
   ]
  },
  {
   "cell_type": "code",
   "execution_count": 211,
   "id": "dressed-complaint",
   "metadata": {},
   "outputs": [],
   "source": [
    "HMPoct_df = HMPdaily_df[HMPdaily_df.index.month == 10]\n",
    "HMPoct_df.rename(columns={'HM_daily_p_mm': 'HM_dailyoct_p_mm'}, inplace=True)\n",
    "HMPnov_df = HMPdaily_df[HMPdaily_df.index.month == 11]\n",
    "HMPnov_df.rename(columns={'HM_daily_p_mm': 'HM_dailynov_p_mm'}, inplace=True)\n",
    "HMPdec_df = HMPdaily_df[HMPdaily_df.index.month == 12]\n",
    "HMPdec_df.rename(columns={'HM_daily_p_mm': 'HM_dailydec_p_mm'}, inplace=True)\n",
    "HMPjan_df = HMPdaily_df[HMPdaily_df.index.month == 1]\n",
    "HMPjan_df.rename(columns={'HM_daily_p_mm': 'HM_dailyjan_p_mm'}, inplace=True)\n",
    "HMPfeb_df = HMPdaily_df[HMPdaily_df.index.month == 2]\n",
    "HMPfeb_df.rename(columns={'HM_daily_p_mm': 'HM_dailyfeb_p_mm'}, inplace=True)\n",
    "HMPmar_df = HMPdaily_df[HMPdaily_df.index.month == 3]\n",
    "HMPmar_df.rename(columns={'HM_daily_p_mm': 'HM_dailymar_p_mm'}, inplace=True)\n",
    "HMPapr_df = HMPdaily_df[HMPdaily_df.index.month == 4]\n",
    "HMPapr_df.rename(columns={'HM_daily_p_mm': 'HM_dailyapr_p_mm'}, inplace=True)\n",
    "HMPmay_df = HMPdaily_df[HMPdaily_df.index.month == 5]\n",
    "HMPmay_df.rename(columns={'HM_daily_p_mm': 'HM_dailymay_p_mm'}, inplace=True)\n",
    "HMPjun_df = HMPdaily_df[HMPdaily_df.index.month == 6]\n",
    "HMPjun_df.rename(columns={'HM_daily_p_mm': 'HM_dailyjun_p_mm'}, inplace=True)\n",
    "HMPjul_df = HMPdaily_df[HMPdaily_df.index.month == 7]\n",
    "HMPjul_df.rename(columns={'HM_daily_p_mm': 'HM_dailyjul_p_mm'}, inplace=True)\n",
    "HMPaug_df = HMPdaily_df[HMPdaily_df.index.month == 8]\n",
    "HMPaug_df.rename(columns={'HM_daily_p_mm': 'HM_dailyaug_p_mm'}, inplace=True)\n",
    "HMPsep_df = HMPdaily_df[HMPdaily_df.index.month == 9]\n",
    "HMPsep_df.rename(columns={'HM_daily_p_mm': 'HM_dailysep_p_mm'}, inplace=True)\n",
    "# HMPoct_df"
   ]
  },
  {
   "cell_type": "markdown",
   "id": "atlantic-baghdad",
   "metadata": {},
   "source": [
    "### Concatenate to get seasonal data (DJF, MAM, JJA, SON)"
   ]
  },
  {
   "cell_type": "code",
   "execution_count": 212,
   "id": "raised-syndrome",
   "metadata": {},
   "outputs": [
    {
     "data": {
      "text/html": [
       "<div>\n",
       "<style scoped>\n",
       "    .dataframe tbody tr th:only-of-type {\n",
       "        vertical-align: middle;\n",
       "    }\n",
       "\n",
       "    .dataframe tbody tr th {\n",
       "        vertical-align: top;\n",
       "    }\n",
       "\n",
       "    .dataframe thead th {\n",
       "        text-align: right;\n",
       "    }\n",
       "</style>\n",
       "<table border=\"1\" class=\"dataframe\">\n",
       "  <thead>\n",
       "    <tr style=\"text-align: right;\">\n",
       "      <th></th>\n",
       "      <th>HM_dailydec_p_mm</th>\n",
       "      <th>HM_dailyjan_p_mm</th>\n",
       "      <th>HM_dailyfeb_p_mm</th>\n",
       "      <th>HM_winter_p_mm</th>\n",
       "    </tr>\n",
       "    <tr>\n",
       "      <th>date</th>\n",
       "      <th></th>\n",
       "      <th></th>\n",
       "      <th></th>\n",
       "      <th></th>\n",
       "    </tr>\n",
       "  </thead>\n",
       "  <tbody>\n",
       "    <tr>\n",
       "      <th>2005-12-01</th>\n",
       "      <td>1.0240</td>\n",
       "      <td>NaN</td>\n",
       "      <td>NaN</td>\n",
       "      <td>1.0240</td>\n",
       "    </tr>\n",
       "    <tr>\n",
       "      <th>2005-12-05</th>\n",
       "      <td>3.0715</td>\n",
       "      <td>NaN</td>\n",
       "      <td>NaN</td>\n",
       "      <td>3.0715</td>\n",
       "    </tr>\n",
       "    <tr>\n",
       "      <th>2005-12-13</th>\n",
       "      <td>2.5121</td>\n",
       "      <td>NaN</td>\n",
       "      <td>NaN</td>\n",
       "      <td>2.5121</td>\n",
       "    </tr>\n",
       "    <tr>\n",
       "      <th>2006-01-06</th>\n",
       "      <td>NaN</td>\n",
       "      <td>1.0144</td>\n",
       "      <td>NaN</td>\n",
       "      <td>1.0144</td>\n",
       "    </tr>\n",
       "    <tr>\n",
       "      <th>2006-01-11</th>\n",
       "      <td>NaN</td>\n",
       "      <td>1.6631</td>\n",
       "      <td>NaN</td>\n",
       "      <td>1.6631</td>\n",
       "    </tr>\n",
       "    <tr>\n",
       "      <th>...</th>\n",
       "      <td>...</td>\n",
       "      <td>...</td>\n",
       "      <td>...</td>\n",
       "      <td>...</td>\n",
       "    </tr>\n",
       "    <tr>\n",
       "      <th>2016-01-07</th>\n",
       "      <td>NaN</td>\n",
       "      <td>3.3860</td>\n",
       "      <td>NaN</td>\n",
       "      <td>3.3860</td>\n",
       "    </tr>\n",
       "    <tr>\n",
       "      <th>2016-01-24</th>\n",
       "      <td>NaN</td>\n",
       "      <td>1.4600</td>\n",
       "      <td>NaN</td>\n",
       "      <td>1.4600</td>\n",
       "    </tr>\n",
       "    <tr>\n",
       "      <th>2016-02-06</th>\n",
       "      <td>NaN</td>\n",
       "      <td>NaN</td>\n",
       "      <td>2.3042</td>\n",
       "      <td>2.3042</td>\n",
       "    </tr>\n",
       "    <tr>\n",
       "      <th>2016-02-13</th>\n",
       "      <td>NaN</td>\n",
       "      <td>NaN</td>\n",
       "      <td>1.3534</td>\n",
       "      <td>1.3534</td>\n",
       "    </tr>\n",
       "    <tr>\n",
       "      <th>2016-02-15</th>\n",
       "      <td>NaN</td>\n",
       "      <td>NaN</td>\n",
       "      <td>1.6989</td>\n",
       "      <td>1.6989</td>\n",
       "    </tr>\n",
       "  </tbody>\n",
       "</table>\n",
       "<p>157 rows × 4 columns</p>\n",
       "</div>"
      ],
      "text/plain": [
       "            HM_dailydec_p_mm  HM_dailyjan_p_mm  HM_dailyfeb_p_mm  \\\n",
       "date                                                               \n",
       "2005-12-01            1.0240               NaN               NaN   \n",
       "2005-12-05            3.0715               NaN               NaN   \n",
       "2005-12-13            2.5121               NaN               NaN   \n",
       "2006-01-06               NaN            1.0144               NaN   \n",
       "2006-01-11               NaN            1.6631               NaN   \n",
       "...                      ...               ...               ...   \n",
       "2016-01-07               NaN            3.3860               NaN   \n",
       "2016-01-24               NaN            1.4600               NaN   \n",
       "2016-02-06               NaN               NaN            2.3042   \n",
       "2016-02-13               NaN               NaN            1.3534   \n",
       "2016-02-15               NaN               NaN            1.6989   \n",
       "\n",
       "            HM_winter_p_mm  \n",
       "date                        \n",
       "2005-12-01          1.0240  \n",
       "2005-12-05          3.0715  \n",
       "2005-12-13          2.5121  \n",
       "2006-01-06          1.0144  \n",
       "2006-01-11          1.6631  \n",
       "...                    ...  \n",
       "2016-01-07          3.3860  \n",
       "2016-01-24          1.4600  \n",
       "2016-02-06          2.3042  \n",
       "2016-02-13          1.3534  \n",
       "2016-02-15          1.6989  \n",
       "\n",
       "[157 rows x 4 columns]"
      ]
     },
     "execution_count": 212,
     "metadata": {},
     "output_type": "execute_result"
    }
   ],
   "source": [
    "HMPdjf_df = pd.concat([HMPdec_df, HMPjan_df, HMPfeb_df], axis=1, join=\"outer\")\n",
    "HMPdjf_df['HM_winter_p_mm'] = HMPdjf_df.sum(axis=1)\n",
    "HMPmam_df = pd.concat([HMPmar_df, HMPapr_df, HMPmay_df], axis=1, join=\"outer\")\n",
    "HMPmam_df['HM_spring_p_mm'] = HMPmam_df.sum(axis=1)\n",
    "HMPjja_df = pd.concat([HMPjun_df, HMPjul_df, HMPaug_df], axis=1, join=\"outer\")\n",
    "HMPjja_df['HM_summer_p_mm'] = HMPjja_df.sum(axis=1)\n",
    "HMPson_df = pd.concat([HMPsep_df, HMPoct_df, HMPnov_df], axis=1, join=\"outer\")\n",
    "HMPson_df['HM_autumn_p_mm'] = HMPson_df.sum(axis=1)\n",
    "HMPdjf_df"
   ]
  },
  {
   "cell_type": "markdown",
   "id": "bored-hunger",
   "metadata": {},
   "source": [
    "### Kananaskis 1391.1 m (14 NaNs in raw daily data)"
   ]
  },
  {
   "cell_type": "code",
   "execution_count": 205,
   "id": "enormous-retail",
   "metadata": {},
   "outputs": [],
   "source": [
    "KPdaily_df = pd.read_csv(r\"C:\\Users\\b1043453\\OneDrive - Newcastle University\\OnePlanet PhD\\Hydrological_Modelling\\Marmot_Creek_Research_Basin\\Other_stations_within_50km\\Kananaskis\\en_climate_daily_AB_3053600_2005-2016_P1D.csv\", \n",
    "                               header=[0])\n",
    "KPdaily_df.rename(columns={'Date/Time': 'date', 'Total Precip (mm)': 'K_daily_p_mm'}, inplace=True) # rename date column\n",
    "# change date column from object to datetime format\n",
    "KPdaily_df['date'] =  pd.to_datetime(KPdaily_df['date'], format = '%d/%m/%Y')\n",
    "# set date index\n",
    "KPdaily_df.set_index(\"date\", inplace=True)\n",
    "# drop unwanted columns\n",
    "KPdaily_df.drop([\"Longitude (x)\", \"Latitude (y)\", \"Station Name\", \"Climate ID\", \"Year\", \"Month\",\n",
    "                      \"Day\", \"Data Quality\", \"Max Temp (°C)\", \"Max Temp Flag\", \"Min Temp (°C)\", \"Min Temp Flag\",\n",
    "                      \"Mean Temp (°C)\", \"Mean Temp Flag\", \"Heat Deg Days (°C)\", \"Heat Deg Days Flag\", \"Cool Deg Days (°C)\",\n",
    "                       \"Cool Deg Days Flag\", \"Total Rain (mm)\", \"Total Rain Flag\", \"Total Snow (cm)\", \"Total Snow Flag\",\n",
    "                       \"Total Precip Flag\", \"Snow on Grnd (cm)\", \"Snow on Grnd Flag\", \"Dir of Max Gust (10s deg)\",\n",
    "                       \"Dir of Max Gust Flag\", \"Spd of Max Gust (km/h)\", \"Spd of Max Gust Flag\"], axis=1, inplace=True)\n",
    "# don't need to do anything about missing values: they appear as NaN, type float64\n",
    "# drop 1st Jan to 30th Sep 2005 (MCRB inputs start at 1st Oct 2005)\n",
    "KPdaily_df.drop(KPdaily_df.loc[\"2005-01-01\":\"2005-09-30\"].index, inplace=True)\n",
    "# drop 2nd Oct to 31st Dec 2016 (MCRB inputs end at 1st Oct 2016)\n",
    "KPdaily_df.drop(KPdaily_df.loc[\"2016-10-02\":\"2016-12-31\"].index, inplace=True)\n",
    "# drop P values less than 1.0mm\n",
    "KPdaily_df = KPdaily_df.drop(KPdaily_df[KPdaily_df.K_daily_p_mm < 1.0].index)\n",
    "# KPdaily_df"
   ]
  },
  {
   "cell_type": "code",
   "execution_count": 206,
   "id": "matched-dispute",
   "metadata": {},
   "outputs": [
    {
     "data": {
      "text/plain": [
       "K_daily_p_mm   NaN\n",
       "Name: 2008-08-24 00:00:00, dtype: float64"
      ]
     },
     "execution_count": 206,
     "metadata": {},
     "output_type": "execute_result"
    }
   ],
   "source": [
    "# check dtype of missing values\n",
    "KPdaily_df.loc['2008-08-24']"
   ]
  },
  {
   "cell_type": "markdown",
   "id": "insured-military",
   "metadata": {},
   "source": [
    "### Group by month (Oct to Sep)"
   ]
  },
  {
   "cell_type": "code",
   "execution_count": 235,
   "id": "hindu-trustee",
   "metadata": {},
   "outputs": [],
   "source": [
    "KPoct_df = KPdaily_df[KPdaily_df.index.month == 10]\n",
    "KPoct_df.rename(columns={'K_daily_p_mm': 'K_dailyoct_p_mm'}, inplace=True)\n",
    "KPnov_df = KPdaily_df[KPdaily_df.index.month == 11]\n",
    "KPnov_df.rename(columns={'K_daily_p_mm': 'K_dailynov_p_mm'}, inplace=True)\n",
    "KPdec_df = KPdaily_df[KPdaily_df.index.month == 12]\n",
    "KPdec_df.rename(columns={'K_daily_p_mm': 'K_dailydec_p_mm'}, inplace=True)\n",
    "KPjan_df = KPdaily_df[KPdaily_df.index.month == 1]\n",
    "KPjan_df.rename(columns={'K_daily_p_mm': 'K_dailyjan_p_mm'}, inplace=True)\n",
    "KPfeb_df = KPdaily_df[KPdaily_df.index.month == 2]\n",
    "KPfeb_df.rename(columns={'K_daily_p_mm': 'K_dailyfeb_p_mm'}, inplace=True)\n",
    "KPmar_df = KPdaily_df[KPdaily_df.index.month == 3]\n",
    "KPmar_df.rename(columns={'K_daily_p_mm': 'K_dailymar_p_mm'}, inplace=True)\n",
    "KPapr_df = KPdaily_df[KPdaily_df.index.month == 4]\n",
    "KPapr_df.rename(columns={'K_daily_p_mm': 'K_dailyapr_p_mm'}, inplace=True)\n",
    "KPmay_df = KPdaily_df[KPdaily_df.index.month == 5]\n",
    "KPmay_df.rename(columns={'K_daily_p_mm': 'K_dailymay_p_mm'}, inplace=True)\n",
    "KPjun_df = KPdaily_df[KPdaily_df.index.month == 6]\n",
    "KPjun_df.rename(columns={'K_daily_p_mm': 'K_dailyjun_p_mm'}, inplace=True)\n",
    "KPjul_df = KPdaily_df[KPdaily_df.index.month == 7]\n",
    "KPjul_df.rename(columns={'K_daily_p_mm': 'K_dailyjul_p_mm'}, inplace=True)\n",
    "KPaug_df = KPdaily_df[KPdaily_df.index.month == 8]\n",
    "KPaug_df.rename(columns={'K_daily_p_mm': 'K_dailyaug_p_mm'}, inplace=True)\n",
    "KPsep_df = KPdaily_df[KPdaily_df.index.month == 9]\n",
    "KPsep_df.rename(columns={'K_daily_p_mm': 'K_dailysep_p_mm'}, inplace=True)\n",
    "# KPoct_df"
   ]
  },
  {
   "cell_type": "markdown",
   "id": "owned-diamond",
   "metadata": {},
   "source": [
    "### Concatenate to get seasonal data (DJF, MAM, JJA, SON)"
   ]
  },
  {
   "cell_type": "code",
   "execution_count": 237,
   "id": "surprised-vienna",
   "metadata": {},
   "outputs": [],
   "source": [
    "KPdjf_df = pd.concat([KPdec_df, KPjan_df, KPfeb_df], axis=1, join=\"outer\")\n",
    "KPdjf_df['K_winter_p_mm'] = KPdjf_df.sum(axis=1)\n",
    "KPmam_df = pd.concat([KPmar_df, KPapr_df, KPmay_df], axis=1, join=\"outer\")\n",
    "KPmam_df['K_spring_p_mm'] = KPmam_df.sum(axis=1)\n",
    "KPjja_df = pd.concat([KPjun_df, KPjul_df, KPaug_df], axis=1, join=\"outer\")\n",
    "KPjja_df['K_summer_p_mm'] = KPjja_df.sum(axis=1)\n",
    "KPson_df = pd.concat([KPsep_df, KPoct_df, KPnov_df], axis=1, join=\"outer\")\n",
    "KPson_df['K_autumn_p_mm'] = KPson_df.sum(axis=1)\n",
    "# KPdjf_df"
   ]
  },
  {
   "cell_type": "markdown",
   "id": "compound-radical",
   "metadata": {},
   "source": [
    "### Bow Valley 1297.5 m (173 NaNs in raw daily data)"
   ]
  },
  {
   "cell_type": "code",
   "execution_count": 137,
   "id": "innocent-killer",
   "metadata": {},
   "outputs": [],
   "source": [
    "BVPdaily_df = pd.read_csv(r\"C:\\Users\\b1043453\\OneDrive - Newcastle University\\OnePlanet PhD\\Hydrological_Modelling\\Marmot_Creek_Research_Basin\\Other_stations_within_50km\\Bow_Valley\\en_climate_daily_AB_3050778_2005-2016_P1D.csv\", \n",
    "                               header=[0])\n",
    "BVPdaily_df.rename(columns={'Date/Time': 'date', 'Total Precip (mm)': 'BV_daily_p_mm'}, inplace=True) # rename date column\n",
    "# change date column from object to datetime format\n",
    "BVPdaily_df['date'] =  pd.to_datetime(BVPdaily_df['date'], format = '%d/%m/%Y')\n",
    "# set date index\n",
    "BVPdaily_df.set_index(\"date\", inplace=True)\n",
    "# drop unwanted columns\n",
    "BVPdaily_df.drop([\"Longitude (x)\", \"Latitude (y)\", \"Station Name\", \"Climate ID\", \"Year\", \"Month\",\n",
    "                      \"Day\", \"Data Quality\", \"Max Temp (°C)\", \"Max Temp Flag\", \"Min Temp (°C)\", \"Min Temp Flag\",\n",
    "                      \"Mean Temp (°C)\", \"Mean Temp Flag\", \"Heat Deg Days (°C)\", \"Heat Deg Days Flag\", \"Cool Deg Days (°C)\",\n",
    "                       \"Cool Deg Days Flag\", \"Total Rain (mm)\", \"Total Rain Flag\", \"Total Snow (cm)\", \"Total Snow Flag\",\n",
    "                       \"Total Precip Flag\", \"Snow on Grnd (cm)\", \"Snow on Grnd Flag\", \"Dir of Max Gust (10s deg)\",\n",
    "                       \"Dir of Max Gust Flag\", \"Spd of Max Gust (km/h)\", \"Spd of Max Gust Flag\"], axis=1, inplace=True)\n",
    "# don't need to do anything about missing values: they appear as NaN, type float64\n",
    "# drop 1st Jan to 30th Sep 2005 (MCRB inputs start at 1st Oct 2005)\n",
    "BVPdaily_df.drop(BVPdaily_df.loc[\"2005-01-01\":\"2005-09-30\"].index, inplace=True)\n",
    "# need to drop 2nd Oct to 31st Dec 2016 (MCRB inputs end at 1st Oct 2016)\n",
    "BVPdaily_df.drop(BVPdaily_df.loc[\"2016-10-02\":\"2016-12-31\"].index, inplace=True)\n",
    "# drop P values less than 1.0mm\n",
    "BVPdaily_df = BVPdaily_df.drop(BVPdaily_df[BVPdaily_df.BV_daily_p_mm < 1.0].index)\n",
    "# BVPdaily_df"
   ]
  },
  {
   "cell_type": "markdown",
   "id": "upset-college",
   "metadata": {},
   "source": [
    "### Group by month (Oct to Sep)"
   ]
  },
  {
   "cell_type": "code",
   "execution_count": 239,
   "id": "described-tuner",
   "metadata": {},
   "outputs": [],
   "source": [
    "BVPoct_df = BVPdaily_df[BVPdaily_df.index.month == 10]\n",
    "BVPoct_df.rename(columns={'BV_daily_p_mm': 'BV_dailyoct_p_mm'}, inplace=True)\n",
    "BVPnov_df = BVPdaily_df[BVPdaily_df.index.month == 11]\n",
    "BVPnov_df.rename(columns={'BV_daily_p_mm': 'BV_dailynov_p_mm'}, inplace=True)\n",
    "BVPdec_df = BVPdaily_df[BVPdaily_df.index.month == 12]\n",
    "BVPdec_df.rename(columns={'BV_daily_p_mm': 'BV_dailydec_p_mm'}, inplace=True)\n",
    "BVPjan_df = BVPdaily_df[BVPdaily_df.index.month == 1]\n",
    "BVPjan_df.rename(columns={'BV_daily_p_mm': 'BV_dailyjan_p_mm'}, inplace=True)\n",
    "BVPfeb_df = BVPdaily_df[BVPdaily_df.index.month == 2]\n",
    "BVPfeb_df.rename(columns={'BV_daily_p_mm': 'BV_dailyfeb_p_mm'}, inplace=True)\n",
    "BVPmar_df = BVPdaily_df[BVPdaily_df.index.month == 3]\n",
    "BVPmar_df.rename(columns={'BV_daily_p_mm': 'BV_dailymar_p_mm'}, inplace=True)\n",
    "BVPapr_df = BVPdaily_df[BVPdaily_df.index.month == 4]\n",
    "BVPapr_df.rename(columns={'BV_daily_p_mm': 'BV_dailyapr_p_mm'}, inplace=True)\n",
    "BVPmay_df = BVPdaily_df[BVPdaily_df.index.month == 5]\n",
    "BVPmay_df.rename(columns={'BV_daily_p_mm': 'BV_dailymay_p_mm'}, inplace=True)\n",
    "BVPjun_df = BVPdaily_df[BVPdaily_df.index.month == 6]\n",
    "BVPjun_df.rename(columns={'BV_daily_p_mm': 'BV_dailyjun_p_mm'}, inplace=True)\n",
    "BVPjul_df = BVPdaily_df[BVPdaily_df.index.month == 7]\n",
    "BVPjul_df.rename(columns={'BV_daily_p_mm': 'BV_dailyjul_p_mm'}, inplace=True)\n",
    "BVPaug_df = BVPdaily_df[BVPdaily_df.index.month == 8]\n",
    "BVPaug_df.rename(columns={'BV_daily_p_mm': 'BV_dailyaug_p_mm'}, inplace=True)\n",
    "BVPsep_df = BVPdaily_df[BVPdaily_df.index.month == 9]\n",
    "BVPsep_df.rename(columns={'BV_daily_p_mm': 'BV_dailysep_p_mm'}, inplace=True)\n",
    "# BVPoct_df"
   ]
  },
  {
   "cell_type": "markdown",
   "id": "endless-portable",
   "metadata": {},
   "source": [
    "### Concatenate to get seasonal data (DJF, MAM, JJA, SON)"
   ]
  },
  {
   "cell_type": "code",
   "execution_count": 241,
   "id": "cleared-forward",
   "metadata": {},
   "outputs": [],
   "source": [
    "BVPdjf_df = pd.concat([BVPdec_df, BVPjan_df, BVPfeb_df], axis=1, join=\"outer\")\n",
    "BVPdjf_df['BV_winter_p_mm'] = BVPdjf_df.sum(axis=1)\n",
    "BVPmam_df = pd.concat([BVPmar_df, BVPapr_df, BVPmay_df], axis=1, join=\"outer\")\n",
    "BVPmam_df['BV_spring_p_mm'] = BVPmam_df.sum(axis=1)\n",
    "BVPjja_df = pd.concat([BVPjun_df, BVPjul_df, BVPaug_df], axis=1, join=\"outer\")\n",
    "BVPjja_df['BV_summer_p_mm'] = BVPjja_df.sum(axis=1)\n",
    "BVPson_df = pd.concat([BVPsep_df, BVPoct_df, BVPnov_df], axis=1, join=\"outer\")\n",
    "BVPson_df['BV_autumn_p_mm'] = BVPson_df.sum(axis=1)\n",
    "# BVPdjf_df"
   ]
  },
  {
   "cell_type": "markdown",
   "id": "injured-anthropology",
   "metadata": {},
   "source": [
    "### Kananaskis Pocaterra 1610.0 m (1734 NaNs in raw daily data!!!!!!)"
   ]
  },
  {
   "cell_type": "code",
   "execution_count": 139,
   "id": "lucky-plymouth",
   "metadata": {},
   "outputs": [],
   "source": [
    "KPPdaily_df = pd.read_csv(r\"C:\\Users\\b1043453\\OneDrive - Newcastle University\\OnePlanet PhD\\Hydrological_Modelling\\Marmot_Creek_Research_Basin\\Other_stations_within_50km\\Kananaskis_Pocaterra\\en_climate_daily_AB_3053604_2005-2016_P1D.csv\", \n",
    "                               header=[0])\n",
    "KPPdaily_df.rename(columns={'Date/Time': 'date', 'Total Precip (mm)': 'KP_daily_p_mm'}, inplace=True) # rename date column\n",
    "# change date column from object to datetime format\n",
    "KPPdaily_df['date'] =  pd.to_datetime(KPPdaily_df['date'], format = '%d/%m/%Y')\n",
    "# set date index\n",
    "KPPdaily_df.set_index(\"date\", inplace=True)\n",
    "# drop unwanted columns\n",
    "KPPdaily_df.drop([\"Longitude (x)\", \"Latitude (y)\", \"Station Name\", \"Climate ID\", \"Year\", \"Month\",\n",
    "                      \"Day\", \"Data Quality\", \"Max Temp (°C)\", \"Max Temp Flag\", \"Min Temp (°C)\", \"Min Temp Flag\",\n",
    "                      \"Mean Temp (°C)\", \"Mean Temp Flag\", \"Heat Deg Days (°C)\", \"Heat Deg Days Flag\", \"Cool Deg Days (°C)\",\n",
    "                       \"Cool Deg Days Flag\", \"Total Rain (mm)\", \"Total Rain Flag\", \"Total Snow (cm)\", \"Total Snow Flag\",\n",
    "                       \"Total Precip Flag\", \"Snow on Grnd (cm)\", \"Snow on Grnd Flag\", \"Dir of Max Gust (10s deg)\",\n",
    "                       \"Dir of Max Gust Flag\", \"Spd of Max Gust (km/h)\", \"Spd of Max Gust Flag\"], axis=1, inplace=True)\n",
    "# don't need to do anything about missing values: they appear as NaN, type float64\n",
    "# drop 1st Jan to 30th Sep 2005 (MCRB inputs start at 1st Oct 2005)\n",
    "KPPdaily_df.drop(KPPdaily_df.loc[\"2005-01-01\":\"2005-09-30\"].index, inplace=True)\n",
    "# need to drop 2nd Oct to 31st Dec 2016 (MCRB inputs end at 1st Oct 2016)\n",
    "KPPdaily_df.drop(KPPdaily_df.loc[\"2016-10-02\":\"2016-12-31\"].index, inplace=True)\n",
    "# drop P values less than 1.0mm\n",
    "KPPdaily_df = KPPdaily_df.drop(KPPdaily_df[KPPdaily_df.KP_daily_p_mm < 1.0].index)\n",
    "# KPPdaily_df"
   ]
  },
  {
   "cell_type": "markdown",
   "id": "organic-armenia",
   "metadata": {},
   "source": [
    "### Group by month (Oct to Sep)"
   ]
  },
  {
   "cell_type": "code",
   "execution_count": 243,
   "id": "suffering-jefferson",
   "metadata": {},
   "outputs": [],
   "source": [
    "KPPoct_df = KPPdaily_df[KPPdaily_df.index.month == 10]\n",
    "KPPoct_df.rename(columns={'KP_daily_p_mm': 'KP_dailyoct_p_mm'}, inplace=True)\n",
    "KPPnov_df = KPPdaily_df[KPPdaily_df.index.month == 11]\n",
    "KPPnov_df.rename(columns={'KP_daily_p_mm': 'KP_dailynov_p_mm'}, inplace=True)\n",
    "KPPdec_df = KPPdaily_df[KPPdaily_df.index.month == 12]\n",
    "KPPdec_df.rename(columns={'KP_daily_p_mm': 'KP_dailydec_p_mm'}, inplace=True)\n",
    "KPPjan_df = KPPdaily_df[KPPdaily_df.index.month == 1]\n",
    "KPPjan_df.rename(columns={'KP_daily_p_mm': 'KP_dailyjan_p_mm'}, inplace=True)\n",
    "KPPfeb_df = KPPdaily_df[KPPdaily_df.index.month == 2]\n",
    "KPPfeb_df.rename(columns={'KP_daily_p_mm': 'KP_dailyfeb_p_mm'}, inplace=True)\n",
    "KPPmar_df = KPPdaily_df[KPPdaily_df.index.month == 3]\n",
    "KPPmar_df.rename(columns={'KP_daily_p_mm': 'KP_dailymar_p_mm'}, inplace=True)\n",
    "KPPapr_df = KPPdaily_df[KPPdaily_df.index.month == 4]\n",
    "KPPapr_df.rename(columns={'KP_daily_p_mm': 'KP_dailyapr_p_mm'}, inplace=True)\n",
    "KPPmay_df = KPPdaily_df[KPPdaily_df.index.month == 5]\n",
    "KPPmay_df.rename(columns={'KP_daily_p_mm': 'KP_dailymay_p_mm'}, inplace=True)\n",
    "KPPjun_df = KPPdaily_df[KPPdaily_df.index.month == 6]\n",
    "KPPjun_df.rename(columns={'KP_daily_p_mm': 'KP_dailyjun_p_mm'}, inplace=True)\n",
    "KPPjul_df = KPPdaily_df[KPPdaily_df.index.month == 7]\n",
    "KPPjul_df.rename(columns={'KP_daily_p_mm': 'KP_dailyjul_p_mm'}, inplace=True)\n",
    "KPPaug_df = KPPdaily_df[KPPdaily_df.index.month == 8]\n",
    "KPPaug_df.rename(columns={'KP_daily_p_mm': 'KP_dailyaug_p_mm'}, inplace=True)\n",
    "KPPsep_df = KPPdaily_df[KPPdaily_df.index.month == 9]\n",
    "KPPsep_df.rename(columns={'KP_daily_p_mm': 'KP_dailysep_p_mm'}, inplace=True)\n",
    "# KPPoct_df"
   ]
  },
  {
   "cell_type": "markdown",
   "id": "macro-survival",
   "metadata": {},
   "source": [
    "### Concatenate to get seasonal data (DJF, MAM, JJA, SON)"
   ]
  },
  {
   "cell_type": "code",
   "execution_count": 245,
   "id": "informational-intake",
   "metadata": {},
   "outputs": [],
   "source": [
    "KPPdjf_df = pd.concat([KPPdec_df, KPPjan_df, KPPfeb_df], axis=1, join=\"outer\")\n",
    "KPPdjf_df['KP_winter_p_mm'] = KPPdjf_df.sum(axis=1)\n",
    "KPPmam_df = pd.concat([KPPmar_df, KPPapr_df, KPPmay_df], axis=1, join=\"outer\")\n",
    "KPPmam_df['KP_spring_p_mm'] = KPPmam_df.sum(axis=1)\n",
    "KPPjja_df = pd.concat([KPPjun_df, KPPjul_df, KPPaug_df], axis=1, join=\"outer\")\n",
    "KPPjja_df['KP_summer_p_mm'] = KPPjja_df.sum(axis=1)\n",
    "KPPson_df = pd.concat([KPPsep_df, KPPoct_df, KPPnov_df], axis=1, join=\"outer\")\n",
    "KPPson_df['KP_autumn_p_mm'] = KPPson_df.sum(axis=1)\n",
    "# KPPdjf_df"
   ]
  },
  {
   "cell_type": "markdown",
   "id": "nuclear-lounge",
   "metadata": {},
   "source": [
    "### Banff CS 1396.9 m (38 NaN in raw daily data)"
   ]
  },
  {
   "cell_type": "code",
   "execution_count": 167,
   "id": "gorgeous-stability",
   "metadata": {},
   "outputs": [],
   "source": [
    "BCSPdaily_df = pd.read_csv(r\"C:\\Users\\b1043453\\OneDrive - Newcastle University\\OnePlanet PhD\\Hydrological_Modelling\\Marmot_Creek_Research_Basin\\Other_stations_within_50km\\Banff_CS\\en_climate_daily_AB_3050519_2005-2016_P1D.csv\", \n",
    "                               header=[0])\n",
    "BCSPdaily_df.rename(columns={'Date/Time': 'date', 'Total Precip (mm)': 'BCS_daily_p_mm'}, inplace=True) # rename date column\n",
    "# change date column from object to datetime format\n",
    "BCSPdaily_df['date'] =  pd.to_datetime(BCSPdaily_df['date'], format = '%d/%m/%Y')\n",
    "BCSPdaily_df.set_index(\"date\", inplace=True)\n",
    "# drop unwanted columns\n",
    "BCSPdaily_df.drop([\"Longitude (x)\", \"Latitude (y)\", \"Station Name\", \"Climate ID\", \"Year\", \"Month\",\n",
    "                      \"Day\", \"Data Quality\", \"Max Temp (°C)\", \"Max Temp Flag\", \"Min Temp (°C)\", \"Min Temp Flag\",\n",
    "                      \"Mean Temp (°C)\", \"Mean Temp Flag\", \"Heat Deg Days (°C)\", \"Heat Deg Days Flag\", \"Cool Deg Days (°C)\",\n",
    "                       \"Cool Deg Days Flag\", \"Total Rain (mm)\", \"Total Rain Flag\", \"Total Snow (cm)\", \"Total Snow Flag\",\n",
    "                       \"Total Precip Flag\", \"Snow on Grnd (cm)\", \"Snow on Grnd Flag\", \"Dir of Max Gust (10s deg)\",\n",
    "                       \"Dir of Max Gust Flag\", \"Spd of Max Gust (km/h)\", \"Spd of Max Gust Flag\"], axis=1, inplace=True)\n",
    "# don't need to do anything about missing values: they appear as NaN, type float64\n",
    "# drop 1st Jan to 30th Sep 2005 (MCRB inputs start at 1st Oct 2005)\n",
    "BCSPdaily_df.drop(BCSPdaily_df.loc[\"2005-01-01\":\"2005-09-30\"].index, inplace=True)\n",
    "# drop 2nd Oct to 31st Dec 2016 (MCRB inputs end at 1st Oct 2016)\n",
    "BCSPdaily_df.drop(BCSPdaily_df.loc[\"2016-10-02\":\"2016-12-31\"].index, inplace=True)\n",
    "# drop P values less than 1.0mm\n",
    "BCSPdaily_df = BCSPdaily_df.drop(BCSPdaily_df[BCSPdaily_df.BCS_daily_p_mm < 1.0].index)\n",
    "# BCSPdaily_df"
   ]
  },
  {
   "cell_type": "markdown",
   "id": "inside-reservation",
   "metadata": {},
   "source": [
    "### Group by month (Oct to Sep)"
   ]
  },
  {
   "cell_type": "code",
   "execution_count": 247,
   "id": "elder-killing",
   "metadata": {},
   "outputs": [],
   "source": [
    "BCSPoct_df = BCSPdaily_df[BCSPdaily_df.index.month == 10]\n",
    "BCSPoct_df.rename(columns={'BCS_daily_p_mm': 'BCS_dailyoct_p_mm'}, inplace=True)\n",
    "BCSPnov_df = BCSPdaily_df[BCSPdaily_df.index.month == 11]\n",
    "BCSPnov_df.rename(columns={'BCS_daily_p_mm': 'BCS_dailynov_p_mm'}, inplace=True)\n",
    "BCSPdec_df = BCSPdaily_df[BCSPdaily_df.index.month == 12]\n",
    "BCSPdec_df.rename(columns={'BCS_daily_p_mm': 'BCS_dailydec_p_mm'}, inplace=True)\n",
    "BCSPjan_df = BCSPdaily_df[BCSPdaily_df.index.month == 1]\n",
    "BCSPjan_df.rename(columns={'BCS_daily_p_mm': 'BCS_dailyjan_p_mm'}, inplace=True)\n",
    "BCSPfeb_df = BCSPdaily_df[BCSPdaily_df.index.month == 2]\n",
    "BCSPfeb_df.rename(columns={'BCS_daily_p_mm': 'BCS_dailyfeb_p_mm'}, inplace=True)\n",
    "BCSPmar_df = BCSPdaily_df[BCSPdaily_df.index.month == 3]\n",
    "BCSPmar_df.rename(columns={'BCS_daily_p_mm': 'BCS_dailymar_p_mm'}, inplace=True)\n",
    "BCSPapr_df = BCSPdaily_df[BCSPdaily_df.index.month == 4]\n",
    "BCSPapr_df.rename(columns={'BCS_daily_p_mm': 'BCS_dailyapr_p_mm'}, inplace=True)\n",
    "BCSPmay_df = BCSPdaily_df[BCSPdaily_df.index.month == 5]\n",
    "BCSPmay_df.rename(columns={'BCS_daily_p_mm': 'BCS_dailymay_p_mm'}, inplace=True)\n",
    "BCSPjun_df = BCSPdaily_df[BCSPdaily_df.index.month == 6]\n",
    "BCSPjun_df.rename(columns={'BCS_daily_p_mm': 'BCS_dailyjun_p_mm'}, inplace=True)\n",
    "BCSPjul_df = BCSPdaily_df[BCSPdaily_df.index.month == 7]\n",
    "BCSPjul_df.rename(columns={'BCS_daily_p_mm': 'BCS_dailyjul_p_mm'}, inplace=True)\n",
    "BCSPaug_df = BCSPdaily_df[BCSPdaily_df.index.month == 8]\n",
    "BCSPaug_df.rename(columns={'BCS_daily_p_mm': 'BCS_dailyaug_p_mm'}, inplace=True)\n",
    "BCSPsep_df = BCSPdaily_df[BCSPdaily_df.index.month == 9]\n",
    "BCSPsep_df.rename(columns={'BCS_daily_p_mm': 'BCS_dailysep_p_mm'}, inplace=True)\n",
    "# BCSPoct_df"
   ]
  },
  {
   "cell_type": "markdown",
   "id": "premium-harbor",
   "metadata": {},
   "source": [
    "### Concatenate to get seasonal data (DJF, MAM, JJA, SON)"
   ]
  },
  {
   "cell_type": "code",
   "execution_count": 249,
   "id": "progressive-litigation",
   "metadata": {},
   "outputs": [],
   "source": [
    "BCSPdjf_df = pd.concat([BCSPdec_df, BCSPjan_df, BCSPfeb_df], axis=1, join=\"outer\")\n",
    "BCSPdjf_df['BCS_winter_p_mm'] = BCSPdjf_df.sum(axis=1)\n",
    "BCSPmam_df = pd.concat([BCSPmar_df, BCSPapr_df, BCSPmay_df], axis=1, join=\"outer\")\n",
    "BCSPmam_df['BCS_spring_p_mm'] = BCSPmam_df.sum(axis=1)\n",
    "BCSPjja_df = pd.concat([BCSPjun_df, BCSPjul_df, BCSPaug_df], axis=1, join=\"outer\")\n",
    "BCSPjja_df['BCS_summer_p_mm'] = BCSPjja_df.sum(axis=1)\n",
    "BCSPson_df = pd.concat([BCSPsep_df, BCSPoct_df, BCSPnov_df], axis=1, join=\"outer\")\n",
    "BCSPson_df['BCS_autumn_p_mm'] = BCSPson_df.sum(axis=1)\n",
    "# BCSPdjf_df"
   ]
  },
  {
   "cell_type": "markdown",
   "id": "nasty-patrol",
   "metadata": {},
   "source": [
    "### Wildcat Hills 1268.0 m (452 NaN in raw data!!)"
   ]
  },
  {
   "cell_type": "code",
   "execution_count": 143,
   "id": "editorial-gamma",
   "metadata": {},
   "outputs": [],
   "source": [
    "WHPdaily_df = pd.read_csv(r\"C:\\Users\\b1043453\\OneDrive - Newcastle University\\OnePlanet PhD\\Hydrological_Modelling\\Marmot_Creek_Research_Basin\\Other_stations_within_50km\\Wild_Cat_Hills\\en_climate_daily_AB_3037550_2005-2016_P1D.csv\", \n",
    "                               header=[0])\n",
    "WHPdaily_df.rename(columns={'Date/Time':'date', 'Total Precip (mm)':'WH_daily_p_mm'}, inplace=True) # rename date column\n",
    "# change date column from object to datetime format\n",
    "WHPdaily_df['date'] =  pd.to_datetime(WHPdaily_df['date'], format = '%d/%m/%Y')\n",
    "# set date index\n",
    "WHPdaily_df.set_index(\"date\", inplace=True)\n",
    "# drop unwanted columns\n",
    "WHPdaily_df.drop([\"Longitude (x)\", \"Latitude (y)\", \"Station Name\", \"Climate ID\", \"Year\", \"Month\",\n",
    "                      \"Day\", \"Data Quality\", \"Max Temp (°C)\", \"Max Temp Flag\", \"Min Temp (°C)\", \"Min Temp Flag\",\n",
    "                      \"Mean Temp (°C)\", \"Mean Temp Flag\", \"Heat Deg Days (°C)\", \"Heat Deg Days Flag\", \"Cool Deg Days (°C)\",\n",
    "                       \"Cool Deg Days Flag\", \"Total Rain (mm)\", \"Total Rain Flag\", \"Total Snow (cm)\", \"Total Snow Flag\",\n",
    "                       \"Total Precip Flag\", \"Snow on Grnd (cm)\", \"Snow on Grnd Flag\", \"Dir of Max Gust (10s deg)\",\n",
    "                       \"Dir of Max Gust Flag\", \"Spd of Max Gust (km/h)\", \"Spd of Max Gust Flag\"], axis=1, inplace=True)\n",
    "# don't need to do anything about missing values: they appear as NaN, type float64\n",
    "# drop 1st Jan to 30th Sep 2005 (MCRB inputs start at 1st Oct 2005)\n",
    "WHPdaily_df.drop(WHPdaily_df.loc[\"2005-01-01\":\"2005-09-30\"].index, inplace=True)\n",
    "# drop 2nd Oct to 31st Dec 2016 (MCRB inputs end at 1st Oct 2016)\n",
    "WHPdaily_df.drop(WHPdaily_df.loc[\"2016-10-02\":\"2016-12-31\"].index, inplace=True)\n",
    "# drop P values less than 1.0mm\n",
    "WHPdaily_df = WHPdaily_df.drop(WHPdaily_df[WHPdaily_df.WH_daily_p_mm < 1.0].index)\n",
    "# WHPdaily_df"
   ]
  },
  {
   "cell_type": "markdown",
   "id": "initial-brazil",
   "metadata": {},
   "source": [
    "### Group by month (Oct to Sep)"
   ]
  },
  {
   "cell_type": "code",
   "execution_count": 251,
   "id": "velvet-recipient",
   "metadata": {},
   "outputs": [],
   "source": [
    "WHPoct_df = WHPdaily_df[WHPdaily_df.index.month == 10]\n",
    "WHPoct_df.rename(columns={'WH_daily_p_mm': 'WH_dailyoct_p_mm'}, inplace=True)\n",
    "WHPnov_df = WHPdaily_df[WHPdaily_df.index.month == 11]\n",
    "WHPnov_df.rename(columns={'WH_daily_p_mm': 'WH_dailynov_p_mm'}, inplace=True)\n",
    "WHPdec_df = WHPdaily_df[WHPdaily_df.index.month == 12]\n",
    "WHPdec_df.rename(columns={'WH_daily_p_mm': 'WH_dailydec_p_mm'}, inplace=True)\n",
    "WHPjan_df = WHPdaily_df[WHPdaily_df.index.month == 1]\n",
    "WHPjan_df.rename(columns={'WH_daily_p_mm': 'WH_dailyjan_p_mm'}, inplace=True)\n",
    "WHPfeb_df = WHPdaily_df[WHPdaily_df.index.month == 2]\n",
    "WHPfeb_df.rename(columns={'WH_daily_p_mm': 'WH_dailyfeb_p_mm'}, inplace=True)\n",
    "WHPmar_df = WHPdaily_df[WHPdaily_df.index.month == 3]\n",
    "WHPmar_df.rename(columns={'WH_daily_p_mm': 'WH_dailymar_p_mm'}, inplace=True)\n",
    "WHPapr_df = WHPdaily_df[WHPdaily_df.index.month == 4]\n",
    "WHPapr_df.rename(columns={'WH_daily_p_mm': 'WH_dailyapr_p_mm'}, inplace=True)\n",
    "WHPmay_df = WHPdaily_df[WHPdaily_df.index.month == 5]\n",
    "WHPmay_df.rename(columns={'WH_daily_p_mm': 'WH_dailymay_p_mm'}, inplace=True)\n",
    "WHPjun_df = WHPdaily_df[WHPdaily_df.index.month == 6]\n",
    "WHPjun_df.rename(columns={'WH_daily_p_mm': 'WH_dailyjun_p_mm'}, inplace=True)\n",
    "WHPjul_df = WHPdaily_df[WHPdaily_df.index.month == 7]\n",
    "WHPjul_df.rename(columns={'WH_daily_p_mm': 'WH_dailyjul_p_mm'}, inplace=True)\n",
    "WHPaug_df = WHPdaily_df[WHPdaily_df.index.month == 8]\n",
    "WHPaug_df.rename(columns={'WH_daily_p_mm': 'WH_dailyaug_p_mm'}, inplace=True)\n",
    "WHPsep_df = WHPdaily_df[WHPdaily_df.index.month == 9]\n",
    "WHPsep_df.rename(columns={'WH_daily_p_mm': 'WH_dailysep_p_mm'}, inplace=True)\n",
    "# WHPoct_df"
   ]
  },
  {
   "cell_type": "markdown",
   "id": "stock-future",
   "metadata": {},
   "source": [
    "### Concatenate to get seasonal data (DJF, MAM, JJA, SON)"
   ]
  },
  {
   "cell_type": "code",
   "execution_count": 253,
   "id": "acute-panic",
   "metadata": {},
   "outputs": [],
   "source": [
    "WHPdjf_df = pd.concat([WHPdec_df, WHPjan_df, WHPfeb_df], axis=1, join=\"outer\")\n",
    "WHPdjf_df['WH_winter_p_mm'] = WHPdjf_df.sum(axis=1)\n",
    "WHPmam_df = pd.concat([WHPmar_df, WHPapr_df, WHPmay_df], axis=1, join=\"outer\")\n",
    "WHPmam_df['WH_spring_p_mm'] = WHPmam_df.sum(axis=1)\n",
    "WHPjja_df = pd.concat([WHPjun_df, WHPjul_df, WHPaug_df], axis=1, join=\"outer\")\n",
    "WHPjja_df['WH_summer_p_mm'] = WHPjja_df.sum(axis=1)\n",
    "WHPson_df = pd.concat([WHPsep_df, WHPoct_df, WHPnov_df], axis=1, join=\"outer\")\n",
    "WHPson_df['WH_autumn_p_mm'] = WHPson_df.sum(axis=1)\n",
    "# WHPdjf_df"
   ]
  },
  {
   "cell_type": "code",
   "execution_count": null,
   "id": "positive-passion",
   "metadata": {},
   "outputs": [],
   "source": []
  },
  {
   "cell_type": "code",
   "execution_count": null,
   "id": "quiet-definition",
   "metadata": {},
   "outputs": [],
   "source": []
  },
  {
   "cell_type": "markdown",
   "id": "opening-invite",
   "metadata": {},
   "source": [
    "### Plot histogram and probability distributions for wet days at each station in descending order of elevation"
   ]
  },
  {
   "cell_type": "markdown",
   "id": "mysterious-image",
   "metadata": {},
   "source": [
    "## OCTOBER"
   ]
  },
  {
   "cell_type": "markdown",
   "id": "mobile-actor",
   "metadata": {},
   "source": [
    "### Fisera Ridge 2325 m"
   ]
  },
  {
   "cell_type": "code",
   "execution_count": 254,
   "id": "graduate-evening",
   "metadata": {},
   "outputs": [
    {
     "data": {
      "text/plain": [
       "Text(0.5, 1.0, 'Fisera Ridge 2325 m (Octobers 2005-2016)')"
      ]
     },
     "execution_count": 254,
     "metadata": {},
     "output_type": "execute_result"
    },
    {
     "data": {
      "image/png": "[encoded data removed]",
      "text/plain": [
       "<Figure size 432x288 with 1 Axes>"
      ]
     },
     "metadata": {
      "needs_background": "light"
     },
     "output_type": "display_data"
    }
   ],
   "source": [
    "FRPoct_df.FR_dailyoct_p_mm.plot(kind='hist', bins=20)\n",
    "plt.title('Fisera Ridge 2325 m (Octobers 2005-2016)')"
   ]
  },
  {
   "cell_type": "code",
   "execution_count": 257,
   "id": "global-bumper",
   "metadata": {},
   "outputs": [
    {
     "name": "stdout",
     "output_type": "stream",
     "text": [
      "gamma: (0.6021657305012404, 1.0493000000000001, 11.443060389645957)\n",
      "exponential: (1.0493000000000003, 6.08629494949495)\n"
     ]
    },
    {
     "data": {
      "image/png": "[encoded data removed]",
      "text/plain": [
       "<Figure size 432x288 with 1 Axes>"
      ]
     },
     "metadata": {
      "needs_background": "light"
     },
     "output_type": "display_data"
    }
   ],
   "source": [
    "# fit distributions\n",
    "x = np.linspace(1, max(FRPoct_df.FR_dailyoct_p_mm), 100)\n",
    "y = FRPoct_df.FR_dailyoct_p_mm\n",
    "FRPoct_df.FR_dailyoct_p_mm.plot(kind='hist', bins=20, density=True, color='lightgrey', label='precipitation histogram')\n",
    "# fit gamma distn\n",
    "param = scipy.stats.gamma.fit(y)\n",
    "print(\"gamma:\", param)\n",
    "pdf_fitted = scipy.stats.gamma.pdf(x, a=0.76, scale=5.25) # a is shape param\n",
    "plt.plot(x, pdf_fitted, label='fitted:gamma')\n",
    "# fit exponential distn\n",
    "param = scipy.stats.expon.fit(y)\n",
    "print(\"exponential:\", param)\n",
    "pdf_fitted = scipy.stats.expon.pdf(x, param[0], param[1])\n",
    "plt.plot(x, pdf_fitted, label='fitted:exponential')\n",
    "# plotting\n",
    "plt.xlabel('rainfall (mm/day)')\n",
    "# plt.xlim(0, 30)\n",
    "# plt.ylim(0, 0.25)\n",
    "plt.legend()\n",
    "plt.title('Fisera Ridge 2325 m (Octobers 2005-2016)')\n",
    "# plt.show()\n",
    "plt.savefig(r'C:\\Users\\b1043453\\OneDrive - Newcastle University\\OnePlanet PhD\\Random_mixing\\RMWSPy_Horning_and_Haese_2021\\RMWSPy-master\\MCRB_examples\\MCRB_gauges_only\\Characterising_P_statistics\\probdist_monthly_plots_2005-16\\FRproboct_1mm_2005-16.png')"
   ]
  },
  {
   "cell_type": "markdown",
   "id": "pacific-combine",
   "metadata": {},
   "source": [
    "### Upper Clearing 1845 m"
   ]
  },
  {
   "cell_type": "code",
   "execution_count": 258,
   "id": "textile-award",
   "metadata": {},
   "outputs": [
    {
     "data": {
      "text/plain": [
       "Text(0.5, 1.0, 'Upper Clearing 1845 m (Octobers 2005-2016)')"
      ]
     },
     "execution_count": 258,
     "metadata": {},
     "output_type": "execute_result"
    },
    {
     "data": {
      "image/png": "[encoded data removed]",
      "text/plain": [
       "<Figure size 432x288 with 1 Axes>"
      ]
     },
     "metadata": {
      "needs_background": "light"
     },
     "output_type": "display_data"
    }
   ],
   "source": [
    "UCPoct_df.UC_dailyoct_p_mm.plot(kind='hist', bins=20)\n",
    "plt.title('Upper Clearing 1845 m (Octobers 2005-2016)')"
   ]
  },
  {
   "cell_type": "code",
   "execution_count": 259,
   "id": "comic-perfume",
   "metadata": {},
   "outputs": [
    {
     "name": "stdout",
     "output_type": "stream",
     "text": [
      "gamma: (0.779679370873593, 1.028499999999999, 5.150259419876063)\n",
      "exponential: (1.0284999999999993, 5.182304166666667)\n"
     ]
    },
    {
     "data": {
      "image/png": "[encoded data removed]",
      "text/plain": [
       "<Figure size 432x288 with 1 Axes>"
      ]
     },
     "metadata": {
      "needs_background": "light"
     },
     "output_type": "display_data"
    }
   ],
   "source": [
    "# fit distributions\n",
    "x = np.linspace(1, max(UCPoct_df.UC_dailyoct_p_mm), 100)\n",
    "y = UCPoct_df.UC_dailyoct_p_mm\n",
    "UCPoct_df.UC_dailyoct_p_mm.plot(kind='hist', bins=20, density=True, color='lightgrey', label='precipitation histogram')\n",
    "# fit gamma\n",
    "param = scipy.stats.gamma.fit(y)\n",
    "print(\"gamma:\", param)\n",
    "pdf_fitted = scipy.stats.gamma.pdf(x, a=0.76, scale=5.25) # a is shape param\n",
    "plt.plot(x, pdf_fitted, label='fitted:gamma')\n",
    "# fit exp\n",
    "param = scipy.stats.expon.fit(y)\n",
    "print(\"exponential:\", param)\n",
    "pdf_fitted = scipy.stats.expon.pdf(x, param[0], param[1])\n",
    "plt.plot(x, pdf_fitted, label='fitted:exponential')\n",
    "# plotting\n",
    "plt.xlabel('rainfall (mm)')\n",
    "# plt.xlim(0, 40)\n",
    "# plt.ylim(0, 0.35)\n",
    "plt.legend()\n",
    "plt.title('Upper Clearing 1845 m (Octobers 2005-2016)')\n",
    "# plt.show()\n",
    "plt.savefig(r'C:\\Users\\b1043453\\OneDrive - Newcastle University\\OnePlanet PhD\\Random_mixing\\RMWSPy_Horning_and_Haese_2021\\RMWSPy-master\\MCRB_examples\\MCRB_gauges_only\\Characterising_P_statistics\\probdist_monthly_plots_2005-16\\UCproboct_1mm_2005-16.png')"
   ]
  },
  {
   "cell_type": "markdown",
   "id": "working-bloom",
   "metadata": {},
   "source": [
    "### Kananskis Pocaterra 1610 m, 653 wet days"
   ]
  },
  {
   "cell_type": "code",
   "execution_count": 260,
   "id": "magnetic-africa",
   "metadata": {},
   "outputs": [
    {
     "data": {
      "text/plain": [
       "Text(0.5, 1.0, 'Kananaskis Pocaterra 1610 m (Octobers 2005-2016)')"
      ]
     },
     "execution_count": 260,
     "metadata": {},
     "output_type": "execute_result"
    },
    {
     "data": {
      "image/png": "[encoded data removed]",
      "text/plain": [
       "<Figure size 432x288 with 1 Axes>"
      ]
     },
     "metadata": {
      "needs_background": "light"
     },
     "output_type": "display_data"
    }
   ],
   "source": [
    "KPPoct_df.KP_dailyoct_p_mm.plot(kind='hist', bins=20)\n",
    "plt.title('Kananaskis Pocaterra 1610 m (Octobers 2005-2016)')"
   ]
  },
  {
   "cell_type": "markdown",
   "id": "solar-given",
   "metadata": {},
   "source": [
    "### **** There was a non-finite value error when fitting gamma and exp distns"
   ]
  },
  {
   "cell_type": "code",
   "execution_count": 262,
   "id": "virgin-jungle",
   "metadata": {},
   "outputs": [],
   "source": [
    "# # fit distributions\n",
    "# x = np.linspace(1, max(KPPoct_df.KP_dailyoct_p_mm), 100)\n",
    "# y = KPPoct_df.KP_dailyoct_p_mm\n",
    "# KPPoct_df.KP_dailyoct_p_mm.plot(kind='hist', bins=20, density=True, color='lightgrey', label='precipitation histogram')\n",
    "# # fit gamma\n",
    "# param = scipy.stats.gamma.fit(y)\n",
    "# print(\"gamma:\", param)\n",
    "# pdf_fitted = scipy.stats.gamma.pdf(x, a=0.76, scale=5.25) # a is shape param\n",
    "# plt.plot(x, pdf_fitted, label='fitted:gamma')\n",
    "# # fit exp\n",
    "# param = scipy.stats.expon.fit(y)\n",
    "# print(\"exponential:\", param)\n",
    "# pdf_fitted = scipy.stats.expon.pdf(x, param[0], param[1])\n",
    "# plt.plot(x, pdf_fitted, label='fitted:exponential')\n",
    "# # plotting\n",
    "# plt.xlabel('rainfall (mm)')\n",
    "# # plt.xlim(0, 40)\n",
    "# # plt.ylim(0, 0.35)\n",
    "# plt.legend()\n",
    "# plt.title('Kananaskis Pocaterra 1610 m (Octobers 2005-2016)')\n",
    "# # plt.show()\n",
    "# plt.savefig(r'C:\\Users\\b1043453\\OneDrive - Newcastle University\\OnePlanet PhD\\Random_mixing\\RMWSPy_Horning_and_Haese_2021\\RMWSPy-master\\MCRB_examples\\MCRB_gauges_only\\Characterising_P_statistics\\probdist_monthly_plots_2005-16\\KPproboct_1mm_2005-16.png')"
   ]
  },
  {
   "cell_type": "markdown",
   "id": "statistical-victor",
   "metadata": {},
   "source": [
    "### Hay Meadow 1436 m"
   ]
  },
  {
   "cell_type": "code",
   "execution_count": 263,
   "id": "assured-roberts",
   "metadata": {},
   "outputs": [
    {
     "data": {
      "text/plain": [
       "Text(0.5, 1.0, 'Hay Meadow 1436 m (Octobers 2005-2016)')"
      ]
     },
     "execution_count": 263,
     "metadata": {},
     "output_type": "execute_result"
    },
    {
     "data": {
      "image/png": "[encoded data removed]",
      "text/plain": [
       "<Figure size 432x288 with 1 Axes>"
      ]
     },
     "metadata": {
      "needs_background": "light"
     },
     "output_type": "display_data"
    }
   ],
   "source": [
    "HMPoct_df.HM_dailyoct_p_mm.plot(kind='hist', bins=20)\n",
    "plt.title('Hay Meadow 1436 m (Octobers 2005-2016)')"
   ]
  },
  {
   "cell_type": "code",
   "execution_count": 264,
   "id": "realistic-aircraft",
   "metadata": {},
   "outputs": [
    {
     "name": "stdout",
     "output_type": "stream",
     "text": [
      "gamma: (0.5782600592432731, 1.0457999999999998, 5.591880834469837)\n",
      "exponential: (1.0458, 4.099794285714285)\n"
     ]
    },
    {
     "data": {
      "image/png": "[encoded data removed]",
      "text/plain": [
       "<Figure size 432x288 with 1 Axes>"
      ]
     },
     "metadata": {
      "needs_background": "light"
     },
     "output_type": "display_data"
    }
   ],
   "source": [
    "# fit distributions\n",
    "x = np.linspace(1, max(HMPoct_df.HM_dailyoct_p_mm), 100)\n",
    "y = HMPoct_df.HM_dailyoct_p_mm\n",
    "HMPoct_df.HM_dailyoct_p_mm.plot(kind='hist', bins=20, density=True, color='lightgrey', label='precipitation histogram')\n",
    "# fit gamma distn\n",
    "param = scipy.stats.gamma.fit(y)\n",
    "print(\"gamma:\", param)\n",
    "pdf_fitted = scipy.stats.gamma.pdf(x, a=0.76, scale=5.25) # a is shape param\n",
    "plt.plot(x, pdf_fitted, label='fitted:gamma')\n",
    "# fit exponential distn\n",
    "param = scipy.stats.expon.fit(y)\n",
    "print(\"exponential:\", param)\n",
    "pdf_fitted = scipy.stats.expon.pdf(x, param[0], param[1])\n",
    "plt.plot(x, pdf_fitted, label='fitted:exponential')\n",
    "# plotting\n",
    "plt.xlabel('rainfall (mm/day)')\n",
    "# plt.xlim(0, 30)\n",
    "# plt.ylim(0, 0.25)\n",
    "plt.legend()\n",
    "plt.title('Hay Meadow 1436 m (Octobers 2005-2016)')\n",
    "# plt.show()\n",
    "plt.savefig(r'C:\\Users\\b1043453\\OneDrive - Newcastle University\\OnePlanet PhD\\Random_mixing\\RMWSPy_Horning_and_Haese_2021\\RMWSPy-master\\MCRB_examples\\MCRB_gauges_only\\Characterising_P_statistics\\probdist_monthly_plots_2005-16\\HMproboct_1mm_2005-16.png')"
   ]
  },
  {
   "cell_type": "markdown",
   "id": "recent-sierra",
   "metadata": {},
   "source": [
    "### Banff CS 1397 m"
   ]
  },
  {
   "cell_type": "code",
   "execution_count": 265,
   "id": "fifty-auditor",
   "metadata": {},
   "outputs": [
    {
     "data": {
      "text/plain": [
       "Text(0.5, 1.0, 'Banff CS 1397 m (Octobers 2005-2016)')"
      ]
     },
     "execution_count": 265,
     "metadata": {},
     "output_type": "execute_result"
    },
    {
     "data": {
      "image/png": "[encoded data removed]",
      "text/plain": [
       "<Figure size 432x288 with 1 Axes>"
      ]
     },
     "metadata": {
      "needs_background": "light"
     },
     "output_type": "display_data"
    }
   ],
   "source": [
    "BCSPoct_df.BCS_dailyoct_p_mm.plot(kind='hist', bins=20)\n",
    "plt.title('Banff CS 1397 m (Octobers 2005-2016)')"
   ]
  },
  {
   "cell_type": "markdown",
   "id": "conscious-specialist",
   "metadata": {},
   "source": [
    "### **** There was a non-finite value error when fitting gamma and exp distns"
   ]
  },
  {
   "cell_type": "code",
   "execution_count": 168,
   "id": "sensitive-irrigation",
   "metadata": {},
   "outputs": [],
   "source": [
    "# # fit distributions\n",
    "# x = np.linspace(1, max(BCSPoct_df.BCS_dailyoct_p_mm), 100)\n",
    "# y = BCSPoct_df.BCS_dailyoct_p_mm\n",
    "# BCSPoct_df.BCS_dailyoct_p_mm.plot(kind='hist', bins=20, density=True, color='lightgrey', label='precipitation histogram')\n",
    "# # fit gamma distn\n",
    "# param = scipy.stats.gamma.fit(y)\n",
    "# print(\"gamma:\", param)\n",
    "# pdf_fitted = scipy.stats.gamma.pdf(x, a=0.76, scale=5.25) # a is shape param\n",
    "# plt.plot(x, pdf_fitted, label='fitted:gamma')\n",
    "# # fit exponential distn\n",
    "# param = scipy.stats.expon.fit(y)\n",
    "# print(\"exponential:\", param)\n",
    "# pdf_fitted = scipy.stats.expon.pdf(x, param[0], param[1])\n",
    "# plt.plot(x, pdf_fitted, label='fitted:exponential')\n",
    "# # plotting\n",
    "# plt.xlabel('rainfall (mm/day)')\n",
    "# plt.xlim(0, 30)\n",
    "# plt.ylim(0, 0.25)\n",
    "# plt.legend()\n",
    "# plt.title('Banff CS 1397 m (Octobers 2005-2016)')\n",
    "# # plt.show()\n",
    "# plt.savefig(r'C:\\Users\\b1043453\\OneDrive - Newcastle University\\OnePlanet PhD\\Random_mixing\\RMWSPy_Horning_and_Haese_2021\\RMWSPy-master\\MCRB_examples\\MCRB_gauges_only\\Characterising_P_statistics\\probdist_monthly_plots_2005-16\\BCSproboct_1mm_2005-16.png')"
   ]
  },
  {
   "cell_type": "markdown",
   "id": "nearby-badge",
   "metadata": {},
   "source": [
    "### Kananaskis 1391 m"
   ]
  },
  {
   "cell_type": "code",
   "execution_count": 266,
   "id": "proper-turtle",
   "metadata": {},
   "outputs": [
    {
     "data": {
      "text/plain": [
       "Text(0.5, 1.0, 'Kananaskis 1391 m (Octobers 2005-2016)')"
      ]
     },
     "execution_count": 266,
     "metadata": {},
     "output_type": "execute_result"
    },
    {
     "data": {
      "image/png": "[encoded data removed]",
      "text/plain": [
       "<Figure size 432x288 with 1 Axes>"
      ]
     },
     "metadata": {
      "needs_background": "light"
     },
     "output_type": "display_data"
    }
   ],
   "source": [
    "KPoct_df.K_dailyoct_p_mm.plot(kind='hist', bins=20)\n",
    "plt.title('Kananaskis 1391 m (Octobers 2005-2016)')"
   ]
  },
  {
   "cell_type": "code",
   "execution_count": 267,
   "id": "several-racing",
   "metadata": {},
   "outputs": [
    {
     "name": "stdout",
     "output_type": "stream",
     "text": [
      "gamma: (0.6799080166062834, 0.9999999999999999, 2.1614513857237787)\n",
      "exponential: (1.0, 5.41304347826087)\n"
     ]
    },
    {
     "data": {
      "image/png": "[encoded data removed]",
      "text/plain": [
       "<Figure size 432x288 with 1 Axes>"
      ]
     },
     "metadata": {
      "needs_background": "light"
     },
     "output_type": "display_data"
    }
   ],
   "source": [
    "# fit distributions\n",
    "x = np.linspace(1, max(KPoct_df.K_dailyoct_p_mm), 100)\n",
    "y = KPoct_df.K_dailyoct_p_mm\n",
    "KPoct_df.K_dailyoct_p_mm.plot(kind='hist', bins=20, density=True, color='lightgrey', label='precipitation histogram')\n",
    "# fit gamma distn\n",
    "param = scipy.stats.gamma.fit(y)\n",
    "print(\"gamma:\", param)\n",
    "pdf_fitted = scipy.stats.gamma.pdf(x, a=0.76, scale=5.25) # a is shape param\n",
    "plt.plot(x, pdf_fitted, label='fitted:gamma')\n",
    "# fit exponential distn\n",
    "param = scipy.stats.expon.fit(y)\n",
    "print(\"exponential:\", param)\n",
    "pdf_fitted = scipy.stats.expon.pdf(x, param[0], param[1])\n",
    "plt.plot(x, pdf_fitted, label='fitted:exponential')\n",
    "# plotting\n",
    "plt.xlabel('rainfall (mm/day)')\n",
    "# plt.xlim(0, 30)\n",
    "# plt.ylim(0, 0.25)\n",
    "plt.legend()\n",
    "plt.title('Kananaskis 1391 m (Octobers 2005-2016)')\n",
    "# plt.show()\n",
    "plt.savefig(r'C:\\Users\\b1043453\\OneDrive - Newcastle University\\OnePlanet PhD\\Random_mixing\\RMWSPy_Horning_and_Haese_2021\\RMWSPy-master\\MCRB_examples\\MCRB_gauges_only\\Characterising_P_statistics\\probdist_monthly_plots_2005-16\\Kproboct_1mm_2005-16.png')"
   ]
  },
  {
   "cell_type": "markdown",
   "id": "satisfied-establishment",
   "metadata": {},
   "source": [
    "### Bow Valley 1298 m"
   ]
  },
  {
   "cell_type": "code",
   "execution_count": 268,
   "id": "final-thailand",
   "metadata": {},
   "outputs": [
    {
     "data": {
      "text/plain": [
       "Text(0.5, 1.0, 'Fisera Ridge 2325 m (Octobers 2005-2016)')"
      ]
     },
     "execution_count": 268,
     "metadata": {},
     "output_type": "execute_result"
    },
    {
     "data": {
      "image/png": "[encoded data removed]",
      "text/plain": [
       "<Figure size 432x288 with 1 Axes>"
      ]
     },
     "metadata": {
      "needs_background": "light"
     },
     "output_type": "display_data"
    }
   ],
   "source": [
    "BVPoct_df.BV_dailyoct_p_mm.plot(kind='hist', bins=20)\n",
    "plt.title('Fisera Ridge 2325 m (Octobers 2005-2016)')"
   ]
  },
  {
   "cell_type": "markdown",
   "id": "banned-counter",
   "metadata": {},
   "source": [
    "### **** There was a non-finite value error when fitting gamma and exp distns"
   ]
  },
  {
   "cell_type": "code",
   "execution_count": 175,
   "id": "completed-virgin",
   "metadata": {},
   "outputs": [],
   "source": [
    "# # fit distributions\n",
    "# x = np.linspace(1, max(BVPoct_df.BV_dailyoct_p_mm), 100)\n",
    "# y = BVPoct_df.BV_dailyoct_p_mm\n",
    "# BVPoct_df.BV_dailyoct_p_mm.plot(kind='hist', bins=20, density=True, color='lightgrey', label='precipitation histogram')\n",
    "# # fit gamma distn\n",
    "# param = scipy.stats.gamma.fit(y)\n",
    "# print(\"gamma:\", param)\n",
    "# pdf_fitted = scipy.stats.gamma.pdf(x, a=0.76, scale=5.25) # a is shape param\n",
    "# plt.plot(x, pdf_fitted, label='fitted:gamma')\n",
    "# # fit exponential distn\n",
    "# param = scipy.stats.expon.fit(y)\n",
    "# print(\"exponential:\", param)\n",
    "# pdf_fitted = scipy.stats.expon.pdf(x, param[0], param[1])\n",
    "# plt.plot(x, pdf_fitted, label='fitted:exponential')\n",
    "# # plotting\n",
    "# plt.xlabel('rainfall (mm/day)')\n",
    "# # plt.xlim(0, 30)\n",
    "# # plt.ylim(0, 0.25)\n",
    "# plt.legend()\n",
    "# plt.title('Bow Valley 1298 m (Octobers 2005-2016)')\n",
    "# # plt.show()\n",
    "# plt.savefig(r'C:\\Users\\b1043453\\OneDrive - Newcastle University\\OnePlanet PhD\\Random_mixing\\RMWSPy_Horning_and_Haese_2021\\RMWSPy-master\\MCRB_examples\\MCRB_gauges_only\\Characterising_P_statistics\\probdist_monthly_plots_2005-16\\BVproboct_1mm_2005-16.png')"
   ]
  },
  {
   "cell_type": "markdown",
   "id": "regional-petersburg",
   "metadata": {},
   "source": [
    "### Wildcat Hills 1268 m"
   ]
  },
  {
   "cell_type": "code",
   "execution_count": 269,
   "id": "earlier-oriental",
   "metadata": {},
   "outputs": [
    {
     "data": {
      "text/plain": [
       "Text(0.5, 1.0, 'Wildcat Hills 1268 m (Octobers 2005-2016)')"
      ]
     },
     "execution_count": 269,
     "metadata": {},
     "output_type": "execute_result"
    },
    {
     "data": {
      "image/png": "[encoded data removed]",
      "text/plain": [
       "<Figure size 432x288 with 1 Axes>"
      ]
     },
     "metadata": {
      "needs_background": "light"
     },
     "output_type": "display_data"
    }
   ],
   "source": [
    "WHPoct_df.WH_dailyoct_p_mm.plot(kind='hist', bins=20)\n",
    "plt.title('Wildcat Hills 1268 m (Octobers 2005-2016)')"
   ]
  },
  {
   "cell_type": "markdown",
   "id": "automotive-wichita",
   "metadata": {},
   "source": [
    "### **** There was a non-finite value error when fitting gamma and exp distns"
   ]
  },
  {
   "cell_type": "code",
   "execution_count": 178,
   "id": "institutional-adolescent",
   "metadata": {},
   "outputs": [],
   "source": [
    "# # fit distributions\n",
    "# x = np.linspace(1, max(WHPoct_df.WH_dailyoct_p_mm), 100)\n",
    "# y = WHPoct_df.WH_dailyoct_p_mm\n",
    "# WHPoct_df.WH_dailyoct_p_mm.plot(kind='hist', bins=20, density=True, color='lightgrey', label='precipitation histogram')\n",
    "# # fit gamma distn\n",
    "# param = scipy.stats.gamma.fit(y)\n",
    "# print(\"gamma:\", param)\n",
    "# pdf_fitted = scipy.stats.gamma.pdf(x, a=0.76, scale=5.25) # a is shape param\n",
    "# plt.plot(x, pdf_fitted, label='fitted:gamma')\n",
    "# # fit exponential distn\n",
    "# param = scipy.stats.expon.fit(y)\n",
    "# print(\"exponential:\", param)\n",
    "# pdf_fitted = scipy.stats.expon.pdf(x, param[0], param[1])\n",
    "# plt.plot(x, pdf_fitted, label='fitted:exponential')\n",
    "# # plotting\n",
    "# plt.xlabel('rainfall (mm/day)')\n",
    "# # plt.xlim(0, 30)\n",
    "# # plt.ylim(0, 0.25)\n",
    "# plt.legend()\n",
    "# plt.title('Wildcat Hills 1268 m (Octobers 2005-2016)')\n",
    "# # plt.show()\n",
    "# plt.savefig(r'C:\\Users\\b1043453\\OneDrive - Newcastle University\\OnePlanet PhD\\Random_mixing\\RMWSPy_Horning_and_Haese_2021\\RMWSPy-master\\MCRB_examples\\MCRB_gauges_only\\Characterising_P_statistics\\probdist_monthly_plots_2005-16\\WHproboct_1mm_2005-16.png')"
   ]
  },
  {
   "cell_type": "code",
   "execution_count": null,
   "id": "spanish-warren",
   "metadata": {},
   "outputs": [],
   "source": []
  },
  {
   "cell_type": "code",
   "execution_count": null,
   "id": "colored-nightlife",
   "metadata": {},
   "outputs": [],
   "source": []
  }
 ],
 "metadata": {
  "kernelspec": {
   "display_name": "Python 3",
   "language": "python",
   "name": "python3"
  },
  "language_info": {
   "codemirror_mode": {
    "name": "ipython",
    "version": 3
   },
   "file_extension": ".py",
   "mimetype": "text/x-python",
   "name": "python",
   "nbconvert_exporter": "python",
   "pygments_lexer": "ipython3",
   "version": "3.6.5"
  }
 },
 "nbformat": 4,
 "nbformat_minor": 5
}
