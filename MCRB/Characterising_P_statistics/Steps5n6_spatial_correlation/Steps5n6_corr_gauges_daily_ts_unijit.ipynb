{
 "cells": [
  {
   "cell_type": "markdown",
   "id": "persistent-draft",
   "metadata": {},
   "source": [
    "### Produce a correlation plot for 20km radius pairs of gauges: FR, UC, HM, K, BV\n",
    "### Transform P values to uniform on range [0,1] by ranking and dividing by the number of values (experiment with different ranking 'methods'\n",
    "### Jitter P values to eliminate tied values (we want each value to be unique before ranking them)\n",
    "### Transform separation distances using scipy distance_matrix (or spatial.distance.cdist) to get them into a form that will work with the RM code"
   ]
  },
  {
   "cell_type": "code",
   "execution_count": 1,
   "id": "russian-intro",
   "metadata": {},
   "outputs": [],
   "source": [
    "import numpy as np\n",
    "import pandas as pd\n",
    "import math\n",
    "import scipy\n",
    "import scipy.stats as st\n",
    "import matplotlib.pyplot as plt\n",
    "%matplotlib inline\n",
    "from scipy.spatial import distance_matrix\n",
    "from scipy.optimize import curve_fit\n",
    "from numpy import genfromtxt"
   ]
  },
  {
   "cell_type": "markdown",
   "id": "dental-inspector",
   "metadata": {},
   "source": [
    "### Read in P data for all 8 stations from csv file created in P_inputs_2005-2016.ipynb"
   ]
  },
  {
   "cell_type": "code",
   "execution_count": 2,
   "id": "modern-thriller",
   "metadata": {},
   "outputs": [],
   "source": [
    "# Use pd.read_csv to read csv file\n",
    "P_df = pd.read_csv(r\"C:\\Users\\b1043453\\OneDrive - Newcastle University\\OnePlanet PhD\\Random_mixing\\RMWSPy_Horning_and_Haese_2021\\RMWSPy-master\\MCRB_examples\\MCRB_gauges_only\\Characterising_P_statistics\\Pinputs_2005-2016.csv\",\n",
    "                         index_col=0)\n",
    "# drop KP, BCS and WH\n",
    "P_df = P_df.drop([\"KP_p_mm\", \"BCS_p_mm\", \"WH_p_mm\"], axis=1)\n",
    "# P_df"
   ]
  },
  {
   "cell_type": "markdown",
   "id": "systematic-contest",
   "metadata": {},
   "source": [
    "### Generate a set of random numbers to jitter the P ts data then add them to each column in the dataframe"
   ]
  },
  {
   "cell_type": "code",
   "execution_count": 3,
   "id": "associate-column",
   "metadata": {},
   "outputs": [
    {
     "data": {
      "text/html": [
       "<div>\n",
       "<style scoped>\n",
       "    .dataframe tbody tr th:only-of-type {\n",
       "        vertical-align: middle;\n",
       "    }\n",
       "\n",
       "    .dataframe tbody tr th {\n",
       "        vertical-align: top;\n",
       "    }\n",
       "\n",
       "    .dataframe thead th {\n",
       "        text-align: right;\n",
       "    }\n",
       "</style>\n",
       "<table border=\"1\" class=\"dataframe\">\n",
       "  <thead>\n",
       "    <tr style=\"text-align: right;\">\n",
       "      <th></th>\n",
       "      <th>FR_p_mm</th>\n",
       "      <th>UC_p_mm</th>\n",
       "      <th>HM_p_mm</th>\n",
       "      <th>K_p_mm</th>\n",
       "      <th>BV_p_mm</th>\n",
       "      <th>jitter</th>\n",
       "      <th>FR_p_mm_jit</th>\n",
       "      <th>UC_p_mm_jit</th>\n",
       "      <th>HM_p_mm_jit</th>\n",
       "      <th>K_p_mm_jit</th>\n",
       "      <th>BV_p_mm_jit</th>\n",
       "    </tr>\n",
       "    <tr>\n",
       "      <th>date</th>\n",
       "      <th></th>\n",
       "      <th></th>\n",
       "      <th></th>\n",
       "      <th></th>\n",
       "      <th></th>\n",
       "      <th></th>\n",
       "      <th></th>\n",
       "      <th></th>\n",
       "      <th></th>\n",
       "      <th></th>\n",
       "      <th></th>\n",
       "    </tr>\n",
       "  </thead>\n",
       "  <tbody>\n",
       "    <tr>\n",
       "      <th>2005-10-01</th>\n",
       "      <td>16.0160</td>\n",
       "      <td>11.3028</td>\n",
       "      <td>7.3722</td>\n",
       "      <td>0.0</td>\n",
       "      <td>10.4</td>\n",
       "      <td>0.000004</td>\n",
       "      <td>16.016004</td>\n",
       "      <td>11.302804</td>\n",
       "      <td>7.372204</td>\n",
       "      <td>0.000004</td>\n",
       "      <td>10.400004</td>\n",
       "    </tr>\n",
       "    <tr>\n",
       "      <th>2005-10-02</th>\n",
       "      <td>0.0000</td>\n",
       "      <td>0.0000</td>\n",
       "      <td>0.0000</td>\n",
       "      <td>0.4</td>\n",
       "      <td>0.0</td>\n",
       "      <td>0.000095</td>\n",
       "      <td>0.000095</td>\n",
       "      <td>0.000095</td>\n",
       "      <td>0.000095</td>\n",
       "      <td>0.400095</td>\n",
       "      <td>0.000095</td>\n",
       "    </tr>\n",
       "    <tr>\n",
       "      <th>2005-10-03</th>\n",
       "      <td>0.7649</td>\n",
       "      <td>0.5399</td>\n",
       "      <td>0.0000</td>\n",
       "      <td>1.2</td>\n",
       "      <td>0.2</td>\n",
       "      <td>0.000028</td>\n",
       "      <td>0.764928</td>\n",
       "      <td>0.539928</td>\n",
       "      <td>0.000028</td>\n",
       "      <td>1.200028</td>\n",
       "      <td>0.200028</td>\n",
       "    </tr>\n",
       "    <tr>\n",
       "      <th>2005-10-04</th>\n",
       "      <td>0.5463</td>\n",
       "      <td>0.3855</td>\n",
       "      <td>0.0000</td>\n",
       "      <td>0.0</td>\n",
       "      <td>0.4</td>\n",
       "      <td>0.000066</td>\n",
       "      <td>0.546366</td>\n",
       "      <td>0.385566</td>\n",
       "      <td>0.000066</td>\n",
       "      <td>0.000066</td>\n",
       "      <td>0.400066</td>\n",
       "    </tr>\n",
       "    <tr>\n",
       "      <th>2005-10-05</th>\n",
       "      <td>0.0896</td>\n",
       "      <td>0.0633</td>\n",
       "      <td>0.0000</td>\n",
       "      <td>0.0</td>\n",
       "      <td>0.0</td>\n",
       "      <td>0.000021</td>\n",
       "      <td>0.089621</td>\n",
       "      <td>0.063321</td>\n",
       "      <td>0.000021</td>\n",
       "      <td>0.000021</td>\n",
       "      <td>0.000021</td>\n",
       "    </tr>\n",
       "    <tr>\n",
       "      <th>...</th>\n",
       "      <td>...</td>\n",
       "      <td>...</td>\n",
       "      <td>...</td>\n",
       "      <td>...</td>\n",
       "      <td>...</td>\n",
       "      <td>...</td>\n",
       "      <td>...</td>\n",
       "      <td>...</td>\n",
       "      <td>...</td>\n",
       "      <td>...</td>\n",
       "      <td>...</td>\n",
       "    </tr>\n",
       "    <tr>\n",
       "      <th>2016-09-27</th>\n",
       "      <td>0.9676</td>\n",
       "      <td>0.0000</td>\n",
       "      <td>0.0000</td>\n",
       "      <td>0.0</td>\n",
       "      <td>0.0</td>\n",
       "      <td>0.000014</td>\n",
       "      <td>0.967614</td>\n",
       "      <td>0.000014</td>\n",
       "      <td>0.000014</td>\n",
       "      <td>0.000014</td>\n",
       "      <td>0.000014</td>\n",
       "    </tr>\n",
       "    <tr>\n",
       "      <th>2016-09-28</th>\n",
       "      <td>0.0894</td>\n",
       "      <td>0.0000</td>\n",
       "      <td>0.0000</td>\n",
       "      <td>0.0</td>\n",
       "      <td>0.0</td>\n",
       "      <td>0.000086</td>\n",
       "      <td>0.089486</td>\n",
       "      <td>0.000086</td>\n",
       "      <td>0.000086</td>\n",
       "      <td>0.000086</td>\n",
       "      <td>0.000086</td>\n",
       "    </tr>\n",
       "    <tr>\n",
       "      <th>2016-09-29</th>\n",
       "      <td>0.0000</td>\n",
       "      <td>0.0000</td>\n",
       "      <td>0.0000</td>\n",
       "      <td>0.0</td>\n",
       "      <td>0.0</td>\n",
       "      <td>0.000007</td>\n",
       "      <td>0.000007</td>\n",
       "      <td>0.000007</td>\n",
       "      <td>0.000007</td>\n",
       "      <td>0.000007</td>\n",
       "      <td>0.000007</td>\n",
       "    </tr>\n",
       "    <tr>\n",
       "      <th>2016-09-30</th>\n",
       "      <td>1.6435</td>\n",
       "      <td>1.2649</td>\n",
       "      <td>0.5463</td>\n",
       "      <td>10.6</td>\n",
       "      <td>0.0</td>\n",
       "      <td>0.000058</td>\n",
       "      <td>1.643558</td>\n",
       "      <td>1.264958</td>\n",
       "      <td>0.546358</td>\n",
       "      <td>10.600058</td>\n",
       "      <td>0.000058</td>\n",
       "    </tr>\n",
       "    <tr>\n",
       "      <th>2016-10-01</th>\n",
       "      <td>0.0000</td>\n",
       "      <td>0.0000</td>\n",
       "      <td>0.0000</td>\n",
       "      <td>7.6</td>\n",
       "      <td>15.4</td>\n",
       "      <td>0.000004</td>\n",
       "      <td>0.000004</td>\n",
       "      <td>0.000004</td>\n",
       "      <td>0.000004</td>\n",
       "      <td>7.600004</td>\n",
       "      <td>15.400004</td>\n",
       "    </tr>\n",
       "  </tbody>\n",
       "</table>\n",
       "<p>4019 rows × 11 columns</p>\n",
       "</div>"
      ],
      "text/plain": [
       "            FR_p_mm  UC_p_mm  HM_p_mm  K_p_mm  BV_p_mm    jitter  FR_p_mm_jit  \\\n",
       "date                                                                            \n",
       "2005-10-01  16.0160  11.3028   7.3722     0.0     10.4  0.000004    16.016004   \n",
       "2005-10-02   0.0000   0.0000   0.0000     0.4      0.0  0.000095     0.000095   \n",
       "2005-10-03   0.7649   0.5399   0.0000     1.2      0.2  0.000028     0.764928   \n",
       "2005-10-04   0.5463   0.3855   0.0000     0.0      0.4  0.000066     0.546366   \n",
       "2005-10-05   0.0896   0.0633   0.0000     0.0      0.0  0.000021     0.089621   \n",
       "...             ...      ...      ...     ...      ...       ...          ...   \n",
       "2016-09-27   0.9676   0.0000   0.0000     0.0      0.0  0.000014     0.967614   \n",
       "2016-09-28   0.0894   0.0000   0.0000     0.0      0.0  0.000086     0.089486   \n",
       "2016-09-29   0.0000   0.0000   0.0000     0.0      0.0  0.000007     0.000007   \n",
       "2016-09-30   1.6435   1.2649   0.5463    10.6      0.0  0.000058     1.643558   \n",
       "2016-10-01   0.0000   0.0000   0.0000     7.6     15.4  0.000004     0.000004   \n",
       "\n",
       "            UC_p_mm_jit  HM_p_mm_jit  K_p_mm_jit  BV_p_mm_jit  \n",
       "date                                                           \n",
       "2005-10-01    11.302804     7.372204    0.000004    10.400004  \n",
       "2005-10-02     0.000095     0.000095    0.400095     0.000095  \n",
       "2005-10-03     0.539928     0.000028    1.200028     0.200028  \n",
       "2005-10-04     0.385566     0.000066    0.000066     0.400066  \n",
       "2005-10-05     0.063321     0.000021    0.000021     0.000021  \n",
       "...                 ...          ...         ...          ...  \n",
       "2016-09-27     0.000014     0.000014    0.000014     0.000014  \n",
       "2016-09-28     0.000086     0.000086    0.000086     0.000086  \n",
       "2016-09-29     0.000007     0.000007    0.000007     0.000007  \n",
       "2016-09-30     1.264958     0.546358   10.600058     0.000058  \n",
       "2016-10-01     0.000004     0.000004    7.600004    15.400004  \n",
       "\n",
       "[4019 rows x 11 columns]"
      ]
     },
     "execution_count": 3,
     "metadata": {},
     "output_type": "execute_result"
    }
   ],
   "source": [
    "# https://numpy.org/doc/stable/reference/random/generated/numpy.random.Generator.uniform.html\n",
    "jitter = np.random.default_rng().uniform(0, 0.0001, 4019) # random numbers are in range 0 to 0.0001\n",
    "# jitter\n",
    "P_df['jitter'] = np.array(jitter)\n",
    "# P_df\n",
    "P_df['FR_p_mm_jit'] = P_df['FR_p_mm'] + P_df['jitter']\n",
    "P_df['UC_p_mm_jit'] = P_df['UC_p_mm'] + P_df['jitter']\n",
    "P_df['HM_p_mm_jit'] = P_df['HM_p_mm'] + P_df['jitter']\n",
    "P_df['K_p_mm_jit'] = P_df['K_p_mm'] + P_df['jitter']\n",
    "P_df['BV_p_mm_jit'] = P_df['BV_p_mm'] + P_df['jitter']\n",
    "P_df"
   ]
  },
  {
   "cell_type": "markdown",
   "id": "dangerous-forestry",
   "metadata": {},
   "source": [
    "### Transform P values for each station to uniform values on range 0 to 1. Version 1: don't specify method"
   ]
  },
  {
   "cell_type": "code",
   "execution_count": 4,
   "id": "initial-alberta",
   "metadata": {},
   "outputs": [
    {
     "data": {
      "text/html": [
       "<div>\n",
       "<style scoped>\n",
       "    .dataframe tbody tr th:only-of-type {\n",
       "        vertical-align: middle;\n",
       "    }\n",
       "\n",
       "    .dataframe tbody tr th {\n",
       "        vertical-align: top;\n",
       "    }\n",
       "\n",
       "    .dataframe thead th {\n",
       "        text-align: right;\n",
       "    }\n",
       "</style>\n",
       "<table border=\"1\" class=\"dataframe\">\n",
       "  <thead>\n",
       "    <tr style=\"text-align: right;\">\n",
       "      <th></th>\n",
       "      <th>FR_p_mm</th>\n",
       "      <th>UC_p_mm</th>\n",
       "      <th>HM_p_mm</th>\n",
       "      <th>K_p_mm</th>\n",
       "      <th>BV_p_mm</th>\n",
       "      <th>jitter</th>\n",
       "      <th>FR_p_mm_jit</th>\n",
       "      <th>UC_p_mm_jit</th>\n",
       "      <th>HM_p_mm_jit</th>\n",
       "      <th>K_p_mm_jit</th>\n",
       "      <th>BV_p_mm_jit</th>\n",
       "      <th>FR_p_unijit</th>\n",
       "      <th>UC_p_unijit</th>\n",
       "      <th>HM_p_unijit</th>\n",
       "      <th>K_p_unijit</th>\n",
       "      <th>BV_p_unijit</th>\n",
       "    </tr>\n",
       "    <tr>\n",
       "      <th>date</th>\n",
       "      <th></th>\n",
       "      <th></th>\n",
       "      <th></th>\n",
       "      <th></th>\n",
       "      <th></th>\n",
       "      <th></th>\n",
       "      <th></th>\n",
       "      <th></th>\n",
       "      <th></th>\n",
       "      <th></th>\n",
       "      <th></th>\n",
       "      <th></th>\n",
       "      <th></th>\n",
       "      <th></th>\n",
       "      <th></th>\n",
       "      <th></th>\n",
       "    </tr>\n",
       "  </thead>\n",
       "  <tbody>\n",
       "    <tr>\n",
       "      <th>2005-10-01</th>\n",
       "      <td>16.0160</td>\n",
       "      <td>11.3028</td>\n",
       "      <td>7.3722</td>\n",
       "      <td>0.0</td>\n",
       "      <td>10.4</td>\n",
       "      <td>0.000004</td>\n",
       "      <td>16.016004</td>\n",
       "      <td>11.302804</td>\n",
       "      <td>7.372204</td>\n",
       "      <td>0.000004</td>\n",
       "      <td>10.400004</td>\n",
       "      <td>0.957079</td>\n",
       "      <td>0.957328</td>\n",
       "      <td>0.945633</td>\n",
       "      <td>0.027494</td>\n",
       "      <td>0.920254</td>\n",
       "    </tr>\n",
       "    <tr>\n",
       "      <th>2005-10-02</th>\n",
       "      <td>0.0000</td>\n",
       "      <td>0.0000</td>\n",
       "      <td>0.0000</td>\n",
       "      <td>0.4</td>\n",
       "      <td>0.0</td>\n",
       "      <td>0.000095</td>\n",
       "      <td>0.000095</td>\n",
       "      <td>0.000095</td>\n",
       "      <td>0.000095</td>\n",
       "      <td>0.400095</td>\n",
       "      <td>0.000095</td>\n",
       "      <td>0.402961</td>\n",
       "      <td>0.447997</td>\n",
       "      <td>0.552252</td>\n",
       "      <td>0.713237</td>\n",
       "      <td>0.547524</td>\n",
       "    </tr>\n",
       "    <tr>\n",
       "      <th>2005-10-03</th>\n",
       "      <td>0.7649</td>\n",
       "      <td>0.5399</td>\n",
       "      <td>0.0000</td>\n",
       "      <td>1.2</td>\n",
       "      <td>0.2</td>\n",
       "      <td>0.000028</td>\n",
       "      <td>0.764928</td>\n",
       "      <td>0.539928</td>\n",
       "      <td>0.000028</td>\n",
       "      <td>1.200028</td>\n",
       "      <td>0.200028</td>\n",
       "      <td>0.608236</td>\n",
       "      <td>0.659990</td>\n",
       "      <td>0.153396</td>\n",
       "      <td>0.763250</td>\n",
       "      <td>0.587335</td>\n",
       "    </tr>\n",
       "    <tr>\n",
       "      <th>2005-10-04</th>\n",
       "      <td>0.5463</td>\n",
       "      <td>0.3855</td>\n",
       "      <td>0.0000</td>\n",
       "      <td>0.0</td>\n",
       "      <td>0.4</td>\n",
       "      <td>0.000066</td>\n",
       "      <td>0.546366</td>\n",
       "      <td>0.385566</td>\n",
       "      <td>0.000066</td>\n",
       "      <td>0.000066</td>\n",
       "      <td>0.400066</td>\n",
       "      <td>0.575392</td>\n",
       "      <td>0.632620</td>\n",
       "      <td>0.375093</td>\n",
       "      <td>0.441528</td>\n",
       "      <td>0.631625</td>\n",
       "    </tr>\n",
       "    <tr>\n",
       "      <th>2005-10-05</th>\n",
       "      <td>0.0896</td>\n",
       "      <td>0.0633</td>\n",
       "      <td>0.0000</td>\n",
       "      <td>0.0</td>\n",
       "      <td>0.0</td>\n",
       "      <td>0.000021</td>\n",
       "      <td>0.089621</td>\n",
       "      <td>0.063321</td>\n",
       "      <td>0.000021</td>\n",
       "      <td>0.000021</td>\n",
       "      <td>0.000021</td>\n",
       "      <td>0.435307</td>\n",
       "      <td>0.481587</td>\n",
       "      <td>0.114830</td>\n",
       "      <td>0.140209</td>\n",
       "      <td>0.117069</td>\n",
       "    </tr>\n",
       "    <tr>\n",
       "      <th>...</th>\n",
       "      <td>...</td>\n",
       "      <td>...</td>\n",
       "      <td>...</td>\n",
       "      <td>...</td>\n",
       "      <td>...</td>\n",
       "      <td>...</td>\n",
       "      <td>...</td>\n",
       "      <td>...</td>\n",
       "      <td>...</td>\n",
       "      <td>...</td>\n",
       "      <td>...</td>\n",
       "      <td>...</td>\n",
       "      <td>...</td>\n",
       "      <td>...</td>\n",
       "      <td>...</td>\n",
       "      <td>...</td>\n",
       "    </tr>\n",
       "    <tr>\n",
       "      <th>2016-09-27</th>\n",
       "      <td>0.9676</td>\n",
       "      <td>0.0000</td>\n",
       "      <td>0.0000</td>\n",
       "      <td>0.0</td>\n",
       "      <td>0.0</td>\n",
       "      <td>0.000014</td>\n",
       "      <td>0.967614</td>\n",
       "      <td>0.000014</td>\n",
       "      <td>0.000014</td>\n",
       "      <td>0.000014</td>\n",
       "      <td>0.000014</td>\n",
       "      <td>0.627644</td>\n",
       "      <td>0.055362</td>\n",
       "      <td>0.069793</td>\n",
       "      <td>0.088206</td>\n",
       "      <td>0.072033</td>\n",
       "    </tr>\n",
       "    <tr>\n",
       "      <th>2016-09-28</th>\n",
       "      <td>0.0894</td>\n",
       "      <td>0.0000</td>\n",
       "      <td>0.0000</td>\n",
       "      <td>0.0</td>\n",
       "      <td>0.0</td>\n",
       "      <td>0.000086</td>\n",
       "      <td>0.089486</td>\n",
       "      <td>0.000086</td>\n",
       "      <td>0.000086</td>\n",
       "      <td>0.000086</td>\n",
       "      <td>0.000086</td>\n",
       "      <td>0.435058</td>\n",
       "      <td>0.402463</td>\n",
       "      <td>0.494775</td>\n",
       "      <td>0.579622</td>\n",
       "      <td>0.492784</td>\n",
       "    </tr>\n",
       "    <tr>\n",
       "      <th>2016-09-29</th>\n",
       "      <td>0.0000</td>\n",
       "      <td>0.0000</td>\n",
       "      <td>0.0000</td>\n",
       "      <td>0.0</td>\n",
       "      <td>0.0</td>\n",
       "      <td>0.000007</td>\n",
       "      <td>0.000007</td>\n",
       "      <td>0.000007</td>\n",
       "      <td>0.000007</td>\n",
       "      <td>0.000007</td>\n",
       "      <td>0.000007</td>\n",
       "      <td>0.025753</td>\n",
       "      <td>0.029734</td>\n",
       "      <td>0.038194</td>\n",
       "      <td>0.047151</td>\n",
       "      <td>0.038442</td>\n",
       "    </tr>\n",
       "    <tr>\n",
       "      <th>2016-09-30</th>\n",
       "      <td>1.6435</td>\n",
       "      <td>1.2649</td>\n",
       "      <td>0.5463</td>\n",
       "      <td>10.6</td>\n",
       "      <td>0.0</td>\n",
       "      <td>0.000058</td>\n",
       "      <td>1.643558</td>\n",
       "      <td>1.264958</td>\n",
       "      <td>0.546358</td>\n",
       "      <td>10.600058</td>\n",
       "      <td>0.000058</td>\n",
       "      <td>0.686365</td>\n",
       "      <td>0.744339</td>\n",
       "      <td>0.719706</td>\n",
       "      <td>0.945136</td>\n",
       "      <td>0.328564</td>\n",
       "    </tr>\n",
       "    <tr>\n",
       "      <th>2016-10-01</th>\n",
       "      <td>0.0000</td>\n",
       "      <td>0.0000</td>\n",
       "      <td>0.0000</td>\n",
       "      <td>7.6</td>\n",
       "      <td>15.4</td>\n",
       "      <td>0.000004</td>\n",
       "      <td>0.000004</td>\n",
       "      <td>0.000004</td>\n",
       "      <td>0.000004</td>\n",
       "      <td>7.600004</td>\n",
       "      <td>15.400004</td>\n",
       "      <td>0.013312</td>\n",
       "      <td>0.016546</td>\n",
       "      <td>0.021523</td>\n",
       "      <td>0.916770</td>\n",
       "      <td>0.939910</td>\n",
       "    </tr>\n",
       "  </tbody>\n",
       "</table>\n",
       "<p>4019 rows × 16 columns</p>\n",
       "</div>"
      ],
      "text/plain": [
       "            FR_p_mm  UC_p_mm  HM_p_mm  K_p_mm  BV_p_mm    jitter  FR_p_mm_jit  \\\n",
       "date                                                                            \n",
       "2005-10-01  16.0160  11.3028   7.3722     0.0     10.4  0.000004    16.016004   \n",
       "2005-10-02   0.0000   0.0000   0.0000     0.4      0.0  0.000095     0.000095   \n",
       "2005-10-03   0.7649   0.5399   0.0000     1.2      0.2  0.000028     0.764928   \n",
       "2005-10-04   0.5463   0.3855   0.0000     0.0      0.4  0.000066     0.546366   \n",
       "2005-10-05   0.0896   0.0633   0.0000     0.0      0.0  0.000021     0.089621   \n",
       "...             ...      ...      ...     ...      ...       ...          ...   \n",
       "2016-09-27   0.9676   0.0000   0.0000     0.0      0.0  0.000014     0.967614   \n",
       "2016-09-28   0.0894   0.0000   0.0000     0.0      0.0  0.000086     0.089486   \n",
       "2016-09-29   0.0000   0.0000   0.0000     0.0      0.0  0.000007     0.000007   \n",
       "2016-09-30   1.6435   1.2649   0.5463    10.6      0.0  0.000058     1.643558   \n",
       "2016-10-01   0.0000   0.0000   0.0000     7.6     15.4  0.000004     0.000004   \n",
       "\n",
       "            UC_p_mm_jit  HM_p_mm_jit  K_p_mm_jit  BV_p_mm_jit  FR_p_unijit  \\\n",
       "date                                                                         \n",
       "2005-10-01    11.302804     7.372204    0.000004    10.400004     0.957079   \n",
       "2005-10-02     0.000095     0.000095    0.400095     0.000095     0.402961   \n",
       "2005-10-03     0.539928     0.000028    1.200028     0.200028     0.608236   \n",
       "2005-10-04     0.385566     0.000066    0.000066     0.400066     0.575392   \n",
       "2005-10-05     0.063321     0.000021    0.000021     0.000021     0.435307   \n",
       "...                 ...          ...         ...          ...          ...   \n",
       "2016-09-27     0.000014     0.000014    0.000014     0.000014     0.627644   \n",
       "2016-09-28     0.000086     0.000086    0.000086     0.000086     0.435058   \n",
       "2016-09-29     0.000007     0.000007    0.000007     0.000007     0.025753   \n",
       "2016-09-30     1.264958     0.546358   10.600058     0.000058     0.686365   \n",
       "2016-10-01     0.000004     0.000004    7.600004    15.400004     0.013312   \n",
       "\n",
       "            UC_p_unijit  HM_p_unijit  K_p_unijit  BV_p_unijit  \n",
       "date                                                           \n",
       "2005-10-01     0.957328     0.945633    0.027494     0.920254  \n",
       "2005-10-02     0.447997     0.552252    0.713237     0.547524  \n",
       "2005-10-03     0.659990     0.153396    0.763250     0.587335  \n",
       "2005-10-04     0.632620     0.375093    0.441528     0.631625  \n",
       "2005-10-05     0.481587     0.114830    0.140209     0.117069  \n",
       "...                 ...          ...         ...          ...  \n",
       "2016-09-27     0.055362     0.069793    0.088206     0.072033  \n",
       "2016-09-28     0.402463     0.494775    0.579622     0.492784  \n",
       "2016-09-29     0.029734     0.038194    0.047151     0.038442  \n",
       "2016-09-30     0.744339     0.719706    0.945136     0.328564  \n",
       "2016-10-01     0.016546     0.021523    0.916770     0.939910  \n",
       "\n",
       "[4019 rows x 16 columns]"
      ]
     },
     "execution_count": 4,
     "metadata": {},
     "output_type": "execute_result"
    }
   ],
   "source": [
    "# https://docs.scipy.org/doc/scipy/reference/generated/scipy.stats.rankdata.html\n",
    "P_df[\"FR_p_unijit\"] = (st.rankdata(P_df.FR_p_mm_jit) - 0.5) / (len(P_df))\n",
    "P_df[\"UC_p_unijit\"] = (st.rankdata(P_df.UC_p_mm_jit) - 0.5) / (len(P_df))\n",
    "P_df[\"HM_p_unijit\"] = (st.rankdata(P_df.HM_p_mm_jit) - 0.5) / (len(P_df))\n",
    "P_df[\"K_p_unijit\"] = (st.rankdata(P_df.K_p_mm_jit) - 0.5) / (len(P_df))\n",
    "P_df[\"BV_p_unijit\"] = (st.rankdata(P_df.BV_p_mm_jit) - 0.5) / (len(P_df))\n",
    "P_df"
   ]
  },
  {
   "cell_type": "code",
   "execution_count": 5,
   "id": "violent-defensive",
   "metadata": {},
   "outputs": [
    {
     "name": "stdout",
     "output_type": "stream",
     "text": [
      "FR_p_uniform max =  0.99988\n",
      "FR_p_uniform min =  0.00012\n",
      "UC_p_uniform max =  0.99988\n",
      "UC_p_uniform min =  0.00012\n",
      "HM_p_uniform max =  0.99988\n",
      "HM_p_uniform min =  0.00012\n",
      "K_p_uniform max =  0.99988\n",
      "K_p_uniform min =  0.00012\n",
      "BV_p_uniform max =  0.99988\n",
      "BV_p_uniform min =  0.00012\n"
     ]
    }
   ],
   "source": [
    "# have a look at max and min ranked values\n",
    "print(\"FR_p_uniform max = \", round(P_df.FR_p_unijit.max(), 5))\n",
    "print(\"FR_p_uniform min = \", round(P_df.FR_p_unijit.min(), 5))\n",
    "print(\"UC_p_uniform max = \", round(P_df.UC_p_unijit.max(), 5))\n",
    "print(\"UC_p_uniform min = \", round(P_df.UC_p_unijit.min(), 5))\n",
    "print(\"HM_p_uniform max = \", round(P_df.HM_p_unijit.max(), 5))\n",
    "print(\"HM_p_uniform min = \", round(P_df.HM_p_unijit.min(), 5))\n",
    "print(\"K_p_uniform max = \", round(P_df.K_p_unijit.max(), 5))\n",
    "print(\"K_p_uniform min = \", round(P_df.K_p_unijit.min(), 5))\n",
    "print(\"BV_p_uniform max = \", round(P_df.BV_p_unijit.max(), 5))\n",
    "print(\"BV_p_uniform min = \", round(P_df.BV_p_unijit.min(), 5))"
   ]
  },
  {
   "cell_type": "markdown",
   "id": "processed-parent",
   "metadata": {},
   "source": [
    "### Calculate correlation for each gauge pair"
   ]
  },
  {
   "cell_type": "markdown",
   "id": "abandoned-oliver",
   "metadata": {},
   "source": [
    "### Pair 1: Fisera Ridge (2325 m) & Upper Clearing (1845 m)"
   ]
  },
  {
   "cell_type": "code",
   "execution_count": 6,
   "id": "animated-unemployment",
   "metadata": {},
   "outputs": [
    {
     "name": "stdout",
     "output_type": "stream",
     "text": [
      "FRUCcorr =  0.88612\n"
     ]
    }
   ],
   "source": [
    "FRUCcorr = P_df[\"FR_p_unijit\"].corr(P_df[\"UC_p_unijit\"])\n",
    "print(\"FRUCcorr = \", FRUCcorr.round(5))\n",
    "# P_df.plot.scatter(x='FR_p_uniform', y='UC_p_uniform', c='tab:blue',\n",
    "#                                title=\"Fisera Ridge (2325 m) v Upper Clearing (1846 m)\")\n",
    "#                                label=\"FR v UC corr = 0.0675\")\n",
    "# plt.grid()\n",
    "# plt.xlabel(\"Fisera Ridge uniform P\")\n",
    "# plt.ylabel(\"Upper Clearing uniform P\")\n",
    "# plt.show()\n",
    "# plt.savefig(r'C:\\Users\\b1043453\\OneDrive - Newcastle University\\OnePlanet PhD\\Random_mixing\\RMWSPy_Horning_and_Haese_2021\\RMWSPy-master\\MCRB_examples\\MCRB_gauges_only\\Characterising_P_statistics\\correlation_plots_2005-2016_stns\\FRUCcorr2005-16.png')"
   ]
  },
  {
   "cell_type": "markdown",
   "id": "passive-parking",
   "metadata": {},
   "source": [
    "### Pair 2: Fisera Ridge (2325 m) & Hay Meadow (1436 m)"
   ]
  },
  {
   "cell_type": "code",
   "execution_count": 7,
   "id": "waiting-bread",
   "metadata": {},
   "outputs": [
    {
     "name": "stdout",
     "output_type": "stream",
     "text": [
      "FRHMcorr =  0.71934\n"
     ]
    }
   ],
   "source": [
    "FRHMcorr = P_df[\"FR_p_unijit\"].corr(P_df[\"HM_p_unijit\"])\n",
    "print(\"FRHMcorr = \", FRHMcorr.round(5))\n",
    "# P_df.plot.scatter(x='FR_p_mm', y='HM_p_mm', c='tab:orange',\n",
    "#                                title=\"Fisera Ridge (2325 m) v Hay Meadow (1436 m)\",\n",
    "#                                label=\"FR v HM corr coeff = 0.0528\")\n",
    "# plt.grid()\n",
    "# plt.xlabel(\"Fisera Ridge P (mm/d)\")\n",
    "# plt.ylabel(\"Hay Meadow P (mm/d)\")\n",
    "# plt.xlim(0, 160)\n",
    "# plt.ylim(0, 160)\n",
    "# plt.savefig(r'C:\\Users\\b1043453\\OneDrive - Newcastle University\\OnePlanet PhD\\Random_mixing\\RMWSPy_Horning_and_Haese_2021\\RMWSPy-master\\MCRB_examples\\MCRB_gauges_only\\Characterising_P_statistics\\correlation_plots_2005-2016_stns\\FRHMcorr2005-16.png')"
   ]
  },
  {
   "cell_type": "markdown",
   "id": "statewide-landing",
   "metadata": {},
   "source": [
    "### Pair 3: Fisera Ridge (2325 m) & Kananaskis (1391 m)"
   ]
  },
  {
   "cell_type": "code",
   "execution_count": 8,
   "id": "biblical-diabetes",
   "metadata": {},
   "outputs": [
    {
     "name": "stdout",
     "output_type": "stream",
     "text": [
      "FRKcorr =  0.52482\n"
     ]
    }
   ],
   "source": [
    "FRKcorr = P_df[\"FR_p_unijit\"].corr(P_df[\"K_p_unijit\"])\n",
    "print(\"FRKcorr = \", FRKcorr.round(5))\n",
    "# P_df.plot.scatter(x='FR_p_mm', y='K_p_mm', c='tab:brown',\n",
    "#                                title=\"Fisera Ridge (2325 m) v Kananaskis (1391 m)\",\n",
    "#                                label=\"FR v K corr coeff = 0.599\")\n",
    "# plt.grid()\n",
    "# plt.xlabel(\"Fisera Ridge P (mm/d)\")\n",
    "# plt.ylabel(\"Kananaskis P (mm/d)\")\n",
    "# plt.xlim(0, 160)\n",
    "# plt.ylim(0, 160)\n",
    "# plt.savefig(r'C:\\Users\\b1043453\\OneDrive - Newcastle University\\OnePlanet PhD\\Random_mixing\\RMWSPy_Horning_and_Haese_2021\\RMWSPy-master\\MCRB_examples\\MCRB_gauges_only\\Characterising_P_statistics\\correlation_plots_2005-2016_stns\\FRKcorr2005-16.png')\n"
   ]
  },
  {
   "cell_type": "markdown",
   "id": "varied-change",
   "metadata": {},
   "source": [
    "### Pair 4: Fisera Ridge (2325 m) & Bow Valley (1298 m)"
   ]
  },
  {
   "cell_type": "code",
   "execution_count": 9,
   "id": "stopped-fishing",
   "metadata": {},
   "outputs": [
    {
     "name": "stdout",
     "output_type": "stream",
     "text": [
      "FRBVcorr =  0.53838\n"
     ]
    }
   ],
   "source": [
    "FRBVcorr = P_df[\"FR_p_unijit\"].corr(P_df[\"BV_p_unijit\"])\n",
    "print(\"FRBVcorr = \", FRBVcorr.round(5))\n",
    "# P_df.plot.scatter(x='FR_p_mm', y='BV_p_mm', c='tab:green',\n",
    "#                                title=\"Fisera Ridge (2325 m) v Bow Valley (1298 m)\",\n",
    "#                                label=\"FR v BV corr coeff = 0.679\")\n",
    "# plt.grid()\n",
    "# plt.xlabel(\"Fisera Ridge P (mm/d)\")\n",
    "# plt.ylabel(\"Bow Valley P (mm/d)\")\n",
    "# plt.xlim(0, 160)\n",
    "# plt.ylim(0, 160)\n",
    "# plt.savefig(r'C:\\Users\\b1043453\\OneDrive - Newcastle University\\OnePlanet PhD\\Random_mixing\\RMWSPy_Horning_and_Haese_2021\\RMWSPy-master\\MCRB_examples\\MCRB_gauges_only\\Characterising_P_statistics\\correlation_plots_2005-2016_stns\\FRBVcorr2005-16.png')"
   ]
  },
  {
   "cell_type": "markdown",
   "id": "superior-nursing",
   "metadata": {},
   "source": [
    "### Pair 8: Upper Clearing (1845 m) & Hay Meadow (1436 m)"
   ]
  },
  {
   "cell_type": "code",
   "execution_count": 10,
   "id": "hindu-number",
   "metadata": {},
   "outputs": [
    {
     "name": "stdout",
     "output_type": "stream",
     "text": [
      "UCHMcorr =  0.78205\n"
     ]
    }
   ],
   "source": [
    "UCHMcorr = P_df[\"UC_p_unijit\"].corr(P_df[\"HM_p_unijit\"])\n",
    "print(\"UCHMcorr = \", UCHMcorr.round(5))\n",
    "# P_df.plot.scatter(x='UC_p_mm', y='HM_p_mm', c='tab:gray',\n",
    "#                                title=\"Upper Clearing (1845 m) v Hay Meadow (1436 m)\",\n",
    "#                                label=\"UC v HM corr coeff = 0.946\")\n",
    "# plt.grid()\n",
    "# plt.xlabel(\"Upper Clearing P (mm/d)\")\n",
    "# plt.ylabel(\"Hay Meadow P (mm/d)\")\n",
    "# plt.xlim(0, 160)\n",
    "# plt.ylim(0, 160)\n",
    "# plt.savefig(r'C:\\Users\\b1043453\\OneDrive - Newcastle University\\OnePlanet PhD\\Random_mixing\\RMWSPy_Horning_and_Haese_2021\\RMWSPy-master\\MCRB_examples\\MCRB_gauges_only\\Characterising_P_statistics\\correlation_plots_2005-2016_stns\\UCHMcorr2005-16.png')"
   ]
  },
  {
   "cell_type": "markdown",
   "id": "invisible-baseball",
   "metadata": {},
   "source": [
    "### Pair 9: Upper Clearing (1845 m) & Kananaskis (1391 m)"
   ]
  },
  {
   "cell_type": "code",
   "execution_count": 11,
   "id": "guided-psychiatry",
   "metadata": {},
   "outputs": [
    {
     "name": "stdout",
     "output_type": "stream",
     "text": [
      "UCKcorr =  0.56482\n"
     ]
    }
   ],
   "source": [
    "UCKcorr = P_df[\"UC_p_unijit\"].corr(P_df[\"K_p_unijit\"])\n",
    "print(\"UCKcorr = \", UCKcorr.round(5))\n",
    "# P_df.plot.scatter(x='UC_p_mm', y='K_p_mm', c='tab:olive',\n",
    "#                                title=\"Upper Clearing (1845 m) v Kananaskis (1391 m)\",\n",
    "#                                label=\"UC v K corr coeff = 0.637\")\n",
    "# plt.grid()\n",
    "# plt.xlabel(\"Upper Clearing P (mm/d)\")\n",
    "# plt.ylabel(\"Kananaskis P (mm/d)\")\n",
    "# plt.xlim(0, 160)\n",
    "# plt.ylim(0, 160)\n",
    "# plt.savefig(r'C:\\Users\\b1043453\\OneDrive - Newcastle University\\OnePlanet PhD\\Random_mixing\\RMWSPy_Horning_and_Haese_2021\\RMWSPy-master\\MCRB_examples\\MCRB_gauges_only\\Characterising_P_statistics\\correlation_plots_2005-2016_stns\\UCKcorr2005-16.png')"
   ]
  },
  {
   "cell_type": "markdown",
   "id": "material-barcelona",
   "metadata": {},
   "source": [
    "### Pair 10: Upper Clearing (1845 m) & Bow Valley (1298 m)"
   ]
  },
  {
   "cell_type": "code",
   "execution_count": 12,
   "id": "metallic-madrid",
   "metadata": {},
   "outputs": [
    {
     "name": "stdout",
     "output_type": "stream",
     "text": [
      "UCBVcorr =  0.59377\n"
     ]
    }
   ],
   "source": [
    "UCBVcorr = P_df[\"UC_p_unijit\"].corr(P_df[\"BV_p_unijit\"])\n",
    "print(\"UCBVcorr = \", UCBVcorr.round(5))\n",
    "# P_df.plot.scatter(x='UC_p_mm', y='BV_p_mm', c='tab:cyan',\n",
    "#                                title=\"Upper Clearing (1845 m) v Bow Valley (1298 m)\",\n",
    "#                                label=\"UC v BV corr coeff = 0.761\")\n",
    "# plt.grid()\n",
    "# plt.xlabel(\"Upper Clearing P (mm/d)\")\n",
    "# plt.ylabel(\"Bow Valley P (mm/d)\")\n",
    "# plt.xlim(0, 160)\n",
    "# plt.ylim(0, 160)\n",
    "# plt.savefig(r'C:\\Users\\b1043453\\OneDrive - Newcastle University\\OnePlanet PhD\\Random_mixing\\RMWSPy_Horning_and_Haese_2021\\RMWSPy-master\\MCRB_examples\\MCRB_gauges_only\\Characterising_P_statistics\\correlation_plots_2005-2016_stns\\UCBVcorr2005-16.png')"
   ]
  },
  {
   "cell_type": "markdown",
   "id": "continuing-saver",
   "metadata": {},
   "source": [
    "### Pair 14: Hay Meadow (1436 m) & Kananaskis (1391 m)"
   ]
  },
  {
   "cell_type": "code",
   "execution_count": 13,
   "id": "registered-settle",
   "metadata": {},
   "outputs": [
    {
     "name": "stdout",
     "output_type": "stream",
     "text": [
      "HMKcorr =  0.58289\n"
     ]
    }
   ],
   "source": [
    "HMKcorr = P_df[\"HM_p_unijit\"].corr(P_df[\"K_p_unijit\"])\n",
    "print(\"HMKcorr = \", HMKcorr.round(5))\n",
    "# P_df.plot.scatter(x='HM_p_mm', y='K_p_mm', c='goldenrod',\n",
    "#                                title=\"Hay Meadow (1426 m) v Kananaskis (1391 m)\",\n",
    "#                                label=\"HM v K corr coeff = 0.651\")\n",
    "# plt.grid()\n",
    "# plt.xlabel(\"Hay Meadow P (mm/d)\")\n",
    "# plt.ylabel(\"Kananaskis P (mm/d)\")\n",
    "# plt.xlim(0, 160)\n",
    "# plt.ylim(0, 160)\n",
    "# plt.savefig(r'C:\\Users\\b1043453\\OneDrive - Newcastle University\\OnePlanet PhD\\Random_mixing\\RMWSPy_Horning_and_Haese_2021\\RMWSPy-master\\MCRB_examples\\MCRB_gauges_only\\Characterising_P_statistics\\correlation_plots_2005-2016_stns\\HMKcorr2005-16.png')"
   ]
  },
  {
   "cell_type": "markdown",
   "id": "chief-timer",
   "metadata": {},
   "source": [
    "### Pair 15: Hay Meadow (1436 m) & Bow Valley (1298 m)"
   ]
  },
  {
   "cell_type": "code",
   "execution_count": 14,
   "id": "cloudy-buying",
   "metadata": {},
   "outputs": [
    {
     "name": "stdout",
     "output_type": "stream",
     "text": [
      "HMBVcorr =  0.58819\n"
     ]
    }
   ],
   "source": [
    "HMBVcorr = P_df[\"HM_p_unijit\"].corr(P_df[\"BV_p_unijit\"])\n",
    "print(\"HMBVcorr = \", HMBVcorr.round(5))\n",
    "# P_df.plot.scatter(x='HM_p_mm', y='BV_p_mm', c='olive',\n",
    "#                                title=\"Hay Meadow (1426 m) v Bow Valley (1298 m)\",\n",
    "#                                label=\"HM v BV corr coeff = 0.764\")\n",
    "# plt.grid()\n",
    "# plt.xlabel(\"Hay Meadow P (mm/d)\")\n",
    "# plt.ylabel(\"Bow Valley P (mm/d)\")\n",
    "# plt.xlim(0, 160)\n",
    "# plt.ylim(0, 160)\n",
    "# plt.savefig(r'C:\\Users\\b1043453\\OneDrive - Newcastle University\\OnePlanet PhD\\Random_mixing\\RMWSPy_Horning_and_Haese_2021\\RMWSPy-master\\MCRB_examples\\MCRB_gauges_only\\Characterising_P_statistics\\correlation_plots_2005-2016_stns\\HMBVcorr2005-16.png')"
   ]
  },
  {
   "cell_type": "markdown",
   "id": "scheduled-being",
   "metadata": {},
   "source": [
    "### Pair 19: Kananaskis (1391 m) & Bow Valley (1298 m)"
   ]
  },
  {
   "cell_type": "code",
   "execution_count": 15,
   "id": "roman-debut",
   "metadata": {},
   "outputs": [
    {
     "name": "stdout",
     "output_type": "stream",
     "text": [
      "KBVcorr =  0.57308\n"
     ]
    }
   ],
   "source": [
    "KBVcorr = P_df[\"K_p_unijit\"].corr(P_df[\"BV_p_unijit\"])\n",
    "print(\"KBVcorr = \", KBVcorr.round(5))\n",
    "# P_df.plot.scatter(x='K_p_mm', y='BV_p_mm', c='steelblue',\n",
    "#                                title=\"Kananaskis (1391 m) v Bow Valley (1298 m)\",\n",
    "#                                label=\"K v BV corr coeff = 0.682\")\n",
    "# plt.grid()\n",
    "# plt.xlabel(\"Kananaskis P (mm/d)\")\n",
    "# plt.ylabel(\"Bow Valley P (mm/d)\")\n",
    "# plt.xlim(0, 160)\n",
    "# plt.ylim(0, 160)\n",
    "# plt.savefig(r'C:\\Users\\b1043453\\OneDrive - Newcastle University\\OnePlanet PhD\\Random_mixing\\RMWSPy_Horning_and_Haese_2021\\RMWSPy-master\\MCRB_examples\\MCRB_gauges_only\\Characterising_P_statistics\\correlation_plots_2005-2016_stns\\KBVcorr2005-16.png')"
   ]
  },
  {
   "cell_type": "markdown",
   "id": "corrected-arcade",
   "metadata": {},
   "source": [
    "### Print all correlation values"
   ]
  },
  {
   "cell_type": "code",
   "execution_count": 16,
   "id": "governmental-photograph",
   "metadata": {},
   "outputs": [
    {
     "name": "stdout",
     "output_type": "stream",
     "text": [
      "Fisera Ridge Upper Clearing correlation = 0.88612\n",
      "Fisera Ridge Hay Meadow correlation = 0.71934\n",
      "Fisera Ridge Kananaskis correlation = 0.52482\n",
      "Fisera Ridge Bow Valley correlation = 0.53838\n",
      "Upper Clearing Hay Meadow correlation = 0.78205\n",
      "Upper Clearing Kananaskis correlation = 0.56482\n",
      "Upper Clearing Bow Valley correlation = 0.59377\n",
      "Hay Meadow Kananaskis correlation = 0.58289\n",
      "Hay Meadow Bow Valley correlation = 0.58819\n",
      "Kananaskis Bow Valley correlation = 0.57308\n"
     ]
    }
   ],
   "source": [
    "print(\"Fisera Ridge Upper Clearing correlation =\", FRUCcorr.round(5))\n",
    "print(\"Fisera Ridge Hay Meadow correlation =\", FRHMcorr.round(5))\n",
    "print(\"Fisera Ridge Kananaskis correlation =\", FRKcorr.round(5))\n",
    "print(\"Fisera Ridge Bow Valley correlation =\", FRBVcorr.round(5))\n",
    "print(\"Upper Clearing Hay Meadow correlation =\", UCHMcorr.round(5))\n",
    "print(\"Upper Clearing Kananaskis correlation =\", UCKcorr.round(5))\n",
    "print(\"Upper Clearing Bow Valley correlation =\", UCBVcorr.round(5))\n",
    "print(\"Hay Meadow Kananaskis correlation =\", HMKcorr.round(5))\n",
    "print(\"Hay Meadow Bow Valley correlation =\", HMBVcorr.round(5))\n",
    "print(\"Kananaskis Bow Valley correlation =\", KBVcorr.round(5))"
   ]
  },
  {
   "cell_type": "markdown",
   "id": "major-gibraltar",
   "metadata": {},
   "source": [
    "### Use scipy.stats distance_matrix to calculate separation distances between stations. "
   ]
  },
  {
   "cell_type": "markdown",
   "id": "norwegian-wireless",
   "metadata": {},
   "source": [
    "### Method 1: use standard xy grid coords from run_inv_mcrb.py"
   ]
  },
  {
   "cell_type": "code",
   "execution_count": 17,
   "id": "together-camera",
   "metadata": {},
   "outputs": [
    {
     "data": {
      "text/html": [
       "<div>\n",
       "<style scoped>\n",
       "    .dataframe tbody tr th:only-of-type {\n",
       "        vertical-align: middle;\n",
       "    }\n",
       "\n",
       "    .dataframe tbody tr th {\n",
       "        vertical-align: top;\n",
       "    }\n",
       "\n",
       "    .dataframe thead th {\n",
       "        text-align: right;\n",
       "    }\n",
       "</style>\n",
       "<table border=\"1\" class=\"dataframe\">\n",
       "  <thead>\n",
       "    <tr style=\"text-align: right;\">\n",
       "      <th></th>\n",
       "      <th>std grid x</th>\n",
       "      <th>std grid y</th>\n",
       "    </tr>\n",
       "  </thead>\n",
       "  <tbody>\n",
       "    <tr>\n",
       "      <th>Fisera Ridge</th>\n",
       "      <td>69</td>\n",
       "      <td>53</td>\n",
       "    </tr>\n",
       "    <tr>\n",
       "      <th>Upper Clearing</th>\n",
       "      <td>72</td>\n",
       "      <td>93</td>\n",
       "    </tr>\n",
       "    <tr>\n",
       "      <th>Hay Meadow</th>\n",
       "      <td>45</td>\n",
       "      <td>136</td>\n",
       "    </tr>\n",
       "    <tr>\n",
       "      <th>Kananaskis</th>\n",
       "      <td>235</td>\n",
       "      <td>287</td>\n",
       "    </tr>\n",
       "    <tr>\n",
       "      <th>Bow Valley</th>\n",
       "      <td>357</td>\n",
       "      <td>239</td>\n",
       "    </tr>\n",
       "  </tbody>\n",
       "</table>\n",
       "</div>"
      ],
      "text/plain": [
       "                std grid x  std grid y\n",
       "Fisera Ridge            69          53\n",
       "Upper Clearing          72          93\n",
       "Hay Meadow              45         136\n",
       "Kananaskis             235         287\n",
       "Bow Valley             357         239"
      ]
     },
     "execution_count": 17,
     "metadata": {},
     "output_type": "execute_result"
    }
   ],
   "source": [
    "# standard xy grid coords from run_inv_mcrb.py\n",
    "coords = [[69, 53], [72, 93], [45, 136], [235, 287], [357, 239]]\n",
    "stations = [\"Fisera Ridge\", \"Upper Clearing\", \"Hay Meadow\", \"Kananaskis\", \"Bow Valley\"]\n",
    "dist_df = pd.DataFrame(coords, columns = [\"std grid x\", \"std grid y\"], index = stations)\n",
    "dist_df"
   ]
  },
  {
   "cell_type": "markdown",
   "id": "ethical-virginia",
   "metadata": {},
   "source": [
    "### Method 2: use eastings and northings from MCRB_Pinputs_20km.csv"
   ]
  },
  {
   "cell_type": "code",
   "execution_count": 18,
   "id": "cordless-excitement",
   "metadata": {},
   "outputs": [],
   "source": [
    "# # easting and northing coords from MCRB_Pinputs_20km.csv\n",
    "# coords = [[626132, 5646467], [628147, 5646573], [630745, 5645258], [635104, 5654649], [635410, 5660866]]\n",
    "# stations = [\"Fisera Ridge\", \"Upper Clearing\", \"Hay Meadow\", \"Kananaskis\", \"Bow Valley\"]\n",
    "# dist_df = pd.DataFrame(coords, columns = [\"std grid x\", \"std grid y\"], index = stations)\n",
    "# dist_df"
   ]
  },
  {
   "cell_type": "markdown",
   "id": "premier-point",
   "metadata": {},
   "source": [
    "### Calculate the distance matrix"
   ]
  },
  {
   "cell_type": "code",
   "execution_count": 19,
   "id": "joint-photography",
   "metadata": {},
   "outputs": [
    {
     "data": {
      "text/html": [
       "<div>\n",
       "<style scoped>\n",
       "    .dataframe tbody tr th:only-of-type {\n",
       "        vertical-align: middle;\n",
       "    }\n",
       "\n",
       "    .dataframe tbody tr th {\n",
       "        vertical-align: top;\n",
       "    }\n",
       "\n",
       "    .dataframe thead th {\n",
       "        text-align: right;\n",
       "    }\n",
       "</style>\n",
       "<table border=\"1\" class=\"dataframe\">\n",
       "  <thead>\n",
       "    <tr style=\"text-align: right;\">\n",
       "      <th></th>\n",
       "      <th>Fisera Ridge</th>\n",
       "      <th>Upper Clearing</th>\n",
       "      <th>Hay Meadow</th>\n",
       "      <th>Kananaskis</th>\n",
       "      <th>Bow Valley</th>\n",
       "    </tr>\n",
       "  </thead>\n",
       "  <tbody>\n",
       "    <tr>\n",
       "      <th>Fisera Ridge</th>\n",
       "      <td>0.000000</td>\n",
       "      <td>40.112342</td>\n",
       "      <td>86.400231</td>\n",
       "      <td>286.900680</td>\n",
       "      <td>342.841071</td>\n",
       "    </tr>\n",
       "    <tr>\n",
       "      <th>Upper Clearing</th>\n",
       "      <td>40.112342</td>\n",
       "      <td>0.000000</td>\n",
       "      <td>50.774009</td>\n",
       "      <td>253.387056</td>\n",
       "      <td>320.220237</td>\n",
       "    </tr>\n",
       "    <tr>\n",
       "      <th>Hay Meadow</th>\n",
       "      <td>86.400231</td>\n",
       "      <td>50.774009</td>\n",
       "      <td>0.000000</td>\n",
       "      <td>242.695282</td>\n",
       "      <td>328.562018</td>\n",
       "    </tr>\n",
       "    <tr>\n",
       "      <th>Kananaskis</th>\n",
       "      <td>286.900680</td>\n",
       "      <td>253.387056</td>\n",
       "      <td>242.695282</td>\n",
       "      <td>0.000000</td>\n",
       "      <td>131.103013</td>\n",
       "    </tr>\n",
       "    <tr>\n",
       "      <th>Bow Valley</th>\n",
       "      <td>342.841071</td>\n",
       "      <td>320.220237</td>\n",
       "      <td>328.562018</td>\n",
       "      <td>131.103013</td>\n",
       "      <td>0.000000</td>\n",
       "    </tr>\n",
       "  </tbody>\n",
       "</table>\n",
       "</div>"
      ],
      "text/plain": [
       "                Fisera Ridge  Upper Clearing  Hay Meadow  Kananaskis  \\\n",
       "Fisera Ridge        0.000000       40.112342   86.400231  286.900680   \n",
       "Upper Clearing     40.112342        0.000000   50.774009  253.387056   \n",
       "Hay Meadow         86.400231       50.774009    0.000000  242.695282   \n",
       "Kananaskis        286.900680      253.387056  242.695282    0.000000   \n",
       "Bow Valley        342.841071      320.220237  328.562018  131.103013   \n",
       "\n",
       "                Bow Valley  \n",
       "Fisera Ridge    342.841071  \n",
       "Upper Clearing  320.220237  \n",
       "Hay Meadow      328.562018  \n",
       "Kananaskis      131.103013  \n",
       "Bow Valley        0.000000  "
      ]
     },
     "execution_count": 19,
     "metadata": {},
     "output_type": "execute_result"
    }
   ],
   "source": [
    "distmatrix_df = pd.DataFrame(distance_matrix(dist_df.values, dist_df.values), index=dist_df.index, columns=dist_df.index)\n",
    "distmatrix_df"
   ]
  },
  {
   "cell_type": "markdown",
   "id": "likely-annual",
   "metadata": {},
   "source": [
    "### Get the separation distances from the matrix"
   ]
  },
  {
   "cell_type": "code",
   "execution_count": 20,
   "id": "distinguished-consumption",
   "metadata": {},
   "outputs": [
    {
     "name": "stdout",
     "output_type": "stream",
     "text": [
      "FRUC sep dist =  40.11234224026316\n",
      "FRHM sep dist =  86.40023148117139\n",
      "FRK sep dist =  286.9006796785257\n",
      "FRBV sep dist =  342.8410710518797\n",
      "UCHM sep dist =  50.774009099144415\n",
      "UCK sep dist =  253.38705570727168\n",
      "UCBV sep dist =  320.22023671217283\n",
      "HMK sep dist =  242.69528219559604\n",
      "HMBV sep dist =  328.5620184987912\n",
      "KBV sep dist =  131.10301293257908\n"
     ]
    }
   ],
   "source": [
    "FRUCdist = distmatrix_df.iloc[0, 1]\n",
    "FRHMdist = distmatrix_df.iloc[0, 2]\n",
    "FRKdist = distmatrix_df.iloc[0, 3]\n",
    "FRBVdist = distmatrix_df.iloc[0, 4]\n",
    "UCHMdist = distmatrix_df.iloc[1, 2]\n",
    "UCKdist = distmatrix_df.iloc[1, 3]\n",
    "UCBVdist = distmatrix_df.iloc[1, 4]\n",
    "HMKdist = distmatrix_df.iloc[2, 3]\n",
    "HMBVdist = distmatrix_df.iloc[2, 4]\n",
    "KBVdist = distmatrix_df.iloc[3, 4]\n",
    "\n",
    "print(\"FRUC sep dist = \", FRUCdist)\n",
    "print(\"FRHM sep dist = \", FRHMdist)\n",
    "print(\"FRK sep dist = \", FRKdist)\n",
    "print(\"FRBV sep dist = \", FRBVdist)\n",
    "print(\"UCHM sep dist = \", UCHMdist)\n",
    "print(\"UCK sep dist = \", UCKdist)\n",
    "print(\"UCBV sep dist = \", UCBVdist)\n",
    "print(\"HMK sep dist = \", HMKdist)\n",
    "print(\"HMBV sep dist = \", HMBVdist)\n",
    "print(\"KBV sep dist = \", KBVdist)"
   ]
  },
  {
   "cell_type": "markdown",
   "id": "large-documentation",
   "metadata": {},
   "source": [
    "### Create a dataframe"
   ]
  },
  {
   "cell_type": "code",
   "execution_count": 21,
   "id": "paperback-tuning",
   "metadata": {},
   "outputs": [
    {
     "data": {
      "text/plain": [
       "[['FRUC', 40.11234224026316, 0.8861217408804649],\n",
       " ['FRHM', 86.40023148117139, 0.7193385707171266],\n",
       " ['FRK', 286.9006796785257, 0.5248183573513652],\n",
       " ['FRBV', 342.8410710518797, 0.5383793316449658],\n",
       " ['UCHM', 50.774009099144415, 0.7820478319536623],\n",
       " ['UCK', 253.38705570727168, 0.5648184823491798],\n",
       " ['UCBV', 320.22023671217283, 0.5937744714485793],\n",
       " ['HMK', 242.69528219559604, 0.5828886372784629],\n",
       " ['HMBV', 328.5620184987912, 0.5881939619374852],\n",
       " ['KBV', 131.10301293257908, 0.57308]]"
      ]
     },
     "execution_count": 21,
     "metadata": {},
     "output_type": "execute_result"
    }
   ],
   "source": [
    "# step 1: initialise my lists\n",
    "corr = [[\"FRUC\", FRUCdist, FRUCcorr], [\"FRHM\", FRHMdist, FRHMcorr], [\"FRK\", FRKdist, FRKcorr],\n",
    "       [\"FRBV\", FRBVdist, FRBVcorr], [\"UCHM\", UCHMdist, UCHMcorr], [\"UCK\", UCKdist, UCKcorr],\n",
    "       [\"UCBV\", UCBVdist, UCBVcorr], [\"HMK\", HMKdist, HMKcorr], [\"HMBV\", HMBVdist, HMBVcorr],\n",
    "       [\"KBV\", KBVdist, KBVcorr.round(5)]]\n",
    "corr"
   ]
  },
  {
   "cell_type": "code",
   "execution_count": 22,
   "id": "rotary-opinion",
   "metadata": {},
   "outputs": [],
   "source": [
    "# step 2: create df from lists\n",
    "correlation_df = pd.DataFrame(corr, columns = [\"station_pair\", \"separation_distance\", \"correlation\"])\n",
    "correlation_df.set_index(\"station_pair\", inplace=True)\n",
    "# correlation_df"
   ]
  },
  {
   "cell_type": "code",
   "execution_count": 23,
   "id": "taken-intranet",
   "metadata": {},
   "outputs": [],
   "source": [
    "# sort by separation distance\n",
    "correlation_df.sort_values(by=['separation_distance'], inplace=True, ascending=True)\n",
    "# write to csv\n",
    "correlation_df.to_csv(r\"C:\\Users\\b1043453\\OneDrive - Newcastle University\\OnePlanet PhD\\Random_mixing\\RMWSPy_Horning_and_Haese_2021\\RMWSPy-master\\MCRB_examples\\MCRB_gauges_only\\Characterising_P_statistics\\correlation\\correlation_jittered_20km_stns.csv\")"
   ]
  },
  {
   "cell_type": "code",
   "execution_count": 24,
   "id": "hearing-steering",
   "metadata": {},
   "outputs": [
    {
     "data": {
      "text/html": [
       "<div>\n",
       "<style scoped>\n",
       "    .dataframe tbody tr th:only-of-type {\n",
       "        vertical-align: middle;\n",
       "    }\n",
       "\n",
       "    .dataframe tbody tr th {\n",
       "        vertical-align: top;\n",
       "    }\n",
       "\n",
       "    .dataframe thead th {\n",
       "        text-align: right;\n",
       "    }\n",
       "</style>\n",
       "<table border=\"1\" class=\"dataframe\">\n",
       "  <thead>\n",
       "    <tr style=\"text-align: right;\">\n",
       "      <th></th>\n",
       "      <th>separation_distance</th>\n",
       "      <th>correlation</th>\n",
       "    </tr>\n",
       "    <tr>\n",
       "      <th>station_pair</th>\n",
       "      <th></th>\n",
       "      <th></th>\n",
       "    </tr>\n",
       "  </thead>\n",
       "  <tbody>\n",
       "    <tr>\n",
       "      <th>FRUC</th>\n",
       "      <td>40.112342</td>\n",
       "      <td>0.886122</td>\n",
       "    </tr>\n",
       "    <tr>\n",
       "      <th>UCHM</th>\n",
       "      <td>50.774009</td>\n",
       "      <td>0.782048</td>\n",
       "    </tr>\n",
       "    <tr>\n",
       "      <th>FRHM</th>\n",
       "      <td>86.400231</td>\n",
       "      <td>0.719339</td>\n",
       "    </tr>\n",
       "    <tr>\n",
       "      <th>KBV</th>\n",
       "      <td>131.103013</td>\n",
       "      <td>0.573080</td>\n",
       "    </tr>\n",
       "    <tr>\n",
       "      <th>HMK</th>\n",
       "      <td>242.695282</td>\n",
       "      <td>0.582889</td>\n",
       "    </tr>\n",
       "    <tr>\n",
       "      <th>UCK</th>\n",
       "      <td>253.387056</td>\n",
       "      <td>0.564818</td>\n",
       "    </tr>\n",
       "    <tr>\n",
       "      <th>FRK</th>\n",
       "      <td>286.900680</td>\n",
       "      <td>0.524818</td>\n",
       "    </tr>\n",
       "    <tr>\n",
       "      <th>UCBV</th>\n",
       "      <td>320.220237</td>\n",
       "      <td>0.593774</td>\n",
       "    </tr>\n",
       "    <tr>\n",
       "      <th>HMBV</th>\n",
       "      <td>328.562018</td>\n",
       "      <td>0.588194</td>\n",
       "    </tr>\n",
       "    <tr>\n",
       "      <th>FRBV</th>\n",
       "      <td>342.841071</td>\n",
       "      <td>0.538379</td>\n",
       "    </tr>\n",
       "  </tbody>\n",
       "</table>\n",
       "</div>"
      ],
      "text/plain": [
       "              separation_distance  correlation\n",
       "station_pair                                  \n",
       "FRUC                    40.112342     0.886122\n",
       "UCHM                    50.774009     0.782048\n",
       "FRHM                    86.400231     0.719339\n",
       "KBV                    131.103013     0.573080\n",
       "HMK                    242.695282     0.582889\n",
       "UCK                    253.387056     0.564818\n",
       "FRK                    286.900680     0.524818\n",
       "UCBV                   320.220237     0.593774\n",
       "HMBV                   328.562018     0.588194\n",
       "FRBV                   342.841071     0.538379"
      ]
     },
     "execution_count": 24,
     "metadata": {},
     "output_type": "execute_result"
    }
   ],
   "source": [
    "correlation_df"
   ]
  },
  {
   "cell_type": "markdown",
   "id": "suspected-consistency",
   "metadata": {},
   "source": [
    "### Scatter plot correlation against separation distance"
   ]
  },
  {
   "cell_type": "code",
   "execution_count": 25,
   "id": "sufficient-generator",
   "metadata": {},
   "outputs": [],
   "source": [
    "# reset df index to get access to station_pair column\n",
    "correlation_df = correlation_df.reset_index()\n",
    "# correlation_df"
   ]
  },
  {
   "cell_type": "code",
   "execution_count": 26,
   "id": "expired-woman",
   "metadata": {},
   "outputs": [
    {
     "data": {
      "text/plain": [
       "<function matplotlib.pyplot.show(close=None, block=None)>"
      ]
     },
     "execution_count": 26,
     "metadata": {},
     "output_type": "execute_result"
    },
    {
     "data": {
      "image/png": "[encoded data removed]",
      "text/plain": [
       "<Figure size 432x288 with 1 Axes>"
      ]
     },
     "metadata": {
      "needs_background": "light"
     },
     "output_type": "display_data"
    }
   ],
   "source": [
    "# basic plot\n",
    "correlation_df.plot.scatter(x='separation_distance', y='correlation', c='tab:blue',\n",
    "                               title=\"correlation for 20 km stations (annual)\")\n",
    "plt.grid()\n",
    "plt.xlabel(\"Distance between station pairs\")\n",
    "plt.ylabel(\"Station pair correlation\")\n",
    "# plt.xlim(0, 800)\n",
    "# plt.ylim(0.02, 0.08)\n",
    "# plot labels on points\n",
    "for i, txt in enumerate(correlation_df.station_pair):\n",
    "    plt.annotate(txt, (correlation_df.separation_distance.iat[i], correlation_df.correlation.iat[i]))\n",
    "plt.show\n",
    "# plt.savefig(r'C:\\Users\\b1043453\\OneDrive - Newcastle University\\OnePlanet PhD\\Random_mixing\\RMWSPy_Horning_and_Haese_2021\\RMWSPy-master\\MCRB_examples\\MCRB_gauges_only\\Characterising_P_statistics\\correlation\\correlation_20km_stns.png')"
   ]
  },
  {
   "cell_type": "markdown",
   "id": "operational-boating",
   "metadata": {},
   "source": [
    "### Fit an exponential curve to the correlation data"
   ]
  },
  {
   "cell_type": "code",
   "execution_count": 32,
   "id": "smaller-cricket",
   "metadata": {},
   "outputs": [
    {
     "data": {
      "image/png": "[encoded data removed]",
      "text/plain": [
       "<Figure size 1080x504 with 1 Axes>"
      ]
     },
     "metadata": {
      "needs_background": "light"
     },
     "output_type": "display_data"
    }
   ],
   "source": [
    "# use type_exp function from covariancefunction.py\n",
    "# create a range of separation distances from 0 to 350\n",
    "distarr = np.arange(0, 360, 10)\n",
    "# set parameter values for exponential curve fitting\n",
    "Range = 150\n",
    "Sill = 1.0 # y-intercept estimated by eye from the plotted cov values - nugget\n",
    "nugget = 0.55\n",
    "\n",
    "# actual values from dataframe\n",
    "x = correlation_df.separation_distance.values\n",
    "y = correlation_df.correlation.values\n",
    "\n",
    "# create a function that loops through sepdist values and calculates an estimated covariance for each\n",
    "def type_exp(): \n",
    "    corrlist = [] # empty list for estimated correlation values from exponential function\n",
    "    for h in distarr:    \n",
    "        expfit = Sill * (np.exp(-h/Range) + nugget) # fit exponential curve\n",
    "        corrlist.append(expfit) # append covariance values to the list\n",
    "    return corrlist\n",
    "\n",
    "# create array of exponential curve estimated covariance values\n",
    "yexp = np.array(type_exp())\n",
    "    \n",
    "# plot actual covariance values\n",
    "plt.figure(figsize=(15, 7))\n",
    "plt.plot(x, y, 'bo', label=\"actual correlation\")\n",
    "# plot exponential curve values\n",
    "plt.plot(distarr, yexp, 'r', label=\"Exp (range=40, sill=0.99, nugget=0.58)\")\n",
    "# plotting\n",
    "plt.title(\"Correlation 20 km stations (annual)\")\n",
    "plt.xlabel('standard grid separation distance')\n",
    "plt.ylabel('correlation')\n",
    "plt.legend()\n",
    "plt.xlim(0, 400)\n",
    "plt.ylim(0, 1.6)\n",
    "plt.grid()\n",
    "\n",
    "# reset df index to get access to station_pair column\n",
    "# correlation_df = correlation_df.reset_index()\n",
    "\n",
    "# plot labels on points\n",
    "for i, txt in enumerate(correlation_df.station_pair):\n",
    "    plt.annotate(txt, (correlation_df.separation_distance.iat[i], correlation_df.correlation.iat[i]))\n",
    "plt.show()\n",
    "# plt.savefig(r'C:\\Users\\b1043453\\OneDrive - Newcastle University\\OnePlanet PhD\\Random_mixing\\RMWSPy_Horning_and_Haese_2021\\RMWSPy-master\\MCRB_examples\\MCRB_gauges_only\\Characterising_P_statistics\\correlation\\correlation_jittered.png')\n",
    "\n",
    "# print(\"sepdist = \", sepdist)\n",
    "# print(\"h = \", h)\n",
    "# print(\"yexp = \", yexp)"
   ]
  },
  {
   "cell_type": "markdown",
   "id": "higher-clothing",
   "metadata": {},
   "source": [
    "### From observation of the fig above, it looks like we have: nugget=0.55, sill=1.55 (not realistic, make it 1.0), range=150. However, this gives a really poor fit. So, experiment with nugget, sill and range vals to get a better fit."
   ]
  },
  {
   "cell_type": "code",
   "execution_count": 33,
   "id": "cooperative-montreal",
   "metadata": {},
   "outputs": [
    {
     "data": {
      "image/png": "[encoded data removed]",
      "text/plain": [
       "<Figure size 1080x504 with 1 Axes>"
      ]
     },
     "metadata": {
      "needs_background": "light"
     },
     "output_type": "display_data"
    }
   ],
   "source": [
    "# use type_exp function from covariancefunction.py\n",
    "# create a range of separation distances from 0 to 350\n",
    "distarr = np.arange(0, 360, 10)\n",
    "# set parameter values for exponential curve fitting\n",
    "Range = 40\n",
    "Sill = 0.99 # y-intercept estimated by eye from the plotted cov values - nugget\n",
    "nugget = 0.58\n",
    "\n",
    "# actual values from dataframe\n",
    "x = correlation_df.separation_distance.values\n",
    "y = correlation_df.correlation.values\n",
    "\n",
    "# create a function that loops through sepdist values and calculates an estimated covariance for each\n",
    "def type_exp(): \n",
    "    corrlist = [] # empty list for estimated correlation values from exponential function\n",
    "    for h in distarr:    \n",
    "        expfit = Sill * (np.exp(-h/Range) + nugget) # fit exponential curve\n",
    "        corrlist.append(expfit) # append covariance values to the list\n",
    "    return corrlist\n",
    "\n",
    "# create array of exponential curve estimated covariance values\n",
    "yexp = np.array(type_exp())\n",
    "    \n",
    "# plot actual covariance values\n",
    "plt.figure(figsize=(15, 7))\n",
    "plt.plot(x, y, 'bo', label=\"actual correlation\")\n",
    "# plot exponential curve values\n",
    "plt.plot(distarr, yexp, 'r', label=\"Exp (range=40, sill=0.99, nugget=0.58)\")\n",
    "# plotting\n",
    "plt.title(\"Correlation 20 km stations (annual)\")\n",
    "plt.xlabel('standard grid separation distance')\n",
    "plt.ylabel('correlation')\n",
    "plt.legend()\n",
    "plt.xlim(0, 400)\n",
    "plt.ylim(0, 1.6)\n",
    "plt.grid()\n",
    "\n",
    "# reset df index to get access to station_pair column\n",
    "# correlation_df = correlation_df.reset_index()\n",
    "\n",
    "# plot labels on points\n",
    "for i, txt in enumerate(correlation_df.station_pair):\n",
    "    plt.annotate(txt, (correlation_df.separation_distance.iat[i], correlation_df.correlation.iat[i]))\n",
    "# plt.show()\n",
    "plt.savefig(r'C:\\Users\\b1043453\\OneDrive - Newcastle University\\OnePlanet PhD\\Random_mixing\\RMWSPy_Horning_and_Haese_2021\\RMWSPy-master\\MCRB_examples\\MCRB_gauges_only\\Characterising_P_statistics\\correlation\\correlation_jittered.png')"
   ]
  }
 ],
 "metadata": {
  "kernelspec": {
   "display_name": "Python 3",
   "language": "python",
   "name": "python3"
  },
  "language_info": {
   "codemirror_mode": {
    "name": "ipython",
    "version": 3
   },
   "file_extension": ".py",
   "mimetype": "text/x-python",
   "name": "python",
   "nbconvert_exporter": "python",
   "pygments_lexer": "ipython3",
   "version": "3.6.5"
  }
 },
 "nbformat": 4,
 "nbformat_minor": 5
}
