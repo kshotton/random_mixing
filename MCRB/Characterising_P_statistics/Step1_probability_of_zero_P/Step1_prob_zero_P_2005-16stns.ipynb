{
 "cells": [
  {
   "cell_type": "markdown",
   "id": "persistent-draft",
   "metadata": {},
   "source": [
    "### Calculate the probability of zero precipitation (proportion of dry days) for all stations with P data for 2005-16: FR, UC, HM, K, BV, KP, BCS, WH"
   ]
  },
  {
   "cell_type": "markdown",
   "id": "fuzzy-progress",
   "metadata": {},
   "source": [
    "It was important to characterise the statistics of precipitation in Marmot Creek Research Basin (MCRB). Python code was written to read and analyse total daily precipitation data, i.e. rainfall and snowfall, initially from three weather stations at Fisera Ridge (2325 m a.s.l.), Upper Clearing (1845 m a.s.l.) and Hay Meadow (1436 m a.s.l.). Snowfall amounts were based on snow water equivalent (SWE) values. It became evident that, to improve the quality of the spatiotemporal precipitation fields generated using the Random Mixing method, it would be preferable to access precipitation data from other gauges in the vicinity. Additional stations within an initial 50km radius of MCRB were identified from https://climate.weather.gc.ca/historical_data/search_historic_data_e.html. Several of these had sparse data for the priod of interest: however, five gauges were identified that had recorded daily data over the same period as those at MCRB, i.e. October 2005 to September 2016. These are at: Kananaskis Pocaterra (1610.0 m a.s.l.), Banff CS (1397 m a.s.l.), Kananaskis (1391 m a.s.l.), Bow Valley (1298 m a.s.l.) and Wildcat Hills (1268 m a.s.l.). There were some periods of missing data, as highlighted in Table *** (put in a table with missing dates for each of the new stations). Python code was adapted to deal with missing data, simply by assigning NaN to those dates.\n",
    "\n",
    "Once all the relevant data was read in, the first step in assessing precipitation statistics was to calculate the probability of experiencing a dry day, using four?!?!? different dry day threshold values: 0 mm, less than 0.1 mm, less than or equal to 0.1 mm and less than 1.0 mm. ?!?!? _Need to provide some rationale for why these values were chosen?!?!?_. This resulted in a set of dry day probability values which is shown in Table ?!?!? (_see the table at C:\\Users\\b1043453\\OneDrive - Newcastle University\\OnePlanet PhD\\Random_mixing\\RMWSPy_Horning_and_Haese_2021\\RMWSPy-master\\MCRB_examples\\MCRB_gauges_only\\Characterising_P_statistics\\Prob_zero_P_2005-2016.csv)_. \n",
    "Analysis of basic statistics of the threshold values yielded the data shown in Table ?!?!? (_see the table at C:\\Users\\b1043453\\OneDrive - Newcastle University\\OnePlanet PhD\\Random_mixing\\RMWSPy_Horning_and_Haese_2021\\RMWSPy-master\\MCRB_examples\\MCRB_gauges_only\\Characterising_P_statistics\\Prob_zero_P_stats_2005-2016\\Prob_zero_P_stats_2005-2016.csv)_. The table shows that the mean, minimum and maximum values for thresholds of 0 mm, less than 0.1 mm and less than or equal to 0.1 mm are very similar. Only when considering a dry day threshold of 1.0 mm is there a significant difference in values, for example mean probability values range from 0.54 - 0.55 for the three lower thresholds, to 0.68 with a 1.0 mm threshold. **Dry day thresholds are discussed further in Section ?!?!?!?!?**"
   ]
  },
  {
   "cell_type": "code",
   "execution_count": 1,
   "id": "russian-intro",
   "metadata": {},
   "outputs": [],
   "source": [
    "import numpy as np\n",
    "import pandas as pd\n",
    "import math\n",
    "import scipy as st\n",
    "import scipy.stats as stats\n",
    "import matplotlib.pyplot as plt\n",
    "%matplotlib inline\n",
    "from numpy import genfromtxt"
   ]
  },
  {
   "cell_type": "markdown",
   "id": "dental-inspector",
   "metadata": {},
   "source": [
    "### Read in P data for all 8 stations from csv file created in P_inputs_allstns_2005-2016.ipynb"
   ]
  },
  {
   "cell_type": "code",
   "execution_count": 2,
   "id": "modern-thriller",
   "metadata": {},
   "outputs": [
    {
     "data": {
      "text/html": [
       "<div>\n",
       "<style scoped>\n",
       "    .dataframe tbody tr th:only-of-type {\n",
       "        vertical-align: middle;\n",
       "    }\n",
       "\n",
       "    .dataframe tbody tr th {\n",
       "        vertical-align: top;\n",
       "    }\n",
       "\n",
       "    .dataframe thead th {\n",
       "        text-align: right;\n",
       "    }\n",
       "</style>\n",
       "<table border=\"1\" class=\"dataframe\">\n",
       "  <thead>\n",
       "    <tr style=\"text-align: right;\">\n",
       "      <th></th>\n",
       "      <th>FR_p_mm</th>\n",
       "      <th>UC_p_mm</th>\n",
       "      <th>KP_p_mm</th>\n",
       "      <th>HM_p_mm</th>\n",
       "      <th>BCS_p_mm</th>\n",
       "      <th>K_p_mm</th>\n",
       "      <th>BV_p_mm</th>\n",
       "      <th>WH_p_mm</th>\n",
       "    </tr>\n",
       "    <tr>\n",
       "      <th>date</th>\n",
       "      <th></th>\n",
       "      <th></th>\n",
       "      <th></th>\n",
       "      <th></th>\n",
       "      <th></th>\n",
       "      <th></th>\n",
       "      <th></th>\n",
       "      <th></th>\n",
       "    </tr>\n",
       "  </thead>\n",
       "  <tbody>\n",
       "    <tr>\n",
       "      <th>2005-10-01</th>\n",
       "      <td>16.0160</td>\n",
       "      <td>11.3028</td>\n",
       "      <td>16.0</td>\n",
       "      <td>7.3722</td>\n",
       "      <td>11.0</td>\n",
       "      <td>0.0</td>\n",
       "      <td>10.4</td>\n",
       "      <td>0.8</td>\n",
       "    </tr>\n",
       "    <tr>\n",
       "      <th>2005-10-02</th>\n",
       "      <td>0.0000</td>\n",
       "      <td>0.0000</td>\n",
       "      <td>0.0</td>\n",
       "      <td>0.0000</td>\n",
       "      <td>0.2</td>\n",
       "      <td>0.4</td>\n",
       "      <td>0.0</td>\n",
       "      <td>0.0</td>\n",
       "    </tr>\n",
       "    <tr>\n",
       "      <th>2005-10-03</th>\n",
       "      <td>0.7649</td>\n",
       "      <td>0.5399</td>\n",
       "      <td>0.0</td>\n",
       "      <td>0.0000</td>\n",
       "      <td>0.2</td>\n",
       "      <td>1.2</td>\n",
       "      <td>0.2</td>\n",
       "      <td>4.0</td>\n",
       "    </tr>\n",
       "    <tr>\n",
       "      <th>2005-10-04</th>\n",
       "      <td>0.5463</td>\n",
       "      <td>0.3855</td>\n",
       "      <td>0.0</td>\n",
       "      <td>0.0000</td>\n",
       "      <td>0.0</td>\n",
       "      <td>0.0</td>\n",
       "      <td>0.4</td>\n",
       "      <td>0.0</td>\n",
       "    </tr>\n",
       "    <tr>\n",
       "      <th>2005-10-05</th>\n",
       "      <td>0.0896</td>\n",
       "      <td>0.0633</td>\n",
       "      <td>1.4</td>\n",
       "      <td>0.0000</td>\n",
       "      <td>0.0</td>\n",
       "      <td>0.0</td>\n",
       "      <td>0.0</td>\n",
       "      <td>0.0</td>\n",
       "    </tr>\n",
       "  </tbody>\n",
       "</table>\n",
       "</div>"
      ],
      "text/plain": [
       "            FR_p_mm  UC_p_mm  KP_p_mm  HM_p_mm  BCS_p_mm  K_p_mm  BV_p_mm  \\\n",
       "date                                                                        \n",
       "2005-10-01  16.0160  11.3028     16.0   7.3722      11.0     0.0     10.4   \n",
       "2005-10-02   0.0000   0.0000      0.0   0.0000       0.2     0.4      0.0   \n",
       "2005-10-03   0.7649   0.5399      0.0   0.0000       0.2     1.2      0.2   \n",
       "2005-10-04   0.5463   0.3855      0.0   0.0000       0.0     0.0      0.4   \n",
       "2005-10-05   0.0896   0.0633      1.4   0.0000       0.0     0.0      0.0   \n",
       "\n",
       "            WH_p_mm  \n",
       "date                 \n",
       "2005-10-01      0.8  \n",
       "2005-10-02      0.0  \n",
       "2005-10-03      4.0  \n",
       "2005-10-04      0.0  \n",
       "2005-10-05      0.0  "
      ]
     },
     "execution_count": 2,
     "metadata": {},
     "output_type": "execute_result"
    }
   ],
   "source": [
    "# Use pd.read_csv to read csv file\n",
    "allstnsP_df = pd.read_csv(r\"C:\\Users\\b1043453\\OneDrive - Newcastle University\\OnePlanet PhD\\Random_mixing\\RMWSPy_Horning_and_Haese_2021\\RMWSPy-master\\MCRB_examples\\MCRB_gauges_only\\Characterising_P_statistics\\Pinputs_2005-2016.csv\",\n",
    "                         index_col=0)\n",
    "allstnsP_df.head()"
   ]
  },
  {
   "cell_type": "markdown",
   "id": "static-waste",
   "metadata": {},
   "source": [
    "### Calculate probability of zero P (threshold < 0.1 mm) for each station using a function which will feed into run_inv.py"
   ]
  },
  {
   "cell_type": "code",
   "execution_count": 3,
   "id": "hawaiian-edward",
   "metadata": {},
   "outputs": [
    {
     "data": {
      "text/plain": [
       "array([0.44190097, 0.52102513, 0.39139089, 0.61408311, 0.54093058,\n",
       "       0.67355063, 0.57327693, 0.65314755])"
      ]
     },
     "execution_count": 3,
     "metadata": {},
     "output_type": "execute_result"
    }
   ],
   "source": [
    "def calcP0(x):\n",
    "    result_p0 = (x < 0.1).sum() / len(x)\n",
    "    return result_p0\n",
    "\n",
    "test = allstnsP_df.apply(calcP0, axis=0)\n",
    "test.values"
   ]
  },
  {
   "cell_type": "code",
   "execution_count": 4,
   "id": "european-australian",
   "metadata": {},
   "outputs": [],
   "source": [
    "# # round P values to 1 dp for threshold calculations\n",
    "# allstnsP1dp_df = allstnsP_df.round(1)\n",
    "# allstnsP1dp_df.head()"
   ]
  },
  {
   "cell_type": "markdown",
   "id": "afraid-dating",
   "metadata": {},
   "source": [
    "### Probability of zero P: threshold = 0mm"
   ]
  },
  {
   "cell_type": "code",
   "execution_count": 5,
   "id": "classical-penalty",
   "metadata": {},
   "outputs": [],
   "source": [
    "# Calculate proportion of dry days: divide no of zeros in p_mm column by the length of the dataframe\n",
    "FRprob_0 = (allstnsP_df.FR_p_mm == 0).sum() / len(allstnsP_df)\n",
    "UCprob_0 = (allstnsP_df.UC_p_mm == 0).sum() / len(allstnsP_df)\n",
    "HMprob_0 = (allstnsP_df.HM_p_mm == 0).sum() / len(allstnsP_df)\n",
    "Kprob_0 = (allstnsP_df.K_p_mm == 0).sum() / len(allstnsP_df)\n",
    "BVprob_0 = (allstnsP_df.BV_p_mm == 0).sum() / len(allstnsP_df)\n",
    "KPprob_0 = (allstnsP_df.KP_p_mm == 0).sum() / len(allstnsP_df)\n",
    "BCSprob_0 = (allstnsP_df.BCS_p_mm == 0).sum() / len(allstnsP_df)\n",
    "WHprob_0 = (allstnsP_df.WH_p_mm == 0).sum() / len(allstnsP_df)"
   ]
  },
  {
   "cell_type": "markdown",
   "id": "robust-robert",
   "metadata": {},
   "source": [
    "### Probability of zero P: threshold < 0.1mm"
   ]
  },
  {
   "cell_type": "code",
   "execution_count": 6,
   "id": "infrared-buffalo",
   "metadata": {},
   "outputs": [],
   "source": [
    "# Calculate proportion of dry days: divide no of < 0.1mm values in p_mm column by the length of the dataframe\n",
    "FRprob_less_0pt1 = (allstnsP_df.FR_p_mm < 0.1).sum() / len(allstnsP_df)\n",
    "UCprob_less_0pt1 = (allstnsP_df.UC_p_mm < 0.1).sum() / len(allstnsP_df)\n",
    "HMprob_less_0pt1 = (allstnsP_df.HM_p_mm < 0.1).sum() / len(allstnsP_df)\n",
    "Kprob_less_0pt1 = (allstnsP_df.K_p_mm < 0.1).sum() / len(allstnsP_df)\n",
    "BVprob_less_0pt1 = (allstnsP_df.BV_p_mm < 0.1).sum() / len(allstnsP_df)\n",
    "KPprob_less_0pt1 = (allstnsP_df.KP_p_mm < 0.1).sum() / len(allstnsP_df)\n",
    "BCSprob_less_0pt1 = (allstnsP_df.BCS_p_mm < 0.1).sum() / len(allstnsP_df)\n",
    "WHprob_less_0pt1 = (allstnsP_df.WH_p_mm < 0.1).sum() / len(allstnsP_df)"
   ]
  },
  {
   "cell_type": "markdown",
   "id": "collected-arnold",
   "metadata": {},
   "source": [
    "### Probability of zero P: threshold <= 0.1mm"
   ]
  },
  {
   "cell_type": "code",
   "execution_count": 7,
   "id": "organized-invite",
   "metadata": {},
   "outputs": [],
   "source": [
    "# Calculate proportion of dry days: divide no of ,= 0.1 mm values in p_mm column by the length of the dataframe\n",
    "FRprob_lessequal_0pt1 = (allstnsP_df.FR_p_mm <= 0.1).sum() / len(allstnsP_df)\n",
    "UCprob_lessequal_0pt1 = (allstnsP_df.UC_p_mm <= 0.1).sum() / len(allstnsP_df)\n",
    "HMprob_lessequal_0pt1 = (allstnsP_df.HM_p_mm <= 0.1).sum() / len(allstnsP_df)\n",
    "Kprob_lessequal_0pt1 = (allstnsP_df.K_p_mm <= 0.1).sum() / len(allstnsP_df)\n",
    "BVprob_lessequal_0pt1 = (allstnsP_df.BV_p_mm <= 0.1).sum() / len(allstnsP_df)\n",
    "KPprob_lessequal_0pt1 = (allstnsP_df.KP_p_mm <= 0.1).sum() / len(allstnsP_df)\n",
    "BCSprob_lessequal_0pt1 = (allstnsP_df.BCS_p_mm <= 0.1).sum() / len(allstnsP_df)\n",
    "WHprob_lessequal_0pt1 = (allstnsP_df.WH_p_mm <= 0.1).sum() / len(allstnsP_df)"
   ]
  },
  {
   "cell_type": "markdown",
   "id": "expensive-voice",
   "metadata": {},
   "source": [
    "### Probability of zero P: threshold < 1.0mm"
   ]
  },
  {
   "cell_type": "code",
   "execution_count": 8,
   "id": "transsexual-valve",
   "metadata": {},
   "outputs": [],
   "source": [
    "# Calculate proportion of dry days: divide no of < 1.0 mm values in p_mm column by the length of the dataframe\n",
    "FRprob_less_1 = (allstnsP_df.FR_p_mm < 1.0).sum() / len(allstnsP_df)\n",
    "UCprob_less_1 = (allstnsP_df.UC_p_mm < 1.0).sum() / len(allstnsP_df)\n",
    "HMprob_less_1 = (allstnsP_df.HM_p_mm < 1.0).sum() / len(allstnsP_df)\n",
    "Kprob_less_1 = (allstnsP_df.K_p_mm < 1.0).sum() / len(allstnsP_df)\n",
    "BVprob_less_1 = (allstnsP_df.BV_p_mm < 1.0).sum() / len(allstnsP_df)\n",
    "KPprob_less_1 = (allstnsP_df.KP_p_mm < 1.0).sum() / len(allstnsP_df)\n",
    "BCSprob_less_1 = (allstnsP_df.BCS_p_mm < 1.0).sum() / len(allstnsP_df)\n",
    "WHprob_less_1 = (allstnsP_df.WH_p_mm < 1.0).sum() / len(allstnsP_df)"
   ]
  },
  {
   "cell_type": "markdown",
   "id": "juvenile-council",
   "metadata": {},
   "source": [
    "## Create a dataframe in order of elevation (highest to lowest)"
   ]
  },
  {
   "cell_type": "code",
   "execution_count": 9,
   "id": "successful-mentor",
   "metadata": {},
   "outputs": [],
   "source": [
    "# step 1: initialise my lists\n",
    "data = [[\"FR_2325m\", FRprob_0, FRprob_less_0pt1, FRprob_lessequal_0pt1, FRprob_less_1],\n",
    "       [\"UC_1845m\", UCprob_0, UCprob_less_0pt1, UCprob_lessequal_0pt1, UCprob_less_1],\n",
    "       [\"KP_1610m\", KPprob_0, KPprob_less_0pt1, KPprob_lessequal_0pt1, KPprob_less_1], \n",
    "       [\"HM_1436m\", HMprob_0, HMprob_less_0pt1, HMprob_lessequal_0pt1, HMprob_less_1],\n",
    "       [\"BCS_1397m\", BCSprob_0, BCSprob_less_0pt1, BCSprob_lessequal_0pt1, BCSprob_less_1], \n",
    "       [\"K_1391m\", Kprob_0, Kprob_less_0pt1, Kprob_lessequal_0pt1, Kprob_less_1],\n",
    "       [\"BV_1298m\", BVprob_0, BVprob_less_0pt1, BVprob_lessequal_0pt1, BVprob_less_1],\n",
    "       [\"WH_1268m\", WHprob_0, WHprob_less_0pt1, WHprob_lessequal_0pt1, WHprob_less_1],]\n",
    "# data"
   ]
  },
  {
   "cell_type": "code",
   "execution_count": 10,
   "id": "distinct-process",
   "metadata": {},
   "outputs": [
    {
     "data": {
      "text/html": [
       "<div>\n",
       "<style scoped>\n",
       "    .dataframe tbody tr th:only-of-type {\n",
       "        vertical-align: middle;\n",
       "    }\n",
       "\n",
       "    .dataframe tbody tr th {\n",
       "        vertical-align: top;\n",
       "    }\n",
       "\n",
       "    .dataframe thead th {\n",
       "        text-align: right;\n",
       "    }\n",
       "</style>\n",
       "<table border=\"1\" class=\"dataframe\">\n",
       "  <thead>\n",
       "    <tr style=\"text-align: right;\">\n",
       "      <th></th>\n",
       "      <th>prob_0mm</th>\n",
       "      <th>prob&lt;0.1mm</th>\n",
       "      <th>prob&lt;=0.1mm</th>\n",
       "      <th>prob&lt;1mm</th>\n",
       "    </tr>\n",
       "    <tr>\n",
       "      <th>station</th>\n",
       "      <th></th>\n",
       "      <th></th>\n",
       "      <th></th>\n",
       "      <th></th>\n",
       "    </tr>\n",
       "  </thead>\n",
       "  <tbody>\n",
       "    <tr>\n",
       "      <th>FR_2325m</th>\n",
       "      <td>0.420254</td>\n",
       "      <td>0.441901</td>\n",
       "      <td>0.441901</td>\n",
       "      <td>0.631252</td>\n",
       "    </tr>\n",
       "    <tr>\n",
       "      <th>UC_1845m</th>\n",
       "      <td>0.468027</td>\n",
       "      <td>0.521025</td>\n",
       "      <td>0.521025</td>\n",
       "      <td>0.719084</td>\n",
       "    </tr>\n",
       "    <tr>\n",
       "      <th>KP_1610m</th>\n",
       "      <td>0.391391</td>\n",
       "      <td>0.391391</td>\n",
       "      <td>0.395372</td>\n",
       "      <td>0.424484</td>\n",
       "    </tr>\n",
       "    <tr>\n",
       "      <th>HM_1436m</th>\n",
       "      <td>0.575267</td>\n",
       "      <td>0.614083</td>\n",
       "      <td>0.614083</td>\n",
       "      <td>0.772083</td>\n",
       "    </tr>\n",
       "    <tr>\n",
       "      <th>BCS_1397m</th>\n",
       "      <td>0.540931</td>\n",
       "      <td>0.540931</td>\n",
       "      <td>0.540931</td>\n",
       "      <td>0.746952</td>\n",
       "    </tr>\n",
       "    <tr>\n",
       "      <th>K_1391m</th>\n",
       "      <td>0.673551</td>\n",
       "      <td>0.673551</td>\n",
       "      <td>0.673799</td>\n",
       "      <td>0.740980</td>\n",
       "    </tr>\n",
       "    <tr>\n",
       "      <th>BV_1298m</th>\n",
       "      <td>0.573277</td>\n",
       "      <td>0.573277</td>\n",
       "      <td>0.573277</td>\n",
       "      <td>0.721573</td>\n",
       "    </tr>\n",
       "    <tr>\n",
       "      <th>WH_1268m</th>\n",
       "      <td>0.653148</td>\n",
       "      <td>0.653148</td>\n",
       "      <td>0.653148</td>\n",
       "      <td>0.721821</td>\n",
       "    </tr>\n",
       "  </tbody>\n",
       "</table>\n",
       "</div>"
      ],
      "text/plain": [
       "           prob_0mm  prob<0.1mm  prob<=0.1mm  prob<1mm\n",
       "station                                               \n",
       "FR_2325m   0.420254    0.441901     0.441901  0.631252\n",
       "UC_1845m   0.468027    0.521025     0.521025  0.719084\n",
       "KP_1610m   0.391391    0.391391     0.395372  0.424484\n",
       "HM_1436m   0.575267    0.614083     0.614083  0.772083\n",
       "BCS_1397m  0.540931    0.540931     0.540931  0.746952\n",
       "K_1391m    0.673551    0.673551     0.673799  0.740980\n",
       "BV_1298m   0.573277    0.573277     0.573277  0.721573\n",
       "WH_1268m   0.653148    0.653148     0.653148  0.721821"
      ]
     },
     "execution_count": 10,
     "metadata": {},
     "output_type": "execute_result"
    }
   ],
   "source": [
    "# step 2: create df from lists\n",
    "prob_df = pd.DataFrame(data, columns = [\"station\", \"prob_0mm\", \"prob<0.1mm\", \"prob<=0.1mm\", \"prob<1mm\"])\n",
    "prob_df.set_index(\"station\", inplace=True)\n",
    "prob_df"
   ]
  },
  {
   "cell_type": "markdown",
   "id": "happy-techno",
   "metadata": {},
   "source": [
    "### Write dataframe to csv"
   ]
  },
  {
   "cell_type": "code",
   "execution_count": 11,
   "id": "considered-genome",
   "metadata": {},
   "outputs": [],
   "source": [
    "prob_df.to_csv(r\"C:\\Users\\b1043453\\OneDrive - Newcastle University\\OnePlanet PhD\\Random_mixing\\RMWSPy_Horning_and_Haese_2021\\RMWSPy-master\\MCRB_examples\\MCRB_gauges_only\\Characterising_P_statistics\\Prob_zero_P_2005-2016.csv\")"
   ]
  },
  {
   "cell_type": "markdown",
   "id": "dependent-vessel",
   "metadata": {},
   "source": [
    "### Use df.describe() to look at basis statistics and write to csv"
   ]
  },
  {
   "cell_type": "code",
   "execution_count": 14,
   "id": "concrete-street",
   "metadata": {},
   "outputs": [
    {
     "data": {
      "text/html": [
       "<div>\n",
       "<style scoped>\n",
       "    .dataframe tbody tr th:only-of-type {\n",
       "        vertical-align: middle;\n",
       "    }\n",
       "\n",
       "    .dataframe tbody tr th {\n",
       "        vertical-align: top;\n",
       "    }\n",
       "\n",
       "    .dataframe thead th {\n",
       "        text-align: right;\n",
       "    }\n",
       "</style>\n",
       "<table border=\"1\" class=\"dataframe\">\n",
       "  <thead>\n",
       "    <tr style=\"text-align: right;\">\n",
       "      <th></th>\n",
       "      <th>prob_0mm</th>\n",
       "      <th>prob&lt;0.1mm</th>\n",
       "      <th>prob&lt;=0.1mm</th>\n",
       "      <th>prob&lt;1mm</th>\n",
       "    </tr>\n",
       "  </thead>\n",
       "  <tbody>\n",
       "    <tr>\n",
       "      <th>count</th>\n",
       "      <td>8.000000</td>\n",
       "      <td>8.000000</td>\n",
       "      <td>8.000000</td>\n",
       "      <td>8.000000</td>\n",
       "    </tr>\n",
       "    <tr>\n",
       "      <th>mean</th>\n",
       "      <td>0.536981</td>\n",
       "      <td>0.551163</td>\n",
       "      <td>0.551692</td>\n",
       "      <td>0.684779</td>\n",
       "    </tr>\n",
       "    <tr>\n",
       "      <th>std</th>\n",
       "      <td>0.103179</td>\n",
       "      <td>0.098782</td>\n",
       "      <td>0.097913</td>\n",
       "      <td>0.112864</td>\n",
       "    </tr>\n",
       "    <tr>\n",
       "      <th>min</th>\n",
       "      <td>0.391391</td>\n",
       "      <td>0.391391</td>\n",
       "      <td>0.395372</td>\n",
       "      <td>0.424484</td>\n",
       "    </tr>\n",
       "    <tr>\n",
       "      <th>25%</th>\n",
       "      <td>0.456084</td>\n",
       "      <td>0.501244</td>\n",
       "      <td>0.501244</td>\n",
       "      <td>0.697126</td>\n",
       "    </tr>\n",
       "    <tr>\n",
       "      <th>50%</th>\n",
       "      <td>0.557104</td>\n",
       "      <td>0.557104</td>\n",
       "      <td>0.557104</td>\n",
       "      <td>0.721697</td>\n",
       "    </tr>\n",
       "    <tr>\n",
       "      <th>75%</th>\n",
       "      <td>0.594737</td>\n",
       "      <td>0.623849</td>\n",
       "      <td>0.623849</td>\n",
       "      <td>0.742473</td>\n",
       "    </tr>\n",
       "    <tr>\n",
       "      <th>max</th>\n",
       "      <td>0.673551</td>\n",
       "      <td>0.673551</td>\n",
       "      <td>0.673799</td>\n",
       "      <td>0.772083</td>\n",
       "    </tr>\n",
       "  </tbody>\n",
       "</table>\n",
       "</div>"
      ],
      "text/plain": [
       "       prob_0mm  prob<0.1mm  prob<=0.1mm  prob<1mm\n",
       "count  8.000000    8.000000     8.000000  8.000000\n",
       "mean   0.536981    0.551163     0.551692  0.684779\n",
       "std    0.103179    0.098782     0.097913  0.112864\n",
       "min    0.391391    0.391391     0.395372  0.424484\n",
       "25%    0.456084    0.501244     0.501244  0.697126\n",
       "50%    0.557104    0.557104     0.557104  0.721697\n",
       "75%    0.594737    0.623849     0.623849  0.742473\n",
       "max    0.673551    0.673551     0.673799  0.772083"
      ]
     },
     "execution_count": 14,
     "metadata": {},
     "output_type": "execute_result"
    }
   ],
   "source": [
    "prob_df_stats = prob_df.describe()\n",
    "prob_df_stats"
   ]
  },
  {
   "cell_type": "code",
   "execution_count": 15,
   "id": "voluntary-instruction",
   "metadata": {},
   "outputs": [],
   "source": [
    "prob_df_stats.to_csv(r\"C:\\Users\\b1043453\\OneDrive - Newcastle University\\OnePlanet PhD\\Random_mixing\\RMWSPy_Horning_and_Haese_2021\\RMWSPy-master\\MCRB_examples\\MCRB_gauges_only\\Characterising_P_statistics\\Prob_zero_P_stats_2005-2016.csv\")"
   ]
  }
 ],
 "metadata": {
  "kernelspec": {
   "display_name": "Python 3",
   "language": "python",
   "name": "python3"
  },
  "language_info": {
   "codemirror_mode": {
    "name": "ipython",
    "version": 3
   },
   "file_extension": ".py",
   "mimetype": "text/x-python",
   "name": "python",
   "nbconvert_exporter": "python",
   "pygments_lexer": "ipython3",
   "version": "3.6.5"
  }
 },
 "nbformat": 4,
 "nbformat_minor": 5
}
