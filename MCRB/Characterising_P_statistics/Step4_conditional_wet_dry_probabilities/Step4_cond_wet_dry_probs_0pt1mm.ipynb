{
 "cells": [
  {
   "cell_type": "markdown",
   "id": "persistent-draft",
   "metadata": {},
   "source": [
    "### Calculate the conditional wet/dry probabilities for each pair of gauges:\n",
    "### Fisera Ridge, Upper Clearing, Hay Meadow, Kananaskis, Bow Valley only (NOT Kananaskis Pocaterra, Banff CS, Wildcat Hills)\n",
    "### Wet/dry day threshold = 0.1 mm"
   ]
  },
  {
   "cell_type": "code",
   "execution_count": 1,
   "id": "russian-intro",
   "metadata": {},
   "outputs": [],
   "source": [
    "import numpy as np\n",
    "import pandas as pd\n",
    "import math\n",
    "import scipy as st\n",
    "import scipy.stats as stats\n",
    "import matplotlib.pyplot as plt\n",
    "%matplotlib inline\n",
    "from numpy import genfromtxt"
   ]
  },
  {
   "cell_type": "markdown",
   "id": "dental-inspector",
   "metadata": {},
   "source": [
    "### Read in P data for all 8 stations from csv file created in P_inputs_2005-2016.ipynb"
   ]
  },
  {
   "cell_type": "code",
   "execution_count": 2,
   "id": "modern-thriller",
   "metadata": {},
   "outputs": [
    {
     "data": {
      "text/html": [
       "<div>\n",
       "<style scoped>\n",
       "    .dataframe tbody tr th:only-of-type {\n",
       "        vertical-align: middle;\n",
       "    }\n",
       "\n",
       "    .dataframe tbody tr th {\n",
       "        vertical-align: top;\n",
       "    }\n",
       "\n",
       "    .dataframe thead th {\n",
       "        text-align: right;\n",
       "    }\n",
       "</style>\n",
       "<table border=\"1\" class=\"dataframe\">\n",
       "  <thead>\n",
       "    <tr style=\"text-align: right;\">\n",
       "      <th></th>\n",
       "      <th>FR_p_mm</th>\n",
       "      <th>UC_p_mm</th>\n",
       "      <th>KP_p_mm</th>\n",
       "      <th>HM_p_mm</th>\n",
       "      <th>BCS_p_mm</th>\n",
       "      <th>K_p_mm</th>\n",
       "      <th>BV_p_mm</th>\n",
       "      <th>WH_p_mm</th>\n",
       "    </tr>\n",
       "    <tr>\n",
       "      <th>date</th>\n",
       "      <th></th>\n",
       "      <th></th>\n",
       "      <th></th>\n",
       "      <th></th>\n",
       "      <th></th>\n",
       "      <th></th>\n",
       "      <th></th>\n",
       "      <th></th>\n",
       "    </tr>\n",
       "  </thead>\n",
       "  <tbody>\n",
       "    <tr>\n",
       "      <th>2005-10-01</th>\n",
       "      <td>16.0160</td>\n",
       "      <td>11.3028</td>\n",
       "      <td>16.0</td>\n",
       "      <td>7.3722</td>\n",
       "      <td>11.0</td>\n",
       "      <td>0.0</td>\n",
       "      <td>10.4</td>\n",
       "      <td>0.8</td>\n",
       "    </tr>\n",
       "    <tr>\n",
       "      <th>2005-10-02</th>\n",
       "      <td>0.0000</td>\n",
       "      <td>0.0000</td>\n",
       "      <td>0.0</td>\n",
       "      <td>0.0000</td>\n",
       "      <td>0.2</td>\n",
       "      <td>0.4</td>\n",
       "      <td>0.0</td>\n",
       "      <td>0.0</td>\n",
       "    </tr>\n",
       "    <tr>\n",
       "      <th>2005-10-03</th>\n",
       "      <td>0.7649</td>\n",
       "      <td>0.5399</td>\n",
       "      <td>0.0</td>\n",
       "      <td>0.0000</td>\n",
       "      <td>0.2</td>\n",
       "      <td>1.2</td>\n",
       "      <td>0.2</td>\n",
       "      <td>4.0</td>\n",
       "    </tr>\n",
       "    <tr>\n",
       "      <th>2005-10-04</th>\n",
       "      <td>0.5463</td>\n",
       "      <td>0.3855</td>\n",
       "      <td>0.0</td>\n",
       "      <td>0.0000</td>\n",
       "      <td>0.0</td>\n",
       "      <td>0.0</td>\n",
       "      <td>0.4</td>\n",
       "      <td>0.0</td>\n",
       "    </tr>\n",
       "    <tr>\n",
       "      <th>2005-10-05</th>\n",
       "      <td>0.0896</td>\n",
       "      <td>0.0633</td>\n",
       "      <td>1.4</td>\n",
       "      <td>0.0000</td>\n",
       "      <td>0.0</td>\n",
       "      <td>0.0</td>\n",
       "      <td>0.0</td>\n",
       "      <td>0.0</td>\n",
       "    </tr>\n",
       "  </tbody>\n",
       "</table>\n",
       "</div>"
      ],
      "text/plain": [
       "            FR_p_mm  UC_p_mm  KP_p_mm  HM_p_mm  BCS_p_mm  K_p_mm  BV_p_mm  \\\n",
       "date                                                                        \n",
       "2005-10-01  16.0160  11.3028     16.0   7.3722      11.0     0.0     10.4   \n",
       "2005-10-02   0.0000   0.0000      0.0   0.0000       0.2     0.4      0.0   \n",
       "2005-10-03   0.7649   0.5399      0.0   0.0000       0.2     1.2      0.2   \n",
       "2005-10-04   0.5463   0.3855      0.0   0.0000       0.0     0.0      0.4   \n",
       "2005-10-05   0.0896   0.0633      1.4   0.0000       0.0     0.0      0.0   \n",
       "\n",
       "            WH_p_mm  \n",
       "date                 \n",
       "2005-10-01      0.8  \n",
       "2005-10-02      0.0  \n",
       "2005-10-03      4.0  \n",
       "2005-10-04      0.0  \n",
       "2005-10-05      0.0  "
      ]
     },
     "execution_count": 2,
     "metadata": {},
     "output_type": "execute_result"
    }
   ],
   "source": [
    "# Use pd.read_csv to read csv file\n",
    "allstnsP_df = pd.read_csv(r\"C:\\Users\\b1043453\\OneDrive - Newcastle University\\OnePlanet PhD\\Random_mixing\\RMWSPy_Horning_and_Haese_2021\\RMWSPy-master\\MCRB_examples\\MCRB_gauges_only\\Characterising_P_statistics\\Pinputs_2005-2016.csv\",\n",
    "                         index_col=0)\n",
    "allstnsP_df.head()"
   ]
  },
  {
   "cell_type": "markdown",
   "id": "parliamentary-living",
   "metadata": {},
   "source": [
    "### Pair 1: Fisera Ridge (2325 m) and Upper Clearing (1845 m)"
   ]
  },
  {
   "cell_type": "code",
   "execution_count": 4,
   "id": "divided-queens",
   "metadata": {},
   "outputs": [
    {
     "name": "stdout",
     "output_type": "stream",
     "text": [
      "FRprobdry = 0.442\n",
      "FRprobwet = 0.558\n",
      "UCprobdry = 0.521\n",
      "UCprobwet = 0.479\n",
      "probFRdry_UCdry = 0.23\n",
      "probFRdry_UCwet = 0.212\n",
      "probFRwet_UCdry = 0.291\n",
      "probFRwet_UCwet = 0.267\n"
     ]
    }
   ],
   "source": [
    "# FR\n",
    "FRprobdry = (allstnsP_df.FR_p_mm < 0.1).sum() / len(allstnsP_df)\n",
    "FRprobwet = 1 - FRprobdry\n",
    "# UC\n",
    "UCprobdry = (allstnsP_df.UC_p_mm < 0.1).sum() / len(allstnsP_df)\n",
    "UCprobwet = 1 - UCprobdry\n",
    "# print probabilities\n",
    "print(\"FRprobdry =\", FRprobdry.round(3))\n",
    "print(\"FRprobwet =\", FRprobwet.round(3))\n",
    "print(\"UCprobdry =\", UCprobdry.round(3))\n",
    "print(\"UCprobwet =\", UCprobwet.round(3))\n",
    "\n",
    "# Step 2\n",
    "# now calculate conditional probabilities\n",
    "probFRdry_UCdry = FRprobdry * UCprobdry\n",
    "probFRdry_UCwet = FRprobdry * UCprobwet\n",
    "probFRwet_UCdry = FRprobwet * UCprobdry\n",
    "probFRwet_UCwet = FRprobwet * UCprobwet\n",
    "# print conditional probabilities\n",
    "print(\"probFRdry_UCdry =\", probFRdry_UCdry.round(3))\n",
    "print(\"probFRdry_UCwet =\", probFRdry_UCwet.round(3))\n",
    "print(\"probFRwet_UCdry =\", probFRwet_UCdry.round(3))\n",
    "print(\"probFRwet_UCwet =\", probFRwet_UCwet.round(3))\n",
    "\n",
    "# create a 2x2 array of conditional probabilities\n",
    "FRUCarr = np.array([[probFRdry_UCdry.round(3),probFRdry_UCwet.round(3)],[probFRwet_UCdry.round(3),probFRwet_UCwet.round(3)]])\n",
    "FRUCarr\n",
    "# write array to csv\n",
    "np.savetxt(r\"C:\\Users\\b1043453\\OneDrive - Newcastle University\\OnePlanet PhD\\Random_mixing\\RMWSPy_Horning_and_Haese_2021\\RMWSPy-master\\MCRB_examples\\MCRB_gauges_only\\Characterising_P_statistics\\cond_wet_dry_prob_arrays\\FRUCarr_0pt1.csv\", FRUCarr, delimiter=',')"
   ]
  },
  {
   "cell_type": "markdown",
   "id": "marked-survey",
   "metadata": {},
   "source": [
    "### Pair 2: Fisera Ridge (2325 m) & Hay Meadow (1436 m)"
   ]
  },
  {
   "cell_type": "code",
   "execution_count": 5,
   "id": "signal-bacteria",
   "metadata": {},
   "outputs": [
    {
     "name": "stdout",
     "output_type": "stream",
     "text": [
      "FRprobdry = 0.442\n",
      "FRprobwet = 0.558\n",
      "HMprobdry = 0.614\n",
      "HMprobwet = 0.386\n",
      "probFRdry_HMdry = 0.271\n",
      "probFRdry_HMwet = 0.171\n",
      "probFRwet_HMdry = 0.343\n",
      "probFRwet_HMwet = 0.215\n"
     ]
    }
   ],
   "source": [
    "# FR\n",
    "FRprobdry = (allstnsP_df.FR_p_mm < 0.1).sum() / len(allstnsP_df)\n",
    "FRprobwet = 1 - FRprobdry\n",
    "# HM\n",
    "HMprobdry = (allstnsP_df.HM_p_mm < 0.1).sum() / len(allstnsP_df)\n",
    "HMprobwet = 1 - HMprobdry\n",
    "# print probabilities\n",
    "print(\"FRprobdry =\", FRprobdry.round(3))\n",
    "print(\"FRprobwet =\", FRprobwet.round(3))\n",
    "print(\"HMprobdry =\", HMprobdry.round(3))\n",
    "print(\"HMprobwet =\", HMprobwet.round(3))\n",
    "\n",
    "# Step 2\n",
    "# now calculate conditional probabilities\n",
    "probFRdry_HMdry = FRprobdry * HMprobdry\n",
    "probFRdry_HMwet = FRprobdry * HMprobwet\n",
    "probFRwet_HMdry = FRprobwet * HMprobdry\n",
    "probFRwet_HMwet = FRprobwet * HMprobwet\n",
    "# print conditional probabilities\n",
    "print(\"probFRdry_HMdry =\", probFRdry_HMdry.round(3))\n",
    "print(\"probFRdry_HMwet =\", probFRdry_HMwet.round(3))\n",
    "print(\"probFRwet_HMdry =\", probFRwet_HMdry.round(3))\n",
    "print(\"probFRwet_HMwet =\", probFRwet_HMwet.round(3))\n",
    "\n",
    "# create a 2x2 array of conditional probabilities\n",
    "FRHMarr = np.array([[probFRdry_HMdry.round(3),probFRdry_HMwet.round(3)],[probFRwet_HMdry.round(3),probFRwet_HMwet.round(3)]])\n",
    "FRHMarr\n",
    "# write array to csv\n",
    "np.savetxt(r\"C:\\Users\\b1043453\\OneDrive - Newcastle University\\OnePlanet PhD\\Random_mixing\\RMWSPy_Horning_and_Haese_2021\\RMWSPy-master\\MCRB_examples\\MCRB_gauges_only\\Characterising_P_statistics\\cond_wet_dry_prob_arrays\\FRHMarr_0pt1.csv\", FRHMarr, delimiter=',')"
   ]
  },
  {
   "cell_type": "markdown",
   "id": "applicable-fundamental",
   "metadata": {},
   "source": [
    "### Pair 4: Fisera Ridge (2325 m) & Bow Valley (1298 m)"
   ]
  },
  {
   "cell_type": "code",
   "execution_count": 6,
   "id": "recent-exemption",
   "metadata": {},
   "outputs": [
    {
     "name": "stdout",
     "output_type": "stream",
     "text": [
      "FRprobdry = 0.442\n",
      "FRprobwet = 0.558\n",
      "BVprobdry = 0.573\n",
      "BVprobwet = 0.427\n",
      "probFRdry_BVdry = 0.253\n",
      "probFRdry_BVwet = 0.189\n",
      "probFRwet_BVdry = 0.32\n",
      "probFRwet_BVwet = 0.238\n"
     ]
    }
   ],
   "source": [
    "# FR\n",
    "FRprobdry = (allstnsP_df.FR_p_mm < 0.1).sum() / len(allstnsP_df)\n",
    "FRprobwet = 1 - FRprobdry\n",
    "# BV\n",
    "BVprobdry = (allstnsP_df.BV_p_mm < 0.1).sum() / len(allstnsP_df)\n",
    "BVprobwet = 1 - BVprobdry\n",
    "# print probabilities\n",
    "print(\"FRprobdry =\", FRprobdry.round(3))\n",
    "print(\"FRprobwet =\", FRprobwet.round(3))\n",
    "print(\"BVprobdry =\", BVprobdry.round(3))\n",
    "print(\"BVprobwet =\", BVprobwet.round(3))\n",
    "\n",
    "# Step 2\n",
    "# now calculate conditional probabilities\n",
    "probFRdry_BVdry = FRprobdry * BVprobdry\n",
    "probFRdry_BVwet = FRprobdry * BVprobwet\n",
    "probFRwet_BVdry = FRprobwet * BVprobdry\n",
    "probFRwet_BVwet = FRprobwet * BVprobwet\n",
    "# print conditional probabilities\n",
    "print(\"probFRdry_BVdry =\", probFRdry_BVdry.round(3))\n",
    "print(\"probFRdry_BVwet =\", probFRdry_BVwet.round(3))\n",
    "print(\"probFRwet_BVdry =\", probFRwet_BVdry.round(3))\n",
    "print(\"probFRwet_BVwet =\", probFRwet_BVwet.round(3))\n",
    "\n",
    "# create a 2x2 array of conditional probabilities\n",
    "FRBVarr = np.array([[probFRdry_BVdry.round(3),probFRdry_BVwet.round(3)],[probFRwet_BVdry.round(3),probFRwet_BVwet.round(3)]])\n",
    "FRBVarr\n",
    "# write array to csv\n",
    "np.savetxt(r\"C:\\Users\\b1043453\\OneDrive - Newcastle University\\OnePlanet PhD\\Random_mixing\\RMWSPy_Horning_and_Haese_2021\\RMWSPy-master\\MCRB_examples\\MCRB_gauges_only\\Characterising_P_statistics\\cond_wet_dry_prob_arrays\\FRBVarr0pt1.csv\", FRBVarr, delimiter=',')"
   ]
  },
  {
   "cell_type": "markdown",
   "id": "stylish-encoding",
   "metadata": {},
   "source": [
    "### Pair 8: Upper Clearing (1845 m) & Hay Meadow (1436 m)"
   ]
  },
  {
   "cell_type": "code",
   "execution_count": 7,
   "id": "satisfactory-mission",
   "metadata": {},
   "outputs": [
    {
     "name": "stdout",
     "output_type": "stream",
     "text": [
      "UCprobdry = 0.521\n",
      "UCprobwet = 0.479\n",
      "HMprobdry = 0.614\n",
      "HMprobwet = 0.386\n",
      "probUCdry_HMdry = 0.32\n",
      "probUCdry_HMwet = 0.201\n",
      "probUCwet_HMdry = 0.294\n",
      "probUCwet_HMwet = 0.185\n"
     ]
    }
   ],
   "source": [
    "# UC\n",
    "UCprobdry = (allstnsP_df.UC_p_mm < 0.1).sum() / len(allstnsP_df)\n",
    "UCprobwet = 1 - UCprobdry\n",
    "# HM\n",
    "HMprobdry = (allstnsP_df.HM_p_mm < 0.1).sum() / len(allstnsP_df)\n",
    "HMprobwet = 1 - HMprobdry\n",
    "# print probabilities\n",
    "print(\"UCprobdry =\", UCprobdry.round(3))\n",
    "print(\"UCprobwet =\", UCprobwet.round(3))\n",
    "print(\"HMprobdry =\", HMprobdry.round(3))\n",
    "print(\"HMprobwet =\", HMprobwet.round(3))\n",
    "\n",
    "# Step 2\n",
    "# now calculate conditional probabilities\n",
    "probUCdry_HMdry = UCprobdry * HMprobdry\n",
    "probUCdry_HMwet = UCprobdry * HMprobwet\n",
    "probUCwet_HMdry = UCprobwet * HMprobdry\n",
    "probUCwet_HMwet = UCprobwet * HMprobwet\n",
    "# print conditional probabilities\n",
    "print(\"probUCdry_HMdry =\", probUCdry_HMdry.round(3))\n",
    "print(\"probUCdry_HMwet =\", probUCdry_HMwet.round(3))\n",
    "print(\"probUCwet_HMdry =\", probUCwet_HMdry.round(3))\n",
    "print(\"probUCwet_HMwet =\", probUCwet_HMwet.round(3))\n",
    "\n",
    "# create a 2x2 array of conditional probabilities\n",
    "UCHMarr = np.array([[probUCdry_HMdry.round(3),probUCdry_HMwet.round(3)],[probUCwet_HMdry.round(3),probUCwet_HMwet.round(3)]])\n",
    "UCHMarr\n",
    "# write array to csv\n",
    "np.savetxt(r\"C:\\Users\\b1043453\\OneDrive - Newcastle University\\OnePlanet PhD\\Random_mixing\\RMWSPy_Horning_and_Haese_2021\\RMWSPy-master\\MCRB_examples\\MCRB_gauges_only\\Characterising_P_statistics\\cond_wet_dry_prob_arrays\\UCHMarr0pt1.csv\", UCHMarr, delimiter=',')"
   ]
  },
  {
   "cell_type": "markdown",
   "id": "funny-front",
   "metadata": {},
   "source": [
    "### Pair 9: Upper Clearing (1845 m) & Kananaskis (1391 m)"
   ]
  },
  {
   "cell_type": "code",
   "execution_count": 8,
   "id": "promotional-candidate",
   "metadata": {},
   "outputs": [
    {
     "name": "stdout",
     "output_type": "stream",
     "text": [
      "UCprobdry = 0.521\n",
      "UCprobwet = 0.479\n",
      "Kprobdry = 0.674\n",
      "Kprobwet = 0.326\n",
      "probUCdry_Kdry = 0.351\n",
      "probUCdry_Kwet = 0.17\n",
      "probUCwet_Kdry = 0.323\n",
      "probUCwet_Kwet = 0.156\n"
     ]
    }
   ],
   "source": [
    "# UC\n",
    "UCprobdry = (allstnsP_df.UC_p_mm < 0.1).sum() / len(allstnsP_df)\n",
    "UCprobwet = 1 - UCprobdry\n",
    "# K\n",
    "Kprobdry = (allstnsP_df.K_p_mm < 0.1).sum() / len(allstnsP_df)\n",
    "Kprobwet = 1 - Kprobdry\n",
    "# print probabilities\n",
    "print(\"UCprobdry =\", UCprobdry.round(3))\n",
    "print(\"UCprobwet =\", UCprobwet.round(3))\n",
    "print(\"Kprobdry =\", Kprobdry.round(3))\n",
    "print(\"Kprobwet =\", Kprobwet.round(3))\n",
    "\n",
    "# Step 2\n",
    "# now calculate conditional probabilities\n",
    "probUCdry_Kdry = UCprobdry * Kprobdry\n",
    "probUCdry_Kwet = UCprobdry * Kprobwet\n",
    "probUCwet_Kdry = UCprobwet * Kprobdry\n",
    "probUCwet_Kwet = UCprobwet * Kprobwet\n",
    "# print conditional probabilities\n",
    "print(\"probUCdry_Kdry =\", probUCdry_Kdry.round(3))\n",
    "print(\"probUCdry_Kwet =\", probUCdry_Kwet.round(3))\n",
    "print(\"probUCwet_Kdry =\", probUCwet_Kdry.round(3))\n",
    "print(\"probUCwet_Kwet =\", probUCwet_Kwet.round(3))\n",
    "\n",
    "# create a 2x2 array of conditional probabilities\n",
    "UCKarr = np.array([[probUCdry_Kdry.round(3),probUCdry_Kwet.round(3)],[probUCwet_Kdry.round(3),probUCwet_Kwet.round(3)]])\n",
    "UCKarr\n",
    "# write array to csv\n",
    "np.savetxt(r\"C:\\Users\\b1043453\\OneDrive - Newcastle University\\OnePlanet PhD\\Random_mixing\\RMWSPy_Horning_and_Haese_2021\\RMWSPy-master\\MCRB_examples\\MCRB_gauges_only\\Characterising_P_statistics\\cond_wet_dry_prob_arrays\\UCKarr0pt1.csv\", UCKarr, delimiter=',')"
   ]
  },
  {
   "cell_type": "markdown",
   "id": "traditional-guest",
   "metadata": {},
   "source": [
    "### Pair 10: Upper Clearing (1845 m) & Bow Valley (1298 m)"
   ]
  },
  {
   "cell_type": "code",
   "execution_count": 9,
   "id": "greatest-school",
   "metadata": {},
   "outputs": [
    {
     "name": "stdout",
     "output_type": "stream",
     "text": [
      "UCprobdry = 0.521\n",
      "UCprobwet = 0.479\n",
      "BVprobdry = 0.573\n",
      "BVprobwet = 0.427\n",
      "probUCdry_BVdry = 0.299\n",
      "probUCdry_BVwet = 0.222\n",
      "probUCwet_BVdry = 0.275\n",
      "probUCwet_BVwet = 0.204\n"
     ]
    }
   ],
   "source": [
    "# UC\n",
    "UCprobdry = (allstnsP_df.UC_p_mm < 0.1).sum() / len(allstnsP_df)\n",
    "UCprobwet = 1 - UCprobdry\n",
    "# BV\n",
    "BVprobdry = (allstnsP_df.BV_p_mm < 0.1).sum() / len(allstnsP_df)\n",
    "BVprobwet = 1 - BVprobdry\n",
    "# print probabilities\n",
    "print(\"UCprobdry =\", UCprobdry.round(3))\n",
    "print(\"UCprobwet =\", UCprobwet.round(3))\n",
    "print(\"BVprobdry =\", BVprobdry.round(3))\n",
    "print(\"BVprobwet =\", BVprobwet.round(3))\n",
    "\n",
    "# Step 2\n",
    "# now calculate conditional probabilities\n",
    "probUCdry_BVdry = UCprobdry * BVprobdry\n",
    "probUCdry_BVwet = UCprobdry * BVprobwet\n",
    "probUCwet_BVdry = UCprobwet * BVprobdry\n",
    "probUCwet_BVwet = UCprobwet * BVprobwet\n",
    "# print conditional probabilities\n",
    "print(\"probUCdry_BVdry =\", probUCdry_BVdry.round(3))\n",
    "print(\"probUCdry_BVwet =\", probUCdry_BVwet.round(3))\n",
    "print(\"probUCwet_BVdry =\", probUCwet_BVdry.round(3))\n",
    "print(\"probUCwet_BVwet =\", probUCwet_BVwet.round(3))\n",
    "\n",
    "# create a 2x2 array of conditional probabilities\n",
    "UCBVarr = np.array([[probUCdry_BVdry.round(3),probUCdry_BVwet.round(3)],[probUCwet_BVdry.round(3),probUCwet_BVwet.round(3)]])\n",
    "UCBVarr\n",
    "# write array to csv\n",
    "np.savetxt(r\"C:\\Users\\b1043453\\OneDrive - Newcastle University\\OnePlanet PhD\\Random_mixing\\RMWSPy_Horning_and_Haese_2021\\RMWSPy-master\\MCRB_examples\\MCRB_gauges_only\\Characterising_P_statistics\\cond_wet_dry_prob_arrays\\UCBVarr0pt1.csv\", UCBVarr, delimiter=',')"
   ]
  },
  {
   "cell_type": "markdown",
   "id": "stretch-basketball",
   "metadata": {},
   "source": [
    "### Pair 15: Hay Meadow (1436 m) & Bow Valley (1298 m)"
   ]
  },
  {
   "cell_type": "code",
   "execution_count": 10,
   "id": "final-administration",
   "metadata": {},
   "outputs": [
    {
     "name": "stdout",
     "output_type": "stream",
     "text": [
      "HMprobdry = 0.614\n",
      "HMprobwet = 0.386\n",
      "BVprobdry = 0.573\n",
      "BVprobwet = 0.427\n",
      "probHMdry_BVdry = 0.352\n",
      "probHMdry_BVwet = 0.262\n",
      "probHMwet_BVdry = 0.221\n",
      "probHMwet_BVwet = 0.165\n"
     ]
    }
   ],
   "source": [
    "# HM\n",
    "HMprobdry = (allstnsP_df.HM_p_mm < 0.1).sum() / len(allstnsP_df)\n",
    "HMprobwet = 1 - HMprobdry\n",
    "# BV\n",
    "BVprobdry = (allstnsP_df.BV_p_mm < 0.1).sum() / len(allstnsP_df)\n",
    "BVprobwet = 1 - BVprobdry\n",
    "# print probabilities\n",
    "print(\"HMprobdry =\", HMprobdry.round(3))\n",
    "print(\"HMprobwet =\", HMprobwet.round(3))\n",
    "print(\"BVprobdry =\", BVprobdry.round(3))\n",
    "print(\"BVprobwet =\", BVprobwet.round(3))\n",
    "\n",
    "# Step 2\n",
    "# now calculate conditional probabilities\n",
    "probHMdry_BVdry = HMprobdry * BVprobdry\n",
    "probHMdry_BVwet = HMprobdry * BVprobwet\n",
    "probHMwet_BVdry = HMprobwet * BVprobdry\n",
    "probHMwet_BVwet = HMprobwet * BVprobwet\n",
    "# print conditional probabilities\n",
    "print(\"probHMdry_BVdry =\", probHMdry_BVdry.round(3))\n",
    "print(\"probHMdry_BVwet =\", probHMdry_BVwet.round(3))\n",
    "print(\"probHMwet_BVdry =\", probHMwet_BVdry.round(3))\n",
    "print(\"probHMwet_BVwet =\", probHMwet_BVwet.round(3))\n",
    "\n",
    "# create a 2x2 array of conditional probabilities\n",
    "HMBVarr = np.array([[probHMdry_BVdry.round(3),probHMdry_BVwet.round(3)],[probHMwet_BVdry.round(3),probHMwet_BVwet.round(3)]])\n",
    "HMBVarr\n",
    "# write array to csv\n",
    "np.savetxt(r\"C:\\Users\\b1043453\\OneDrive - Newcastle University\\OnePlanet PhD\\Random_mixing\\RMWSPy_Horning_and_Haese_2021\\RMWSPy-master\\MCRB_examples\\MCRB_gauges_only\\Characterising_P_statistics\\cond_wet_dry_prob_arrays\\HMBVarr0pt1.csv\", HMBVarr, delimiter=',')"
   ]
  },
  {
   "cell_type": "markdown",
   "id": "orange-qualification",
   "metadata": {},
   "source": [
    "### Pair 19: Kananaskis (1391 m) & Bow Valley (1298 m)"
   ]
  },
  {
   "cell_type": "code",
   "execution_count": 11,
   "id": "convenient-inspector",
   "metadata": {},
   "outputs": [
    {
     "name": "stdout",
     "output_type": "stream",
     "text": [
      "Kprobdry = 0.674\n",
      "Kprobwet = 0.326\n",
      "BVprobdry = 0.573\n",
      "BVprobwet = 0.427\n",
      "probKdry_BVdry = 0.386\n",
      "probKdry_BVwet = 0.287\n",
      "probKwet_BVdry = 0.187\n",
      "probKwet_BVwet = 0.139\n"
     ]
    }
   ],
   "source": [
    "# K\n",
    "Kprobdry = (allstnsP_df.K_p_mm < 0.1).sum() / len(allstnsP_df)\n",
    "Kprobwet = 1 - Kprobdry\n",
    "# BV\n",
    "BVprobdry = (allstnsP_df.BV_p_mm < 0.1).sum() / len(allstnsP_df)\n",
    "BVprobwet = 1 - BVprobdry\n",
    "# print probabilities\n",
    "print(\"Kprobdry =\", Kprobdry.round(3))\n",
    "print(\"Kprobwet =\", Kprobwet.round(3))\n",
    "print(\"BVprobdry =\", BVprobdry.round(3))\n",
    "print(\"BVprobwet =\", BVprobwet.round(3))\n",
    "\n",
    "# Step 2\n",
    "# now calculate conditional probabilities\n",
    "probKdry_BVdry = Kprobdry * BVprobdry\n",
    "probKdry_BVwet = Kprobdry * BVprobwet\n",
    "probKwet_BVdry = Kprobwet * BVprobdry\n",
    "probKwet_BVwet = Kprobwet * BVprobwet\n",
    "# print conditional probabilities\n",
    "print(\"probKdry_BVdry =\", probKdry_BVdry.round(3))\n",
    "print(\"probKdry_BVwet =\", probKdry_BVwet.round(3))\n",
    "print(\"probKwet_BVdry =\", probKwet_BVdry.round(3))\n",
    "print(\"probKwet_BVwet =\", probKwet_BVwet.round(3))\n",
    "\n",
    "# create a 2x2 array of conditional probabilities\n",
    "KBVarr = np.array([[probKdry_BVdry.round(3),probKdry_BVwet.round(3)],[probKwet_BVdry.round(3),probKwet_BVwet.round(3)]])\n",
    "KBVarr\n",
    "# write array to csv\n",
    "np.savetxt(r\"C:\\Users\\b1043453\\OneDrive - Newcastle University\\OnePlanet PhD\\Random_mixing\\RMWSPy_Horning_and_Haese_2021\\RMWSPy-master\\MCRB_examples\\MCRB_gauges_only\\Characterising_P_statistics\\cond_wet_dry_prob_arrays\\KBVarr0pt1.csv\", KBVarr, delimiter=',')"
   ]
  },
  {
   "cell_type": "markdown",
   "id": "electronic-whale",
   "metadata": {},
   "source": [
    "### Focus on stations with separation distance <= 20000 m: FR, UC, HM, K, BV"
   ]
  },
  {
   "cell_type": "code",
   "execution_count": 12,
   "id": "sought-living",
   "metadata": {},
   "outputs": [
    {
     "data": {
      "text/plain": [
       "array([[0.23 , 0.212],\n",
       "       [0.291, 0.267]])"
      ]
     },
     "execution_count": 12,
     "metadata": {},
     "output_type": "execute_result"
    }
   ],
   "source": [
    "# FRUC 2020 m\n",
    "FRUCarr"
   ]
  },
  {
   "cell_type": "code",
   "execution_count": 13,
   "id": "short-taylor",
   "metadata": {},
   "outputs": [
    {
     "data": {
      "text/plain": [
       "array([[0.32 , 0.201],\n",
       "       [0.294, 0.185]])"
      ]
     },
     "execution_count": 13,
     "metadata": {},
     "output_type": "execute_result"
    }
   ],
   "source": [
    "# UCHM 2910 m\n",
    "UCHMarr"
   ]
  },
  {
   "cell_type": "code",
   "execution_count": 14,
   "id": "controlled-athens",
   "metadata": {},
   "outputs": [
    {
     "data": {
      "text/plain": [
       "array([[0.271, 0.171],\n",
       "       [0.343, 0.215]])"
      ]
     },
     "execution_count": 14,
     "metadata": {},
     "output_type": "execute_result"
    }
   ],
   "source": [
    "# FRHM = 4770 m\n",
    "FRHMarr"
   ]
  },
  {
   "cell_type": "code",
   "execution_count": 15,
   "id": "metric-shape",
   "metadata": {},
   "outputs": [
    {
     "data": {
      "text/plain": [
       "array([[0.386, 0.287],\n",
       "       [0.187, 0.139]])"
      ]
     },
     "execution_count": 15,
     "metadata": {},
     "output_type": "execute_result"
    }
   ],
   "source": [
    "# KBV 6600 m\n",
    "KBVarr"
   ]
  },
  {
   "cell_type": "code",
   "execution_count": 16,
   "id": "final-power",
   "metadata": {},
   "outputs": [
    {
     "data": {
      "text/plain": [
       "array([[0.351, 0.17 ],\n",
       "       [0.323, 0.156]])"
      ]
     },
     "execution_count": 16,
     "metadata": {},
     "output_type": "execute_result"
    }
   ],
   "source": [
    "# UCK 12650 m\n",
    "UCKarr"
   ]
  },
  {
   "cell_type": "code",
   "execution_count": 17,
   "id": "seventh-porcelain",
   "metadata": {},
   "outputs": [
    {
     "data": {
      "text/plain": [
       "array([[0.299, 0.222],\n",
       "       [0.275, 0.204]])"
      ]
     },
     "execution_count": 17,
     "metadata": {},
     "output_type": "execute_result"
    }
   ],
   "source": [
    "# UCBV 16040 m\n",
    "UCBVarr"
   ]
  },
  {
   "cell_type": "code",
   "execution_count": 18,
   "id": "going-proposition",
   "metadata": {},
   "outputs": [
    {
     "data": {
      "text/plain": [
       "array([[0.352, 0.262],\n",
       "       [0.221, 0.165]])"
      ]
     },
     "execution_count": 18,
     "metadata": {},
     "output_type": "execute_result"
    }
   ],
   "source": [
    "# HMBV 16300 m\n",
    "HMBVarr"
   ]
  },
  {
   "cell_type": "code",
   "execution_count": 19,
   "id": "active-motor",
   "metadata": {},
   "outputs": [
    {
     "data": {
      "text/plain": [
       "array([[0.253, 0.189],\n",
       "       [0.32 , 0.238]])"
      ]
     },
     "execution_count": 19,
     "metadata": {},
     "output_type": "execute_result"
    }
   ],
   "source": [
    "# FRBV 17140 m\n",
    "FRBVarr"
   ]
  },
  {
   "cell_type": "markdown",
   "id": "tired-authentication",
   "metadata": {},
   "source": [
    "### Create a df of cond wet dry probabilities for these stations"
   ]
  },
  {
   "cell_type": "code",
   "execution_count": 20,
   "id": "organic-respondent",
   "metadata": {},
   "outputs": [
    {
     "data": {
      "text/plain": [
       "[['FRUC', 2020, 0.23, 0.212, 0.291, 0.267],\n",
       " ['UCHM', 2910, 0.32, 0.201, 0.294, 0.185],\n",
       " ['FRHM', 4770, 0.271, 0.171, 0.343, 0.215],\n",
       " ['KBV', 6600, 0.386, 0.287, 0.187, 0.139],\n",
       " ['UCK', 12650, 0.351, 0.17, 0.323, 0.156],\n",
       " ['UCBV', 16040, 0.299, 0.222, 0.275, 0.204],\n",
       " ['HMBV', 16300, 0.352, 0.262, 0.221, 0.165],\n",
       " ['FRBV', 17140, 0.253, 0.189, 0.32, 0.238]]"
      ]
     },
     "execution_count": 20,
     "metadata": {},
     "output_type": "execute_result"
    }
   ],
   "source": [
    "# step 1: initialise my lists\n",
    "probs = [[\"FRUC\", 2020, probFRdry_UCdry.round(3), probFRdry_UCwet.round(3), \n",
    "          probFRwet_UCdry.round(3), probFRwet_UCwet.round(3)],\n",
    "         [\"UCHM\", 2910, probUCdry_HMdry.round(3), probUCdry_HMwet.round(3), \n",
    "          probUCwet_HMdry.round(3), probUCwet_HMwet.round(3)],\n",
    "         [\"FRHM\", 4770, probFRdry_HMdry.round(3), probFRdry_HMwet.round(3), \n",
    "          probFRwet_HMdry.round(3), probFRwet_HMwet.round(3)],\n",
    "         [\"KBV\", 6600, probKdry_BVdry.round(3), probKdry_BVwet.round(3), \n",
    "          probKwet_BVdry.round(3), probKwet_BVwet.round(3)],\n",
    "         [\"UCK\", 12650, probUCdry_Kdry.round(3), probUCdry_Kwet.round(3), \n",
    "          probUCwet_Kdry.round(3), probUCwet_Kwet.round(3)],\n",
    "         [\"UCBV\", 16040, probUCdry_BVdry.round(3), probUCdry_BVwet.round(3), \n",
    "          probUCwet_BVdry.round(3), probUCwet_BVwet.round(3)],\n",
    "         [\"HMBV\", 16300, probHMdry_BVdry.round(3), probHMdry_BVwet.round(3), \n",
    "          probHMwet_BVdry.round(3), probHMwet_BVwet.round(3)],\n",
    "         [\"FRBV\", 17140, probFRdry_BVdry.round(3), probFRdry_BVwet.round(3), \n",
    "          probFRwet_BVdry.round(3), probFRwet_BVwet.round(3)]]\n",
    "probs"
   ]
  },
  {
   "cell_type": "code",
   "execution_count": 21,
   "id": "indoor-collaboration",
   "metadata": {},
   "outputs": [
    {
     "data": {
      "text/html": [
       "<div>\n",
       "<style scoped>\n",
       "    .dataframe tbody tr th:only-of-type {\n",
       "        vertical-align: middle;\n",
       "    }\n",
       "\n",
       "    .dataframe tbody tr th {\n",
       "        vertical-align: top;\n",
       "    }\n",
       "\n",
       "    .dataframe thead th {\n",
       "        text-align: right;\n",
       "    }\n",
       "</style>\n",
       "<table border=\"1\" class=\"dataframe\">\n",
       "  <thead>\n",
       "    <tr style=\"text-align: right;\">\n",
       "      <th></th>\n",
       "      <th>station_pair</th>\n",
       "      <th>separation_distance_m</th>\n",
       "      <th>prob_dry-dry</th>\n",
       "      <th>prob_dry-wet</th>\n",
       "      <th>prob_wet-dry</th>\n",
       "      <th>prob_wet-wet</th>\n",
       "    </tr>\n",
       "  </thead>\n",
       "  <tbody>\n",
       "    <tr>\n",
       "      <th>0</th>\n",
       "      <td>FRUC</td>\n",
       "      <td>2020</td>\n",
       "      <td>0.230</td>\n",
       "      <td>0.212</td>\n",
       "      <td>0.291</td>\n",
       "      <td>0.267</td>\n",
       "    </tr>\n",
       "    <tr>\n",
       "      <th>1</th>\n",
       "      <td>UCHM</td>\n",
       "      <td>2910</td>\n",
       "      <td>0.320</td>\n",
       "      <td>0.201</td>\n",
       "      <td>0.294</td>\n",
       "      <td>0.185</td>\n",
       "    </tr>\n",
       "    <tr>\n",
       "      <th>2</th>\n",
       "      <td>FRHM</td>\n",
       "      <td>4770</td>\n",
       "      <td>0.271</td>\n",
       "      <td>0.171</td>\n",
       "      <td>0.343</td>\n",
       "      <td>0.215</td>\n",
       "    </tr>\n",
       "    <tr>\n",
       "      <th>3</th>\n",
       "      <td>KBV</td>\n",
       "      <td>6600</td>\n",
       "      <td>0.386</td>\n",
       "      <td>0.287</td>\n",
       "      <td>0.187</td>\n",
       "      <td>0.139</td>\n",
       "    </tr>\n",
       "    <tr>\n",
       "      <th>4</th>\n",
       "      <td>UCK</td>\n",
       "      <td>12650</td>\n",
       "      <td>0.351</td>\n",
       "      <td>0.170</td>\n",
       "      <td>0.323</td>\n",
       "      <td>0.156</td>\n",
       "    </tr>\n",
       "    <tr>\n",
       "      <th>5</th>\n",
       "      <td>UCBV</td>\n",
       "      <td>16040</td>\n",
       "      <td>0.299</td>\n",
       "      <td>0.222</td>\n",
       "      <td>0.275</td>\n",
       "      <td>0.204</td>\n",
       "    </tr>\n",
       "    <tr>\n",
       "      <th>6</th>\n",
       "      <td>HMBV</td>\n",
       "      <td>16300</td>\n",
       "      <td>0.352</td>\n",
       "      <td>0.262</td>\n",
       "      <td>0.221</td>\n",
       "      <td>0.165</td>\n",
       "    </tr>\n",
       "    <tr>\n",
       "      <th>7</th>\n",
       "      <td>FRBV</td>\n",
       "      <td>17140</td>\n",
       "      <td>0.253</td>\n",
       "      <td>0.189</td>\n",
       "      <td>0.320</td>\n",
       "      <td>0.238</td>\n",
       "    </tr>\n",
       "  </tbody>\n",
       "</table>\n",
       "</div>"
      ],
      "text/plain": [
       "  station_pair  separation_distance_m  prob_dry-dry  prob_dry-wet  \\\n",
       "0         FRUC                   2020         0.230         0.212   \n",
       "1         UCHM                   2910         0.320         0.201   \n",
       "2         FRHM                   4770         0.271         0.171   \n",
       "3          KBV                   6600         0.386         0.287   \n",
       "4          UCK                  12650         0.351         0.170   \n",
       "5         UCBV                  16040         0.299         0.222   \n",
       "6         HMBV                  16300         0.352         0.262   \n",
       "7         FRBV                  17140         0.253         0.189   \n",
       "\n",
       "   prob_wet-dry  prob_wet-wet  \n",
       "0         0.291         0.267  \n",
       "1         0.294         0.185  \n",
       "2         0.343         0.215  \n",
       "3         0.187         0.139  \n",
       "4         0.323         0.156  \n",
       "5         0.275         0.204  \n",
       "6         0.221         0.165  \n",
       "7         0.320         0.238  "
      ]
     },
     "execution_count": 21,
     "metadata": {},
     "output_type": "execute_result"
    }
   ],
   "source": [
    "# step 2: create df from lists\n",
    "probs_df = pd.DataFrame(probs, columns = [\"station_pair\", \"separation_distance_m\", \"prob_dry-dry\", \"prob_dry-wet\",\n",
    "                                          \"prob_wet-dry\", \"prob_wet-wet\"])\n",
    "# probs_df.set_index(\"station_pair\", inplace=True)\n",
    "probs_df"
   ]
  },
  {
   "cell_type": "code",
   "execution_count": 22,
   "id": "former-parliament",
   "metadata": {},
   "outputs": [
    {
     "data": {
      "text/html": [
       "<div>\n",
       "<style scoped>\n",
       "    .dataframe tbody tr th:only-of-type {\n",
       "        vertical-align: middle;\n",
       "    }\n",
       "\n",
       "    .dataframe tbody tr th {\n",
       "        vertical-align: top;\n",
       "    }\n",
       "\n",
       "    .dataframe thead th {\n",
       "        text-align: right;\n",
       "    }\n",
       "</style>\n",
       "<table border=\"1\" class=\"dataframe\">\n",
       "  <thead>\n",
       "    <tr style=\"text-align: right;\">\n",
       "      <th></th>\n",
       "      <th>separation_distance_m</th>\n",
       "      <th>prob_dry-dry</th>\n",
       "      <th>prob_dry-wet</th>\n",
       "      <th>prob_wet-dry</th>\n",
       "      <th>prob_wet-wet</th>\n",
       "    </tr>\n",
       "  </thead>\n",
       "  <tbody>\n",
       "    <tr>\n",
       "      <th>count</th>\n",
       "      <td>8.000</td>\n",
       "      <td>8.000</td>\n",
       "      <td>8.000</td>\n",
       "      <td>8.000</td>\n",
       "      <td>8.000</td>\n",
       "    </tr>\n",
       "    <tr>\n",
       "      <th>mean</th>\n",
       "      <td>9803.750</td>\n",
       "      <td>0.308</td>\n",
       "      <td>0.214</td>\n",
       "      <td>0.282</td>\n",
       "      <td>0.196</td>\n",
       "    </tr>\n",
       "    <tr>\n",
       "      <th>std</th>\n",
       "      <td>6400.078</td>\n",
       "      <td>0.054</td>\n",
       "      <td>0.042</td>\n",
       "      <td>0.053</td>\n",
       "      <td>0.043</td>\n",
       "    </tr>\n",
       "    <tr>\n",
       "      <th>min</th>\n",
       "      <td>2020.000</td>\n",
       "      <td>0.230</td>\n",
       "      <td>0.170</td>\n",
       "      <td>0.187</td>\n",
       "      <td>0.139</td>\n",
       "    </tr>\n",
       "    <tr>\n",
       "      <th>25%</th>\n",
       "      <td>4305.000</td>\n",
       "      <td>0.266</td>\n",
       "      <td>0.184</td>\n",
       "      <td>0.262</td>\n",
       "      <td>0.163</td>\n",
       "    </tr>\n",
       "    <tr>\n",
       "      <th>50%</th>\n",
       "      <td>9625.000</td>\n",
       "      <td>0.310</td>\n",
       "      <td>0.207</td>\n",
       "      <td>0.292</td>\n",
       "      <td>0.194</td>\n",
       "    </tr>\n",
       "    <tr>\n",
       "      <th>75%</th>\n",
       "      <td>16105.000</td>\n",
       "      <td>0.351</td>\n",
       "      <td>0.232</td>\n",
       "      <td>0.321</td>\n",
       "      <td>0.221</td>\n",
       "    </tr>\n",
       "    <tr>\n",
       "      <th>max</th>\n",
       "      <td>17140.000</td>\n",
       "      <td>0.386</td>\n",
       "      <td>0.287</td>\n",
       "      <td>0.343</td>\n",
       "      <td>0.267</td>\n",
       "    </tr>\n",
       "  </tbody>\n",
       "</table>\n",
       "</div>"
      ],
      "text/plain": [
       "       separation_distance_m  prob_dry-dry  prob_dry-wet  prob_wet-dry  \\\n",
       "count                  8.000         8.000         8.000         8.000   \n",
       "mean                9803.750         0.308         0.214         0.282   \n",
       "std                 6400.078         0.054         0.042         0.053   \n",
       "min                 2020.000         0.230         0.170         0.187   \n",
       "25%                 4305.000         0.266         0.184         0.262   \n",
       "50%                 9625.000         0.310         0.207         0.292   \n",
       "75%                16105.000         0.351         0.232         0.321   \n",
       "max                17140.000         0.386         0.287         0.343   \n",
       "\n",
       "       prob_wet-wet  \n",
       "count         8.000  \n",
       "mean          0.196  \n",
       "std           0.043  \n",
       "min           0.139  \n",
       "25%           0.163  \n",
       "50%           0.194  \n",
       "75%           0.221  \n",
       "max           0.267  "
      ]
     },
     "execution_count": 22,
     "metadata": {},
     "output_type": "execute_result"
    }
   ],
   "source": [
    "probs_df.describe().round(3)"
   ]
  },
  {
   "cell_type": "code",
   "execution_count": 23,
   "id": "compressed-vertex",
   "metadata": {},
   "outputs": [
    {
     "data": {
      "image/png": "[encoded data removed]",
      "text/plain": [
       "<Figure size 432x288 with 1 Axes>"
      ]
     },
     "metadata": {
      "needs_background": "light"
     },
     "output_type": "display_data"
    }
   ],
   "source": [
    "boxplot = probs_df.boxplot(column=['prob_dry-dry', 'prob_dry-wet', 'prob_wet-dry', 'prob_wet-wet'])"
   ]
  },
  {
   "cell_type": "code",
   "execution_count": null,
   "id": "closed-bicycle",
   "metadata": {},
   "outputs": [],
   "source": []
  }
 ],
 "metadata": {
  "kernelspec": {
   "display_name": "Python 3",
   "language": "python",
   "name": "python3"
  },
  "language_info": {
   "codemirror_mode": {
    "name": "ipython",
    "version": 3
   },
   "file_extension": ".py",
   "mimetype": "text/x-python",
   "name": "python",
   "nbconvert_exporter": "python",
   "pygments_lexer": "ipython3",
   "version": "3.6.5"
  }
 },
 "nbformat": 4,
 "nbformat_minor": 5
}
