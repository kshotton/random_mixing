{
 "cells": [
  {
   "cell_type": "markdown",
   "id": "persistent-draft",
   "metadata": {},
   "source": [
    "### Calculate the conditional wet/dry probabilities for each pair of gauges:\n",
    "### Fisera Ridge, Upper Clearing, Hay Meadow, Kananaskis, Bow Valley, Kananaskis Pocaterra, Banff CS, Wildcat Hills\n",
    "### Wet/dry day threshold = 1.0 mm"
   ]
  },
  {
   "cell_type": "code",
   "execution_count": 1,
   "id": "russian-intro",
   "metadata": {},
   "outputs": [],
   "source": [
    "import numpy as np\n",
    "import pandas as pd\n",
    "import math\n",
    "import scipy as st\n",
    "import scipy.stats as stats\n",
    "import matplotlib.pyplot as plt\n",
    "%matplotlib inline\n",
    "from numpy import genfromtxt"
   ]
  },
  {
   "cell_type": "markdown",
   "id": "dental-inspector",
   "metadata": {},
   "source": [
    "### Read in P data for all 8 stations from csv file created in P_inputs_2005-2016.ipynb"
   ]
  },
  {
   "cell_type": "code",
   "execution_count": 2,
   "id": "modern-thriller",
   "metadata": {},
   "outputs": [
    {
     "data": {
      "text/html": [
       "<div>\n",
       "<style scoped>\n",
       "    .dataframe tbody tr th:only-of-type {\n",
       "        vertical-align: middle;\n",
       "    }\n",
       "\n",
       "    .dataframe tbody tr th {\n",
       "        vertical-align: top;\n",
       "    }\n",
       "\n",
       "    .dataframe thead th {\n",
       "        text-align: right;\n",
       "    }\n",
       "</style>\n",
       "<table border=\"1\" class=\"dataframe\">\n",
       "  <thead>\n",
       "    <tr style=\"text-align: right;\">\n",
       "      <th></th>\n",
       "      <th>FR_p_mm</th>\n",
       "      <th>UC_p_mm</th>\n",
       "      <th>KP_p_mm</th>\n",
       "      <th>HM_p_mm</th>\n",
       "      <th>BCS_p_mm</th>\n",
       "      <th>K_p_mm</th>\n",
       "      <th>BV_p_mm</th>\n",
       "      <th>WH_p_mm</th>\n",
       "    </tr>\n",
       "    <tr>\n",
       "      <th>date</th>\n",
       "      <th></th>\n",
       "      <th></th>\n",
       "      <th></th>\n",
       "      <th></th>\n",
       "      <th></th>\n",
       "      <th></th>\n",
       "      <th></th>\n",
       "      <th></th>\n",
       "    </tr>\n",
       "  </thead>\n",
       "  <tbody>\n",
       "    <tr>\n",
       "      <th>2005-10-01</th>\n",
       "      <td>16.0160</td>\n",
       "      <td>11.3028</td>\n",
       "      <td>16.0</td>\n",
       "      <td>7.3722</td>\n",
       "      <td>11.0</td>\n",
       "      <td>0.0</td>\n",
       "      <td>10.4</td>\n",
       "      <td>0.8</td>\n",
       "    </tr>\n",
       "    <tr>\n",
       "      <th>2005-10-02</th>\n",
       "      <td>0.0000</td>\n",
       "      <td>0.0000</td>\n",
       "      <td>0.0</td>\n",
       "      <td>0.0000</td>\n",
       "      <td>0.2</td>\n",
       "      <td>0.4</td>\n",
       "      <td>0.0</td>\n",
       "      <td>0.0</td>\n",
       "    </tr>\n",
       "    <tr>\n",
       "      <th>2005-10-03</th>\n",
       "      <td>0.7649</td>\n",
       "      <td>0.5399</td>\n",
       "      <td>0.0</td>\n",
       "      <td>0.0000</td>\n",
       "      <td>0.2</td>\n",
       "      <td>1.2</td>\n",
       "      <td>0.2</td>\n",
       "      <td>4.0</td>\n",
       "    </tr>\n",
       "    <tr>\n",
       "      <th>2005-10-04</th>\n",
       "      <td>0.5463</td>\n",
       "      <td>0.3855</td>\n",
       "      <td>0.0</td>\n",
       "      <td>0.0000</td>\n",
       "      <td>0.0</td>\n",
       "      <td>0.0</td>\n",
       "      <td>0.4</td>\n",
       "      <td>0.0</td>\n",
       "    </tr>\n",
       "    <tr>\n",
       "      <th>2005-10-05</th>\n",
       "      <td>0.0896</td>\n",
       "      <td>0.0633</td>\n",
       "      <td>1.4</td>\n",
       "      <td>0.0000</td>\n",
       "      <td>0.0</td>\n",
       "      <td>0.0</td>\n",
       "      <td>0.0</td>\n",
       "      <td>0.0</td>\n",
       "    </tr>\n",
       "  </tbody>\n",
       "</table>\n",
       "</div>"
      ],
      "text/plain": [
       "            FR_p_mm  UC_p_mm  KP_p_mm  HM_p_mm  BCS_p_mm  K_p_mm  BV_p_mm  \\\n",
       "date                                                                        \n",
       "2005-10-01  16.0160  11.3028     16.0   7.3722      11.0     0.0     10.4   \n",
       "2005-10-02   0.0000   0.0000      0.0   0.0000       0.2     0.4      0.0   \n",
       "2005-10-03   0.7649   0.5399      0.0   0.0000       0.2     1.2      0.2   \n",
       "2005-10-04   0.5463   0.3855      0.0   0.0000       0.0     0.0      0.4   \n",
       "2005-10-05   0.0896   0.0633      1.4   0.0000       0.0     0.0      0.0   \n",
       "\n",
       "            WH_p_mm  \n",
       "date                 \n",
       "2005-10-01      0.8  \n",
       "2005-10-02      0.0  \n",
       "2005-10-03      4.0  \n",
       "2005-10-04      0.0  \n",
       "2005-10-05      0.0  "
      ]
     },
     "execution_count": 2,
     "metadata": {},
     "output_type": "execute_result"
    }
   ],
   "source": [
    "# Use pd.read_csv to read csv file\n",
    "allstnsP_df = pd.read_csv(r\"C:\\Users\\b1043453\\OneDrive - Newcastle University\\OnePlanet PhD\\Random_mixing\\RMWSPy_Horning_and_Haese_2021\\RMWSPy-master\\MCRB_examples\\MCRB_gauges_only\\Characterising_P_statistics\\Pinputs_2005-2016.csv\",\n",
    "                         index_col=0)\n",
    "allstnsP_df.head()"
   ]
  },
  {
   "cell_type": "code",
   "execution_count": 3,
   "id": "european-australian",
   "metadata": {},
   "outputs": [],
   "source": [
    "# # round P values to 1 dp for threshold calculations\n",
    "# allstnsP1dp_df = allstnsP_df.round(1)\n",
    "# allstnsP1dp_df.head()"
   ]
  },
  {
   "cell_type": "markdown",
   "id": "parliamentary-living",
   "metadata": {},
   "source": [
    "### Pair 1: Fisera Ridge (2325 m) and Upper Clearing (1845 m)"
   ]
  },
  {
   "cell_type": "code",
   "execution_count": 4,
   "id": "divided-queens",
   "metadata": {},
   "outputs": [
    {
     "name": "stdout",
     "output_type": "stream",
     "text": [
      "FRprobdry = 0.631\n",
      "FRprobwet = 0.369\n",
      "UCprobdry = 0.719\n",
      "UCprobwet = 0.281\n",
      "probFRdry_UCdry = 0.454\n",
      "probFRdry_UCwet = 0.177\n",
      "probFRwet_UCdry = 0.265\n",
      "probFRwet_UCwet = 0.104\n"
     ]
    }
   ],
   "source": [
    "# Step 1\n",
    "# in general, probability of dry day = no of days with < 1.0mm of rain divided by the total number of days\n",
    "# and the probability of a wet day is 1 - the probability of a dry day!\n",
    "\n",
    "# FR\n",
    "FRprobdry = (allstnsP_df.FR_p_mm < 1.0).sum() / len(allstnsP_df)\n",
    "FRprobwet = 1 - FRprobdry\n",
    "# UC\n",
    "UCprobdry = (allstnsP_df.UC_p_mm < 1.0).sum() / len(allstnsP_df)\n",
    "UCprobwet = 1 - UCprobdry\n",
    "# print probabilities\n",
    "print(\"FRprobdry =\", FRprobdry.round(3))\n",
    "print(\"FRprobwet =\", FRprobwet.round(3))\n",
    "print(\"UCprobdry =\", UCprobdry.round(3))\n",
    "print(\"UCprobwet =\", UCprobwet.round(3))\n",
    "\n",
    "# Step 2\n",
    "# now calculate conditional probabilities\n",
    "probFRdry_UCdry = FRprobdry * UCprobdry\n",
    "probFRdry_UCwet = FRprobdry * UCprobwet\n",
    "probFRwet_UCdry = FRprobwet * UCprobdry\n",
    "probFRwet_UCwet = FRprobwet * UCprobwet\n",
    "# print conditional probabilities\n",
    "print(\"probFRdry_UCdry =\", probFRdry_UCdry.round(3))\n",
    "print(\"probFRdry_UCwet =\", probFRdry_UCwet.round(3))\n",
    "print(\"probFRwet_UCdry =\", probFRwet_UCdry.round(3))\n",
    "print(\"probFRwet_UCwet =\", probFRwet_UCwet.round(3))\n",
    "\n",
    "# create a 2x2 array of conditional probabilities\n",
    "FRUCarr = np.array([[probFRdry_UCdry.round(3),probFRdry_UCwet.round(3)],[probFRwet_UCdry.round(3),probFRwet_UCwet.round(3)]])\n",
    "FRUCarr\n",
    "# write array to csv\n",
    "np.savetxt(r\"C:\\Users\\b1043453\\OneDrive - Newcastle University\\OnePlanet PhD\\Random_mixing\\RMWSPy_Horning_and_Haese_2021\\RMWSPy-master\\MCRB_examples\\MCRB_gauges_only\\Characterising_P_statistics\\cond_wet_dry_prob_arrays\\FRUCarr.csv\", FRUCarr, delimiter=',')"
   ]
  },
  {
   "cell_type": "markdown",
   "id": "marked-survey",
   "metadata": {},
   "source": [
    "### Pair 2: Fisera Ridge (2325 m) & Hay Meadow (1436 m)"
   ]
  },
  {
   "cell_type": "code",
   "execution_count": 5,
   "id": "signal-bacteria",
   "metadata": {},
   "outputs": [
    {
     "name": "stdout",
     "output_type": "stream",
     "text": [
      "FRprobdry = 0.631\n",
      "FRprobwet = 0.369\n",
      "HMprobdry = 0.772\n",
      "HMprobwet = 0.228\n",
      "probFRdry_HMdry = 0.487\n",
      "probFRdry_HMwet = 0.144\n",
      "probFRwet_HMdry = 0.285\n",
      "probFRwet_HMwet = 0.084\n"
     ]
    }
   ],
   "source": [
    "# Step 1\n",
    "# in general, probability of dry day = no of days with < 1.0mm of rain divided by the total number of days\n",
    "# and the probability of a wet day is 1 - the probability of a dry day!\n",
    "\n",
    "# FR\n",
    "FRprobdry = (allstnsP_df.FR_p_mm < 1.0).sum() / len(allstnsP_df)\n",
    "FRprobwet = 1 - FRprobdry\n",
    "# HM\n",
    "HMprobdry = (allstnsP_df.HM_p_mm < 1.0).sum() / len(allstnsP_df)\n",
    "HMprobwet = 1 - HMprobdry\n",
    "# print probabilities\n",
    "print(\"FRprobdry =\", FRprobdry.round(3))\n",
    "print(\"FRprobwet =\", FRprobwet.round(3))\n",
    "print(\"HMprobdry =\", HMprobdry.round(3))\n",
    "print(\"HMprobwet =\", HMprobwet.round(3))\n",
    "\n",
    "# Step 2\n",
    "# now calculate conditional probabilities\n",
    "probFRdry_HMdry = FRprobdry * HMprobdry\n",
    "probFRdry_HMwet = FRprobdry * HMprobwet\n",
    "probFRwet_HMdry = FRprobwet * HMprobdry\n",
    "probFRwet_HMwet = FRprobwet * HMprobwet\n",
    "# print conditional probabilities\n",
    "print(\"probFRdry_HMdry =\", probFRdry_HMdry.round(3))\n",
    "print(\"probFRdry_HMwet =\", probFRdry_HMwet.round(3))\n",
    "print(\"probFRwet_HMdry =\", probFRwet_HMdry.round(3))\n",
    "print(\"probFRwet_HMwet =\", probFRwet_HMwet.round(3))\n",
    "\n",
    "# create a 2x2 array of conditional probabilities\n",
    "FRHMarr = np.array([[probFRdry_HMdry.round(3),probFRdry_HMwet.round(3)],[probFRwet_HMdry.round(3),probFRwet_HMwet.round(3)]])\n",
    "FRHMarr\n",
    "# write array to csv\n",
    "np.savetxt(r\"C:\\Users\\b1043453\\OneDrive - Newcastle University\\OnePlanet PhD\\Random_mixing\\RMWSPy_Horning_and_Haese_2021\\RMWSPy-master\\MCRB_examples\\MCRB_gauges_only\\Characterising_P_statistics\\cond_wet_dry_prob_arrays\\FRHMarr.csv\", FRHMarr, delimiter=',')"
   ]
  },
  {
   "cell_type": "markdown",
   "id": "radio-designation",
   "metadata": {},
   "source": [
    "### Pair 3: Fisera Ridge (2325 m) & Kananaskis (1391 m)"
   ]
  },
  {
   "cell_type": "code",
   "execution_count": 6,
   "id": "greater-assault",
   "metadata": {},
   "outputs": [
    {
     "name": "stdout",
     "output_type": "stream",
     "text": [
      "FRprobdry = 0.631\n",
      "FRprobwet = 0.369\n",
      "Kprobdry = 0.741\n",
      "Kprobwet = 0.259\n",
      "probFRdry_Kdry = 0.468\n",
      "probFRdry_Kwet = 0.164\n",
      "probFRwet_Kdry = 0.273\n",
      "probFRwet_Kwet = 0.096\n"
     ]
    }
   ],
   "source": [
    "# Step 1\n",
    "# in general, probability of dry day = no of days with < 1.0mm of rain divided by the total number of days\n",
    "# and the probability of a wet day is 1 - the probability of a dry day!\n",
    "\n",
    "# FR\n",
    "FRprobdry = (allstnsP_df.FR_p_mm < 1.0).sum() / len(allstnsP_df)\n",
    "FRprobwet = 1 - FRprobdry\n",
    "# K\n",
    "Kprobdry = (allstnsP_df.K_p_mm < 1.0).sum() / len(allstnsP_df)\n",
    "Kprobwet = 1 - Kprobdry\n",
    "# print probabilities\n",
    "print(\"FRprobdry =\", FRprobdry.round(3))\n",
    "print(\"FRprobwet =\", FRprobwet.round(3))\n",
    "print(\"Kprobdry =\", Kprobdry.round(3))\n",
    "print(\"Kprobwet =\", Kprobwet.round(3))\n",
    "\n",
    "# Step 2\n",
    "# now calculate conditional probabilities\n",
    "probFRdry_Kdry = FRprobdry * Kprobdry\n",
    "probFRdry_Kwet = FRprobdry * Kprobwet\n",
    "probFRwet_Kdry = FRprobwet * Kprobdry\n",
    "probFRwet_Kwet = FRprobwet * Kprobwet\n",
    "# print conditional probabilities\n",
    "print(\"probFRdry_Kdry =\", probFRdry_Kdry.round(3))\n",
    "print(\"probFRdry_Kwet =\", probFRdry_Kwet.round(3))\n",
    "print(\"probFRwet_Kdry =\", probFRwet_Kdry.round(3))\n",
    "print(\"probFRwet_Kwet =\", probFRwet_Kwet.round(3))\n",
    "\n",
    "# create a 2x2 array of conditional probabilities\n",
    "FRKarr = np.array([[probFRdry_Kdry.round(3),probFRdry_Kwet.round(3)],[probFRwet_Kdry.round(3),probFRwet_Kwet.round(3)]])\n",
    "FRKarr\n",
    "# write array to csv\n",
    "np.savetxt(r\"C:\\Users\\b1043453\\OneDrive - Newcastle University\\OnePlanet PhD\\Random_mixing\\RMWSPy_Horning_and_Haese_2021\\RMWSPy-master\\MCRB_examples\\MCRB_gauges_only\\Characterising_P_statistics\\cond_wet_dry_prob_arrays\\FRKarr.csv\", FRKarr, delimiter=',')"
   ]
  },
  {
   "cell_type": "markdown",
   "id": "applicable-fundamental",
   "metadata": {},
   "source": [
    "### Pair 4: Fisera Ridge (2325 m) & Bow Valley (1298 m)"
   ]
  },
  {
   "cell_type": "code",
   "execution_count": 7,
   "id": "recent-exemption",
   "metadata": {},
   "outputs": [
    {
     "name": "stdout",
     "output_type": "stream",
     "text": [
      "FRprobdry = 0.631\n",
      "FRprobwet = 0.369\n",
      "BVprobdry = 0.722\n",
      "BVprobwet = 0.278\n",
      "probFRdry_BVdry = 0.455\n",
      "probFRdry_BVwet = 0.176\n",
      "probFRwet_BVdry = 0.266\n",
      "probFRwet_BVwet = 0.103\n"
     ]
    }
   ],
   "source": [
    "# Step 1\n",
    "# in general, probability of dry day = no of days with < 1.0mm of rain divided by the total number of days\n",
    "# and the probability of a wet day is 1 - the probability of a dry day!\n",
    "\n",
    "# FR\n",
    "FRprobdry = (allstnsP_df.FR_p_mm < 1.0).sum() / len(allstnsP_df)\n",
    "FRprobwet = 1 - FRprobdry\n",
    "# BV\n",
    "BVprobdry = (allstnsP_df.BV_p_mm < 1.0).sum() / len(allstnsP_df)\n",
    "BVprobwet = 1 - BVprobdry\n",
    "# print probabilities\n",
    "print(\"FRprobdry =\", FRprobdry.round(3))\n",
    "print(\"FRprobwet =\", FRprobwet.round(3))\n",
    "print(\"BVprobdry =\", BVprobdry.round(3))\n",
    "print(\"BVprobwet =\", BVprobwet.round(3))\n",
    "\n",
    "# Step 2\n",
    "# now calculate conditional probabilities\n",
    "probFRdry_BVdry = FRprobdry * BVprobdry\n",
    "probFRdry_BVwet = FRprobdry * BVprobwet\n",
    "probFRwet_BVdry = FRprobwet * BVprobdry\n",
    "probFRwet_BVwet = FRprobwet * BVprobwet\n",
    "# print conditional probabilities\n",
    "print(\"probFRdry_BVdry =\", probFRdry_BVdry.round(3))\n",
    "print(\"probFRdry_BVwet =\", probFRdry_BVwet.round(3))\n",
    "print(\"probFRwet_BVdry =\", probFRwet_BVdry.round(3))\n",
    "print(\"probFRwet_BVwet =\", probFRwet_BVwet.round(3))\n",
    "\n",
    "# create a 2x2 array of conditional probabilities\n",
    "FRBVarr = np.array([[probFRdry_BVdry.round(3),probFRdry_BVwet.round(3)],[probFRwet_BVdry.round(3),probFRwet_BVwet.round(3)]])\n",
    "FRBVarr\n",
    "# write array to csv\n",
    "np.savetxt(r\"C:\\Users\\b1043453\\OneDrive - Newcastle University\\OnePlanet PhD\\Random_mixing\\RMWSPy_Horning_and_Haese_2021\\RMWSPy-master\\MCRB_examples\\MCRB_gauges_only\\Characterising_P_statistics\\cond_wet_dry_prob_arrays\\FRBVarr.csv\", FRBVarr, delimiter=',')"
   ]
  },
  {
   "cell_type": "markdown",
   "id": "incident-peace",
   "metadata": {},
   "source": [
    "### Pair 5: Fisera Ridge (2325 m) & Kananaskis Pocaterra (1610 m)"
   ]
  },
  {
   "cell_type": "code",
   "execution_count": 8,
   "id": "excellent-glasgow",
   "metadata": {},
   "outputs": [
    {
     "name": "stdout",
     "output_type": "stream",
     "text": [
      "FRprobdry = 0.631\n",
      "FRprobwet = 0.369\n",
      "KPprobdry = 0.424\n",
      "KPprobwet = 0.576\n",
      "probFRdry_KPdry = 0.268\n",
      "probFRdry_KPwet = 0.363\n",
      "probFRwet_KPdry = 0.157\n",
      "probFRwet_KPwet = 0.212\n"
     ]
    }
   ],
   "source": [
    "# Step 1\n",
    "# in general, probability of dry day = no of days with < 1.0mm of rain divided by the total number of days\n",
    "# and the probability of a wet day is 1 - the probability of a dry day!\n",
    "\n",
    "# FR\n",
    "FRprobdry = (allstnsP_df.FR_p_mm < 1.0).sum() / len(allstnsP_df)\n",
    "FRprobwet = 1 - FRprobdry\n",
    "# KP\n",
    "KPprobdry = (allstnsP_df.KP_p_mm < 1.0).sum() / len(allstnsP_df)\n",
    "KPprobwet = 1 - KPprobdry\n",
    "# print probabilities\n",
    "print(\"FRprobdry =\", FRprobdry.round(3))\n",
    "print(\"FRprobwet =\", FRprobwet.round(3))\n",
    "print(\"KPprobdry =\", KPprobdry.round(3))\n",
    "print(\"KPprobwet =\", KPprobwet.round(3))\n",
    "\n",
    "# Step 2\n",
    "# now calculate conditional probabilities\n",
    "probFRdry_KPdry = FRprobdry * KPprobdry\n",
    "probFRdry_KPwet = FRprobdry * KPprobwet\n",
    "probFRwet_KPdry = FRprobwet * KPprobdry\n",
    "probFRwet_KPwet = FRprobwet * KPprobwet\n",
    "# print conditional probabilities\n",
    "print(\"probFRdry_KPdry =\", probFRdry_KPdry.round(3))\n",
    "print(\"probFRdry_KPwet =\", probFRdry_KPwet.round(3))\n",
    "print(\"probFRwet_KPdry =\", probFRwet_KPdry.round(3))\n",
    "print(\"probFRwet_KPwet =\", probFRwet_KPwet.round(3))\n",
    "\n",
    "# create a 2x2 array of conditional probabilities\n",
    "FRKParr = np.array([[probFRdry_KPdry.round(3),probFRdry_KPwet.round(3)],[probFRwet_KPdry.round(3),probFRwet_KPwet.round(3)]])\n",
    "FRKParr\n",
    "# write array to csv\n",
    "np.savetxt(r\"C:\\Users\\b1043453\\OneDrive - Newcastle University\\OnePlanet PhD\\Random_mixing\\RMWSPy_Horning_and_Haese_2021\\RMWSPy-master\\MCRB_examples\\MCRB_gauges_only\\Characterising_P_statistics\\cond_wet_dry_prob_arrays\\FRKParr.csv\", FRKParr, delimiter=',')"
   ]
  },
  {
   "cell_type": "markdown",
   "id": "involved-deployment",
   "metadata": {},
   "source": [
    "### Pair 6: Fisera Ridge (2325 m) & Banff CS (1397 m)"
   ]
  },
  {
   "cell_type": "code",
   "execution_count": 9,
   "id": "interesting-fluid",
   "metadata": {},
   "outputs": [
    {
     "name": "stdout",
     "output_type": "stream",
     "text": [
      "FRprobdry = 0.631\n",
      "FRprobwet = 0.369\n",
      "BCSprobdry = 0.747\n",
      "BCSprobwet = 0.253\n",
      "probFRdry_BCSdry = 0.472\n",
      "probFRdry_BCSwet = 0.16\n",
      "probFRwet_BCSdry = 0.275\n",
      "probFRwet_BCSwet = 0.093\n"
     ]
    }
   ],
   "source": [
    "# Step 1\n",
    "# in general, probability of dry day = no of days with < 1.0mm of rain divided by the total number of days\n",
    "# and the probability of a wet day is 1 - the probability of a dry day!\n",
    "\n",
    "# FR\n",
    "FRprobdry = (allstnsP_df.FR_p_mm < 1.0).sum() / len(allstnsP_df)\n",
    "FRprobwet = 1 - FRprobdry\n",
    "# BCS\n",
    "BCSprobdry = (allstnsP_df.BCS_p_mm < 1.0).sum() / len(allstnsP_df)\n",
    "BCSprobwet = 1 - BCSprobdry\n",
    "# print probabilities\n",
    "print(\"FRprobdry =\", FRprobdry.round(3))\n",
    "print(\"FRprobwet =\", FRprobwet.round(3))\n",
    "print(\"BCSprobdry =\", BCSprobdry.round(3))\n",
    "print(\"BCSprobwet =\", BCSprobwet.round(3))\n",
    "\n",
    "# Step 2\n",
    "# now calculate conditional probabilities\n",
    "probFRdry_BCSdry = FRprobdry * BCSprobdry\n",
    "probFRdry_BCSwet = FRprobdry * BCSprobwet\n",
    "probFRwet_BCSdry = FRprobwet * BCSprobdry\n",
    "probFRwet_BCSwet = FRprobwet * BCSprobwet\n",
    "# print conditional probabilities\n",
    "print(\"probFRdry_BCSdry =\", probFRdry_BCSdry.round(3))\n",
    "print(\"probFRdry_BCSwet =\", probFRdry_BCSwet.round(3))\n",
    "print(\"probFRwet_BCSdry =\", probFRwet_BCSdry.round(3))\n",
    "print(\"probFRwet_BCSwet =\", probFRwet_BCSwet.round(3))\n",
    "\n",
    "# create a 2x2 array of conditional probabilities\n",
    "FRBCSarr = np.array([[probFRdry_BCSdry.round(3),probFRdry_BCSwet.round(3)],[probFRwet_BCSdry.round(3),probFRwet_BCSwet.round(3)]])\n",
    "FRBCSarr\n",
    "# write array to csv\n",
    "np.savetxt(r\"C:\\Users\\b1043453\\OneDrive - Newcastle University\\OnePlanet PhD\\Random_mixing\\RMWSPy_Horning_and_Haese_2021\\RMWSPy-master\\MCRB_examples\\MCRB_gauges_only\\Characterising_P_statistics\\cond_wet_dry_prob_arrays\\FRBCSarr.csv\", FRBCSarr, delimiter=',')"
   ]
  },
  {
   "cell_type": "markdown",
   "id": "revolutionary-castle",
   "metadata": {},
   "source": [
    "### Pair 7: Fisera Ridge (2325 m) & Wildcat Hills (1268 m)"
   ]
  },
  {
   "cell_type": "code",
   "execution_count": 10,
   "id": "bright-lotus",
   "metadata": {},
   "outputs": [
    {
     "name": "stdout",
     "output_type": "stream",
     "text": [
      "FRprobdry = 0.631\n",
      "FRprobwet = 0.369\n",
      "WHprobdry = 0.722\n",
      "WHprobwet = 0.278\n",
      "probFRdry_WHdry = 0.456\n",
      "probFRdry_WHwet = 0.176\n",
      "probFRwet_WHdry = 0.266\n",
      "probFRwet_WHwet = 0.103\n"
     ]
    }
   ],
   "source": [
    "# Step 1\n",
    "# in general, probability of dry day = no of days with < 1.0mm of rain divided by the total number of days\n",
    "# and the probability of a wet day is 1 - the probability of a dry day!\n",
    "\n",
    "# FR\n",
    "FRprobdry = (allstnsP_df.FR_p_mm < 1.0).sum() / len(allstnsP_df)\n",
    "FRprobwet = 1 - FRprobdry\n",
    "# WH\n",
    "WHprobdry = (allstnsP_df.WH_p_mm < 1.0).sum() / len(allstnsP_df)\n",
    "WHprobwet = 1 - WHprobdry\n",
    "# print probabilities\n",
    "print(\"FRprobdry =\", FRprobdry.round(3))\n",
    "print(\"FRprobwet =\", FRprobwet.round(3))\n",
    "print(\"WHprobdry =\", WHprobdry.round(3))\n",
    "print(\"WHprobwet =\", WHprobwet.round(3))\n",
    "\n",
    "# Step 2\n",
    "# now calculate conditional probabilities\n",
    "probFRdry_WHdry = FRprobdry * WHprobdry\n",
    "probFRdry_WHwet = FRprobdry * WHprobwet\n",
    "probFRwet_WHdry = FRprobwet * WHprobdry\n",
    "probFRwet_WHwet = FRprobwet * WHprobwet\n",
    "# print conditional probabilities\n",
    "print(\"probFRdry_WHdry =\", probFRdry_WHdry.round(3))\n",
    "print(\"probFRdry_WHwet =\", probFRdry_WHwet.round(3))\n",
    "print(\"probFRwet_WHdry =\", probFRwet_WHdry.round(3))\n",
    "print(\"probFRwet_WHwet =\", probFRwet_WHwet.round(3))\n",
    "\n",
    "# create a 2x2 array of conditional probabilities\n",
    "FRWHarr = np.array([[probFRdry_WHdry.round(3),probFRdry_WHwet.round(3)],[probFRwet_WHdry.round(3),probFRwet_WHwet.round(3)]])\n",
    "FRWHarr\n",
    "# write array to csv\n",
    "np.savetxt(r\"C:\\Users\\b1043453\\OneDrive - Newcastle University\\OnePlanet PhD\\Random_mixing\\RMWSPy_Horning_and_Haese_2021\\RMWSPy-master\\MCRB_examples\\MCRB_gauges_only\\Characterising_P_statistics\\cond_wet_dry_prob_arrays\\FRWHarr.csv\", FRWHarr, delimiter=',')"
   ]
  },
  {
   "cell_type": "markdown",
   "id": "stylish-encoding",
   "metadata": {},
   "source": [
    "### Pair 8: Upper Clearing (1845 m) & Hay Meadow (1436 m)"
   ]
  },
  {
   "cell_type": "code",
   "execution_count": 11,
   "id": "satisfactory-mission",
   "metadata": {},
   "outputs": [
    {
     "name": "stdout",
     "output_type": "stream",
     "text": [
      "UCprobdry = 0.719\n",
      "UCprobwet = 0.281\n",
      "HMprobdry = 0.772\n",
      "HMprobwet = 0.228\n",
      "probUCdry_HMdry = 0.555\n",
      "probUCdry_HMwet = 0.164\n",
      "probUCwet_HMdry = 0.217\n",
      "probUCwet_HMwet = 0.064\n"
     ]
    }
   ],
   "source": [
    "# Step 1\n",
    "# in general, probability of dry day = no of days with < 1.0mm of rain divided by the total number of days\n",
    "# and the probability of a wet day is 1 - the probability of a dry day!\n",
    "\n",
    "# UC\n",
    "UCprobdry = (allstnsP_df.UC_p_mm < 1.0).sum() / len(allstnsP_df)\n",
    "UCprobwet = 1 - UCprobdry\n",
    "# HM\n",
    "HMprobdry = (allstnsP_df.HM_p_mm < 1.0).sum() / len(allstnsP_df)\n",
    "HMprobwet = 1 - HMprobdry\n",
    "# print probabilities\n",
    "print(\"UCprobdry =\", UCprobdry.round(3))\n",
    "print(\"UCprobwet =\", UCprobwet.round(3))\n",
    "print(\"HMprobdry =\", HMprobdry.round(3))\n",
    "print(\"HMprobwet =\", HMprobwet.round(3))\n",
    "\n",
    "# Step 2\n",
    "# now calculate conditional probabilities\n",
    "probUCdry_HMdry = UCprobdry * HMprobdry\n",
    "probUCdry_HMwet = UCprobdry * HMprobwet\n",
    "probUCwet_HMdry = UCprobwet * HMprobdry\n",
    "probUCwet_HMwet = UCprobwet * HMprobwet\n",
    "# print conditional probabilities\n",
    "print(\"probUCdry_HMdry =\", probUCdry_HMdry.round(3))\n",
    "print(\"probUCdry_HMwet =\", probUCdry_HMwet.round(3))\n",
    "print(\"probUCwet_HMdry =\", probUCwet_HMdry.round(3))\n",
    "print(\"probUCwet_HMwet =\", probUCwet_HMwet.round(3))\n",
    "\n",
    "# create a 2x2 array of conditional probabilities\n",
    "UCHMarr = np.array([[probUCdry_HMdry.round(3),probUCdry_HMwet.round(3)],[probUCwet_HMdry.round(3),probUCwet_HMwet.round(3)]])\n",
    "UCHMarr\n",
    "# write array to csv\n",
    "np.savetxt(r\"C:\\Users\\b1043453\\OneDrive - Newcastle University\\OnePlanet PhD\\Random_mixing\\RMWSPy_Horning_and_Haese_2021\\RMWSPy-master\\MCRB_examples\\MCRB_gauges_only\\Characterising_P_statistics\\cond_wet_dry_prob_arrays\\UCHMarr.csv\", UCHMarr, delimiter=',')"
   ]
  },
  {
   "cell_type": "markdown",
   "id": "funny-front",
   "metadata": {},
   "source": [
    "### Pair 9: Upper Clearing (1845 m) & Kananaskis (1391 m)"
   ]
  },
  {
   "cell_type": "code",
   "execution_count": 12,
   "id": "promotional-candidate",
   "metadata": {},
   "outputs": [
    {
     "name": "stdout",
     "output_type": "stream",
     "text": [
      "UCprobdry = 0.719\n",
      "UCprobwet = 0.281\n",
      "Kprobdry = 0.741\n",
      "Kprobwet = 0.259\n",
      "probUCdry_Kdry = 0.533\n",
      "probUCdry_Kwet = 0.186\n",
      "probUCwet_Kdry = 0.208\n",
      "probUCwet_Kwet = 0.073\n"
     ]
    }
   ],
   "source": [
    "# Step 1\n",
    "# in general, probability of dry day = no of days with < 1.0mm of rain divided by the total number of days\n",
    "# and the probability of a wet day is 1 - the probability of a dry day!\n",
    "\n",
    "# UC\n",
    "UCprobdry = (allstnsP_df.UC_p_mm < 1.0).sum() / len(allstnsP_df)\n",
    "UCprobwet = 1 - UCprobdry\n",
    "# K\n",
    "Kprobdry = (allstnsP_df.K_p_mm < 1.0).sum() / len(allstnsP_df)\n",
    "Kprobwet = 1 - Kprobdry\n",
    "# print probabilities\n",
    "print(\"UCprobdry =\", UCprobdry.round(3))\n",
    "print(\"UCprobwet =\", UCprobwet.round(3))\n",
    "print(\"Kprobdry =\", Kprobdry.round(3))\n",
    "print(\"Kprobwet =\", Kprobwet.round(3))\n",
    "\n",
    "# Step 2\n",
    "# now calculate conditional probabilities\n",
    "probUCdry_Kdry = UCprobdry * Kprobdry\n",
    "probUCdry_Kwet = UCprobdry * Kprobwet\n",
    "probUCwet_Kdry = UCprobwet * Kprobdry\n",
    "probUCwet_Kwet = UCprobwet * Kprobwet\n",
    "# print conditional probabilities\n",
    "print(\"probUCdry_Kdry =\", probUCdry_Kdry.round(3))\n",
    "print(\"probUCdry_Kwet =\", probUCdry_Kwet.round(3))\n",
    "print(\"probUCwet_Kdry =\", probUCwet_Kdry.round(3))\n",
    "print(\"probUCwet_Kwet =\", probUCwet_Kwet.round(3))\n",
    "\n",
    "# create a 2x2 array of conditional probabilities\n",
    "UCKarr = np.array([[probUCdry_Kdry.round(3),probUCdry_Kwet.round(3)],[probUCwet_Kdry.round(3),probUCwet_Kwet.round(3)]])\n",
    "UCKarr\n",
    "# write array to csv\n",
    "np.savetxt(r\"C:\\Users\\b1043453\\OneDrive - Newcastle University\\OnePlanet PhD\\Random_mixing\\RMWSPy_Horning_and_Haese_2021\\RMWSPy-master\\MCRB_examples\\MCRB_gauges_only\\Characterising_P_statistics\\cond_wet_dry_prob_arrays\\UCKarr.csv\", UCKarr, delimiter=',')"
   ]
  },
  {
   "cell_type": "markdown",
   "id": "traditional-guest",
   "metadata": {},
   "source": [
    "### Pair 10: Upper Clearing (1845 m) & Bow Valley (1298 m)"
   ]
  },
  {
   "cell_type": "code",
   "execution_count": 13,
   "id": "greatest-school",
   "metadata": {},
   "outputs": [
    {
     "name": "stdout",
     "output_type": "stream",
     "text": [
      "UCprobdry = 0.719\n",
      "UCprobwet = 0.281\n",
      "BVprobdry = 0.722\n",
      "BVprobwet = 0.278\n",
      "probUCdry_BVdry = 0.519\n",
      "probUCdry_BVwet = 0.2\n",
      "probUCwet_BVdry = 0.203\n",
      "probUCwet_BVwet = 0.078\n"
     ]
    }
   ],
   "source": [
    "# Step 1\n",
    "# in general, probability of dry day = no of days with < 1.0mm of rain divided by the total number of days\n",
    "# and the probability of a wet day is 1 - the probability of a dry day!\n",
    "\n",
    "# UC\n",
    "UCprobdry = (allstnsP_df.UC_p_mm < 1.0).sum() / len(allstnsP_df)\n",
    "UCprobwet = 1 - UCprobdry\n",
    "# BV\n",
    "BVprobdry = (allstnsP_df.BV_p_mm < 1.0).sum() / len(allstnsP_df)\n",
    "BVprobwet = 1 - BVprobdry\n",
    "# print probabilities\n",
    "print(\"UCprobdry =\", UCprobdry.round(3))\n",
    "print(\"UCprobwet =\", UCprobwet.round(3))\n",
    "print(\"BVprobdry =\", BVprobdry.round(3))\n",
    "print(\"BVprobwet =\", BVprobwet.round(3))\n",
    "\n",
    "# Step 2\n",
    "# now calculate conditional probabilities\n",
    "probUCdry_BVdry = UCprobdry * BVprobdry\n",
    "probUCdry_BVwet = UCprobdry * BVprobwet\n",
    "probUCwet_BVdry = UCprobwet * BVprobdry\n",
    "probUCwet_BVwet = UCprobwet * BVprobwet\n",
    "# print conditional probabilities\n",
    "print(\"probUCdry_BVdry =\", probUCdry_BVdry.round(3))\n",
    "print(\"probUCdry_BVwet =\", probUCdry_BVwet.round(3))\n",
    "print(\"probUCwet_BVdry =\", probUCwet_BVdry.round(3))\n",
    "print(\"probUCwet_BVwet =\", probUCwet_BVwet.round(3))\n",
    "\n",
    "# create a 2x2 array of conditional probabilities\n",
    "UCBVarr = np.array([[probUCdry_BVdry.round(3),probUCdry_BVwet.round(3)],[probUCwet_BVdry.round(3),probUCwet_BVwet.round(3)]])\n",
    "UCBVarr\n",
    "# write array to csv\n",
    "np.savetxt(r\"C:\\Users\\b1043453\\OneDrive - Newcastle University\\OnePlanet PhD\\Random_mixing\\RMWSPy_Horning_and_Haese_2021\\RMWSPy-master\\MCRB_examples\\MCRB_gauges_only\\Characterising_P_statistics\\cond_wet_dry_prob_arrays\\UCBVarr.csv\", UCBVarr, delimiter=',')"
   ]
  },
  {
   "cell_type": "markdown",
   "id": "certain-detector",
   "metadata": {},
   "source": [
    "### Pair 11: Upper Clearing (1845 m) & Kananaskis Pocaterra (1610 m)"
   ]
  },
  {
   "cell_type": "code",
   "execution_count": 14,
   "id": "reflected-monte",
   "metadata": {},
   "outputs": [
    {
     "name": "stdout",
     "output_type": "stream",
     "text": [
      "UCprobdry = 0.719\n",
      "UCprobwet = 0.281\n",
      "KPprobdry = 0.424\n",
      "KPprobwet = 0.576\n",
      "probUCdry_KPdry = 0.305\n",
      "probUCdry_KPwet = 0.414\n",
      "probUCwet_KPdry = 0.119\n",
      "probUCwet_KPwet = 0.162\n"
     ]
    }
   ],
   "source": [
    "# Step 1\n",
    "# in general, probability of dry day = no of days with < 1.0mm of rain divided by the total number of days\n",
    "# and the probability of a wet day is 1 - the probability of a dry day!\n",
    "\n",
    "# UC\n",
    "UCprobdry = (allstnsP_df.UC_p_mm < 1.0).sum() / len(allstnsP_df)\n",
    "UCprobwet = 1 - UCprobdry\n",
    "# KP\n",
    "KPprobdry = (allstnsP_df.KP_p_mm < 1.0).sum() / len(allstnsP_df)\n",
    "KPprobwet = 1 - KPprobdry\n",
    "# print probabilities\n",
    "print(\"UCprobdry =\", UCprobdry.round(3))\n",
    "print(\"UCprobwet =\", UCprobwet.round(3))\n",
    "print(\"KPprobdry =\", KPprobdry.round(3))\n",
    "print(\"KPprobwet =\", KPprobwet.round(3))\n",
    "\n",
    "# Step 2\n",
    "# now calculate conditional probabilities\n",
    "probUCdry_KPdry = UCprobdry * KPprobdry\n",
    "probUCdry_KPwet = UCprobdry * KPprobwet\n",
    "probUCwet_KPdry = UCprobwet * KPprobdry\n",
    "probUCwet_KPwet = UCprobwet * KPprobwet\n",
    "# print conditional probabilities\n",
    "print(\"probUCdry_KPdry =\", probUCdry_KPdry.round(3))\n",
    "print(\"probUCdry_KPwet =\", probUCdry_KPwet.round(3))\n",
    "print(\"probUCwet_KPdry =\", probUCwet_KPdry.round(3))\n",
    "print(\"probUCwet_KPwet =\", probUCwet_KPwet.round(3))\n",
    "\n",
    "# create a 2x2 array of conditional probabilities\n",
    "UCKParr = np.array([[probUCdry_KPdry.round(3),probUCdry_KPwet.round(3)],[probUCwet_KPdry.round(3),probUCwet_KPwet.round(3)]])\n",
    "UCKParr\n",
    "# write array to csv\n",
    "np.savetxt(r\"C:\\Users\\b1043453\\OneDrive - Newcastle University\\OnePlanet PhD\\Random_mixing\\RMWSPy_Horning_and_Haese_2021\\RMWSPy-master\\MCRB_examples\\MCRB_gauges_only\\Characterising_P_statistics\\cond_wet_dry_prob_arrays\\UCKParr.csv\", UCKParr, delimiter=',')"
   ]
  },
  {
   "cell_type": "markdown",
   "id": "quality-analysis",
   "metadata": {},
   "source": [
    "### Pair 12: Upper Clearing (1845 m) & Banff CS (1397 m)"
   ]
  },
  {
   "cell_type": "code",
   "execution_count": 15,
   "id": "supreme-platinum",
   "metadata": {},
   "outputs": [
    {
     "name": "stdout",
     "output_type": "stream",
     "text": [
      "UCprobdry = 0.719\n",
      "UCprobwet = 0.281\n",
      "BCSprobdry = 0.747\n",
      "BCSprobwet = 0.253\n",
      "probUCdry_BCSdry = 0.537\n",
      "probUCdry_BCSwet = 0.182\n",
      "probUCwet_BCSdry = 0.21\n",
      "probUCwet_BCSwet = 0.071\n"
     ]
    }
   ],
   "source": [
    "# Step 1\n",
    "# in general, probability of dry day = no of days with < 1.0mm of rain divided by the total number of days\n",
    "# and the probability of a wet day is 1 - the probability of a dry day!\n",
    "\n",
    "# UC\n",
    "UCprobdry = (allstnsP_df.UC_p_mm < 1.0).sum() / len(allstnsP_df)\n",
    "UCprobwet = 1 - UCprobdry\n",
    "# BCS\n",
    "BCSprobdry = (allstnsP_df.BCS_p_mm < 1.0).sum() / len(allstnsP_df)\n",
    "BCSprobwet = 1 - BCSprobdry\n",
    "# print probabilities\n",
    "print(\"UCprobdry =\", UCprobdry.round(3))\n",
    "print(\"UCprobwet =\", UCprobwet.round(3))\n",
    "print(\"BCSprobdry =\", BCSprobdry.round(3))\n",
    "print(\"BCSprobwet =\", BCSprobwet.round(3))\n",
    "\n",
    "# Step 2\n",
    "# now calculate conditional probabilities\n",
    "probUCdry_BCSdry = UCprobdry * BCSprobdry\n",
    "probUCdry_BCSwet = UCprobdry * BCSprobwet\n",
    "probUCwet_BCSdry = UCprobwet * BCSprobdry\n",
    "probUCwet_BCSwet = UCprobwet * BCSprobwet\n",
    "# print conditional probabilities\n",
    "print(\"probUCdry_BCSdry =\", probUCdry_BCSdry.round(3))\n",
    "print(\"probUCdry_BCSwet =\", probUCdry_BCSwet.round(3))\n",
    "print(\"probUCwet_BCSdry =\", probUCwet_BCSdry.round(3))\n",
    "print(\"probUCwet_BCSwet =\", probUCwet_BCSwet.round(3))\n",
    "\n",
    "# create a 2x2 array of conditional probabilities\n",
    "UCBCSarr = np.array([[probUCdry_BCSdry.round(3),probUCdry_BCSwet.round(3)],[probUCwet_BCSdry.round(3),probUCwet_BCSwet.round(3)]])\n",
    "UCBCSarr\n",
    "# write array to csv\n",
    "np.savetxt(r\"C:\\Users\\b1043453\\OneDrive - Newcastle University\\OnePlanet PhD\\Random_mixing\\RMWSPy_Horning_and_Haese_2021\\RMWSPy-master\\MCRB_examples\\MCRB_gauges_only\\Characterising_P_statistics\\cond_wet_dry_prob_arrays\\UCBCSarr.csv\", UCBCSarr, delimiter=',')"
   ]
  },
  {
   "cell_type": "markdown",
   "id": "invisible-morocco",
   "metadata": {},
   "source": [
    "### Pair 13: Upper Clearing (1845 m) & Wildcat Hills (1268 m)"
   ]
  },
  {
   "cell_type": "code",
   "execution_count": 16,
   "id": "given-going",
   "metadata": {},
   "outputs": [
    {
     "name": "stdout",
     "output_type": "stream",
     "text": [
      "UCprobdry = 0.719\n",
      "UCprobwet = 0.281\n",
      "WHprobdry = 0.722\n",
      "WHprobwet = 0.278\n",
      "probUCdry_WHdry = 0.519\n",
      "probUCdry_WHwet = 0.2\n",
      "probUCwet_WHdry = 0.203\n",
      "probUCwet_WHwet = 0.078\n"
     ]
    }
   ],
   "source": [
    "# Step 1\n",
    "# in general, probability of dry day = no of days with < 1.0mm of rain divided by the total number of days\n",
    "# and the probability of a wet day is 1 - the probability of a dry day!\n",
    "\n",
    "# UC\n",
    "UCprobdry = (allstnsP_df.UC_p_mm < 1.0).sum() / len(allstnsP_df)\n",
    "UCprobwet = 1 - UCprobdry\n",
    "# WH\n",
    "WHprobdry = (allstnsP_df.WH_p_mm < 1.0).sum() / len(allstnsP_df)\n",
    "WHprobwet = 1 - WHprobdry\n",
    "# print probabilities\n",
    "print(\"UCprobdry =\", UCprobdry.round(3))\n",
    "print(\"UCprobwet =\", UCprobwet.round(3))\n",
    "print(\"WHprobdry =\", WHprobdry.round(3))\n",
    "print(\"WHprobwet =\", WHprobwet.round(3))\n",
    "\n",
    "# Step 2\n",
    "# now calculate conditional probabilities\n",
    "probUCdry_WHdry = UCprobdry * WHprobdry\n",
    "probUCdry_WHwet = UCprobdry * WHprobwet\n",
    "probUCwet_WHdry = UCprobwet * WHprobdry\n",
    "probUCwet_WHwet = UCprobwet * WHprobwet\n",
    "# print conditional probabilities\n",
    "print(\"probUCdry_WHdry =\", probUCdry_WHdry.round(3))\n",
    "print(\"probUCdry_WHwet =\", probUCdry_WHwet.round(3))\n",
    "print(\"probUCwet_WHdry =\", probUCwet_WHdry.round(3))\n",
    "print(\"probUCwet_WHwet =\", probUCwet_WHwet.round(3))\n",
    "\n",
    "# create a 2x2 array of conditional probabilities\n",
    "UCWHarr = np.array([[probUCdry_WHdry.round(3),probUCdry_WHwet.round(3)],[probUCwet_WHdry.round(3),probUCwet_WHwet.round(3)]])\n",
    "UCWHarr\n",
    "# write array to csv\n",
    "np.savetxt(r\"C:\\Users\\b1043453\\OneDrive - Newcastle University\\OnePlanet PhD\\Random_mixing\\RMWSPy_Horning_and_Haese_2021\\RMWSPy-master\\MCRB_examples\\MCRB_gauges_only\\Characterising_P_statistics\\cond_wet_dry_prob_arrays\\UCWHarr.csv\", UCWHarr, delimiter=',')"
   ]
  },
  {
   "cell_type": "markdown",
   "id": "shaped-majority",
   "metadata": {},
   "source": [
    "### Pair 14: Hay Meadow (1436 m) & Kananaskis (1391 m)"
   ]
  },
  {
   "cell_type": "code",
   "execution_count": 17,
   "id": "sudden-certificate",
   "metadata": {},
   "outputs": [
    {
     "name": "stdout",
     "output_type": "stream",
     "text": [
      "HMprobdry = 0.772\n",
      "HMprobwet = 0.228\n",
      "Kprobdry = 0.741\n",
      "Kprobwet = 0.259\n",
      "probHMdry_Kdry = 0.572\n",
      "probHMdry_Kwet = 0.2\n",
      "probHMwet_Kdry = 0.169\n",
      "probHMwet_Kwet = 0.059\n"
     ]
    }
   ],
   "source": [
    "# Step 1\n",
    "# in general, probability of dry day = no of days with < 1.0mm of rain divided by the total number of days\n",
    "# and the probability of a wet day is 1 - the probability of a dry day!\n",
    "\n",
    "# HM\n",
    "HMprobdry = (allstnsP_df.HM_p_mm < 1.0).sum() / len(allstnsP_df)\n",
    "HMprobwet = 1 - HMprobdry\n",
    "# K\n",
    "Kprobdry = (allstnsP_df.K_p_mm < 1.0).sum() / len(allstnsP_df)\n",
    "Kprobwet = 1 - Kprobdry\n",
    "# print probabilities\n",
    "print(\"HMprobdry =\", HMprobdry.round(3))\n",
    "print(\"HMprobwet =\", HMprobwet.round(3))\n",
    "print(\"Kprobdry =\", Kprobdry.round(3))\n",
    "print(\"Kprobwet =\", Kprobwet.round(3))\n",
    "\n",
    "# Step 2\n",
    "# now calculate conditional probabilities\n",
    "probHMdry_Kdry = HMprobdry * Kprobdry\n",
    "probHMdry_Kwet = HMprobdry * Kprobwet\n",
    "probHMwet_Kdry = HMprobwet * Kprobdry\n",
    "probHMwet_Kwet = HMprobwet * Kprobwet\n",
    "# print conditional probabilities\n",
    "print(\"probHMdry_Kdry =\", probHMdry_Kdry.round(3))\n",
    "print(\"probHMdry_Kwet =\", probHMdry_Kwet.round(3))\n",
    "print(\"probHMwet_Kdry =\", probHMwet_Kdry.round(3))\n",
    "print(\"probHMwet_Kwet =\", probHMwet_Kwet.round(3))\n",
    "\n",
    "# create a 2x2 array of conditional probabilities\n",
    "HMKarr = np.array([[probHMdry_Kdry.round(3),probHMdry_Kwet.round(3)],[probHMwet_Kdry.round(3),probHMwet_Kwet.round(3)]])\n",
    "HMKarr\n",
    "# write array to csv\n",
    "np.savetxt(r\"C:\\Users\\b1043453\\OneDrive - Newcastle University\\OnePlanet PhD\\Random_mixing\\RMWSPy_Horning_and_Haese_2021\\RMWSPy-master\\MCRB_examples\\MCRB_gauges_only\\Characterising_P_statistics\\cond_wet_dry_prob_arrays\\HMKarr.csv\", HMKarr, delimiter=',')"
   ]
  },
  {
   "cell_type": "markdown",
   "id": "stretch-basketball",
   "metadata": {},
   "source": [
    "### Pair 15: Hay Meadow (1436 m) & Bow Valley (1298 m)"
   ]
  },
  {
   "cell_type": "code",
   "execution_count": 18,
   "id": "final-administration",
   "metadata": {},
   "outputs": [
    {
     "name": "stdout",
     "output_type": "stream",
     "text": [
      "HMprobdry = 0.772\n",
      "HMprobwet = 0.228\n",
      "BVprobdry = 0.722\n",
      "BVprobwet = 0.278\n",
      "probHMdry_BVdry = 0.557\n",
      "probHMdry_BVwet = 0.215\n",
      "probHMwet_BVdry = 0.164\n",
      "probHMwet_BVwet = 0.063\n"
     ]
    }
   ],
   "source": [
    "# Step 1\n",
    "# in general, probability of dry day = no of days with < 1.0mm of rain divided by the total number of days\n",
    "# and the probability of a wet day is 1 - the probability of a dry day!\n",
    "\n",
    "# HM\n",
    "HMprobdry = (allstnsP_df.HM_p_mm < 1.0).sum() / len(allstnsP_df)\n",
    "HMprobwet = 1 - HMprobdry\n",
    "# BV\n",
    "BVprobdry = (allstnsP_df.BV_p_mm < 1.0).sum() / len(allstnsP_df)\n",
    "BVprobwet = 1 - BVprobdry\n",
    "# print probabilities\n",
    "print(\"HMprobdry =\", HMprobdry.round(3))\n",
    "print(\"HMprobwet =\", HMprobwet.round(3))\n",
    "print(\"BVprobdry =\", BVprobdry.round(3))\n",
    "print(\"BVprobwet =\", BVprobwet.round(3))\n",
    "\n",
    "# Step 2\n",
    "# now calculate conditional probabilities\n",
    "probHMdry_BVdry = HMprobdry * BVprobdry\n",
    "probHMdry_BVwet = HMprobdry * BVprobwet\n",
    "probHMwet_BVdry = HMprobwet * BVprobdry\n",
    "probHMwet_BVwet = HMprobwet * BVprobwet\n",
    "# print conditional probabilities\n",
    "print(\"probHMdry_BVdry =\", probHMdry_BVdry.round(3))\n",
    "print(\"probHMdry_BVwet =\", probHMdry_BVwet.round(3))\n",
    "print(\"probHMwet_BVdry =\", probHMwet_BVdry.round(3))\n",
    "print(\"probHMwet_BVwet =\", probHMwet_BVwet.round(3))\n",
    "\n",
    "# create a 2x2 array of conditional probabilities\n",
    "HMBVarr = np.array([[probHMdry_BVdry.round(3),probHMdry_BVwet.round(3)],[probHMwet_BVdry.round(3),probHMwet_BVwet.round(3)]])\n",
    "HMBVarr\n",
    "# write array to csv\n",
    "np.savetxt(r\"C:\\Users\\b1043453\\OneDrive - Newcastle University\\OnePlanet PhD\\Random_mixing\\RMWSPy_Horning_and_Haese_2021\\RMWSPy-master\\MCRB_examples\\MCRB_gauges_only\\Characterising_P_statistics\\cond_wet_dry_prob_arrays\\HMBVarr.csv\", HMBVarr, delimiter=',')"
   ]
  },
  {
   "cell_type": "markdown",
   "id": "right-decline",
   "metadata": {},
   "source": [
    "### Pair 16: Hay Meadow (1436 m) & Kananaskis Pocaterra (1610 m)"
   ]
  },
  {
   "cell_type": "code",
   "execution_count": 19,
   "id": "external-offense",
   "metadata": {},
   "outputs": [
    {
     "name": "stdout",
     "output_type": "stream",
     "text": [
      "HMprobdry = 0.772\n",
      "HMprobwet = 0.228\n",
      "KPprobdry = 0.424\n",
      "KPprobwet = 0.576\n",
      "probHMdry_KPdry = 0.328\n",
      "probHMdry_KPwet = 0.444\n",
      "probHMwet_KPdry = 0.097\n",
      "probHMwet_KPwet = 0.131\n"
     ]
    }
   ],
   "source": [
    "# Step 1\n",
    "# in general, probability of dry day = no of days with < 1.0mm of rain divided by the total number of days\n",
    "# and the probability of a wet day is 1 - the probability of a dry day!\n",
    "\n",
    "# HM\n",
    "HMprobdry = (allstnsP_df.HM_p_mm < 1.0).sum() / len(allstnsP_df)\n",
    "HMprobwet = 1 - HMprobdry\n",
    "# KP\n",
    "KPprobdry = (allstnsP_df.KP_p_mm < 1.0).sum() / len(allstnsP_df)\n",
    "KPprobwet = 1 - KPprobdry\n",
    "# print probabilities\n",
    "print(\"HMprobdry =\", HMprobdry.round(3))\n",
    "print(\"HMprobwet =\", HMprobwet.round(3))\n",
    "print(\"KPprobdry =\", KPprobdry.round(3))\n",
    "print(\"KPprobwet =\", KPprobwet.round(3))\n",
    "\n",
    "# Step 2\n",
    "# now calculate conditional probabilities\n",
    "probHMdry_KPdry = HMprobdry * KPprobdry\n",
    "probHMdry_KPwet = HMprobdry * KPprobwet\n",
    "probHMwet_KPdry = HMprobwet * KPprobdry\n",
    "probHMwet_KPwet = HMprobwet * KPprobwet\n",
    "# print conditional probabilities\n",
    "print(\"probHMdry_KPdry =\", probHMdry_KPdry.round(3))\n",
    "print(\"probHMdry_KPwet =\", probHMdry_KPwet.round(3))\n",
    "print(\"probHMwet_KPdry =\", probHMwet_KPdry.round(3))\n",
    "print(\"probHMwet_KPwet =\", probHMwet_KPwet.round(3))\n",
    "\n",
    "# create a 2x2 array of conditional probabilities\n",
    "HMKParr = np.array([[probHMdry_KPdry.round(3),probHMdry_KPwet.round(3)],[probHMwet_KPdry.round(3),probHMwet_KPwet.round(3)]])\n",
    "HMKParr\n",
    "# write array to csv\n",
    "np.savetxt(r\"C:\\Users\\b1043453\\OneDrive - Newcastle University\\OnePlanet PhD\\Random_mixing\\RMWSPy_Horning_and_Haese_2021\\RMWSPy-master\\MCRB_examples\\MCRB_gauges_only\\Characterising_P_statistics\\cond_wet_dry_prob_arrays\\HMKParr.csv\", HMKParr, delimiter=',')"
   ]
  },
  {
   "cell_type": "markdown",
   "id": "searching-recommendation",
   "metadata": {},
   "source": [
    "### Pair 17: Hay Meadow (1436 m) & Banff CS (1397 m)"
   ]
  },
  {
   "cell_type": "code",
   "execution_count": 20,
   "id": "difficult-package",
   "metadata": {},
   "outputs": [
    {
     "name": "stdout",
     "output_type": "stream",
     "text": [
      "HMprobdry = 0.772\n",
      "HMprobwet = 0.228\n",
      "BCSprobdry = 0.747\n",
      "BCSprobwet = 0.253\n",
      "probHMdry_BCSdry = 0.577\n",
      "probHMdry_BCSwet = 0.195\n",
      "probHMwet_BCSdry = 0.17\n",
      "probHMwet_BCSwet = 0.058\n"
     ]
    }
   ],
   "source": [
    "# Step 1\n",
    "# in general, probability of dry day = no of days with < 1.0mm of rain divided by the total number of days\n",
    "# and the probability of a wet day is 1 - the probability of a dry day!\n",
    "\n",
    "# HM\n",
    "HMprobdry = (allstnsP_df.HM_p_mm < 1.0).sum() / len(allstnsP_df)\n",
    "HMprobwet = 1 - HMprobdry\n",
    "# BCS\n",
    "BCSprobdry = (allstnsP_df.BCS_p_mm < 1.0).sum() / len(allstnsP_df)\n",
    "BCSprobwet = 1 - BCSprobdry\n",
    "# print probabilities\n",
    "print(\"HMprobdry =\", HMprobdry.round(3))\n",
    "print(\"HMprobwet =\", HMprobwet.round(3))\n",
    "print(\"BCSprobdry =\", BCSprobdry.round(3))\n",
    "print(\"BCSprobwet =\", BCSprobwet.round(3))\n",
    "\n",
    "# Step 2\n",
    "# now calculate conditional probabilities\n",
    "probHMdry_BCSdry = HMprobdry * BCSprobdry\n",
    "probHMdry_BCSwet = HMprobdry * BCSprobwet\n",
    "probHMwet_BCSdry = HMprobwet * BCSprobdry\n",
    "probHMwet_BCSwet = HMprobwet * BCSprobwet\n",
    "# print conditional probabilities\n",
    "print(\"probHMdry_BCSdry =\", probHMdry_BCSdry.round(3))\n",
    "print(\"probHMdry_BCSwet =\", probHMdry_BCSwet.round(3))\n",
    "print(\"probHMwet_BCSdry =\", probHMwet_BCSdry.round(3))\n",
    "print(\"probHMwet_BCSwet =\", probHMwet_BCSwet.round(3))\n",
    "\n",
    "# create a 2x2 array of conditional probabilities\n",
    "HMBCSarr = np.array([[probHMdry_BCSdry.round(3),probHMdry_BCSwet.round(3)],[probHMwet_BCSdry.round(3),probHMwet_BCSwet.round(3)]])\n",
    "HMBCSarr\n",
    "# write array to csv\n",
    "np.savetxt(r\"C:\\Users\\b1043453\\OneDrive - Newcastle University\\OnePlanet PhD\\Random_mixing\\RMWSPy_Horning_and_Haese_2021\\RMWSPy-master\\MCRB_examples\\MCRB_gauges_only\\Characterising_P_statistics\\cond_wet_dry_prob_arrays\\HMBCSarr.csv\", HMBCSarr, delimiter=',')"
   ]
  },
  {
   "cell_type": "markdown",
   "id": "previous-relations",
   "metadata": {},
   "source": [
    "### Pair 18: Hay Meadow (1436 m) & Wildcat Hills (1268 m)"
   ]
  },
  {
   "cell_type": "code",
   "execution_count": 21,
   "id": "aboriginal-supply",
   "metadata": {},
   "outputs": [
    {
     "name": "stdout",
     "output_type": "stream",
     "text": [
      "HMprobdry = 0.772\n",
      "HMprobwet = 0.228\n",
      "WHprobdry = 0.722\n",
      "WHprobwet = 0.278\n",
      "probHMdry_WHdry = 0.557\n",
      "probHMdry_WHwet = 0.215\n",
      "probHMwet_WHdry = 0.165\n",
      "probHMwet_WHwet = 0.063\n"
     ]
    }
   ],
   "source": [
    "# Step 1\n",
    "# in general, probability of dry day = no of days with < 1.0mm of rain divided by the total number of days\n",
    "# and the probability of a wet day is 1 - the probability of a dry day!\n",
    "\n",
    "# HM\n",
    "HMprobdry = (allstnsP_df.HM_p_mm < 1.0).sum() / len(allstnsP_df)\n",
    "HMprobwet = 1 - HMprobdry\n",
    "# WH\n",
    "WHprobdry = (allstnsP_df.WH_p_mm < 1.0).sum() / len(allstnsP_df)\n",
    "WHprobwet = 1 - WHprobdry\n",
    "# print probabilities\n",
    "print(\"HMprobdry =\", HMprobdry.round(3))\n",
    "print(\"HMprobwet =\", HMprobwet.round(3))\n",
    "print(\"WHprobdry =\", WHprobdry.round(3))\n",
    "print(\"WHprobwet =\", WHprobwet.round(3))\n",
    "\n",
    "# Step 2\n",
    "# now calculate conditional probabilities\n",
    "probHMdry_WHdry = HMprobdry * WHprobdry\n",
    "probHMdry_WHwet = HMprobdry * WHprobwet\n",
    "probHMwet_WHdry = HMprobwet * WHprobdry\n",
    "probHMwet_WHwet = HMprobwet * WHprobwet\n",
    "# print conditional probabilities\n",
    "print(\"probHMdry_WHdry =\", probHMdry_WHdry.round(3))\n",
    "print(\"probHMdry_WHwet =\", probHMdry_WHwet.round(3))\n",
    "print(\"probHMwet_WHdry =\", probHMwet_WHdry.round(3))\n",
    "print(\"probHMwet_WHwet =\", probHMwet_WHwet.round(3))\n",
    "\n",
    "# create a 2x2 array of conditional probabilities\n",
    "HMWHarr = np.array([[probHMdry_WHdry.round(3),probHMdry_WHwet.round(3)],[probHMwet_WHdry.round(3),probHMwet_WHwet.round(3)]])\n",
    "HMWHarr\n",
    "# write array to csv\n",
    "np.savetxt(r\"C:\\Users\\b1043453\\OneDrive - Newcastle University\\OnePlanet PhD\\Random_mixing\\RMWSPy_Horning_and_Haese_2021\\RMWSPy-master\\MCRB_examples\\MCRB_gauges_only\\Characterising_P_statistics\\cond_wet_dry_prob_arrays\\HMWHarr.csv\", HMWHarr, delimiter=',')"
   ]
  },
  {
   "cell_type": "markdown",
   "id": "orange-qualification",
   "metadata": {},
   "source": [
    "### Pair 19: Kananaskis (1391 m) & Bow Valley (1298 m)"
   ]
  },
  {
   "cell_type": "code",
   "execution_count": 22,
   "id": "convenient-inspector",
   "metadata": {},
   "outputs": [
    {
     "name": "stdout",
     "output_type": "stream",
     "text": [
      "Kprobdry = 0.741\n",
      "Kprobwet = 0.259\n",
      "BVprobdry = 0.722\n",
      "BVprobwet = 0.278\n",
      "probKdry_BVdry = 0.535\n",
      "probKdry_BVwet = 0.206\n",
      "probKwet_BVdry = 0.187\n",
      "probKwet_BVwet = 0.072\n"
     ]
    }
   ],
   "source": [
    "# Step 1\n",
    "# in general, probability of dry day = no of days with < 1.0mm of rain divided by the total number of days\n",
    "# and the probability of a wet day is 1 - the probability of a dry day!\n",
    "\n",
    "# K\n",
    "Kprobdry = (allstnsP_df.K_p_mm < 1.0).sum() / len(allstnsP_df)\n",
    "Kprobwet = 1 - Kprobdry\n",
    "# BV\n",
    "BVprobdry = (allstnsP_df.BV_p_mm < 1.0).sum() / len(allstnsP_df)\n",
    "BVprobwet = 1 - BVprobdry\n",
    "# print probabilities\n",
    "print(\"Kprobdry =\", Kprobdry.round(3))\n",
    "print(\"Kprobwet =\", Kprobwet.round(3))\n",
    "print(\"BVprobdry =\", BVprobdry.round(3))\n",
    "print(\"BVprobwet =\", BVprobwet.round(3))\n",
    "\n",
    "# Step 2\n",
    "# now calculate conditional probabilities\n",
    "probKdry_BVdry = Kprobdry * BVprobdry\n",
    "probKdry_BVwet = Kprobdry * BVprobwet\n",
    "probKwet_BVdry = Kprobwet * BVprobdry\n",
    "probKwet_BVwet = Kprobwet * BVprobwet\n",
    "# print conditional probabilities\n",
    "print(\"probKdry_BVdry =\", probKdry_BVdry.round(3))\n",
    "print(\"probKdry_BVwet =\", probKdry_BVwet.round(3))\n",
    "print(\"probKwet_BVdry =\", probKwet_BVdry.round(3))\n",
    "print(\"probKwet_BVwet =\", probKwet_BVwet.round(3))\n",
    "\n",
    "# create a 2x2 array of conditional probabilities\n",
    "KBVarr = np.array([[probKdry_BVdry.round(3),probKdry_BVwet.round(3)],[probKwet_BVdry.round(3),probKwet_BVwet.round(3)]])\n",
    "KBVarr\n",
    "# write array to csv\n",
    "np.savetxt(r\"C:\\Users\\b1043453\\OneDrive - Newcastle University\\OnePlanet PhD\\Random_mixing\\RMWSPy_Horning_and_Haese_2021\\RMWSPy-master\\MCRB_examples\\MCRB_gauges_only\\Characterising_P_statistics\\cond_wet_dry_prob_arrays\\KBVarr.csv\", KBVarr, delimiter=',')"
   ]
  },
  {
   "cell_type": "markdown",
   "id": "difficult-wealth",
   "metadata": {},
   "source": [
    "### Pair 20: Kananaskis (1391 m) & Kananaskis Pocaterra (1610 m)"
   ]
  },
  {
   "cell_type": "code",
   "execution_count": 23,
   "id": "united-printing",
   "metadata": {},
   "outputs": [
    {
     "name": "stdout",
     "output_type": "stream",
     "text": [
      "Kprobdry = 0.741\n",
      "Kprobwet = 0.259\n",
      "KPprobdry = 0.424\n",
      "KPprobwet = 0.576\n",
      "probKdry_KPdry = 0.315\n",
      "probKdry_KPwet = 0.426\n",
      "probKwet_KPdry = 0.11\n",
      "probKwet_KPwet = 0.149\n"
     ]
    }
   ],
   "source": [
    "# Step 1\n",
    "# in general, probability of dry day = no of days with < 1.0mm of rain divided by the total number of days\n",
    "# and the probability of a wet day is 1 - the probability of a dry day!\n",
    "\n",
    "# K\n",
    "Kprobdry = (allstnsP_df.K_p_mm < 1.0).sum() / len(allstnsP_df)\n",
    "Kprobwet = 1 - Kprobdry\n",
    "# KP\n",
    "KPprobdry = (allstnsP_df.KP_p_mm < 1.0).sum() / len(allstnsP_df)\n",
    "KPprobwet = 1 - KPprobdry\n",
    "# print probabilities\n",
    "print(\"Kprobdry =\", Kprobdry.round(3))\n",
    "print(\"Kprobwet =\", Kprobwet.round(3))\n",
    "print(\"KPprobdry =\", KPprobdry.round(3))\n",
    "print(\"KPprobwet =\", KPprobwet.round(3))\n",
    "\n",
    "# Step 2\n",
    "# now calculate conditional probabilities\n",
    "probKdry_KPdry = Kprobdry * KPprobdry\n",
    "probKdry_KPwet = Kprobdry * KPprobwet\n",
    "probKwet_KPdry = Kprobwet * KPprobdry\n",
    "probKwet_KPwet = Kprobwet * KPprobwet\n",
    "# print conditional probabilities\n",
    "print(\"probKdry_KPdry =\", probKdry_KPdry.round(3))\n",
    "print(\"probKdry_KPwet =\", probKdry_KPwet.round(3))\n",
    "print(\"probKwet_KPdry =\", probKwet_KPdry.round(3))\n",
    "print(\"probKwet_KPwet =\", probKwet_KPwet.round(3))\n",
    "\n",
    "# create a 2x2 array of conditional probabilities\n",
    "KKParr = np.array([[probKdry_KPdry.round(3),probKdry_KPwet.round(3)],[probKwet_KPdry.round(3),probKwet_KPwet.round(3)]])\n",
    "KKParr\n",
    "# write array to csv\n",
    "np.savetxt(r\"C:\\Users\\b1043453\\OneDrive - Newcastle University\\OnePlanet PhD\\Random_mixing\\RMWSPy_Horning_and_Haese_2021\\RMWSPy-master\\MCRB_examples\\MCRB_gauges_only\\Characterising_P_statistics\\cond_wet_dry_prob_arrays\\KKParr.csv\", KKParr, delimiter=',')"
   ]
  },
  {
   "cell_type": "markdown",
   "id": "light-baghdad",
   "metadata": {},
   "source": [
    "### Pair 21: Kananaskis (1391 m) & Banff CS (1397 m)"
   ]
  },
  {
   "cell_type": "code",
   "execution_count": 24,
   "id": "driven-nomination",
   "metadata": {},
   "outputs": [
    {
     "name": "stdout",
     "output_type": "stream",
     "text": [
      "Kprobdry = 0.741\n",
      "Kprobwet = 0.259\n",
      "BCSprobdry = 0.747\n",
      "BCSprobwet = 0.253\n",
      "probKdry_BCSdry = 0.553\n",
      "probKdry_BCSwet = 0.188\n",
      "probKwet_BCSdry = 0.193\n",
      "probKwet_BCSwet = 0.066\n"
     ]
    }
   ],
   "source": [
    "# Step 1\n",
    "# in general, probability of dry day = no of days with < 1.0mm of rain divided by the total number of days\n",
    "# and the probability of a wet day is 1 - the probability of a dry day!\n",
    "\n",
    "# K\n",
    "Kprobdry = (allstnsP_df.K_p_mm < 1.0).sum() / len(allstnsP_df)\n",
    "Kprobwet = 1 - Kprobdry\n",
    "# BCS\n",
    "BCSprobdry = (allstnsP_df.BCS_p_mm < 1.0).sum() / len(allstnsP_df)\n",
    "BCSprobwet = 1 - BCSprobdry\n",
    "# print probabilities\n",
    "print(\"Kprobdry =\", Kprobdry.round(3))\n",
    "print(\"Kprobwet =\", Kprobwet.round(3))\n",
    "print(\"BCSprobdry =\", BCSprobdry.round(3))\n",
    "print(\"BCSprobwet =\", BCSprobwet.round(3))\n",
    "\n",
    "# Step 2\n",
    "# now calculate conditional probabilities\n",
    "probKdry_BCSdry = Kprobdry * BCSprobdry\n",
    "probKdry_BCSwet = Kprobdry * BCSprobwet\n",
    "probKwet_BCSdry = Kprobwet * BCSprobdry\n",
    "probKwet_BCSwet = Kprobwet * BCSprobwet\n",
    "# print conditional probabilities\n",
    "print(\"probKdry_BCSdry =\", probKdry_BCSdry.round(3))\n",
    "print(\"probKdry_BCSwet =\", probKdry_BCSwet.round(3))\n",
    "print(\"probKwet_BCSdry =\", probKwet_BCSdry.round(3))\n",
    "print(\"probKwet_BCSwet =\", probKwet_BCSwet.round(3))\n",
    "\n",
    "# create a 2x2 array of conditional probabilities\n",
    "KBCSarr = np.array([[probKdry_BCSdry.round(3),probKdry_BCSwet.round(3)],[probKwet_BCSdry.round(3),probKwet_BCSwet.round(3)]])\n",
    "KBCSarr\n",
    "# write array to csv\n",
    "np.savetxt(r\"C:\\Users\\b1043453\\OneDrive - Newcastle University\\OnePlanet PhD\\Random_mixing\\RMWSPy_Horning_and_Haese_2021\\RMWSPy-master\\MCRB_examples\\MCRB_gauges_only\\Characterising_P_statistics\\cond_wet_dry_prob_arrays\\KBCSarr.csv\", KBCSarr, delimiter=',')"
   ]
  },
  {
   "cell_type": "markdown",
   "id": "grateful-shoulder",
   "metadata": {},
   "source": [
    "### Pair 22: Kananaskis (1391 m) & Wildcat Hills (1268 m)"
   ]
  },
  {
   "cell_type": "code",
   "execution_count": 25,
   "id": "downtown-leadership",
   "metadata": {},
   "outputs": [
    {
     "name": "stdout",
     "output_type": "stream",
     "text": [
      "Kprobdry = 0.741\n",
      "Kprobwet = 0.259\n",
      "WHprobdry = 0.722\n",
      "WHprobwet = 0.278\n",
      "probKdry_WHdry = 0.535\n",
      "probKdry_WHwet = 0.206\n",
      "probKwet_WHdry = 0.187\n",
      "probKwet_WHwet = 0.072\n"
     ]
    }
   ],
   "source": [
    "# Step 1\n",
    "# in general, probability of dry day = no of days with < 1.0mm of rain divided by the total number of days\n",
    "# and the probability of a wet day is 1 - the probability of a dry day!\n",
    "\n",
    "# K\n",
    "Kprobdry = (allstnsP_df.K_p_mm < 1.0).sum() / len(allstnsP_df)\n",
    "Kprobwet = 1 - Kprobdry\n",
    "# WH\n",
    "WHprobdry = (allstnsP_df.WH_p_mm < 1.0).sum() / len(allstnsP_df)\n",
    "WHprobwet = 1 - WHprobdry\n",
    "# print probabilities\n",
    "print(\"Kprobdry =\", Kprobdry.round(3))\n",
    "print(\"Kprobwet =\", Kprobwet.round(3))\n",
    "print(\"WHprobdry =\", WHprobdry.round(3))\n",
    "print(\"WHprobwet =\", WHprobwet.round(3))\n",
    "\n",
    "# Step 2\n",
    "# now calculate conditional probabilities\n",
    "probKdry_WHdry = Kprobdry * WHprobdry\n",
    "probKdry_WHwet = Kprobdry * WHprobwet\n",
    "probKwet_WHdry = Kprobwet * WHprobdry\n",
    "probKwet_WHwet = Kprobwet * WHprobwet\n",
    "# print conditional probabilities\n",
    "print(\"probKdry_WHdry =\", probKdry_WHdry.round(3))\n",
    "print(\"probKdry_WHwet =\", probKdry_WHwet.round(3))\n",
    "print(\"probKwet_WHdry =\", probKwet_WHdry.round(3))\n",
    "print(\"probKwet_WHwet =\", probKwet_WHwet.round(3))\n",
    "\n",
    "# create a 2x2 array of conditional probabilities\n",
    "KWHarr = np.array([[probKdry_WHdry.round(3),probKdry_WHwet.round(3)],[probKwet_WHdry.round(3),probKwet_WHwet.round(3)]])\n",
    "KWHarr\n",
    "# write array to csv\n",
    "np.savetxt(r\"C:\\Users\\b1043453\\OneDrive - Newcastle University\\OnePlanet PhD\\Random_mixing\\RMWSPy_Horning_and_Haese_2021\\RMWSPy-master\\MCRB_examples\\MCRB_gauges_only\\Characterising_P_statistics\\cond_wet_dry_prob_arrays\\KWHarr.csv\", KWHarr, delimiter=',')"
   ]
  },
  {
   "cell_type": "markdown",
   "id": "absent-livestock",
   "metadata": {},
   "source": [
    "### Pair 23: Bow Valley (1298 m) & Kananaskis Pocaterra (1610 m)"
   ]
  },
  {
   "cell_type": "code",
   "execution_count": 26,
   "id": "modern-brooklyn",
   "metadata": {},
   "outputs": [
    {
     "name": "stdout",
     "output_type": "stream",
     "text": [
      "BVprobdry = 0.722\n",
      "BVprobwet = 0.278\n",
      "KPprobdry = 0.424\n",
      "KPprobwet = 0.576\n",
      "probBVdry_KPdry = 0.306\n",
      "probBVdry_KPwet = 0.415\n",
      "probBVwet_KPdry = 0.118\n",
      "probBVwet_KPwet = 0.16\n"
     ]
    }
   ],
   "source": [
    "# Step 1\n",
    "# in general, probability of dry day = no of days with < 1.0mm of rain divided by the total number of days\n",
    "# and the probability of a wet day is 1 - the probability of a dry day!\n",
    "\n",
    "# BV\n",
    "BVprobdry = (allstnsP_df.BV_p_mm < 1.0).sum() / len(allstnsP_df)\n",
    "BVprobwet = 1 - BVprobdry\n",
    "# KP\n",
    "KPprobdry = (allstnsP_df.KP_p_mm < 1.0).sum() / len(allstnsP_df)\n",
    "KPprobwet = 1 - KPprobdry\n",
    "# print probabilities\n",
    "print(\"BVprobdry =\", BVprobdry.round(3))\n",
    "print(\"BVprobwet =\", BVprobwet.round(3))\n",
    "print(\"KPprobdry =\", KPprobdry.round(3))\n",
    "print(\"KPprobwet =\", KPprobwet.round(3))\n",
    "\n",
    "# Step 2\n",
    "# now calculate conditional probabilities\n",
    "probBVdry_KPdry = BVprobdry * KPprobdry\n",
    "probBVdry_KPwet = BVprobdry * KPprobwet\n",
    "probBVwet_KPdry = BVprobwet * KPprobdry\n",
    "probBVwet_KPwet = BVprobwet * KPprobwet\n",
    "# print conditional probabilities\n",
    "print(\"probBVdry_KPdry =\", probBVdry_KPdry.round(3))\n",
    "print(\"probBVdry_KPwet =\", probBVdry_KPwet.round(3))\n",
    "print(\"probBVwet_KPdry =\", probBVwet_KPdry.round(3))\n",
    "print(\"probBVwet_KPwet =\", probBVwet_KPwet.round(3))\n",
    "\n",
    "# create a 2x2 array of conditional probabilities\n",
    "BVKParr = np.array([[probBVdry_KPdry.round(3),probBVdry_KPwet.round(3)],[probBVwet_KPdry.round(3),probBVwet_KPwet.round(3)]])\n",
    "BVKParr\n",
    "# write array to csv\n",
    "np.savetxt(r\"C:\\Users\\b1043453\\OneDrive - Newcastle University\\OnePlanet PhD\\Random_mixing\\RMWSPy_Horning_and_Haese_2021\\RMWSPy-master\\MCRB_examples\\MCRB_gauges_only\\Characterising_P_statistics\\cond_wet_dry_prob_arrays\\BVKParr.csv\", BVKParr, delimiter=',')"
   ]
  },
  {
   "cell_type": "markdown",
   "id": "diagnostic-cable",
   "metadata": {},
   "source": [
    "### Pair 24: Bow Valley (1298 m) & Banff CS (1397 m)"
   ]
  },
  {
   "cell_type": "code",
   "execution_count": 27,
   "id": "informational-hormone",
   "metadata": {},
   "outputs": [
    {
     "name": "stdout",
     "output_type": "stream",
     "text": [
      "BVprobdry = 0.722\n",
      "BVprobwet = 0.278\n",
      "BCSprobdry = 0.747\n",
      "BCSprobwet = 0.253\n",
      "probBVdry_BCSdry = 0.539\n",
      "probBVdry_BCSwet = 0.183\n",
      "probBVwet_BCSdry = 0.208\n",
      "probBVwet_BCSwet = 0.07\n"
     ]
    }
   ],
   "source": [
    "# Step 1\n",
    "# in general, probability of dry day = no of days with < 1.0mm of rain divided by the total number of days\n",
    "# and the probability of a wet day is 1 - the probability of a dry day!\n",
    "\n",
    "# BV\n",
    "BVprobdry = (allstnsP_df.BV_p_mm < 1.0).sum() / len(allstnsP_df)\n",
    "BVprobwet = 1 - BVprobdry\n",
    "# BCS\n",
    "BCSprobdry = (allstnsP_df.BCS_p_mm < 1.0).sum() / len(allstnsP_df)\n",
    "BCSprobwet = 1 - BCSprobdry\n",
    "# print probabilities\n",
    "print(\"BVprobdry =\", BVprobdry.round(3))\n",
    "print(\"BVprobwet =\", BVprobwet.round(3))\n",
    "print(\"BCSprobdry =\", BCSprobdry.round(3))\n",
    "print(\"BCSprobwet =\", BCSprobwet.round(3))\n",
    "\n",
    "# Step 2\n",
    "# now calculate conditional probabilities\n",
    "probBVdry_BCSdry = BVprobdry * BCSprobdry\n",
    "probBVdry_BCSwet = BVprobdry * BCSprobwet\n",
    "probBVwet_BCSdry = BVprobwet * BCSprobdry\n",
    "probBVwet_BCSwet = BVprobwet * BCSprobwet\n",
    "# print conditional probabilities\n",
    "print(\"probBVdry_BCSdry =\", probBVdry_BCSdry.round(3))\n",
    "print(\"probBVdry_BCSwet =\", probBVdry_BCSwet.round(3))\n",
    "print(\"probBVwet_BCSdry =\", probBVwet_BCSdry.round(3))\n",
    "print(\"probBVwet_BCSwet =\", probBVwet_BCSwet.round(3))\n",
    "\n",
    "# create a 2x2 array of conditional probabilities\n",
    "BVBCSarr = np.array([[probBVdry_BCSdry.round(3),probBVdry_BCSwet.round(3)],[probBVwet_BCSdry.round(3),probBVwet_BCSwet.round(3)]])\n",
    "BVBCSarr\n",
    "# write array to csv\n",
    "np.savetxt(r\"C:\\Users\\b1043453\\OneDrive - Newcastle University\\OnePlanet PhD\\Random_mixing\\RMWSPy_Horning_and_Haese_2021\\RMWSPy-master\\MCRB_examples\\MCRB_gauges_only\\Characterising_P_statistics\\cond_wet_dry_prob_arrays\\BVBCSarr.csv\", BVBCSarr, delimiter=',')"
   ]
  },
  {
   "cell_type": "markdown",
   "id": "equal-capitol",
   "metadata": {},
   "source": [
    "### Pair 25: Bow Valley (1298 m) & Wildcat Hills (1268 m)"
   ]
  },
  {
   "cell_type": "code",
   "execution_count": 28,
   "id": "determined-teacher",
   "metadata": {},
   "outputs": [
    {
     "name": "stdout",
     "output_type": "stream",
     "text": [
      "BVprobdry = 0.722\n",
      "BVprobwet = 0.278\n",
      "WHprobdry = 0.722\n",
      "WHprobwet = 0.278\n",
      "probBVdry_WHdry = 0.521\n",
      "probBVdry_WHwet = 0.201\n",
      "probBVwet_WHdry = 0.201\n",
      "probBVwet_WHwet = 0.077\n"
     ]
    }
   ],
   "source": [
    "# Step 1\n",
    "# in general, probability of dry day = no of days with < 1.0mm of rain divided by the total number of days\n",
    "# and the probability of a wet day is 1 - the probability of a dry day!\n",
    "\n",
    "# BV\n",
    "BVprobdry = (allstnsP_df.BV_p_mm < 1.0).sum() / len(allstnsP_df)\n",
    "BVprobwet = 1 - BVprobdry\n",
    "# WH\n",
    "WHprobdry = (allstnsP_df.WH_p_mm < 1.0).sum() / len(allstnsP_df)\n",
    "WHprobwet = 1 - WHprobdry\n",
    "# print probabilities\n",
    "print(\"BVprobdry =\", BVprobdry.round(3))\n",
    "print(\"BVprobwet =\", BVprobwet.round(3))\n",
    "print(\"WHprobdry =\", WHprobdry.round(3))\n",
    "print(\"WHprobwet =\", WHprobwet.round(3))\n",
    "\n",
    "# Step 2\n",
    "# now calculate conditional probabilities\n",
    "probBVdry_WHdry = BVprobdry * WHprobdry\n",
    "probBVdry_WHwet = BVprobdry * WHprobwet\n",
    "probBVwet_WHdry = BVprobwet * WHprobdry\n",
    "probBVwet_WHwet = BVprobwet * WHprobwet\n",
    "# print conditional probabilities\n",
    "print(\"probBVdry_WHdry =\", probBVdry_WHdry.round(3))\n",
    "print(\"probBVdry_WHwet =\", probBVdry_WHwet.round(3))\n",
    "print(\"probBVwet_WHdry =\", probBVwet_WHdry.round(3))\n",
    "print(\"probBVwet_WHwet =\", probBVwet_WHwet.round(3))\n",
    "\n",
    "# create a 2x2 array of conditional probabilities\n",
    "BVWHarr = np.array([[probBVdry_WHdry.round(3),probBVdry_WHwet.round(3)],[probBVwet_WHdry.round(3),probBVwet_WHwet.round(3)]])\n",
    "BVWHarr\n",
    "# write array to csv\n",
    "np.savetxt(r\"C:\\Users\\b1043453\\OneDrive - Newcastle University\\OnePlanet PhD\\Random_mixing\\RMWSPy_Horning_and_Haese_2021\\RMWSPy-master\\MCRB_examples\\MCRB_gauges_only\\Characterising_P_statistics\\cond_wet_dry_prob_arrays\\BVWHarr.csv\", BVWHarr, delimiter=',')"
   ]
  },
  {
   "cell_type": "markdown",
   "id": "proof-panama",
   "metadata": {},
   "source": [
    "### Pair 26: Kananaskis Pocaterra (1610 m) & Banff CS (1397 m)"
   ]
  },
  {
   "cell_type": "code",
   "execution_count": 29,
   "id": "plain-fiber",
   "metadata": {},
   "outputs": [
    {
     "name": "stdout",
     "output_type": "stream",
     "text": [
      "KPprobdry = 0.424\n",
      "KPprobwet = 0.576\n",
      "BCSprobdry = 0.747\n",
      "BCSprobwet = 0.253\n",
      "probKPdry_BCSdry = 0.317\n",
      "probKPdry_BCSwet = 0.107\n",
      "probKPwet_BCSdry = 0.43\n",
      "probKPwet_BCSwet = 0.146\n"
     ]
    }
   ],
   "source": [
    "# Step 1\n",
    "# in general, probability of dry day = no of days with < 1.0mm of rain divided by the total number of days\n",
    "# and the probability of a wet day is 1 - the probability of a dry day!\n",
    "\n",
    "# KP\n",
    "KPprobdry = (allstnsP_df.KP_p_mm < 1.0).sum() / len(allstnsP_df)\n",
    "KPprobwet = 1 - KPprobdry\n",
    "# BCS\n",
    "BCSprobdry = (allstnsP_df.BCS_p_mm < 1.0).sum() / len(allstnsP_df)\n",
    "BCSprobwet = 1 - BCSprobdry\n",
    "# print probabilities\n",
    "print(\"KPprobdry =\", KPprobdry.round(3))\n",
    "print(\"KPprobwet =\", KPprobwet.round(3))\n",
    "print(\"BCSprobdry =\", BCSprobdry.round(3))\n",
    "print(\"BCSprobwet =\", BCSprobwet.round(3))\n",
    "\n",
    "# Step 2\n",
    "# now calculate conditional probabilities\n",
    "probKPdry_BCSdry = KPprobdry * BCSprobdry\n",
    "probKPdry_BCSwet = KPprobdry * BCSprobwet\n",
    "probKPwet_BCSdry = KPprobwet * BCSprobdry\n",
    "probKPwet_BCSwet = KPprobwet * BCSprobwet\n",
    "# print conditional probabilities\n",
    "print(\"probKPdry_BCSdry =\", probKPdry_BCSdry.round(3))\n",
    "print(\"probKPdry_BCSwet =\", probKPdry_BCSwet.round(3))\n",
    "print(\"probKPwet_BCSdry =\", probKPwet_BCSdry.round(3))\n",
    "print(\"probKPwet_BCSwet =\", probKPwet_BCSwet.round(3))\n",
    "\n",
    "# create a 2x2 array of conditional probabilities\n",
    "KPBCSarr = np.array([[probKPdry_BCSdry.round(3),probKPdry_BCSwet.round(3)],[probKPwet_BCSdry.round(3),probKPwet_BCSwet.round(3)]])\n",
    "KPBCSarr\n",
    "# write array to csv\n",
    "np.savetxt(r\"C:\\Users\\b1043453\\OneDrive - Newcastle University\\OnePlanet PhD\\Random_mixing\\RMWSPy_Horning_and_Haese_2021\\RMWSPy-master\\MCRB_examples\\MCRB_gauges_only\\Characterising_P_statistics\\cond_wet_dry_prob_arrays\\KPBCSarr.csv\", KPBCSarr, delimiter=',')"
   ]
  },
  {
   "cell_type": "markdown",
   "id": "split-mortality",
   "metadata": {},
   "source": [
    "### Pair 27: Kananskis Pocaterra (1610 m) & Wildcat Hills (1268 m)"
   ]
  },
  {
   "cell_type": "code",
   "execution_count": 30,
   "id": "terminal-poultry",
   "metadata": {},
   "outputs": [
    {
     "name": "stdout",
     "output_type": "stream",
     "text": [
      "KPprobdry = 0.424\n",
      "KPprobwet = 0.576\n",
      "WHprobdry = 0.722\n",
      "WHprobwet = 0.278\n",
      "probKPdry_WHdry = 0.306\n",
      "probKPdry_WHwet = 0.118\n",
      "probKPwet_WHdry = 0.415\n",
      "probKPwet_WHwet = 0.16\n"
     ]
    }
   ],
   "source": [
    "# Step 1\n",
    "# in general, probability of dry day = no of days with < 1.0mm of rain divided by the total number of days\n",
    "# and the probability of a wet day is 1 - the probability of a dry day!\n",
    "\n",
    "# KP\n",
    "KPprobdry = (allstnsP_df.KP_p_mm < 1.0).sum() / len(allstnsP_df)\n",
    "KPprobwet = 1 - KPprobdry\n",
    "# WH\n",
    "WHprobdry = (allstnsP_df.WH_p_mm < 1.0).sum() / len(allstnsP_df)\n",
    "WHprobwet = 1 - WHprobdry\n",
    "# print probabilities\n",
    "print(\"KPprobdry =\", KPprobdry.round(3))\n",
    "print(\"KPprobwet =\", KPprobwet.round(3))\n",
    "print(\"WHprobdry =\", WHprobdry.round(3))\n",
    "print(\"WHprobwet =\", WHprobwet.round(3))\n",
    "\n",
    "# Step 2\n",
    "# now calculate conditional probabilities\n",
    "probKPdry_WHdry = KPprobdry * WHprobdry\n",
    "probKPdry_WHwet = KPprobdry * WHprobwet\n",
    "probKPwet_WHdry = KPprobwet * WHprobdry\n",
    "probKPwet_WHwet = KPprobwet * WHprobwet\n",
    "# print conditional probabilities\n",
    "print(\"probKPdry_WHdry =\", probKPdry_WHdry.round(3))\n",
    "print(\"probKPdry_WHwet =\", probKPdry_WHwet.round(3))\n",
    "print(\"probKPwet_WHdry =\", probKPwet_WHdry.round(3))\n",
    "print(\"probKPwet_WHwet =\", probKPwet_WHwet.round(3))\n",
    "\n",
    "# create a 2x2 array of conditional probabilities\n",
    "KPWHarr = np.array([[probKPdry_WHdry.round(3),probKPdry_WHwet.round(3)],[probKPwet_WHdry.round(3),probKPwet_WHwet.round(3)]])\n",
    "KPWHarr\n",
    "# write array to csv\n",
    "np.savetxt(r\"C:\\Users\\b1043453\\OneDrive - Newcastle University\\OnePlanet PhD\\Random_mixing\\RMWSPy_Horning_and_Haese_2021\\RMWSPy-master\\MCRB_examples\\MCRB_gauges_only\\Characterising_P_statistics\\cond_wet_dry_prob_arrays\\KPWHarr.csv\", KPWHarr, delimiter=',')"
   ]
  },
  {
   "cell_type": "markdown",
   "id": "hairy-master",
   "metadata": {},
   "source": [
    "### Pair 28: Banff CS (1397 m) & Wildcat Hills (1268 m)"
   ]
  },
  {
   "cell_type": "code",
   "execution_count": 31,
   "id": "fifty-person",
   "metadata": {},
   "outputs": [
    {
     "name": "stdout",
     "output_type": "stream",
     "text": [
      "BCSprobdry = 0.747\n",
      "BCSprobwet = 0.253\n",
      "WHprobdry = 0.722\n",
      "WHprobwet = 0.278\n",
      "probBCSdry_WHdry = 0.539\n",
      "probBCSdry_WHwet = 0.208\n",
      "probBCSwet_WHdry = 0.183\n",
      "probBCSwet_WHwet = 0.07\n"
     ]
    }
   ],
   "source": [
    "# Step 1\n",
    "# in general, probability of dry day = no of days with < 1.0mm of rain divided by the total number of days\n",
    "# and the probability of a wet day is 1 - the probability of a dry day!\n",
    "\n",
    "# BCS\n",
    "BCSprobdry = (allstnsP_df.BCS_p_mm < 1.0).sum() / len(allstnsP_df)\n",
    "BCSprobwet = 1 - BCSprobdry\n",
    "# WH\n",
    "WHprobdry = (allstnsP_df.WH_p_mm < 1.0).sum() / len(allstnsP_df)\n",
    "WHprobwet = 1 - WHprobdry\n",
    "# print probabilities\n",
    "print(\"BCSprobdry =\", BCSprobdry.round(3))\n",
    "print(\"BCSprobwet =\", BCSprobwet.round(3))\n",
    "print(\"WHprobdry =\", WHprobdry.round(3))\n",
    "print(\"WHprobwet =\", WHprobwet.round(3))\n",
    "\n",
    "# Step 2\n",
    "# now calculate conditional probabilities\n",
    "probBCSdry_WHdry = BCSprobdry * WHprobdry\n",
    "probBCSdry_WHwet = BCSprobdry * WHprobwet\n",
    "probBCSwet_WHdry = BCSprobwet * WHprobdry\n",
    "probBCSwet_WHwet = BCSprobwet * WHprobwet\n",
    "# print conditional probabilities\n",
    "print(\"probBCSdry_WHdry =\", probBCSdry_WHdry.round(3))\n",
    "print(\"probBCSdry_WHwet =\", probBCSdry_WHwet.round(3))\n",
    "print(\"probBCSwet_WHdry =\", probBCSwet_WHdry.round(3))\n",
    "print(\"probBCSwet_WHwet =\", probBCSwet_WHwet.round(3))\n",
    "\n",
    "# create a 2x2 array of conditional probabilities\n",
    "BCSWHarr = np.array([[probBCSdry_WHdry.round(3),probBCSdry_WHwet.round(3)],[probBCSwet_WHdry.round(3),probBCSwet_WHwet.round(3)]])\n",
    "BCSWHarr\n",
    "# write array to csv\n",
    "np.savetxt(r\"C:\\Users\\b1043453\\OneDrive - Newcastle University\\OnePlanet PhD\\Random_mixing\\RMWSPy_Horning_and_Haese_2021\\RMWSPy-master\\MCRB_examples\\MCRB_gauges_only\\Characterising_P_statistics\\cond_wet_dry_prob_arrays\\BCSWHarr.csv\", BCSWHarr, delimiter=',')"
   ]
  },
  {
   "cell_type": "markdown",
   "id": "electronic-whale",
   "metadata": {},
   "source": [
    "### Focus on stations with separation distance <= 20000 m: FR, UC, HM, K, BV"
   ]
  },
  {
   "cell_type": "code",
   "execution_count": 32,
   "id": "sought-living",
   "metadata": {},
   "outputs": [
    {
     "data": {
      "text/plain": [
       "array([[0.454, 0.177],\n",
       "       [0.265, 0.104]])"
      ]
     },
     "execution_count": 32,
     "metadata": {},
     "output_type": "execute_result"
    }
   ],
   "source": [
    "# FRUC 2020 m\n",
    "FRUCarr"
   ]
  },
  {
   "cell_type": "code",
   "execution_count": 33,
   "id": "short-taylor",
   "metadata": {},
   "outputs": [
    {
     "data": {
      "text/plain": [
       "array([[0.555, 0.164],\n",
       "       [0.217, 0.064]])"
      ]
     },
     "execution_count": 33,
     "metadata": {},
     "output_type": "execute_result"
    }
   ],
   "source": [
    "# UCHM 2910 m\n",
    "UCHMarr"
   ]
  },
  {
   "cell_type": "code",
   "execution_count": 34,
   "id": "controlled-athens",
   "metadata": {},
   "outputs": [
    {
     "data": {
      "text/plain": [
       "array([[0.487, 0.144],\n",
       "       [0.285, 0.084]])"
      ]
     },
     "execution_count": 34,
     "metadata": {},
     "output_type": "execute_result"
    }
   ],
   "source": [
    "# FRHM = 4770 m\n",
    "FRHMarr"
   ]
  },
  {
   "cell_type": "code",
   "execution_count": 35,
   "id": "metric-shape",
   "metadata": {},
   "outputs": [
    {
     "data": {
      "text/plain": [
       "array([[0.535, 0.206],\n",
       "       [0.187, 0.072]])"
      ]
     },
     "execution_count": 35,
     "metadata": {},
     "output_type": "execute_result"
    }
   ],
   "source": [
    "# KBV 6600 m\n",
    "KBVarr"
   ]
  },
  {
   "cell_type": "code",
   "execution_count": 36,
   "id": "final-power",
   "metadata": {},
   "outputs": [
    {
     "data": {
      "text/plain": [
       "array([[0.533, 0.186],\n",
       "       [0.208, 0.073]])"
      ]
     },
     "execution_count": 36,
     "metadata": {},
     "output_type": "execute_result"
    }
   ],
   "source": [
    "# UCK 12650 m\n",
    "UCKarr"
   ]
  },
  {
   "cell_type": "code",
   "execution_count": 37,
   "id": "seventh-porcelain",
   "metadata": {},
   "outputs": [
    {
     "data": {
      "text/plain": [
       "array([[0.519, 0.2  ],\n",
       "       [0.203, 0.078]])"
      ]
     },
     "execution_count": 37,
     "metadata": {},
     "output_type": "execute_result"
    }
   ],
   "source": [
    "# UCBV 16040 m\n",
    "UCBVarr"
   ]
  },
  {
   "cell_type": "code",
   "execution_count": 38,
   "id": "going-proposition",
   "metadata": {},
   "outputs": [
    {
     "data": {
      "text/plain": [
       "array([[0.557, 0.215],\n",
       "       [0.164, 0.063]])"
      ]
     },
     "execution_count": 38,
     "metadata": {},
     "output_type": "execute_result"
    }
   ],
   "source": [
    "# HMBV 16300 m\n",
    "HMBVarr"
   ]
  },
  {
   "cell_type": "code",
   "execution_count": 39,
   "id": "active-motor",
   "metadata": {},
   "outputs": [
    {
     "data": {
      "text/plain": [
       "array([[0.455, 0.176],\n",
       "       [0.266, 0.103]])"
      ]
     },
     "execution_count": 39,
     "metadata": {},
     "output_type": "execute_result"
    }
   ],
   "source": [
    "# FRBV 17140 m\n",
    "FRBVarr"
   ]
  },
  {
   "cell_type": "markdown",
   "id": "tired-authentication",
   "metadata": {},
   "source": [
    "### Create a df of cond wet dry probabilities for these stations"
   ]
  },
  {
   "cell_type": "code",
   "execution_count": 40,
   "id": "organic-respondent",
   "metadata": {},
   "outputs": [
    {
     "data": {
      "text/plain": [
       "[['FRUC', 2020, 0.454, 0.177, 0.265, 0.104],\n",
       " ['UCHM', 2910, 0.555, 0.164, 0.217, 0.064],\n",
       " ['FRHM', 4770, 0.487, 0.144, 0.285, 0.084],\n",
       " ['KBV', 6600, 0.535, 0.206, 0.187, 0.072],\n",
       " ['UCK', 12650, 0.533, 0.186, 0.208, 0.073],\n",
       " ['UCBV', 16040, 0.519, 0.2, 0.203, 0.078],\n",
       " ['HMBV', 16300, 0.557, 0.215, 0.164, 0.063],\n",
       " ['FRBV', 17140, 0.455, 0.176, 0.266, 0.103]]"
      ]
     },
     "execution_count": 40,
     "metadata": {},
     "output_type": "execute_result"
    }
   ],
   "source": [
    "# step 1: initialise my lists\n",
    "probs = [[\"FRUC\", 2020, probFRdry_UCdry.round(3), probFRdry_UCwet.round(3), \n",
    "          probFRwet_UCdry.round(3), probFRwet_UCwet.round(3)],\n",
    "         [\"UCHM\", 2910, probUCdry_HMdry.round(3), probUCdry_HMwet.round(3), \n",
    "          probUCwet_HMdry.round(3), probUCwet_HMwet.round(3)],\n",
    "         [\"FRHM\", 4770, probFRdry_HMdry.round(3), probFRdry_HMwet.round(3), \n",
    "          probFRwet_HMdry.round(3), probFRwet_HMwet.round(3)],\n",
    "         [\"KBV\", 6600, probKdry_BVdry.round(3), probKdry_BVwet.round(3), \n",
    "          probKwet_BVdry.round(3), probKwet_BVwet.round(3)],\n",
    "         [\"UCK\", 12650, probUCdry_Kdry.round(3), probUCdry_Kwet.round(3), \n",
    "          probUCwet_Kdry.round(3), probUCwet_Kwet.round(3)],\n",
    "         [\"UCBV\", 16040, probUCdry_BVdry.round(3), probUCdry_BVwet.round(3), \n",
    "          probUCwet_BVdry.round(3), probUCwet_BVwet.round(3)],\n",
    "         [\"HMBV\", 16300, probHMdry_BVdry.round(3), probHMdry_BVwet.round(3), \n",
    "          probHMwet_BVdry.round(3), probHMwet_BVwet.round(3)],\n",
    "         [\"FRBV\", 17140, probFRdry_BVdry.round(3), probFRdry_BVwet.round(3), \n",
    "          probFRwet_BVdry.round(3), probFRwet_BVwet.round(3)]]\n",
    "probs"
   ]
  },
  {
   "cell_type": "code",
   "execution_count": 41,
   "id": "indoor-collaboration",
   "metadata": {},
   "outputs": [
    {
     "data": {
      "text/html": [
       "<div>\n",
       "<style scoped>\n",
       "    .dataframe tbody tr th:only-of-type {\n",
       "        vertical-align: middle;\n",
       "    }\n",
       "\n",
       "    .dataframe tbody tr th {\n",
       "        vertical-align: top;\n",
       "    }\n",
       "\n",
       "    .dataframe thead th {\n",
       "        text-align: right;\n",
       "    }\n",
       "</style>\n",
       "<table border=\"1\" class=\"dataframe\">\n",
       "  <thead>\n",
       "    <tr style=\"text-align: right;\">\n",
       "      <th></th>\n",
       "      <th>station_pair</th>\n",
       "      <th>separation_distance_m</th>\n",
       "      <th>prob_dry-dry</th>\n",
       "      <th>prob_dry-wet</th>\n",
       "      <th>prob_wet-dry</th>\n",
       "      <th>prob_wet-wet</th>\n",
       "    </tr>\n",
       "  </thead>\n",
       "  <tbody>\n",
       "    <tr>\n",
       "      <th>0</th>\n",
       "      <td>FRUC</td>\n",
       "      <td>2020</td>\n",
       "      <td>0.454</td>\n",
       "      <td>0.177</td>\n",
       "      <td>0.265</td>\n",
       "      <td>0.104</td>\n",
       "    </tr>\n",
       "    <tr>\n",
       "      <th>1</th>\n",
       "      <td>UCHM</td>\n",
       "      <td>2910</td>\n",
       "      <td>0.555</td>\n",
       "      <td>0.164</td>\n",
       "      <td>0.217</td>\n",
       "      <td>0.064</td>\n",
       "    </tr>\n",
       "    <tr>\n",
       "      <th>2</th>\n",
       "      <td>FRHM</td>\n",
       "      <td>4770</td>\n",
       "      <td>0.487</td>\n",
       "      <td>0.144</td>\n",
       "      <td>0.285</td>\n",
       "      <td>0.084</td>\n",
       "    </tr>\n",
       "    <tr>\n",
       "      <th>3</th>\n",
       "      <td>KBV</td>\n",
       "      <td>6600</td>\n",
       "      <td>0.535</td>\n",
       "      <td>0.206</td>\n",
       "      <td>0.187</td>\n",
       "      <td>0.072</td>\n",
       "    </tr>\n",
       "    <tr>\n",
       "      <th>4</th>\n",
       "      <td>UCK</td>\n",
       "      <td>12650</td>\n",
       "      <td>0.533</td>\n",
       "      <td>0.186</td>\n",
       "      <td>0.208</td>\n",
       "      <td>0.073</td>\n",
       "    </tr>\n",
       "    <tr>\n",
       "      <th>5</th>\n",
       "      <td>UCBV</td>\n",
       "      <td>16040</td>\n",
       "      <td>0.519</td>\n",
       "      <td>0.200</td>\n",
       "      <td>0.203</td>\n",
       "      <td>0.078</td>\n",
       "    </tr>\n",
       "    <tr>\n",
       "      <th>6</th>\n",
       "      <td>HMBV</td>\n",
       "      <td>16300</td>\n",
       "      <td>0.557</td>\n",
       "      <td>0.215</td>\n",
       "      <td>0.164</td>\n",
       "      <td>0.063</td>\n",
       "    </tr>\n",
       "    <tr>\n",
       "      <th>7</th>\n",
       "      <td>FRBV</td>\n",
       "      <td>17140</td>\n",
       "      <td>0.455</td>\n",
       "      <td>0.176</td>\n",
       "      <td>0.266</td>\n",
       "      <td>0.103</td>\n",
       "    </tr>\n",
       "  </tbody>\n",
       "</table>\n",
       "</div>"
      ],
      "text/plain": [
       "  station_pair  separation_distance_m  prob_dry-dry  prob_dry-wet  \\\n",
       "0         FRUC                   2020         0.454         0.177   \n",
       "1         UCHM                   2910         0.555         0.164   \n",
       "2         FRHM                   4770         0.487         0.144   \n",
       "3          KBV                   6600         0.535         0.206   \n",
       "4          UCK                  12650         0.533         0.186   \n",
       "5         UCBV                  16040         0.519         0.200   \n",
       "6         HMBV                  16300         0.557         0.215   \n",
       "7         FRBV                  17140         0.455         0.176   \n",
       "\n",
       "   prob_wet-dry  prob_wet-wet  \n",
       "0         0.265         0.104  \n",
       "1         0.217         0.064  \n",
       "2         0.285         0.084  \n",
       "3         0.187         0.072  \n",
       "4         0.208         0.073  \n",
       "5         0.203         0.078  \n",
       "6         0.164         0.063  \n",
       "7         0.266         0.103  "
      ]
     },
     "execution_count": 41,
     "metadata": {},
     "output_type": "execute_result"
    }
   ],
   "source": [
    "# step 2: create df from lists\n",
    "probs_df = pd.DataFrame(probs, columns = [\"station_pair\", \"separation_distance_m\", \"prob_dry-dry\", \"prob_dry-wet\",\n",
    "                                          \"prob_wet-dry\", \"prob_wet-wet\"])\n",
    "# probs_df.set_index(\"station_pair\", inplace=True)\n",
    "probs_df"
   ]
  },
  {
   "cell_type": "code",
   "execution_count": 42,
   "id": "former-parliament",
   "metadata": {},
   "outputs": [
    {
     "data": {
      "text/html": [
       "<div>\n",
       "<style scoped>\n",
       "    .dataframe tbody tr th:only-of-type {\n",
       "        vertical-align: middle;\n",
       "    }\n",
       "\n",
       "    .dataframe tbody tr th {\n",
       "        vertical-align: top;\n",
       "    }\n",
       "\n",
       "    .dataframe thead th {\n",
       "        text-align: right;\n",
       "    }\n",
       "</style>\n",
       "<table border=\"1\" class=\"dataframe\">\n",
       "  <thead>\n",
       "    <tr style=\"text-align: right;\">\n",
       "      <th></th>\n",
       "      <th>separation_distance_m</th>\n",
       "      <th>prob_dry-dry</th>\n",
       "      <th>prob_dry-wet</th>\n",
       "      <th>prob_wet-dry</th>\n",
       "      <th>prob_wet-wet</th>\n",
       "    </tr>\n",
       "  </thead>\n",
       "  <tbody>\n",
       "    <tr>\n",
       "      <th>count</th>\n",
       "      <td>8.000</td>\n",
       "      <td>8.000</td>\n",
       "      <td>8.000</td>\n",
       "      <td>8.000</td>\n",
       "      <td>8.000</td>\n",
       "    </tr>\n",
       "    <tr>\n",
       "      <th>mean</th>\n",
       "      <td>9803.750</td>\n",
       "      <td>0.512</td>\n",
       "      <td>0.184</td>\n",
       "      <td>0.224</td>\n",
       "      <td>0.080</td>\n",
       "    </tr>\n",
       "    <tr>\n",
       "      <th>std</th>\n",
       "      <td>6400.078</td>\n",
       "      <td>0.042</td>\n",
       "      <td>0.023</td>\n",
       "      <td>0.043</td>\n",
       "      <td>0.016</td>\n",
       "    </tr>\n",
       "    <tr>\n",
       "      <th>min</th>\n",
       "      <td>2020.000</td>\n",
       "      <td>0.454</td>\n",
       "      <td>0.144</td>\n",
       "      <td>0.164</td>\n",
       "      <td>0.063</td>\n",
       "    </tr>\n",
       "    <tr>\n",
       "      <th>25%</th>\n",
       "      <td>4305.000</td>\n",
       "      <td>0.479</td>\n",
       "      <td>0.173</td>\n",
       "      <td>0.199</td>\n",
       "      <td>0.070</td>\n",
       "    </tr>\n",
       "    <tr>\n",
       "      <th>50%</th>\n",
       "      <td>9625.000</td>\n",
       "      <td>0.526</td>\n",
       "      <td>0.182</td>\n",
       "      <td>0.212</td>\n",
       "      <td>0.076</td>\n",
       "    </tr>\n",
       "    <tr>\n",
       "      <th>75%</th>\n",
       "      <td>16105.000</td>\n",
       "      <td>0.540</td>\n",
       "      <td>0.202</td>\n",
       "      <td>0.265</td>\n",
       "      <td>0.089</td>\n",
       "    </tr>\n",
       "    <tr>\n",
       "      <th>max</th>\n",
       "      <td>17140.000</td>\n",
       "      <td>0.557</td>\n",
       "      <td>0.215</td>\n",
       "      <td>0.285</td>\n",
       "      <td>0.104</td>\n",
       "    </tr>\n",
       "  </tbody>\n",
       "</table>\n",
       "</div>"
      ],
      "text/plain": [
       "       separation_distance_m  prob_dry-dry  prob_dry-wet  prob_wet-dry  \\\n",
       "count                  8.000         8.000         8.000         8.000   \n",
       "mean                9803.750         0.512         0.184         0.224   \n",
       "std                 6400.078         0.042         0.023         0.043   \n",
       "min                 2020.000         0.454         0.144         0.164   \n",
       "25%                 4305.000         0.479         0.173         0.199   \n",
       "50%                 9625.000         0.526         0.182         0.212   \n",
       "75%                16105.000         0.540         0.202         0.265   \n",
       "max                17140.000         0.557         0.215         0.285   \n",
       "\n",
       "       prob_wet-wet  \n",
       "count         8.000  \n",
       "mean          0.080  \n",
       "std           0.016  \n",
       "min           0.063  \n",
       "25%           0.070  \n",
       "50%           0.076  \n",
       "75%           0.089  \n",
       "max           0.104  "
      ]
     },
     "execution_count": 42,
     "metadata": {},
     "output_type": "execute_result"
    }
   ],
   "source": [
    "probs_df.describe().round(3)"
   ]
  },
  {
   "cell_type": "code",
   "execution_count": null,
   "id": "invisible-nutrition",
   "metadata": {},
   "outputs": [],
   "source": []
  },
  {
   "cell_type": "code",
   "execution_count": 54,
   "id": "compressed-vertex",
   "metadata": {},
   "outputs": [
    {
     "data": {
      "image/png": "[encoded data removed]",
      "text/plain": [
       "<Figure size 432x288 with 1 Axes>"
      ]
     },
     "metadata": {
      "needs_background": "light"
     },
     "output_type": "display_data"
    }
   ],
   "source": [
    "boxplot = probs_df.boxplot(column=['prob_dry-dry', 'prob_dry-wet', 'prob_wet-dry', 'prob_wet-wet'])"
   ]
  }
 ],
 "metadata": {
  "kernelspec": {
   "display_name": "Python 3",
   "language": "python",
   "name": "python3"
  },
  "language_info": {
   "codemirror_mode": {
    "name": "ipython",
    "version": 3
   },
   "file_extension": ".py",
   "mimetype": "text/x-python",
   "name": "python",
   "nbconvert_exporter": "python",
   "pygments_lexer": "ipython3",
   "version": "3.6.5"
  }
 },
 "nbformat": 4,
 "nbformat_minor": 5
}
