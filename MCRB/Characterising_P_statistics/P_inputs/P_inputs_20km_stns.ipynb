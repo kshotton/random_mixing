{
 "cells": [
  {
   "cell_type": "markdown",
   "id": "persistent-draft",
   "metadata": {},
   "source": [
    "### Create precipitation input csv files for RMWSPy code:  run_inv.py\n",
    "### All stations in 20km radius of FR: Fisera Ridge, Upper Clearing, Hay Meadow, Kananaskis, Bow Valley\n",
    "### Read in inputs to Pandas dataframe\n",
    "### Concatenate and write them into one csv file"
   ]
  },
  {
   "cell_type": "code",
   "execution_count": 1,
   "id": "russian-intro",
   "metadata": {},
   "outputs": [],
   "source": [
    "import numpy as np\n",
    "import pandas as pd\n",
    "import math\n",
    "import scipy as st\n",
    "import scipy.stats as stats\n",
    "import matplotlib.pyplot as plt\n",
    "%matplotlib inline"
   ]
  },
  {
   "cell_type": "markdown",
   "id": "dental-inspector",
   "metadata": {},
   "source": [
    "### Fisera Ridge 2325 m"
   ]
  },
  {
   "cell_type": "code",
   "execution_count": 2,
   "id": "modern-thriller",
   "metadata": {},
   "outputs": [],
   "source": [
    "# Use pd.read_csv to read csv file\n",
    "FRP_df = pd.read_csv(r\"C:\\Users\\b1043453\\OneDrive - Newcastle University\\OnePlanet PhD\\Hydrological_Modelling\\Marmot_Creek_Research_Basin\\Version 02\\Meteorology\\Recent_modelling_data\\time_series_inputs\\FRdailyprecip.csv\", \n",
    "                            header=None, names= [\"date\", \"FR_p_mm\"])\n",
    "FRP_df.set_index(\"date\", inplace=True)\n",
    "# FRP_df.head()"
   ]
  },
  {
   "cell_type": "markdown",
   "id": "handy-ecology",
   "metadata": {},
   "source": [
    "### Upper Clearing 1845 m"
   ]
  },
  {
   "cell_type": "code",
   "execution_count": 3,
   "id": "compressed-pepper",
   "metadata": {},
   "outputs": [],
   "source": [
    "# Use pd.read_csv to read csv file\n",
    "UCP_df = pd.read_csv(r\"C:\\Users\\b1043453\\OneDrive - Newcastle University\\OnePlanet PhD\\Hydrological_Modelling\\Marmot_Creek_Research_Basin\\Version 02\\Meteorology\\Recent_modelling_data\\time_series_inputs\\UCdailyprecip.csv\", \n",
    "                            header=None, names= [\"date\", \"UC_p_mm\"])\n",
    "UCP_df.set_index(\"date\", inplace=True)\n",
    "# UCP_df.head()"
   ]
  },
  {
   "cell_type": "markdown",
   "id": "hawaiian-specification",
   "metadata": {},
   "source": [
    "### Hay Meadow 1436 m"
   ]
  },
  {
   "cell_type": "code",
   "execution_count": 4,
   "id": "fluid-berry",
   "metadata": {},
   "outputs": [],
   "source": [
    "# Use pd.read_csv to read csv file\n",
    "HMP_df = pd.read_csv(r\"C:\\Users\\b1043453\\OneDrive - Newcastle University\\OnePlanet PhD\\Hydrological_Modelling\\Marmot_Creek_Research_Basin\\Version 02\\Meteorology\\Recent_modelling_data\\time_series_inputs\\HMdailyprecip.csv\", \n",
    "                            header=None, names= [\"date\", \"HM_p_mm\"])\n",
    "HMP_df.set_index(\"date\", inplace=True)\n",
    "# HMP_df.head()"
   ]
  },
  {
   "cell_type": "markdown",
   "id": "bored-hunger",
   "metadata": {},
   "source": [
    "### Kananaskis 1391.1 m"
   ]
  },
  {
   "cell_type": "code",
   "execution_count": 5,
   "id": "enormous-retail",
   "metadata": {},
   "outputs": [],
   "source": [
    "# Use pd.read_csv to read csv file\n",
    "KP_df = pd.read_csv(r\"C:\\Users\\b1043453\\OneDrive - Newcastle University\\OnePlanet PhD\\Hydrological_Modelling\\Marmot_Creek_Research_Basin\\Other_stations_within_50km\\Kananaskis\\en_climate_daily_AB_3053600_2005-2016_P1D.csv\", \n",
    "                               header=[0])\n",
    "# rename cols\n",
    "KP_df.rename(columns={'Date/Time': 'date', 'Total Precip (mm)': 'K_p_mm'}, inplace=True) # rename date column\n",
    "# set date index\n",
    "KP_df.set_index(\"date\", inplace=True)\n",
    "# change datetime format to YMD\n",
    "KP_df.index = pd.to_datetime(KP_df.index, format = '%d/%m/%Y').strftime('%Y-%m-%d')\n",
    "# KP_df"
   ]
  },
  {
   "cell_type": "code",
   "execution_count": 6,
   "id": "sharing-native",
   "metadata": {},
   "outputs": [],
   "source": [
    "# drop unwanted columns\n",
    "KP_df.drop([\"Longitude (x)\", \"Latitude (y)\", \"Station Name\", \"Climate ID\", \"Year\", \"Month\",\n",
    "                      \"Day\", \"Data Quality\", \"Max Temp (°C)\", \"Max Temp Flag\", \"Min Temp (°C)\", \"Min Temp Flag\",\n",
    "                      \"Mean Temp (°C)\", \"Mean Temp Flag\", \"Heat Deg Days (°C)\", \"Heat Deg Days Flag\", \"Cool Deg Days (°C)\",\n",
    "                       \"Cool Deg Days Flag\", \"Total Rain (mm)\", \"Total Rain Flag\", \"Total Snow (cm)\", \"Total Snow Flag\",\n",
    "                       \"Total Precip Flag\", \"Snow on Grnd (cm)\", \"Snow on Grnd Flag\", \"Dir of Max Gust (10s deg)\",\n",
    "                       \"Dir of Max Gust Flag\", \"Spd of Max Gust (km/h)\", \"Spd of Max Gust Flag\"], axis=1, inplace=True)\n",
    "# KP_df              "
   ]
  },
  {
   "cell_type": "code",
   "execution_count": 7,
   "id": "moral-class",
   "metadata": {},
   "outputs": [
    {
     "data": {
      "text/plain": [
       "14"
      ]
     },
     "execution_count": 7,
     "metadata": {},
     "output_type": "execute_result"
    }
   ],
   "source": [
    "# check for missing values\n",
    "KP_df.isna().values.sum()"
   ]
  },
  {
   "cell_type": "code",
   "execution_count": 8,
   "id": "sapphire-assistant",
   "metadata": {},
   "outputs": [],
   "source": [
    "# replace missing values with NaN\n",
    "KP_df[\"K_p_mm\"].fillna(\"NaN\", inplace = True)\n",
    "# KP_df"
   ]
  },
  {
   "cell_type": "code",
   "execution_count": 9,
   "id": "powered-webmaster",
   "metadata": {},
   "outputs": [],
   "source": [
    "# KP_df[KP_df.iloc[:, 0]=='NaN']"
   ]
  },
  {
   "cell_type": "code",
   "execution_count": 10,
   "id": "spread-maximum",
   "metadata": {},
   "outputs": [],
   "source": [
    "# drop 1st Jan to 30th Sep 2005 (MCRB inputs start at 1st Oct 2005)\n",
    "KP_df.drop(KP_df.loc[\"2005-01-01\":\"2005-09-30\"].index, inplace=True)\n",
    "# KP_df.head()\n",
    "# drop 2nd Oct to 31st Dec 2016 (MCRB inputs end at 1st Oct 2016)\n",
    "KP_df.drop(KP_df.loc[\"2016-10-02\":\"2016-12-31\"].index, inplace=True)\n",
    "# KP_df.tail()"
   ]
  },
  {
   "cell_type": "markdown",
   "id": "compound-radical",
   "metadata": {},
   "source": [
    "### Bow Valley 1297.5 m"
   ]
  },
  {
   "cell_type": "code",
   "execution_count": 11,
   "id": "innocent-killer",
   "metadata": {},
   "outputs": [],
   "source": [
    "# Use pd.read_csv to read csv file\n",
    "BVP_df = pd.read_csv(r\"C:\\Users\\b1043453\\OneDrive - Newcastle University\\OnePlanet PhD\\Hydrological_Modelling\\Marmot_Creek_Research_Basin\\Other_stations_within_50km\\Bow_Valley\\en_climate_daily_AB_3050778_2005-2016_P1D.csv\", \n",
    "                               header=[0])\n",
    "# rename cols\n",
    "BVP_df.rename(columns={'Date/Time': 'date', 'Total Precip (mm)': 'BV_p_mm'}, inplace=True) # rename date column\n",
    "# set date index\n",
    "BVP_df.set_index(\"date\", inplace=True)\n",
    "# change datetime format to YMD\n",
    "BVP_df.index = pd.to_datetime(BVP_df.index, format = '%d/%m/%Y').strftime('%Y-%m-%d')\n",
    "# BVP_df"
   ]
  },
  {
   "cell_type": "code",
   "execution_count": 12,
   "id": "headed-enemy",
   "metadata": {},
   "outputs": [],
   "source": [
    "# drop unwanted columns\n",
    "BVP_df.drop([\"Longitude (x)\", \"Latitude (y)\", \"Station Name\", \"Climate ID\", \"Year\", \"Month\",\n",
    "                      \"Day\", \"Data Quality\", \"Max Temp (°C)\", \"Max Temp Flag\", \"Min Temp (°C)\", \"Min Temp Flag\",\n",
    "                      \"Mean Temp (°C)\", \"Mean Temp Flag\", \"Heat Deg Days (°C)\", \"Heat Deg Days Flag\", \"Cool Deg Days (°C)\",\n",
    "                       \"Cool Deg Days Flag\", \"Total Rain (mm)\", \"Total Rain Flag\", \"Total Snow (cm)\", \"Total Snow Flag\",\n",
    "                       \"Total Precip Flag\", \"Snow on Grnd (cm)\", \"Snow on Grnd Flag\", \"Dir of Max Gust (10s deg)\",\n",
    "                       \"Dir of Max Gust Flag\", \"Spd of Max Gust (km/h)\", \"Spd of Max Gust Flag\"], axis=1, inplace=True)\n",
    "# BVP_df                       "
   ]
  },
  {
   "cell_type": "code",
   "execution_count": 13,
   "id": "artificial-shooting",
   "metadata": {},
   "outputs": [
    {
     "data": {
      "text/plain": [
       "173"
      ]
     },
     "execution_count": 13,
     "metadata": {},
     "output_type": "execute_result"
    }
   ],
   "source": [
    "# check for missing values\n",
    "BVP_df.isna().values.sum()"
   ]
  },
  {
   "cell_type": "code",
   "execution_count": 14,
   "id": "african-reminder",
   "metadata": {},
   "outputs": [],
   "source": [
    "# # find cols with missing values\n",
    "# BVP_df[BVP_df.iloc[:, 0]=='NaN']"
   ]
  },
  {
   "cell_type": "code",
   "execution_count": 15,
   "id": "polyphonic-salad",
   "metadata": {},
   "outputs": [],
   "source": [
    "# replace missing values with NaN\n",
    "BVP_df[\"BV_p_mm\"].fillna(\"NaN\", inplace = True)"
   ]
  },
  {
   "cell_type": "code",
   "execution_count": 16,
   "id": "innovative-forge",
   "metadata": {},
   "outputs": [],
   "source": [
    "# drop 1st Jan to 30th Sep 2005 (MCRB inputs start at 1st Oct 2005)\n",
    "BVP_df.drop(BVP_df.loc[\"2005-01-01\":\"2005-09-30\"].index, inplace=True)\n",
    "# drop 2nd Oct to 31st Dec 2016 (MCRB inputs end at 1st Oct 2016)\n",
    "BVP_df.drop(BVP_df.loc[\"2016-10-02\":\"2016-12-31\"].index, inplace=True)\n",
    "# BVP_df"
   ]
  },
  {
   "cell_type": "markdown",
   "id": "tired-excerpt",
   "metadata": {},
   "source": [
    "### Concatenate the station dataframes in order of elevation (highest to lowest)"
   ]
  },
  {
   "cell_type": "code",
   "execution_count": 17,
   "id": "unusual-friday",
   "metadata": {},
   "outputs": [
    {
     "data": {
      "text/html": [
       "<div>\n",
       "<style scoped>\n",
       "    .dataframe tbody tr th:only-of-type {\n",
       "        vertical-align: middle;\n",
       "    }\n",
       "\n",
       "    .dataframe tbody tr th {\n",
       "        vertical-align: top;\n",
       "    }\n",
       "\n",
       "    .dataframe thead th {\n",
       "        text-align: right;\n",
       "    }\n",
       "</style>\n",
       "<table border=\"1\" class=\"dataframe\">\n",
       "  <thead>\n",
       "    <tr style=\"text-align: right;\">\n",
       "      <th></th>\n",
       "      <th>FR_p_mm</th>\n",
       "      <th>UC_p_mm</th>\n",
       "      <th>HM_p_mm</th>\n",
       "      <th>K_p_mm</th>\n",
       "      <th>BV_p_mm</th>\n",
       "    </tr>\n",
       "    <tr>\n",
       "      <th>date</th>\n",
       "      <th></th>\n",
       "      <th></th>\n",
       "      <th></th>\n",
       "      <th></th>\n",
       "      <th></th>\n",
       "    </tr>\n",
       "  </thead>\n",
       "  <tbody>\n",
       "    <tr>\n",
       "      <th>2005-10-01</th>\n",
       "      <td>16.0160</td>\n",
       "      <td>11.3028</td>\n",
       "      <td>7.3722</td>\n",
       "      <td>0</td>\n",
       "      <td>10.4</td>\n",
       "    </tr>\n",
       "    <tr>\n",
       "      <th>2005-10-02</th>\n",
       "      <td>0.0000</td>\n",
       "      <td>0.0000</td>\n",
       "      <td>0.0000</td>\n",
       "      <td>0.4</td>\n",
       "      <td>0</td>\n",
       "    </tr>\n",
       "    <tr>\n",
       "      <th>2005-10-03</th>\n",
       "      <td>0.7649</td>\n",
       "      <td>0.5399</td>\n",
       "      <td>0.0000</td>\n",
       "      <td>1.2</td>\n",
       "      <td>0.2</td>\n",
       "    </tr>\n",
       "    <tr>\n",
       "      <th>2005-10-04</th>\n",
       "      <td>0.5463</td>\n",
       "      <td>0.3855</td>\n",
       "      <td>0.0000</td>\n",
       "      <td>0</td>\n",
       "      <td>0.4</td>\n",
       "    </tr>\n",
       "    <tr>\n",
       "      <th>2005-10-05</th>\n",
       "      <td>0.0896</td>\n",
       "      <td>0.0633</td>\n",
       "      <td>0.0000</td>\n",
       "      <td>0</td>\n",
       "      <td>0</td>\n",
       "    </tr>\n",
       "    <tr>\n",
       "      <th>...</th>\n",
       "      <td>...</td>\n",
       "      <td>...</td>\n",
       "      <td>...</td>\n",
       "      <td>...</td>\n",
       "      <td>...</td>\n",
       "    </tr>\n",
       "    <tr>\n",
       "      <th>2016-09-27</th>\n",
       "      <td>0.9676</td>\n",
       "      <td>0.0000</td>\n",
       "      <td>0.0000</td>\n",
       "      <td>0</td>\n",
       "      <td>0</td>\n",
       "    </tr>\n",
       "    <tr>\n",
       "      <th>2016-09-28</th>\n",
       "      <td>0.0894</td>\n",
       "      <td>0.0000</td>\n",
       "      <td>0.0000</td>\n",
       "      <td>0</td>\n",
       "      <td>0</td>\n",
       "    </tr>\n",
       "    <tr>\n",
       "      <th>2016-09-29</th>\n",
       "      <td>0.0000</td>\n",
       "      <td>0.0000</td>\n",
       "      <td>0.0000</td>\n",
       "      <td>0</td>\n",
       "      <td>0</td>\n",
       "    </tr>\n",
       "    <tr>\n",
       "      <th>2016-09-30</th>\n",
       "      <td>1.6435</td>\n",
       "      <td>1.2649</td>\n",
       "      <td>0.5463</td>\n",
       "      <td>10.6</td>\n",
       "      <td>0</td>\n",
       "    </tr>\n",
       "    <tr>\n",
       "      <th>2016-10-01</th>\n",
       "      <td>0.0000</td>\n",
       "      <td>0.0000</td>\n",
       "      <td>0.0000</td>\n",
       "      <td>7.6</td>\n",
       "      <td>15.4</td>\n",
       "    </tr>\n",
       "  </tbody>\n",
       "</table>\n",
       "<p>4019 rows × 5 columns</p>\n",
       "</div>"
      ],
      "text/plain": [
       "            FR_p_mm  UC_p_mm  HM_p_mm K_p_mm BV_p_mm\n",
       "date                                                \n",
       "2005-10-01  16.0160  11.3028   7.3722      0    10.4\n",
       "2005-10-02   0.0000   0.0000   0.0000    0.4       0\n",
       "2005-10-03   0.7649   0.5399   0.0000    1.2     0.2\n",
       "2005-10-04   0.5463   0.3855   0.0000      0     0.4\n",
       "2005-10-05   0.0896   0.0633   0.0000      0       0\n",
       "...             ...      ...      ...    ...     ...\n",
       "2016-09-27   0.9676   0.0000   0.0000      0       0\n",
       "2016-09-28   0.0894   0.0000   0.0000      0       0\n",
       "2016-09-29   0.0000   0.0000   0.0000      0       0\n",
       "2016-09-30   1.6435   1.2649   0.5463   10.6       0\n",
       "2016-10-01   0.0000   0.0000   0.0000    7.6    15.4\n",
       "\n",
       "[4019 rows x 5 columns]"
      ]
     },
     "execution_count": 17,
     "metadata": {},
     "output_type": "execute_result"
    }
   ],
   "source": [
    "allstnsP_df = pd.concat([FRP_df, UCP_df, HMP_df, KP_df, BVP_df], axis=1, join=\"outer\")\n",
    "allstnsP_df"
   ]
  },
  {
   "cell_type": "markdown",
   "id": "happy-techno",
   "metadata": {},
   "source": [
    "### Write dataframe to csv (Note: opening csv file in Excel shows the wrong date format (dmy) but this is an Excel glitch - ignore it!)"
   ]
  },
  {
   "cell_type": "code",
   "execution_count": 19,
   "id": "vocational-average",
   "metadata": {},
   "outputs": [],
   "source": [
    "allstnsP_df.to_csv(r\"C:\\Users\\b1043453\\OneDrive - Newcastle University\\OnePlanet PhD\\Random_mixing\\RMWSPy_Horning_and_Haese_2021\\RMWSPy-master\\MCRB_examples\\MCRB_gauges_only\\Characterising_P_statistics\\Pinputs_20km_stns.csv\")"
   ]
  },
  {
   "cell_type": "markdown",
   "id": "portuguese-consumption",
   "metadata": {},
   "source": [
    "### Write dataframe to a different csv that will be used in run_inv.py to calculate probability of zero p (P0)"
   ]
  },
  {
   "cell_type": "code",
   "execution_count": 19,
   "id": "proved-printing",
   "metadata": {},
   "outputs": [],
   "source": [
    "allstnsP_df.to_csv(r\"C:\\Users\\b1043453\\OneDrive - Newcastle University\\OnePlanet PhD\\Random_mixing\\RMWSPy_Horning_and_Haese_2021\\RMWSPy-master\\MCRB_examples\\MCRB_gauges_only\\all_stations_20km\\input_data\\P0inputs_20km_stns.csv\", index=False, header=None)"
   ]
  }
 ],
 "metadata": {
  "kernelspec": {
   "display_name": "Python 3",
   "language": "python",
   "name": "python3"
  },
  "language_info": {
   "codemirror_mode": {
    "name": "ipython",
    "version": 3
   },
   "file_extension": ".py",
   "mimetype": "text/x-python",
   "name": "python",
   "nbconvert_exporter": "python",
   "pygments_lexer": "ipython3",
   "version": "3.6.5"
  }
 },
 "nbformat": 4,
 "nbformat_minor": 5
}
