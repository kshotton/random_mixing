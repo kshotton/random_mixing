{
 "cells": [
  {
   "cell_type": "markdown",
   "id": "stainless-airport",
   "metadata": {},
   "source": [
    "## Run cml example code using P and CML input data from Horning & Haese paper"
   ]
  },
  {
   "cell_type": "markdown",
   "id": "amateur-treasury",
   "metadata": {},
   "source": [
    "### np.random.seed(121); nfields = 20; optmethod = 'no_n-l_constraints', i.e. new fields are simulated using rain gauge input data only (in run_inv.py line 187); minObj = 0.4, i.e. inversion terminates when RMSE (the objective function) value reaches 0.4; maxiter = 300, i.e. max no of iterations = 300"
   ]
  },
  {
   "cell_type": "code",
   "execution_count": 3,
   "id": "conditional-disclaimer",
   "metadata": {},
   "outputs": [
    {
     "name": "stdout",
     "output_type": "stream",
     "text": [
      "prec [2.28375033e+00 5.55546172e-01 3.36171896e-02 6.41062781e-01\n",
      " 0.00000000e+00 5.66170774e-01 2.48142242e-04 0.00000000e+00\n",
      " 0.00000000e+00 0.00000000e+00 2.63356091e-02 0.00000000e+00\n",
      " 0.00000000e+00 0.00000000e+00 0.00000000e+00 1.39056385e-03\n",
      " 0.00000000e+00 0.00000000e+00 0.00000000e+00 0.00000000e+00\n",
      " 0.00000000e+00 0.00000000e+00 0.00000000e+00 0.00000000e+00\n",
      " 0.00000000e+00 0.00000000e+00 0.00000000e+00 0.00000000e+00\n",
      " 0.00000000e+00 0.00000000e+00 0.00000000e+00 0.00000000e+00\n",
      " 0.00000000e+00 0.00000000e+00 0.00000000e+00 0.00000000e+00\n",
      " 0.00000000e+00 0.00000000e+00 0.00000000e+00 2.16407989e-04\n",
      " 0.00000000e+00 0.00000000e+00 0.00000000e+00 0.00000000e+00\n",
      " 0.00000000e+00 0.00000000e+00 0.00000000e+00 0.00000000e+00\n",
      " 2.91745120e-03 0.00000000e+00 0.00000000e+00 0.00000000e+00\n",
      " 0.00000000e+00 0.00000000e+00 0.00000000e+00 0.00000000e+00\n",
      " 0.00000000e+00 0.00000000e+00 0.00000000e+00 0.00000000e+00\n",
      " 0.00000000e+00 0.00000000e+00 0.00000000e+00 0.00000000e+00\n",
      " 0.00000000e+00 0.00000000e+00 0.00000000e+00 0.00000000e+00\n",
      " 0.00000000e+00 0.00000000e+00 0.00000000e+00]\n"
     ]
    },
    {
     "ename": "SystemExit",
     "evalue": "That'll do - stop there!",
     "output_type": "error",
     "traceback": [
      "An exception has occurred, use %tb to see the full traceback.\n",
      "\u001b[1;31mSystemExit\u001b[0m\u001b[1;31m:\u001b[0m That'll do - stop there!\n"
     ]
    }
   ],
   "source": [
    "%run \"run_inv.py\""
   ]
  },
  {
   "cell_type": "code",
   "execution_count": null,
   "id": "incorrect-toner",
   "metadata": {},
   "outputs": [],
   "source": []
  }
 ],
 "metadata": {
  "kernelspec": {
   "display_name": "Python 3",
   "language": "python",
   "name": "python3"
  },
  "language_info": {
   "codemirror_mode": {
    "name": "ipython",
    "version": 3
   },
   "file_extension": ".py",
   "mimetype": "text/x-python",
   "name": "python",
   "nbconvert_exporter": "python",
   "pygments_lexer": "ipython3",
   "version": "3.6.5"
  }
 },
 "nbformat": 4,
 "nbformat_minor": 5
}
