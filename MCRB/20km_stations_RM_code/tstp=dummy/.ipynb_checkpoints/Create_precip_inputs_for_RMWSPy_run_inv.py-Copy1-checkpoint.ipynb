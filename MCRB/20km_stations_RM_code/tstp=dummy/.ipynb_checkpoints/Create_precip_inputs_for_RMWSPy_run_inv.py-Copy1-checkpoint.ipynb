{
 "cells": [
  {
   "cell_type": "markdown",
   "id": "persistent-draft",
   "metadata": {},
   "source": [
    "### Create precipitation input csv files for RMWSPy code:  run_inv.py\n",
    "### Read in FRdailyprecip_nodates.csv, UCdailyprecip_nodates.csv and HMdailyprecip_nodates.csv, transpose them from columns to rows, combine them and write them into one csv file"
   ]
  },
  {
   "cell_type": "code",
   "execution_count": 7,
   "id": "russian-intro",
   "metadata": {},
   "outputs": [],
   "source": [
    "import numpy as np\n",
    "import pandas as pd\n",
    "import math\n",
    "import scipy as st\n",
    "import scipy.stats as stats\n",
    "import matplotlib.pyplot as plt\n",
    "%matplotlib inline\n",
    "from numpy import genfromtxt"
   ]
  },
  {
   "cell_type": "markdown",
   "id": "dental-inspector",
   "metadata": {},
   "source": [
    "### Fisera Ridge"
   ]
  },
  {
   "cell_type": "code",
   "execution_count": 8,
   "id": "modern-thriller",
   "metadata": {},
   "outputs": [
    {
     "data": {
      "text/plain": [
       "array([0.7491087 , 0.        , 0.03187083, ..., 0.        , 0.06847917,\n",
       "       0.        ])"
      ]
     },
     "execution_count": 8,
     "metadata": {},
     "output_type": "execute_result"
    }
   ],
   "source": [
    "# Use np.loadtxt to read csv file\n",
    "FR_precip_inputs = np.loadtxt(r\"C:\\Users\\b1043453\\OneDrive - Newcastle University\\OnePlanet PhD\\Hydrological_Modelling\\Marmot_Creek_Research_Basin\\Version 02\\Meteorology\\Recent_modelling_data\\time_series_inputs\\FRdailyprecip_nodates.csv\", dtype=float)\n",
    "FR_precip_inputs\n"
   ]
  },
  {
   "cell_type": "code",
   "execution_count": 9,
   "id": "hundred-belief",
   "metadata": {},
   "outputs": [
    {
     "data": {
      "text/plain": [
       "(4019,)"
      ]
     },
     "execution_count": 9,
     "metadata": {},
     "output_type": "execute_result"
    }
   ],
   "source": [
    "# Check array shape\n",
    "FR_precip_inputs.shape"
   ]
  },
  {
   "cell_type": "code",
   "execution_count": 17,
   "id": "computational-significance",
   "metadata": {},
   "outputs": [
    {
     "data": {
      "text/plain": [
       "1"
      ]
     },
     "execution_count": 17,
     "metadata": {},
     "output_type": "execute_result"
    }
   ],
   "source": [
    "# check array dimensions\n",
    "FR_precip_inputs.ndim"
   ]
  },
  {
   "cell_type": "markdown",
   "id": "filled-furniture",
   "metadata": {},
   "source": [
    "### Upper Clearing"
   ]
  },
  {
   "cell_type": "code",
   "execution_count": 10,
   "id": "urban-sheep",
   "metadata": {},
   "outputs": [
    {
     "data": {
      "text/plain": [
       "array([0.52866087, 0.        , 0.02249583, ..., 0.        , 0.05270417,\n",
       "       0.        ])"
      ]
     },
     "execution_count": 10,
     "metadata": {},
     "output_type": "execute_result"
    }
   ],
   "source": [
    "# Use np.loadtxt to read csv file\n",
    "UC_precip_inputs = np.loadtxt(r\"C:\\Users\\b1043453\\OneDrive - Newcastle University\\OnePlanet PhD\\Hydrological_Modelling\\Marmot_Creek_Research_Basin\\Version 02\\Meteorology\\Recent_modelling_data\\time_series_inputs\\UCdailyprecip_nodates.csv\", dtype=float)\n",
    "UC_precip_inputs"
   ]
  },
  {
   "cell_type": "markdown",
   "id": "alpha-trouble",
   "metadata": {},
   "source": [
    "### Hay Meadow"
   ]
  },
  {
   "cell_type": "code",
   "execution_count": 12,
   "id": "approximate-composition",
   "metadata": {},
   "outputs": [
    {
     "data": {
      "text/plain": [
       "array([0.34457391, 0.        , 0.        , ..., 0.        , 0.0227625 ,\n",
       "       0.        ])"
      ]
     },
     "execution_count": 12,
     "metadata": {},
     "output_type": "execute_result"
    }
   ],
   "source": [
    "# Use np.loadtxt to read csv file\n",
    "HM_precip_inputs = np.loadtxt(r\"C:\\Users\\b1043453\\OneDrive - Newcastle University\\OnePlanet PhD\\Hydrological_Modelling\\Marmot_Creek_Research_Basin\\Version 02\\Meteorology\\Recent_modelling_data\\time_series_inputs\\HMdailyprecip_nodates.csv\", dtype=float)\n",
    "HM_precip_inputs"
   ]
  },
  {
   "cell_type": "markdown",
   "id": "plain-dressing",
   "metadata": {},
   "source": [
    "### Concatenate the three arrays"
   ]
  },
  {
   "cell_type": "code",
   "execution_count": 14,
   "id": "above-detector",
   "metadata": {},
   "outputs": [
    {
     "data": {
      "text/plain": [
       "array([[0.7491087 , 0.        , 0.03187083, ..., 0.        , 0.06847917,\n",
       "        0.        ],\n",
       "       [0.52866087, 0.        , 0.02249583, ..., 0.        , 0.05270417,\n",
       "        0.        ],\n",
       "       [0.34457391, 0.        , 0.        , ..., 0.        , 0.0227625 ,\n",
       "        0.        ]])"
      ]
     },
     "execution_count": 14,
     "metadata": {},
     "output_type": "execute_result"
    }
   ],
   "source": [
    "# MCRB_precip_inputs = np.concatenate((FR_precip_inputs, UC_precip_inputs, HM_precip_inputs), axis=0)\n",
    "MCRB_precip_inputs = np.stack((FR_precip_inputs, UC_precip_inputs, HM_precip_inputs), axis=0)\n",
    "MCRB_precip_inputs"
   ]
  },
  {
   "cell_type": "code",
   "execution_count": 15,
   "id": "cosmetic-member",
   "metadata": {},
   "outputs": [
    {
     "data": {
      "text/plain": [
       "(3, 4019)"
      ]
     },
     "execution_count": 15,
     "metadata": {},
     "output_type": "execute_result"
    }
   ],
   "source": [
    "# Check array shape\n",
    "MCRB_precip_inputs.shape"
   ]
  },
  {
   "cell_type": "code",
   "execution_count": 16,
   "id": "recent-peninsula",
   "metadata": {},
   "outputs": [
    {
     "data": {
      "text/plain": [
       "2"
      ]
     },
     "execution_count": 16,
     "metadata": {},
     "output_type": "execute_result"
    }
   ],
   "source": [
    "MCRB_precip_inputs.ndim"
   ]
  },
  {
   "cell_type": "markdown",
   "id": "focal-square",
   "metadata": {},
   "source": [
    "### Write array to csv"
   ]
  },
  {
   "cell_type": "code",
   "execution_count": 13,
   "id": "catholic-asian",
   "metadata": {},
   "outputs": [],
   "source": [
    "# Write to csv\n",
    "np.savetxt(r\"C:\\Users\\b1043453\\OneDrive - Newcastle University\\OnePlanet PhD\\Random_mixing\\RMWSPy_Horning_and_Haese_2021\\RMWSPy-master\\RMWSPy-master\\MCRB_examples\\MCRB_gauges_only\\input_data\\MCRB_precip_inputs.csv\", MCRB_precip_inputs, delimiter=\"\\t\")"
   ]
  },
  {
   "cell_type": "code",
   "execution_count": null,
   "id": "concrete-street",
   "metadata": {},
   "outputs": [],
   "source": []
  },
  {
   "cell_type": "markdown",
   "id": "completed-hunger",
   "metadata": {},
   "source": [
    "### I thought I needed to tranpose the array but I don't!"
   ]
  },
  {
   "cell_type": "code",
   "execution_count": 14,
   "id": "clinical-lighting",
   "metadata": {},
   "outputs": [],
   "source": [
    "# # Transpose the array\n",
    "# MCRB_precip_inputs.T"
   ]
  },
  {
   "cell_type": "code",
   "execution_count": 15,
   "id": "referenced-reaction",
   "metadata": {},
   "outputs": [],
   "source": [
    "# # Check array shape\n",
    "# MCRB_precip_inputs.shape"
   ]
  },
  {
   "cell_type": "code",
   "execution_count": null,
   "id": "seeing-ranking",
   "metadata": {},
   "outputs": [],
   "source": []
  }
 ],
 "metadata": {
  "kernelspec": {
   "display_name": "Python 3",
   "language": "python",
   "name": "python3"
  },
  "language_info": {
   "codemirror_mode": {
    "name": "ipython",
    "version": 3
   },
   "file_extension": ".py",
   "mimetype": "text/x-python",
   "name": "python",
   "nbconvert_exporter": "python",
   "pygments_lexer": "ipython3",
   "version": "3.6.5"
  }
 },
 "nbformat": 4,
 "nbformat_minor": 5
}
