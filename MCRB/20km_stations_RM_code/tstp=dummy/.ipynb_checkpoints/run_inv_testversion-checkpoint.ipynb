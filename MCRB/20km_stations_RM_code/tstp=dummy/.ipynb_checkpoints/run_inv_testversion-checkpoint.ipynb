{
 "cells": [
  {
   "cell_type": "markdown",
   "id": "stainless-airport",
   "metadata": {},
   "source": [
    "## Run cml example code using P data from stations within 20km radius of FR"
   ]
  },
  {
   "cell_type": "markdown",
   "id": "amateur-treasury",
   "metadata": {},
   "source": [
    "### np.random.seed(121); nfields = 20; optmethod = 'no_n-l_constraints', i.e. new fields are simulated using rain gauge input data only (in run_inv.py line 187); minObj = 0.4, i.e. inversion terminates when RMSE (the objective function) value reaches 0.4; maxiter = 300, i.e. max no of iterations = 300"
   ]
  },
  {
   "cell_type": "code",
   "execution_count": 38,
   "id": "conditional-disclaimer",
   "metadata": {},
   "outputs": [
    {
     "name": "stdout",
     "output_type": "stream",
     "text": [
      "prec =  [160.16  113.028  73.722   0.    104.   ]\n",
      "prob of zero P =  [0.44201095 0.5211548  0.61423594 0.67346939 0.57341961]\n",
      "x =  [5.07617332 4.72763558 4.30030126 4.6443909 ]\n",
      "grid =  GridSearchCV(cv=4, estimator=KernelDensity(),\n",
      "             param_grid={'bandwidth': array([ 0.1       ,  0.10476158,  0.10974988,  0.1149757 ,  0.12045035,\n",
      "        0.12618569,  0.13219411,  0.13848864,  0.14508288,  0.15199111,\n",
      "        0.15922828,  0.16681005,  0.17475284,  0.18307383,  0.19179103,\n",
      "        0.2009233 ,  0.21049041,  0.22051307,  0.23101297,  0.24201283,\n",
      "        0.25353645,  0.26560878,  0.27825594,  0.29150531,  0.30538555,\n",
      "        0.3199267...\n",
      "        2.05651231,  2.15443469,  2.25701972,  2.36448941,  2.47707636,\n",
      "        2.59502421,  2.71858824,  2.84803587,  2.98364724,  3.12571585,\n",
      "        3.27454916,  3.43046929,  3.59381366,  3.76493581,  3.94420606,\n",
      "        4.1320124 ,  4.32876128,  4.53487851,  4.75081016,  4.97702356,\n",
      "        5.21400829,  5.46227722,  5.72236766,  5.9948425 ,  6.28029144,\n",
      "        6.57933225,  6.8926121 ,  7.22080902,  7.56463328,  7.92482898,\n",
      "        8.30217568,  8.69749003,  9.11162756,  9.54548457, 10.        ])})\n",
      "\n",
      "xx =  [3.30030126 3.30130126 3.30230126 ... 6.07330126 6.07430126 6.07530126]\n",
      "len xx =  2776\n",
      "\n",
      "logprob =  [0.00722468 0.0072796  0.00733489 ... 0.00736133 0.00730592 0.00725089]\n",
      "len logprob =  2776\n",
      "\n",
      "cdf = np.cumsum(logprob) * 0.001 =  [7.22468189e-06 1.45042854e-05 2.18391773e-05 ... 9.98258498e-01\n",
      " 9.98265804e-01 9.98273055e-01]\n",
      "len cdf = np.cumsum(logprob) * 0.001 =  2776\n",
      "\n",
      "cdf = np.concatenate(([0.0], cdf_) =  [0.00000000e+00 7.22468189e-06 1.45042854e-05 ... 9.98258498e-01\n",
      " 9.98265804e-01 9.98273055e-01]\n",
      "len cdf = np.concatenate(([0.0], cdf_ =  2777\n",
      "\n",
      "cdf = np.concatenate((cdf_, [1.0])) =  [0.00000000e+00 7.22468189e-06 1.45042854e-05 ... 9.98265804e-01\n",
      " 9.98273055e-01 1.00000000e+00]\n",
      "len cdf = np.concatenate((cdf_, [1.0]) = \n",
      " 2778\n",
      "\n",
      "xx = np.concatenate((xx, [x.max() + 1.])) =  [3.30030126 3.30130126 3.30230126 ... 6.07430126 6.07530126 6.07617332]\n",
      "len xx = np.concatenate((xx, [x.max() + 1.])) =  2777\n",
      "\n",
      "xx = np.concatenate(([x.min() - 1.], xx)) =  [3.30030126 3.30030126 3.30130126 ... 6.07430126 6.07530126 6.07617332]\n",
      "len xx = np.concatenate(([x.min() - 1.], xx)) =  2778\n",
      "\n",
      "cdf = interpolate.interp1d(xx, cdf_))) =  <scipy.interpolate.interpolate.interp1d object at 0x0000028E32A45D18>\n",
      "\n",
      "invcdf = interpolate.interp1d(cdf_, xx) =  <scipy.interpolate.interpolate.interp1d object at 0x0000028E32A454A8>\n",
      "\n",
      "mp0 =  [False False False  True False]\n",
      "\n",
      "p_xy =  [[ 69  53]\n",
      " [ 72  93]\n",
      " [ 45 136]\n",
      " [235 287]\n",
      " [357 239]]\n",
      "lecp =  [[235 287]]\n",
      "\n",
      "lecv =  [-0.14587268  0.0530521   0.29037663  0.44951357  0.18508703]\n",
      "\n",
      "cp =  [[ 69  53]\n",
      " [ 72  93]\n",
      " [ 45 136]\n",
      " [357 239]]\n",
      "hello\n"
     ]
    },
    {
     "ename": "ValueError",
     "evalue": "operands could not be broadcast together with shapes (5,) (4,) ",
     "output_type": "error",
     "traceback": [
      "\u001b[1;31m---------------------------------------------------------------------------\u001b[0m",
      "\u001b[1;31mValueError\u001b[0m                                Traceback (most recent call last)",
      "\u001b[1;32m~\\OneDrive - Newcastle University\\OnePlanet PhD\\Random_mixing\\RMWSPy_Horning_and_Haese_2021\\RMWSPy-master\\MCRB_examples\\MCRB_gauges_only\\all_stations_20km\\tstp=0\\run_inv_testversion.py\u001b[0m in \u001b[0;36m<module>\u001b[1;34m\u001b[0m\n\u001b[0;32m    227\u001b[0m         \u001b[0mprint\u001b[0m\u001b[1;33m(\u001b[0m\u001b[1;34m\"hello\"\u001b[0m\u001b[1;33m)\u001b[0m\u001b[1;33m\u001b[0m\u001b[0m\n\u001b[0;32m    228\u001b[0m \u001b[1;33m\u001b[0m\u001b[0m\n\u001b[1;32m--> 229\u001b[1;33m         \u001b[0mcv\u001b[0m \u001b[1;33m=\u001b[0m \u001b[0mst\u001b[0m\u001b[1;33m.\u001b[0m\u001b[0mnorm\u001b[0m\u001b[1;33m.\u001b[0m\u001b[0mppf\u001b[0m\u001b[1;33m(\u001b[0m\u001b[1;33m(\u001b[0m\u001b[1;36m1.\u001b[0m\u001b[1;33m-\u001b[0m\u001b[0mp0\u001b[0m\u001b[1;33m)\u001b[0m\u001b[1;33m*\u001b[0m\u001b[0mcdf\u001b[0m\u001b[1;33m(\u001b[0m\u001b[0mnp\u001b[0m\u001b[1;33m.\u001b[0m\u001b[0mlog\u001b[0m\u001b[1;33m(\u001b[0m\u001b[0mprec\u001b[0m\u001b[1;33m[\u001b[0m\u001b[1;33m~\u001b[0m\u001b[0mmp0\u001b[0m\u001b[1;33m]\u001b[0m\u001b[1;33m)\u001b[0m\u001b[1;33m)\u001b[0m\u001b[1;33m+\u001b[0m\u001b[0mp0\u001b[0m\u001b[1;33m)\u001b[0m\u001b[1;33m\u001b[0m\u001b[0m\n\u001b[0m\u001b[0;32m    230\u001b[0m         \u001b[0mprint\u001b[0m\u001b[1;33m(\u001b[0m\u001b[1;33m)\u001b[0m\u001b[1;33m\u001b[0m\u001b[0m\n\u001b[0;32m    231\u001b[0m         \u001b[0mprint\u001b[0m\u001b[1;33m(\u001b[0m\u001b[1;34m\"cv = \"\u001b[0m\u001b[1;33m,\u001b[0m \u001b[0mcv\u001b[0m\u001b[1;33m)\u001b[0m\u001b[1;33m\u001b[0m\u001b[0m\n",
      "\u001b[1;31mValueError\u001b[0m: operands could not be broadcast together with shapes (5,) (4,) "
     ]
    }
   ],
   "source": [
    "%run \"run_inv_testversion.py\""
   ]
  },
  {
   "cell_type": "code",
   "execution_count": null,
   "id": "incorrect-toner",
   "metadata": {},
   "outputs": [],
   "source": []
  }
 ],
 "metadata": {
  "kernelspec": {
   "display_name": "Python 3",
   "language": "python",
   "name": "python3"
  },
  "language_info": {
   "codemirror_mode": {
    "name": "ipython",
    "version": 3
   },
   "file_extension": ".py",
   "mimetype": "text/x-python",
   "name": "python",
   "nbconvert_exporter": "python",
   "pygments_lexer": "ipython3",
   "version": "3.6.5"
  }
 },
 "nbformat": 4,
 "nbformat_minor": 5
}
