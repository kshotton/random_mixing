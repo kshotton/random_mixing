{
 "cells": [
  {
   "cell_type": "markdown",
   "id": "stainless-airport",
   "metadata": {},
   "source": [
    "## Run cml example code using FR, UC and HM precip data"
   ]
  },
  {
   "cell_type": "code",
   "execution_count": 8,
   "id": "conditional-disclaimer",
   "metadata": {},
   "outputs": [
    {
     "name": "stdout",
     "output_type": "stream",
     "text": [
      "p_xy = [[ 69  53]\n",
      " [ 72  94]\n",
      " [ 45 146]\n",
      " [233 233]\n",
      " [357 239]]\n",
      "prec =  [16.016  11.3028  7.3722  0.     10.4   ]\n",
      "lecp (coords of zero P obs =  [[233 233]]\n",
      "lecp.shape[0] =  1\n",
      "lecv =  [0.18508703]\n",
      "p_xy =  [[ 69  53]\n",
      " [ 72  94]\n",
      " [ 45 146]\n",
      " [233 233]\n",
      " [357 239]]\n",
      "st.rankdata(prec) =  [5. 4. 2. 1. 3.]\n",
      "prec.shape[0] =  5\n",
      "u =  [0.9 0.7 0.3 0.1 0.5]\n",
      "cmod =  0.01 Nug(0.58) + 0.99 Exp(40)%s(%1.3f)\n",
      "cp ~ equality constraint coords (those with zon-zero P) =  [[ 69  53]\n",
      " [ 72  94]\n",
      " [ 45 146]\n",
      " [357 239]]\n",
      "cv ~ equality constraint (non-zero) values =  [2.03787562 1.69524455 1.35386874 1.62239884]\n",
      "0\n",
      "1\n",
      "2\n",
      "3\n",
      "4\n",
      "5\n",
      "6\n",
      "7\n",
      "8\n",
      "9\n",
      "10\n",
      "11\n",
      "12\n",
      "13\n",
      "14\n",
      "15\n",
      "16\n",
      "17\n",
      "18\n",
      "19\n",
      "\n",
      " Simulation terminated!\n",
      "time needed: 0:01:44.670743\n"
     ]
    }
   ],
   "source": [
    "%run \"run_inv_mcrb.py\""
   ]
  },
  {
   "cell_type": "code",
   "execution_count": 9,
   "id": "necessary-resource",
   "metadata": {},
   "outputs": [],
   "source": [
    "# precipitation field output was saved to a .npy (numpy) file\n",
    "# let's import the file and have a look at it\n",
    "\n",
    "import numpy as np\n",
    "sim_precfields_tstp_dummy = np.load('sim_precfields_tstp=dummy.npy')\n",
    "# sim_precfields_tstp_0"
   ]
  },
  {
   "cell_type": "code",
   "execution_count": 22,
   "id": "controlled-insert",
   "metadata": {},
   "outputs": [],
   "source": [
    "# # check array dimensions\n",
    "# sim_precfields_tstp_0.shape\n",
    "\n",
    "# # ok, so this tells me there are 20 2D simulated fields, each with the expected dimensions"
   ]
  },
  {
   "cell_type": "code",
   "execution_count": 10,
   "id": "cooperative-margin",
   "metadata": {},
   "outputs": [
    {
     "name": "stdout",
     "output_type": "stream",
     "text": [
      "FR p =  16.01600085352998\n",
      "UC p =  11.302800311909445\n",
      "HM p =  7.372199572147167\n",
      "K p =  0.0\n",
      "BV p =  10.400001464009215\n"
     ]
    }
   ],
   "source": [
    "# check P values at gauge locations (using the standard xy grid from run_inv_mcrb.py)\n",
    "# field 0\n",
    "print(\"FR p = \", sim_precfields_tstp_dummy[0, 69, 53]) # FR\n",
    "print(\"UC p = \", sim_precfields_tstp_dummy[0, 72, 94]) # UC\n",
    "print(\"HM p = \", sim_precfields_tstp_dummy[0, 45, 146]) # HM\n",
    "print(\"K p = \", sim_precfields_tstp_dummy[0, 233, 233]) # K\n",
    "print(\"BV p = \", sim_precfields_tstp_dummy[0, 357, 239]) # BV\n",
    "\n",
    "# Yay, it works! These are the same values as in prec."
   ]
  },
  {
   "cell_type": "code",
   "execution_count": 11,
   "id": "unusual-cooking",
   "metadata": {},
   "outputs": [
    {
     "name": "stdout",
     "output_type": "stream",
     "text": [
      "FR p =  16.016001676952694\n",
      "UC p =  11.302799624910907\n",
      "HM p =  7.372199003858528\n",
      "K p =  0.0\n",
      "BV p =  10.399997869756035\n"
     ]
    }
   ],
   "source": [
    "# check P values at gauge locations (using the standard xy grid from run_inv_mcrb.py)\n",
    "# field 12\n",
    "print(\"FR p = \", sim_precfields_tstp_dummy[12, 69, 53]) # FR\n",
    "print(\"UC p = \", sim_precfields_tstp_dummy[12, 72, 94]) # UC\n",
    "print(\"HM p = \", sim_precfields_tstp_dummy[12, 45, 146]) # HM\n",
    "print(\"K p = \", sim_precfields_tstp_dummy[12, 233, 233]) # K\n",
    "print(\"BV p = \", sim_precfields_tstp_dummy[12, 357, 239]) # BV"
   ]
  },
  {
   "cell_type": "markdown",
   "id": "excellent-assault",
   "metadata": {},
   "source": [
    "## Convert .npy results file to a netcdf file"
   ]
  },
  {
   "cell_type": "code",
   "execution_count": 6,
   "id": "seven-mechanism",
   "metadata": {},
   "outputs": [],
   "source": [
    "import xarray as xr\n",
    "import numpy as np\n",
    "import scipy as sp"
   ]
  },
  {
   "cell_type": "code",
   "execution_count": 11,
   "id": "failing-taiwan",
   "metadata": {},
   "outputs": [],
   "source": [
    "# sim_Pfields = xr.open_dataset(r\"C:\\Users\\b1043453\\OneDrive - Newcastle University\\OnePlanet PhD\\Random_mixing\\RMWSPy_Horning_and_Haese_2021\\RMWSPy-master\\MCRB_examples\\MCRB_gauges_only\\all_stations_20km\\tstp_dummy\\sim_precfields_tstp=dummy.npy\")\n",
    "# sim_Pfields = xr.open_dataset(\"sim_precfields_tstp=dummy.npy\")"
   ]
  },
  {
   "cell_type": "code",
   "execution_count": null,
   "id": "civic-maine",
   "metadata": {},
   "outputs": [],
   "source": []
  },
  {
   "cell_type": "code",
   "execution_count": null,
   "id": "crude-omega",
   "metadata": {},
   "outputs": [],
   "source": []
  },
  {
   "cell_type": "code",
   "execution_count": null,
   "id": "knowing-controversy",
   "metadata": {},
   "outputs": [],
   "source": []
  },
  {
   "cell_type": "code",
   "execution_count": null,
   "id": "simplified-occurrence",
   "metadata": {},
   "outputs": [],
   "source": []
  },
  {
   "cell_type": "code",
   "execution_count": null,
   "id": "coordinated-rouge",
   "metadata": {},
   "outputs": [],
   "source": []
  },
  {
   "cell_type": "code",
   "execution_count": null,
   "id": "german-confidence",
   "metadata": {},
   "outputs": [],
   "source": []
  },
  {
   "cell_type": "code",
   "execution_count": 7,
   "id": "beginning-script",
   "metadata": {},
   "outputs": [],
   "source": [
    "import pandas as pd"
   ]
  },
  {
   "cell_type": "code",
   "execution_count": 18,
   "id": "capital-reserve",
   "metadata": {},
   "outputs": [],
   "source": [
    "# # save np array as a pd dataframe\n",
    "# # step 1: reshape 3D array to 2D\n",
    "# sim_precfields_tstp_0_reshaped = sim_precfields_tstp_0.reshape(sim_precfields_tstp_0.shape[0], -1)\n",
    "# # sim_precfields_tstp_0_reshaped\n",
    "\n",
    "# # step 2: save as dataframe\n",
    "# sim_precfields_tstp_0_df = pd.DataFrame.from_records(sim_precfields_tstp_0_reshaped)\n",
    "# sim_precfields_tstp_0_df\n",
    "\n",
    "\n",
    "# # step 2: save reshaped array to csv file\n",
    "# # np.savetxt(\"sim_precfields_tstp_541.csv\", sim_precfields_tstp_541_reshaped, delimiter=\",\")"
   ]
  },
  {
   "cell_type": "code",
   "execution_count": null,
   "id": "specialized-mustang",
   "metadata": {},
   "outputs": [],
   "source": []
  },
  {
   "cell_type": "code",
   "execution_count": null,
   "id": "infinite-asset",
   "metadata": {},
   "outputs": [],
   "source": []
  },
  {
   "cell_type": "markdown",
   "id": "furnished-episode",
   "metadata": {},
   "source": [
    "### I think I want to convert my 3D numpy array of 20 precip fields to a netcdf file\n",
    "## THIS NEEDS MORE WORK!"
   ]
  },
  {
   "cell_type": "code",
   "execution_count": 14,
   "id": "altered-dominican",
   "metadata": {},
   "outputs": [],
   "source": [
    "import netCDF4 as nc\n",
    "import numpy as np"
   ]
  },
  {
   "cell_type": "code",
   "execution_count": 23,
   "id": "seven-sociology",
   "metadata": {},
   "outputs": [],
   "source": [
    "# # specify a path and filename\n",
    "# sim_Pfield_t1 = \"C:/Users/b1043453/OneDrive - Newcastle University/OnePlanet PhD/Random_mixing/RMWSPy_Horning_and_Haese_2021/RMWSPy-master/RMWSPy-master/MCRB_examples/MCRB_gauges_only/simulated_p_fields/simPfield_t1.nc\"\n",
    "\n",
    "# # set up the dataset\n",
    "# ds = nc.Dataset(sim_Pfield_t1, \"w\", format='NETCDF4')\n",
    "\n",
    "# # set up file dimensions\n",
    "# time = ds.createDimension('time', None) # None means unlimited dimension"
   ]
  },
  {
   "cell_type": "code",
   "execution_count": null,
   "id": "insured-winner",
   "metadata": {},
   "outputs": [],
   "source": []
  },
  {
   "cell_type": "code",
   "execution_count": null,
   "id": "collectible-peoples",
   "metadata": {},
   "outputs": [],
   "source": []
  },
  {
   "cell_type": "code",
   "execution_count": 6,
   "id": "controlled-confirmation",
   "metadata": {},
   "outputs": [],
   "source": [
    "# convert npy file to csv and write to an output file\n",
    "# method 1\n",
    "\n",
    "# step 1: reshape 3D array to 2D\n",
    "sim_precfields_tstp_541_reshaped = sim_precfields_tstp_541.reshape(sim_precfields_tstp_541.shape[0], -1)\n",
    "\n",
    "# step 2: save reshaped array to csv file\n",
    "np.savetxt(\"sim_precfields_tstp_541.csv\", sim_precfields_tstp_541_reshaped, delimiter=\",\")"
   ]
  },
  {
   "cell_type": "code",
   "execution_count": null,
   "id": "incorrect-toner",
   "metadata": {},
   "outputs": [],
   "source": []
  }
 ],
 "metadata": {
  "kernelspec": {
   "display_name": "Python 3",
   "language": "python",
   "name": "python3"
  },
  "language_info": {
   "codemirror_mode": {
    "name": "ipython",
    "version": 3
   },
   "file_extension": ".py",
   "mimetype": "text/x-python",
   "name": "python",
   "nbconvert_exporter": "python",
   "pygments_lexer": "ipython3",
   "version": "3.6.5"
  }
 },
 "nbformat": 4,
 "nbformat_minor": 5
}
